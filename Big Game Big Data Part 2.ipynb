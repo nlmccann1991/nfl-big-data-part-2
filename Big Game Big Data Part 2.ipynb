{
 "cells": [
  {
   "cell_type": "markdown",
   "id": "7b75544d",
   "metadata": {
    "papermill": {
     "duration": 0.007809,
     "end_time": "2023-10-23T00:24:38.852248",
     "exception": false,
     "start_time": "2023-10-23T00:24:38.844439",
     "status": "completed"
    },
    "tags": []
   },
   "source": [
    "# Big Game, Big Data - Part 2: Which Team Will Reign Supreme?\n",
    "\n",
    "### A Project by Noel McCann\n",
    "\n",
    "<img src=\"Images/Part_2_cover.jpg\" style=\"width:640px;height:360px;\">"
   ]
  },
  {
   "cell_type": "markdown",
   "id": "41b2cfa3",
   "metadata": {
    "papermill": {
     "duration": 0.006577,
     "end_time": "2023-10-23T00:24:38.865878",
     "exception": false,
     "start_time": "2023-10-23T00:24:38.859301",
     "status": "completed"
    },
    "tags": []
   },
   "source": [
    "**Purpose of Analysis:**  \n",
    "In Part 1, we analyzed the play distributions and tackling efficiency of the four teams that remained in the NFL playoffs: the Baltimore Ravens, Detroit Lions,  Kansas City Chiefs, and San Francisco 49ers. As most know at this point, the 49ers and the Chiefs won their respective games, and are heading to Las Vegas for Super Bowl 58. \n",
    "\n",
    "But which team will win the Lombardi Trophy and which one will go home empty-handed? For Part 2, we will delve deep into the two finalists. We'll look into the defenders-in-the-box performance for each team and the importance of tackle factor statistics. We'll then analyze the final score averages (away for the 49ers, home for the Chiefs) to help us understand who has the edge. \n",
    "\n",
    "\n",
    "## This project will:\n",
    "\n",
    "- Evaluate the Chiefs and the 49ers on their ability to make tackles when the defenders are close to the line of scrimmage.\n",
    "- Analyze the tackle factor performance for defenders to determine its importance.\n",
    "- Calculate the averages to create a prediction for Super Bowl 58.\n"
   ]
  },
  {
   "cell_type": "markdown",
   "id": "06422b26",
   "metadata": {
    "papermill": {
     "duration": 0.00664,
     "end_time": "2023-10-23T00:24:38.879303",
     "exception": false,
     "start_time": "2023-10-23T00:24:38.872663",
     "status": "completed"
    },
    "tags": []
   },
   "source": [
    "### Data Importing & Cleaning\n",
    "\n",
    "Let's get started by getting our libraries set up. We'll first import everything we need to analyze the data."
   ]
  },
  {
   "cell_type": "code",
   "execution_count": 4,
   "id": "66d56e52",
   "metadata": {
    "papermill": {
     "duration": 0.379369,
     "end_time": "2023-10-23T00:24:39.265448",
     "exception": false,
     "start_time": "2023-10-23T00:24:38.886079",
     "status": "completed"
    },
    "tags": []
   },
   "outputs": [],
   "source": [
    "import gc\n",
    "import os\n",
    "import numpy as np # linear algebra\n",
    "import pandas as pd # data processing & CSV file previews (e.g. pd.read_csv)\n",
    "import datetime as dt # for accurate times\n",
    "import matplotlib.pyplot as plt # to create graphs\n",
    "import matplotlib.cm as cm\n",
    "import seaborn as sns\n",
    "from scipy.spatial.distance import cdist\n",
    "from tqdm.notebook import tqdm\n",
    "\n",
    "import plotly.graph_objects as go\n",
    "from plotly.subplots import make_subplots\n",
    "import plotly.express as px\n",
    "import plotly.offline\n",
    "\n",
    "from colorama import Fore, Style, init\n",
    "from pprint import pprint\n",
    "\n",
    "import warnings\n",
    "warnings.filterwarnings('ignore')"
   ]
  },
  {
   "cell_type": "markdown",
   "id": "1577c282-9eda-4380-8fb7-97de3d3fe9ce",
   "metadata": {
    "papermill": {
     "duration": 0.18218,
     "end_time": "2023-10-23T00:24:39.456928",
     "exception": false,
     "start_time": "2023-10-23T00:24:39.274748",
     "status": "completed"
    },
    "tags": []
   },
   "source": [
    "With everything we need to run our analysis, let's load each of the base tables provided by the NFL for their 2024 Big Data Bowl competition on Kaggle. For an overview of the tables' contents, [view Part 1 here](https://github.com/nlmccann1991/nfl_big_data_part_1)."
   ]
  },
  {
   "cell_type": "code",
   "execution_count": 5,
   "id": "ce32c75f-43c6-4ea8-be96-0054a1bed44e",
   "metadata": {
    "papermill": {
     "duration": 0.18218,
     "end_time": "2023-10-23T00:24:39.456928",
     "exception": false,
     "start_time": "2023-10-23T00:24:39.274748",
     "status": "completed"
    },
    "tags": []
   },
   "outputs": [],
   "source": [
    "games=pd.read_csv('games.csv')\n",
    "players=pd.read_csv('players.csv')\n",
    "tackles=pd.read_csv('tackles.csv')\n",
    "plays=pd.read_csv('plays.csv')\n",
    "tracking_1=pd.read_csv('tracking_week_1.csv')"
   ]
  },
  {
   "cell_type": "markdown",
   "id": "0236f2c6-0b41-45e9-bfc5-befda5c5e791",
   "metadata": {
    "papermill": {
     "duration": 0.18218,
     "end_time": "2023-10-23T00:24:39.456928",
     "exception": false,
     "start_time": "2023-10-23T00:24:39.274748",
     "status": "completed"
    },
    "tags": []
   },
   "source": [
    "We will now clean up our data to enable analyses that are more accurate and simpler to understand, summarizing the data frame feature to use common values."
   ]
  },
  {
   "cell_type": "code",
   "execution_count": 6,
   "id": "897a8934-a8ed-4a02-a598-56f4a39a81ba",
   "metadata": {
    "papermill": {
     "duration": 0.18218,
     "end_time": "2023-10-23T00:24:39.456928",
     "exception": false,
     "start_time": "2023-10-23T00:24:39.274748",
     "status": "completed"
    },
    "tags": []
   },
   "outputs": [],
   "source": [
    "def summarize_dataframe(df):\n",
    "    summary_df = pd.DataFrame(df.dtypes, columns=['dtypes'])\n",
    "    summary_df['missing#'] = df.isna().sum().values*100\n",
    "    summary_df['missing%'] = (df.isna().sum().values*100)/len(df)\n",
    "    summary_df['uniques'] = df.nunique().values\n",
    "    summary_df['first_value'] = df.iloc[0].values\n",
    "    summary_df['last_value'] = df.iloc[len(df)-1].values\n",
    "    summary_df['count'] = df.count().values\n",
    "    #sum['skew'] = df.skew().values\n",
    "    desc = pd.DataFrame(df.describe().T)\n",
    "    summary_df['min'] = desc['min']\n",
    "    summary_df['max'] = desc['max']\n",
    "    summary_df['mean'] = desc['mean']\n",
    "    return summary_df"
   ]
  },
  {
   "cell_type": "markdown",
   "id": "93b129a1",
   "metadata": {
    "papermill": {
     "duration": 0.007645,
     "end_time": "2023-10-23T00:24:39.715843",
     "exception": false,
     "start_time": "2023-10-23T00:24:39.708198",
     "status": "completed"
    },
    "tags": []
   },
   "source": [
    "\n",
    "## Team & Player Performance \n",
    "\n",
    "### Defending In The Box\n",
    "\n",
    "For Part 2, we will begin by looking into the understanding of how teams make their tackles with defenders in the box. The term \"in the box\" is how many defenders are employed in an area close enough to the line of scrimmage where they can directly impact a rushing attempt by the offense. This metric is especially important for teams that tend to use running plays, traditional and otherwise. \n",
    "\n",
    "Let's first get all the information we need to determine this metric:"
   ]
  },
  {
   "cell_type": "code",
   "execution_count": 20,
   "id": "d8d86840-7f65-4b72-bfcc-7c6278865b53",
   "metadata": {
    "scrolled": true
   },
   "outputs": [
    {
     "data": {
      "text/html": [
       "<style type=\"text/css\">\n",
       "#T_de44b_row0_col0, #T_de44b_row0_col1, #T_de44b_row0_col2, #T_de44b_row0_col3, #T_de44b_row0_col4, #T_de44b_row0_col5, #T_de44b_row0_col6, #T_de44b_row0_col7, #T_de44b_row0_col8, #T_de44b_row0_col9, #T_de44b_row0_col10, #T_de44b_row0_col11, #T_de44b_row0_col12, #T_de44b_row0_col13, #T_de44b_row0_col14, #T_de44b_row0_col15, #T_de44b_row0_col16, #T_de44b_row0_col17, #T_de44b_row0_col18, #T_de44b_row0_col19, #T_de44b_row0_col20, #T_de44b_row0_col21, #T_de44b_row0_col22, #T_de44b_row0_col23, #T_de44b_row0_col24, #T_de44b_row0_col25, #T_de44b_row0_col26, #T_de44b_row0_col27, #T_de44b_row0_col28, #T_de44b_row0_col29, #T_de44b_row0_col30, #T_de44b_row0_col31, #T_de44b_row0_col32, #T_de44b_row0_col33, #T_de44b_row0_col34, #T_de44b_row0_col35, #T_de44b_row0_col36, #T_de44b_row0_col37, #T_de44b_row0_col38, #T_de44b_row1_col0, #T_de44b_row1_col1, #T_de44b_row1_col2, #T_de44b_row1_col3, #T_de44b_row1_col4, #T_de44b_row1_col5, #T_de44b_row1_col6, #T_de44b_row1_col7, #T_de44b_row1_col8, #T_de44b_row1_col9, #T_de44b_row1_col10, #T_de44b_row1_col11, #T_de44b_row1_col12, #T_de44b_row1_col13, #T_de44b_row1_col14, #T_de44b_row1_col15, #T_de44b_row1_col16, #T_de44b_row1_col17, #T_de44b_row1_col18, #T_de44b_row1_col19, #T_de44b_row1_col20, #T_de44b_row1_col21, #T_de44b_row1_col22, #T_de44b_row1_col23, #T_de44b_row1_col24, #T_de44b_row1_col25, #T_de44b_row1_col26, #T_de44b_row1_col27, #T_de44b_row1_col28, #T_de44b_row1_col29, #T_de44b_row1_col30, #T_de44b_row1_col31, #T_de44b_row1_col32, #T_de44b_row1_col33, #T_de44b_row1_col34, #T_de44b_row1_col35, #T_de44b_row1_col36, #T_de44b_row1_col37, #T_de44b_row1_col38, #T_de44b_row2_col0, #T_de44b_row2_col1, #T_de44b_row2_col2, #T_de44b_row2_col3, #T_de44b_row2_col4, #T_de44b_row2_col5, #T_de44b_row2_col6, #T_de44b_row2_col7, #T_de44b_row2_col8, #T_de44b_row2_col9, #T_de44b_row2_col10, #T_de44b_row2_col11, #T_de44b_row2_col12, #T_de44b_row2_col13, #T_de44b_row2_col14, #T_de44b_row2_col15, #T_de44b_row2_col16, #T_de44b_row2_col17, #T_de44b_row2_col18, #T_de44b_row2_col19, #T_de44b_row2_col20, #T_de44b_row2_col21, #T_de44b_row2_col22, #T_de44b_row2_col23, #T_de44b_row2_col24, #T_de44b_row2_col25, #T_de44b_row2_col26, #T_de44b_row2_col27, #T_de44b_row2_col28, #T_de44b_row2_col29, #T_de44b_row2_col30, #T_de44b_row2_col31, #T_de44b_row2_col32, #T_de44b_row2_col33, #T_de44b_row2_col34, #T_de44b_row2_col35, #T_de44b_row2_col36, #T_de44b_row2_col37, #T_de44b_row2_col38, #T_de44b_row3_col0, #T_de44b_row3_col1, #T_de44b_row3_col2, #T_de44b_row3_col3, #T_de44b_row3_col4, #T_de44b_row3_col5, #T_de44b_row3_col6, #T_de44b_row3_col7, #T_de44b_row3_col8, #T_de44b_row3_col9, #T_de44b_row3_col10, #T_de44b_row3_col11, #T_de44b_row3_col12, #T_de44b_row3_col13, #T_de44b_row3_col14, #T_de44b_row3_col15, #T_de44b_row3_col16, #T_de44b_row3_col17, #T_de44b_row3_col18, #T_de44b_row3_col19, #T_de44b_row3_col20, #T_de44b_row3_col21, #T_de44b_row3_col22, #T_de44b_row3_col23, #T_de44b_row3_col24, #T_de44b_row3_col25, #T_de44b_row3_col26, #T_de44b_row3_col27, #T_de44b_row3_col28, #T_de44b_row3_col29, #T_de44b_row3_col30, #T_de44b_row3_col31, #T_de44b_row3_col32, #T_de44b_row3_col33, #T_de44b_row3_col34, #T_de44b_row3_col35, #T_de44b_row3_col36, #T_de44b_row3_col37, #T_de44b_row3_col38, #T_de44b_row4_col0, #T_de44b_row4_col1, #T_de44b_row4_col2, #T_de44b_row4_col3, #T_de44b_row4_col4, #T_de44b_row4_col5, #T_de44b_row4_col6, #T_de44b_row4_col7, #T_de44b_row4_col8, #T_de44b_row4_col9, #T_de44b_row4_col10, #T_de44b_row4_col11, #T_de44b_row4_col12, #T_de44b_row4_col13, #T_de44b_row4_col14, #T_de44b_row4_col15, #T_de44b_row4_col16, #T_de44b_row4_col17, #T_de44b_row4_col18, #T_de44b_row4_col19, #T_de44b_row4_col20, #T_de44b_row4_col21, #T_de44b_row4_col22, #T_de44b_row4_col23, #T_de44b_row4_col24, #T_de44b_row4_col25, #T_de44b_row4_col26, #T_de44b_row4_col27, #T_de44b_row4_col28, #T_de44b_row4_col29, #T_de44b_row4_col30, #T_de44b_row4_col31, #T_de44b_row4_col32, #T_de44b_row4_col33, #T_de44b_row4_col34, #T_de44b_row4_col35, #T_de44b_row4_col36, #T_de44b_row4_col37, #T_de44b_row4_col38 {\n",
       "  border: 1.3px solid blue;\n",
       "  color: grey;\n",
       "}\n",
       "</style>\n",
       "<table id=\"T_de44b\">\n",
       "  <caption>Sample of the Play data with tackle stats</caption>\n",
       "  <thead>\n",
       "    <tr>\n",
       "      <th class=\"blank level0\" >&nbsp;</th>\n",
       "      <th id=\"T_de44b_level0_col0\" class=\"col_heading level0 col0\" >gameId</th>\n",
       "      <th id=\"T_de44b_level0_col1\" class=\"col_heading level0 col1\" >playId</th>\n",
       "      <th id=\"T_de44b_level0_col2\" class=\"col_heading level0 col2\" >ballCarrierId</th>\n",
       "      <th id=\"T_de44b_level0_col3\" class=\"col_heading level0 col3\" >ballCarrierDisplayName</th>\n",
       "      <th id=\"T_de44b_level0_col4\" class=\"col_heading level0 col4\" >playDescription</th>\n",
       "      <th id=\"T_de44b_level0_col5\" class=\"col_heading level0 col5\" >quarter</th>\n",
       "      <th id=\"T_de44b_level0_col6\" class=\"col_heading level0 col6\" >down</th>\n",
       "      <th id=\"T_de44b_level0_col7\" class=\"col_heading level0 col7\" >yardsToGo</th>\n",
       "      <th id=\"T_de44b_level0_col8\" class=\"col_heading level0 col8\" >possessionTeam</th>\n",
       "      <th id=\"T_de44b_level0_col9\" class=\"col_heading level0 col9\" >defensiveTeam</th>\n",
       "      <th id=\"T_de44b_level0_col10\" class=\"col_heading level0 col10\" >yardlineSide</th>\n",
       "      <th id=\"T_de44b_level0_col11\" class=\"col_heading level0 col11\" >yardlineNumber</th>\n",
       "      <th id=\"T_de44b_level0_col12\" class=\"col_heading level0 col12\" >gameClock</th>\n",
       "      <th id=\"T_de44b_level0_col13\" class=\"col_heading level0 col13\" >preSnapHomeScore</th>\n",
       "      <th id=\"T_de44b_level0_col14\" class=\"col_heading level0 col14\" >preSnapVisitorScore</th>\n",
       "      <th id=\"T_de44b_level0_col15\" class=\"col_heading level0 col15\" >passResult</th>\n",
       "      <th id=\"T_de44b_level0_col16\" class=\"col_heading level0 col16\" >passLength</th>\n",
       "      <th id=\"T_de44b_level0_col17\" class=\"col_heading level0 col17\" >penaltyYards</th>\n",
       "      <th id=\"T_de44b_level0_col18\" class=\"col_heading level0 col18\" >prePenaltyPlayResult</th>\n",
       "      <th id=\"T_de44b_level0_col19\" class=\"col_heading level0 col19\" >playResult</th>\n",
       "      <th id=\"T_de44b_level0_col20\" class=\"col_heading level0 col20\" >playNullifiedByPenalty</th>\n",
       "      <th id=\"T_de44b_level0_col21\" class=\"col_heading level0 col21\" >absoluteYardlineNumber</th>\n",
       "      <th id=\"T_de44b_level0_col22\" class=\"col_heading level0 col22\" >offenseFormation</th>\n",
       "      <th id=\"T_de44b_level0_col23\" class=\"col_heading level0 col23\" >defendersInTheBox</th>\n",
       "      <th id=\"T_de44b_level0_col24\" class=\"col_heading level0 col24\" >passProbability</th>\n",
       "      <th id=\"T_de44b_level0_col25\" class=\"col_heading level0 col25\" >preSnapHomeTeamWinProbability</th>\n",
       "      <th id=\"T_de44b_level0_col26\" class=\"col_heading level0 col26\" >preSnapVisitorTeamWinProbability</th>\n",
       "      <th id=\"T_de44b_level0_col27\" class=\"col_heading level0 col27\" >homeTeamWinProbabilityAdded</th>\n",
       "      <th id=\"T_de44b_level0_col28\" class=\"col_heading level0 col28\" >visitorTeamWinProbilityAdded</th>\n",
       "      <th id=\"T_de44b_level0_col29\" class=\"col_heading level0 col29\" >expectedPoints</th>\n",
       "      <th id=\"T_de44b_level0_col30\" class=\"col_heading level0 col30\" >expectedPointsAdded</th>\n",
       "      <th id=\"T_de44b_level0_col31\" class=\"col_heading level0 col31\" >foulName1</th>\n",
       "      <th id=\"T_de44b_level0_col32\" class=\"col_heading level0 col32\" >foulName2</th>\n",
       "      <th id=\"T_de44b_level0_col33\" class=\"col_heading level0 col33\" >foulNFLId1</th>\n",
       "      <th id=\"T_de44b_level0_col34\" class=\"col_heading level0 col34\" >foulNFLId2</th>\n",
       "      <th id=\"T_de44b_level0_col35\" class=\"col_heading level0 col35\" >tackles</th>\n",
       "      <th id=\"T_de44b_level0_col36\" class=\"col_heading level0 col36\" >assists</th>\n",
       "      <th id=\"T_de44b_level0_col37\" class=\"col_heading level0 col37\" >forced_fumbles</th>\n",
       "      <th id=\"T_de44b_level0_col38\" class=\"col_heading level0 col38\" >missed_tackles</th>\n",
       "    </tr>\n",
       "  </thead>\n",
       "  <tbody>\n",
       "    <tr>\n",
       "      <th id=\"T_de44b_level0_row0\" class=\"row_heading level0 row0\" >0</th>\n",
       "      <td id=\"T_de44b_row0_col0\" class=\"data row0 col0\" >2022100908</td>\n",
       "      <td id=\"T_de44b_row0_col1\" class=\"data row0 col1\" >3537</td>\n",
       "      <td id=\"T_de44b_row0_col2\" class=\"data row0 col2\" >48723</td>\n",
       "      <td id=\"T_de44b_row0_col3\" class=\"data row0 col3\" >Parker Hesse</td>\n",
       "      <td id=\"T_de44b_row0_col4\" class=\"data row0 col4\" >(7:52) (Shotgun) M.Mariota pass short middle to P.Hesse to 50 for 9 yards (K.Neal).</td>\n",
       "      <td id=\"T_de44b_row0_col5\" class=\"data row0 col5\" >4</td>\n",
       "      <td id=\"T_de44b_row0_col6\" class=\"data row0 col6\" >1</td>\n",
       "      <td id=\"T_de44b_row0_col7\" class=\"data row0 col7\" >10</td>\n",
       "      <td id=\"T_de44b_row0_col8\" class=\"data row0 col8\" >ATL</td>\n",
       "      <td id=\"T_de44b_row0_col9\" class=\"data row0 col9\" >TB</td>\n",
       "      <td id=\"T_de44b_row0_col10\" class=\"data row0 col10\" >ATL</td>\n",
       "      <td id=\"T_de44b_row0_col11\" class=\"data row0 col11\" >41</td>\n",
       "      <td id=\"T_de44b_row0_col12\" class=\"data row0 col12\" >7:52</td>\n",
       "      <td id=\"T_de44b_row0_col13\" class=\"data row0 col13\" >21</td>\n",
       "      <td id=\"T_de44b_row0_col14\" class=\"data row0 col14\" >7</td>\n",
       "      <td id=\"T_de44b_row0_col15\" class=\"data row0 col15\" >C</td>\n",
       "      <td id=\"T_de44b_row0_col16\" class=\"data row0 col16\" >6.000000</td>\n",
       "      <td id=\"T_de44b_row0_col17\" class=\"data row0 col17\" >nan</td>\n",
       "      <td id=\"T_de44b_row0_col18\" class=\"data row0 col18\" >9</td>\n",
       "      <td id=\"T_de44b_row0_col19\" class=\"data row0 col19\" >9</td>\n",
       "      <td id=\"T_de44b_row0_col20\" class=\"data row0 col20\" >N</td>\n",
       "      <td id=\"T_de44b_row0_col21\" class=\"data row0 col21\" >69</td>\n",
       "      <td id=\"T_de44b_row0_col22\" class=\"data row0 col22\" >SHOTGUN</td>\n",
       "      <td id=\"T_de44b_row0_col23\" class=\"data row0 col23\" >7.000000</td>\n",
       "      <td id=\"T_de44b_row0_col24\" class=\"data row0 col24\" >0.747284</td>\n",
       "      <td id=\"T_de44b_row0_col25\" class=\"data row0 col25\" >0.976785</td>\n",
       "      <td id=\"T_de44b_row0_col26\" class=\"data row0 col26\" >0.023215</td>\n",
       "      <td id=\"T_de44b_row0_col27\" class=\"data row0 col27\" >-0.006110</td>\n",
       "      <td id=\"T_de44b_row0_col28\" class=\"data row0 col28\" >0.006110</td>\n",
       "      <td id=\"T_de44b_row0_col29\" class=\"data row0 col29\" >2.360609</td>\n",
       "      <td id=\"T_de44b_row0_col30\" class=\"data row0 col30\" >0.981955</td>\n",
       "      <td id=\"T_de44b_row0_col31\" class=\"data row0 col31\" >nan</td>\n",
       "      <td id=\"T_de44b_row0_col32\" class=\"data row0 col32\" >nan</td>\n",
       "      <td id=\"T_de44b_row0_col33\" class=\"data row0 col33\" >nan</td>\n",
       "      <td id=\"T_de44b_row0_col34\" class=\"data row0 col34\" >nan</td>\n",
       "      <td id=\"T_de44b_row0_col35\" class=\"data row0 col35\" >1.000000</td>\n",
       "      <td id=\"T_de44b_row0_col36\" class=\"data row0 col36\" >0.000000</td>\n",
       "      <td id=\"T_de44b_row0_col37\" class=\"data row0 col37\" >0.000000</td>\n",
       "      <td id=\"T_de44b_row0_col38\" class=\"data row0 col38\" >0.000000</td>\n",
       "    </tr>\n",
       "    <tr>\n",
       "      <th id=\"T_de44b_level0_row1\" class=\"row_heading level0 row1\" >1</th>\n",
       "      <td id=\"T_de44b_row1_col0\" class=\"data row1 col0\" >2022091103</td>\n",
       "      <td id=\"T_de44b_row1_col1\" class=\"data row1 col1\" >3126</td>\n",
       "      <td id=\"T_de44b_row1_col2\" class=\"data row1 col2\" >52457</td>\n",
       "      <td id=\"T_de44b_row1_col3\" class=\"data row1 col3\" >Chase Claypool</td>\n",
       "      <td id=\"T_de44b_row1_col4\" class=\"data row1 col4\" >(7:38) (Shotgun) C.Claypool right end to PIT 37 for 3 yards (C.Awuzie).</td>\n",
       "      <td id=\"T_de44b_row1_col5\" class=\"data row1 col5\" >4</td>\n",
       "      <td id=\"T_de44b_row1_col6\" class=\"data row1 col6\" >1</td>\n",
       "      <td id=\"T_de44b_row1_col7\" class=\"data row1 col7\" >10</td>\n",
       "      <td id=\"T_de44b_row1_col8\" class=\"data row1 col8\" >PIT</td>\n",
       "      <td id=\"T_de44b_row1_col9\" class=\"data row1 col9\" >CIN</td>\n",
       "      <td id=\"T_de44b_row1_col10\" class=\"data row1 col10\" >PIT</td>\n",
       "      <td id=\"T_de44b_row1_col11\" class=\"data row1 col11\" >34</td>\n",
       "      <td id=\"T_de44b_row1_col12\" class=\"data row1 col12\" >7:38</td>\n",
       "      <td id=\"T_de44b_row1_col13\" class=\"data row1 col13\" >14</td>\n",
       "      <td id=\"T_de44b_row1_col14\" class=\"data row1 col14\" >20</td>\n",
       "      <td id=\"T_de44b_row1_col15\" class=\"data row1 col15\" >nan</td>\n",
       "      <td id=\"T_de44b_row1_col16\" class=\"data row1 col16\" >nan</td>\n",
       "      <td id=\"T_de44b_row1_col17\" class=\"data row1 col17\" >nan</td>\n",
       "      <td id=\"T_de44b_row1_col18\" class=\"data row1 col18\" >3</td>\n",
       "      <td id=\"T_de44b_row1_col19\" class=\"data row1 col19\" >3</td>\n",
       "      <td id=\"T_de44b_row1_col20\" class=\"data row1 col20\" >N</td>\n",
       "      <td id=\"T_de44b_row1_col21\" class=\"data row1 col21\" >76</td>\n",
       "      <td id=\"T_de44b_row1_col22\" class=\"data row1 col22\" >SHOTGUN</td>\n",
       "      <td id=\"T_de44b_row1_col23\" class=\"data row1 col23\" >7.000000</td>\n",
       "      <td id=\"T_de44b_row1_col24\" class=\"data row1 col24\" >0.416454</td>\n",
       "      <td id=\"T_de44b_row1_col25\" class=\"data row1 col25\" >0.160485</td>\n",
       "      <td id=\"T_de44b_row1_col26\" class=\"data row1 col26\" >0.839515</td>\n",
       "      <td id=\"T_de44b_row1_col27\" class=\"data row1 col27\" >-0.010865</td>\n",
       "      <td id=\"T_de44b_row1_col28\" class=\"data row1 col28\" >0.010865</td>\n",
       "      <td id=\"T_de44b_row1_col29\" class=\"data row1 col29\" >1.733344</td>\n",
       "      <td id=\"T_de44b_row1_col30\" class=\"data row1 col30\" >-0.263424</td>\n",
       "      <td id=\"T_de44b_row1_col31\" class=\"data row1 col31\" >nan</td>\n",
       "      <td id=\"T_de44b_row1_col32\" class=\"data row1 col32\" >nan</td>\n",
       "      <td id=\"T_de44b_row1_col33\" class=\"data row1 col33\" >nan</td>\n",
       "      <td id=\"T_de44b_row1_col34\" class=\"data row1 col34\" >nan</td>\n",
       "      <td id=\"T_de44b_row1_col35\" class=\"data row1 col35\" >1.000000</td>\n",
       "      <td id=\"T_de44b_row1_col36\" class=\"data row1 col36\" >0.000000</td>\n",
       "      <td id=\"T_de44b_row1_col37\" class=\"data row1 col37\" >0.000000</td>\n",
       "      <td id=\"T_de44b_row1_col38\" class=\"data row1 col38\" >1.000000</td>\n",
       "    </tr>\n",
       "    <tr>\n",
       "      <th id=\"T_de44b_level0_row2\" class=\"row_heading level0 row2\" >2</th>\n",
       "      <td id=\"T_de44b_row2_col0\" class=\"data row2 col0\" >2022091111</td>\n",
       "      <td id=\"T_de44b_row2_col1\" class=\"data row2 col1\" >1148</td>\n",
       "      <td id=\"T_de44b_row2_col2\" class=\"data row2 col2\" >42547</td>\n",
       "      <td id=\"T_de44b_row2_col3\" class=\"data row2 col3\" >Darren Waller</td>\n",
       "      <td id=\"T_de44b_row2_col4\" class=\"data row2 col4\" >(8:57) D.Carr pass short middle to D.Waller to LV 45 for 15 yards (N.Adderley).</td>\n",
       "      <td id=\"T_de44b_row2_col5\" class=\"data row2 col5\" >2</td>\n",
       "      <td id=\"T_de44b_row2_col6\" class=\"data row2 col6\" >2</td>\n",
       "      <td id=\"T_de44b_row2_col7\" class=\"data row2 col7\" >5</td>\n",
       "      <td id=\"T_de44b_row2_col8\" class=\"data row2 col8\" >LV</td>\n",
       "      <td id=\"T_de44b_row2_col9\" class=\"data row2 col9\" >LAC</td>\n",
       "      <td id=\"T_de44b_row2_col10\" class=\"data row2 col10\" >LV</td>\n",
       "      <td id=\"T_de44b_row2_col11\" class=\"data row2 col11\" >30</td>\n",
       "      <td id=\"T_de44b_row2_col12\" class=\"data row2 col12\" >8:57</td>\n",
       "      <td id=\"T_de44b_row2_col13\" class=\"data row2 col13\" >10</td>\n",
       "      <td id=\"T_de44b_row2_col14\" class=\"data row2 col14\" >3</td>\n",
       "      <td id=\"T_de44b_row2_col15\" class=\"data row2 col15\" >C</td>\n",
       "      <td id=\"T_de44b_row2_col16\" class=\"data row2 col16\" >11.000000</td>\n",
       "      <td id=\"T_de44b_row2_col17\" class=\"data row2 col17\" >nan</td>\n",
       "      <td id=\"T_de44b_row2_col18\" class=\"data row2 col18\" >15</td>\n",
       "      <td id=\"T_de44b_row2_col19\" class=\"data row2 col19\" >15</td>\n",
       "      <td id=\"T_de44b_row2_col20\" class=\"data row2 col20\" >N</td>\n",
       "      <td id=\"T_de44b_row2_col21\" class=\"data row2 col21\" >40</td>\n",
       "      <td id=\"T_de44b_row2_col22\" class=\"data row2 col22\" >I_FORM</td>\n",
       "      <td id=\"T_de44b_row2_col23\" class=\"data row2 col23\" >6.000000</td>\n",
       "      <td id=\"T_de44b_row2_col24\" class=\"data row2 col24\" >0.267933</td>\n",
       "      <td id=\"T_de44b_row2_col25\" class=\"data row2 col25\" >0.756661</td>\n",
       "      <td id=\"T_de44b_row2_col26\" class=\"data row2 col26\" >0.243339</td>\n",
       "      <td id=\"T_de44b_row2_col27\" class=\"data row2 col27\" >-0.037409</td>\n",
       "      <td id=\"T_de44b_row2_col28\" class=\"data row2 col28\" >0.037409</td>\n",
       "      <td id=\"T_de44b_row2_col29\" class=\"data row2 col29\" >1.312855</td>\n",
       "      <td id=\"T_de44b_row2_col30\" class=\"data row2 col30\" >1.133666</td>\n",
       "      <td id=\"T_de44b_row2_col31\" class=\"data row2 col31\" >nan</td>\n",
       "      <td id=\"T_de44b_row2_col32\" class=\"data row2 col32\" >nan</td>\n",
       "      <td id=\"T_de44b_row2_col33\" class=\"data row2 col33\" >nan</td>\n",
       "      <td id=\"T_de44b_row2_col34\" class=\"data row2 col34\" >nan</td>\n",
       "      <td id=\"T_de44b_row2_col35\" class=\"data row2 col35\" >1.000000</td>\n",
       "      <td id=\"T_de44b_row2_col36\" class=\"data row2 col36\" >0.000000</td>\n",
       "      <td id=\"T_de44b_row2_col37\" class=\"data row2 col37\" >0.000000</td>\n",
       "      <td id=\"T_de44b_row2_col38\" class=\"data row2 col38\" >0.000000</td>\n",
       "    </tr>\n",
       "    <tr>\n",
       "      <th id=\"T_de44b_level0_row3\" class=\"row_heading level0 row3\" >3</th>\n",
       "      <td id=\"T_de44b_row3_col0\" class=\"data row3 col0\" >2022100212</td>\n",
       "      <td id=\"T_de44b_row3_col1\" class=\"data row3 col1\" >2007</td>\n",
       "      <td id=\"T_de44b_row3_col2\" class=\"data row3 col2\" >46461</td>\n",
       "      <td id=\"T_de44b_row3_col3\" class=\"data row3 col3\" >Mike Boone</td>\n",
       "      <td id=\"T_de44b_row3_col4\" class=\"data row3 col4\" >(13:12) M.Boone left tackle to DEN 44 for 7 yards (J.Abram; D.Deablo).</td>\n",
       "      <td id=\"T_de44b_row3_col5\" class=\"data row3 col5\" >3</td>\n",
       "      <td id=\"T_de44b_row3_col6\" class=\"data row3 col6\" >2</td>\n",
       "      <td id=\"T_de44b_row3_col7\" class=\"data row3 col7\" >10</td>\n",
       "      <td id=\"T_de44b_row3_col8\" class=\"data row3 col8\" >DEN</td>\n",
       "      <td id=\"T_de44b_row3_col9\" class=\"data row3 col9\" >LV</td>\n",
       "      <td id=\"T_de44b_row3_col10\" class=\"data row3 col10\" >DEN</td>\n",
       "      <td id=\"T_de44b_row3_col11\" class=\"data row3 col11\" >37</td>\n",
       "      <td id=\"T_de44b_row3_col12\" class=\"data row3 col12\" >13:12</td>\n",
       "      <td id=\"T_de44b_row3_col13\" class=\"data row3 col13\" >19</td>\n",
       "      <td id=\"T_de44b_row3_col14\" class=\"data row3 col14\" >16</td>\n",
       "      <td id=\"T_de44b_row3_col15\" class=\"data row3 col15\" >nan</td>\n",
       "      <td id=\"T_de44b_row3_col16\" class=\"data row3 col16\" >nan</td>\n",
       "      <td id=\"T_de44b_row3_col17\" class=\"data row3 col17\" >nan</td>\n",
       "      <td id=\"T_de44b_row3_col18\" class=\"data row3 col18\" >7</td>\n",
       "      <td id=\"T_de44b_row3_col19\" class=\"data row3 col19\" >7</td>\n",
       "      <td id=\"T_de44b_row3_col20\" class=\"data row3 col20\" >N</td>\n",
       "      <td id=\"T_de44b_row3_col21\" class=\"data row3 col21\" >47</td>\n",
       "      <td id=\"T_de44b_row3_col22\" class=\"data row3 col22\" >SINGLEBACK</td>\n",
       "      <td id=\"T_de44b_row3_col23\" class=\"data row3 col23\" >6.000000</td>\n",
       "      <td id=\"T_de44b_row3_col24\" class=\"data row3 col24\" >0.592704</td>\n",
       "      <td id=\"T_de44b_row3_col25\" class=\"data row3 col25\" >0.620552</td>\n",
       "      <td id=\"T_de44b_row3_col26\" class=\"data row3 col26\" >0.379448</td>\n",
       "      <td id=\"T_de44b_row3_col27\" class=\"data row3 col27\" >-0.002451</td>\n",
       "      <td id=\"T_de44b_row3_col28\" class=\"data row3 col28\" >0.002451</td>\n",
       "      <td id=\"T_de44b_row3_col29\" class=\"data row3 col29\" >1.641006</td>\n",
       "      <td id=\"T_de44b_row3_col30\" class=\"data row3 col30\" >-0.043580</td>\n",
       "      <td id=\"T_de44b_row3_col31\" class=\"data row3 col31\" >nan</td>\n",
       "      <td id=\"T_de44b_row3_col32\" class=\"data row3 col32\" >nan</td>\n",
       "      <td id=\"T_de44b_row3_col33\" class=\"data row3 col33\" >nan</td>\n",
       "      <td id=\"T_de44b_row3_col34\" class=\"data row3 col34\" >nan</td>\n",
       "      <td id=\"T_de44b_row3_col35\" class=\"data row3 col35\" >0.000000</td>\n",
       "      <td id=\"T_de44b_row3_col36\" class=\"data row3 col36\" >2.000000</td>\n",
       "      <td id=\"T_de44b_row3_col37\" class=\"data row3 col37\" >0.000000</td>\n",
       "      <td id=\"T_de44b_row3_col38\" class=\"data row3 col38\" >2.000000</td>\n",
       "    </tr>\n",
       "    <tr>\n",
       "      <th id=\"T_de44b_level0_row4\" class=\"row_heading level0 row4\" >4</th>\n",
       "      <td id=\"T_de44b_row4_col0\" class=\"data row4 col0\" >2022091900</td>\n",
       "      <td id=\"T_de44b_row4_col1\" class=\"data row4 col1\" >1372</td>\n",
       "      <td id=\"T_de44b_row4_col2\" class=\"data row4 col2\" >47857</td>\n",
       "      <td id=\"T_de44b_row4_col3\" class=\"data row4 col3\" >Devin Singletary</td>\n",
       "      <td id=\"T_de44b_row4_col4\" class=\"data row4 col4\" >(8:33) D.Singletary right guard to TEN 32 for 3 yards (N.Jones; O.Adeniyi). TEN-O.Adeniyi was injured during the play. His return is Questionable.  O.Adeniyi walks off.</td>\n",
       "      <td id=\"T_de44b_row4_col5\" class=\"data row4 col5\" >2</td>\n",
       "      <td id=\"T_de44b_row4_col6\" class=\"data row4 col6\" >1</td>\n",
       "      <td id=\"T_de44b_row4_col7\" class=\"data row4 col7\" >10</td>\n",
       "      <td id=\"T_de44b_row4_col8\" class=\"data row4 col8\" >BUF</td>\n",
       "      <td id=\"T_de44b_row4_col9\" class=\"data row4 col9\" >TEN</td>\n",
       "      <td id=\"T_de44b_row4_col10\" class=\"data row4 col10\" >TEN</td>\n",
       "      <td id=\"T_de44b_row4_col11\" class=\"data row4 col11\" >35</td>\n",
       "      <td id=\"T_de44b_row4_col12\" class=\"data row4 col12\" >8:33</td>\n",
       "      <td id=\"T_de44b_row4_col13\" class=\"data row4 col13\" >7</td>\n",
       "      <td id=\"T_de44b_row4_col14\" class=\"data row4 col14\" >7</td>\n",
       "      <td id=\"T_de44b_row4_col15\" class=\"data row4 col15\" >nan</td>\n",
       "      <td id=\"T_de44b_row4_col16\" class=\"data row4 col16\" >nan</td>\n",
       "      <td id=\"T_de44b_row4_col17\" class=\"data row4 col17\" >nan</td>\n",
       "      <td id=\"T_de44b_row4_col18\" class=\"data row4 col18\" >3</td>\n",
       "      <td id=\"T_de44b_row4_col19\" class=\"data row4 col19\" >3</td>\n",
       "      <td id=\"T_de44b_row4_col20\" class=\"data row4 col20\" >N</td>\n",
       "      <td id=\"T_de44b_row4_col21\" class=\"data row4 col21\" >75</td>\n",
       "      <td id=\"T_de44b_row4_col22\" class=\"data row4 col22\" >I_FORM</td>\n",
       "      <td id=\"T_de44b_row4_col23\" class=\"data row4 col23\" >7.000000</td>\n",
       "      <td id=\"T_de44b_row4_col24\" class=\"data row4 col24\" >0.470508</td>\n",
       "      <td id=\"T_de44b_row4_col25\" class=\"data row4 col25\" >0.836290</td>\n",
       "      <td id=\"T_de44b_row4_col26\" class=\"data row4 col26\" >0.163710</td>\n",
       "      <td id=\"T_de44b_row4_col27\" class=\"data row4 col27\" >0.001053</td>\n",
       "      <td id=\"T_de44b_row4_col28\" class=\"data row4 col28\" >-0.001053</td>\n",
       "      <td id=\"T_de44b_row4_col29\" class=\"data row4 col29\" >3.686428</td>\n",
       "      <td id=\"T_de44b_row4_col30\" class=\"data row4 col30\" >-0.167903</td>\n",
       "      <td id=\"T_de44b_row4_col31\" class=\"data row4 col31\" >nan</td>\n",
       "      <td id=\"T_de44b_row4_col32\" class=\"data row4 col32\" >nan</td>\n",
       "      <td id=\"T_de44b_row4_col33\" class=\"data row4 col33\" >nan</td>\n",
       "      <td id=\"T_de44b_row4_col34\" class=\"data row4 col34\" >nan</td>\n",
       "      <td id=\"T_de44b_row4_col35\" class=\"data row4 col35\" >0.000000</td>\n",
       "      <td id=\"T_de44b_row4_col36\" class=\"data row4 col36\" >2.000000</td>\n",
       "      <td id=\"T_de44b_row4_col37\" class=\"data row4 col37\" >0.000000</td>\n",
       "      <td id=\"T_de44b_row4_col38\" class=\"data row4 col38\" >1.000000</td>\n",
       "    </tr>\n",
       "  </tbody>\n",
       "</table>\n"
      ],
      "text/plain": [
       "<pandas.io.formats.style.Styler at 0x29884faf0>"
      ]
     },
     "execution_count": 20,
     "metadata": {},
     "output_type": "execute_result"
    }
   ],
   "source": [
    "agg_dict_1 = {\n",
    "    \"tackles\": pd.NamedAgg(column='tackle', aggfunc='sum'),\n",
    "    \"assists\": pd.NamedAgg(column='assist', aggfunc='sum'),\n",
    "    \"forced_fumbles\": pd.NamedAgg(column='forcedFumble', aggfunc='sum'),\n",
    "    \"missed_tackles\": pd.NamedAgg(column='pff_missedTackle', aggfunc='sum'),\n",
    "}\n",
    "\n",
    "play_tackle_df = tackles.groupby([\"gameId\", \"playId\"]).agg(**agg_dict_1).reset_index()\n",
    "\n",
    "\n",
    "play_tackles = pd.merge(\n",
    "    plays,\n",
    "    play_tackle_df,\n",
    "    how=\"outer\",\n",
    "    on=[\"gameId\", \"playId\"]\n",
    ")\n",
    "\n",
    "play_tackles.head().style.set_caption(\"Sample of the Play data with tackle stats\"). \\\n",
    "set_properties(**{'border': '1.3px solid blue',\n",
    "                          'color': 'grey'})"
   ]
  },
  {
   "cell_type": "markdown",
   "id": "04a00323-1f1b-4559-a734-8f3d798dca69",
   "metadata": {
    "scrolled": true
   },
   "source": [
    "Here is the resulting dataframe from which we will do our analysis from:"
   ]
  },
  {
   "cell_type": "code",
   "execution_count": 21,
   "id": "18684fe8-d383-41e6-a2e1-b73945986616",
   "metadata": {
    "scrolled": true
   },
   "outputs": [
    {
     "name": "stdout",
     "output_type": "stream",
     "text": [
      "<class 'pandas.core.frame.DataFrame'>\n",
      "RangeIndex: 12486 entries, 0 to 12485\n",
      "Data columns (total 39 columns):\n",
      " #   Column                            Non-Null Count  Dtype  \n",
      "---  ------                            --------------  -----  \n",
      " 0   gameId                            12486 non-null  int64  \n",
      " 1   playId                            12486 non-null  int64  \n",
      " 2   ballCarrierId                     12486 non-null  int64  \n",
      " 3   ballCarrierDisplayName            12486 non-null  object \n",
      " 4   playDescription                   12486 non-null  object \n",
      " 5   quarter                           12486 non-null  int64  \n",
      " 6   down                              12486 non-null  int64  \n",
      " 7   yardsToGo                         12486 non-null  int64  \n",
      " 8   possessionTeam                    12486 non-null  object \n",
      " 9   defensiveTeam                     12486 non-null  object \n",
      " 10  yardlineSide                      12319 non-null  object \n",
      " 11  yardlineNumber                    12486 non-null  int64  \n",
      " 12  gameClock                         12486 non-null  object \n",
      " 13  preSnapHomeScore                  12486 non-null  int64  \n",
      " 14  preSnapVisitorScore               12486 non-null  int64  \n",
      " 15  passResult                        6105 non-null   object \n",
      " 16  passLength                        5634 non-null   float64\n",
      " 17  penaltyYards                      615 non-null    float64\n",
      " 18  prePenaltyPlayResult              12486 non-null  int64  \n",
      " 19  playResult                        12486 non-null  int64  \n",
      " 20  playNullifiedByPenalty            12486 non-null  object \n",
      " 21  absoluteYardlineNumber            12486 non-null  int64  \n",
      " 22  offenseFormation                  12482 non-null  object \n",
      " 23  defendersInTheBox                 12481 non-null  float64\n",
      " 24  passProbability                   12149 non-null  float64\n",
      " 25  preSnapHomeTeamWinProbability     12486 non-null  float64\n",
      " 26  preSnapVisitorTeamWinProbability  12486 non-null  float64\n",
      " 27  homeTeamWinProbabilityAdded       12486 non-null  float64\n",
      " 28  visitorTeamWinProbilityAdded      12486 non-null  float64\n",
      " 29  expectedPoints                    12486 non-null  float64\n",
      " 30  expectedPointsAdded               12485 non-null  float64\n",
      " 31  foulName1                         592 non-null    object \n",
      " 32  foulName2                         25 non-null     object \n",
      " 33  foulNFLId1                        592 non-null    float64\n",
      " 34  foulNFLId2                        25 non-null     float64\n",
      " 35  tackles                           12025 non-null  float64\n",
      " 36  assists                           12025 non-null  float64\n",
      " 37  forced_fumbles                    12025 non-null  float64\n",
      " 38  missed_tackles                    12025 non-null  float64\n",
      "dtypes: float64(16), int64(12), object(11)\n",
      "memory usage: 3.7+ MB\n"
     ]
    }
   ],
   "source": [
    "play_tackles.info()"
   ]
  },
  {
   "cell_type": "markdown",
   "id": "5c20e879-633c-4e5d-bba3-b6aa9b5088de",
   "metadata": {
    "scrolled": true
   },
   "source": [
    "Of `12070` plays, `12025` contain the tackle-related information and `1344` feature either the 49ers or the Chiefs. The other `460` plays contain missing values, meaning there were no tackle-related events (tackles, missed tackles, assists, or forced fumbles) in such plays.\n",
    "\n",
    "We'll fill in the games by using a fake constant `-1` to differentiate such plays from those with tackle-related events."
   ]
  },
  {
   "cell_type": "code",
   "execution_count": 22,
   "id": "99cf53ab-2eb5-4e8a-bff8-b936a6118507",
   "metadata": {
    "scrolled": true
   },
   "outputs": [
    {
     "name": "stdout",
     "output_type": "stream",
     "text": [
      "<class 'pandas.core.frame.DataFrame'>\n",
      "RangeIndex: 12486 entries, 0 to 12485\n",
      "Data columns (total 39 columns):\n",
      " #   Column                            Non-Null Count  Dtype  \n",
      "---  ------                            --------------  -----  \n",
      " 0   gameId                            12486 non-null  int64  \n",
      " 1   playId                            12486 non-null  int64  \n",
      " 2   ballCarrierId                     12486 non-null  int64  \n",
      " 3   ballCarrierDisplayName            12486 non-null  object \n",
      " 4   playDescription                   12486 non-null  object \n",
      " 5   quarter                           12486 non-null  int64  \n",
      " 6   down                              12486 non-null  int64  \n",
      " 7   yardsToGo                         12486 non-null  int64  \n",
      " 8   possessionTeam                    12486 non-null  object \n",
      " 9   defensiveTeam                     12486 non-null  object \n",
      " 10  yardlineSide                      12319 non-null  object \n",
      " 11  yardlineNumber                    12486 non-null  int64  \n",
      " 12  gameClock                         12486 non-null  object \n",
      " 13  preSnapHomeScore                  12486 non-null  int64  \n",
      " 14  preSnapVisitorScore               12486 non-null  int64  \n",
      " 15  passResult                        6105 non-null   object \n",
      " 16  passLength                        5634 non-null   float64\n",
      " 17  penaltyYards                      615 non-null    float64\n",
      " 18  prePenaltyPlayResult              12486 non-null  int64  \n",
      " 19  playResult                        12486 non-null  int64  \n",
      " 20  playNullifiedByPenalty            12486 non-null  object \n",
      " 21  absoluteYardlineNumber            12486 non-null  int64  \n",
      " 22  offenseFormation                  12482 non-null  object \n",
      " 23  defendersInTheBox                 12481 non-null  float64\n",
      " 24  passProbability                   12149 non-null  float64\n",
      " 25  preSnapHomeTeamWinProbability     12486 non-null  float64\n",
      " 26  preSnapVisitorTeamWinProbability  12486 non-null  float64\n",
      " 27  homeTeamWinProbabilityAdded       12486 non-null  float64\n",
      " 28  visitorTeamWinProbilityAdded      12486 non-null  float64\n",
      " 29  expectedPoints                    12486 non-null  float64\n",
      " 30  expectedPointsAdded               12485 non-null  float64\n",
      " 31  foulName1                         592 non-null    object \n",
      " 32  foulName2                         25 non-null     object \n",
      " 33  foulNFLId1                        592 non-null    float64\n",
      " 34  foulNFLId2                        25 non-null     float64\n",
      " 35  tackles                           12486 non-null  int64  \n",
      " 36  assists                           12486 non-null  int64  \n",
      " 37  forced_fumbles                    12486 non-null  int64  \n",
      " 38  missed_tackles                    12486 non-null  int64  \n",
      "dtypes: float64(12), int64(16), object(11)\n",
      "memory usage: 3.7+ MB\n"
     ]
    }
   ],
   "source": [
    "values = {\"tackles\": -1.0, \"assists\": -1.0, \"forced_fumbles\": -1.0, \"missed_tackles\": -1.0}\n",
    "play_tackles = play_tackles.fillna(value=values)\n",
    "\n",
    "play_tackles = play_tackles.astype({\"tackles\":'int', \"assists\":'int', \n",
    "                                    \"forced_fumbles\":'int', \"missed_tackles\":'int',}) \n",
    "\n",
    "play_tackles.info()"
   ]
  },
  {
   "cell_type": "markdown",
   "id": "7d1c7dad-30b6-4859-920a-1c76cc99569f",
   "metadata": {
    "papermill": {
     "duration": 0.007645,
     "end_time": "2023-10-23T00:24:39.715843",
     "exception": false,
     "start_time": "2023-10-23T00:24:39.708198",
     "status": "completed"
    },
    "tags": []
   },
   "source": [
    "With the data preprocessed, let's now look into the distribution of data featuring defenders in the box, starting with the 49ers. "
   ]
  },
  {
   "cell_type": "code",
   "execution_count": 23,
   "id": "4d424f80-cf56-42ff-8bf3-57e7f9e76dc3",
   "metadata": {
    "scrolled": true
   },
   "outputs": [
    {
     "data": {
      "application/vnd.plotly.v1+json": {
       "config": {
        "plotlyServerURL": "https://plot.ly"
       },
       "data": [
        {
         "alignmentgroup": "True",
         "bingroup": "x",
         "hovertemplate": "defendersInTheBox=%{x}<br>count=%{y}<extra></extra>",
         "legendgroup": "",
         "marker": {
          "color": "rgb(133, 92, 117)",
          "pattern": {
           "shape": ""
          }
         },
         "name": "",
         "offsetgroup": "",
         "orientation": "v",
         "showlegend": false,
         "type": "histogram",
         "x": [
          7,
          6,
          6,
          5,
          7,
          6,
          8,
          7,
          8,
          6,
          4,
          6,
          7,
          7,
          6,
          7,
          5,
          6,
          8,
          7,
          5,
          7,
          6,
          8,
          7,
          7,
          8,
          6,
          7,
          7,
          8,
          7,
          7,
          7,
          7,
          6,
          7,
          6,
          7,
          6,
          8,
          7,
          8,
          8,
          8,
          6,
          7,
          6,
          7,
          6,
          6,
          6,
          8,
          6,
          6,
          6,
          5,
          7,
          7,
          7,
          6,
          3,
          5,
          5,
          6,
          9,
          6,
          7,
          8,
          7,
          6,
          6,
          7,
          5,
          6,
          6,
          6,
          6,
          6,
          7,
          6,
          8,
          7,
          6,
          7,
          5,
          7,
          8,
          7,
          6,
          6,
          7,
          6,
          6,
          7,
          6,
          6,
          5,
          6,
          6,
          7,
          7,
          7,
          6,
          8,
          6,
          6,
          7,
          7,
          6,
          4,
          7,
          6,
          6,
          8,
          6,
          6,
          9,
          7,
          6,
          6,
          8,
          6,
          6,
          8,
          4,
          6,
          6,
          6,
          7,
          8,
          6,
          8,
          7,
          6,
          5,
          8,
          8,
          7,
          6,
          6,
          7,
          6,
          5,
          7,
          6,
          7,
          8,
          4,
          5,
          6,
          6,
          6,
          6,
          6,
          6,
          7,
          7,
          7,
          6,
          6,
          6,
          6,
          8,
          7,
          6,
          8,
          5,
          8,
          6,
          7,
          5,
          5,
          6,
          6,
          6,
          8,
          7,
          6,
          6,
          8,
          7,
          8,
          6,
          7,
          6,
          6,
          6,
          5,
          6,
          8,
          6,
          7,
          7,
          6,
          6,
          7,
          7,
          6,
          6,
          7,
          8,
          4,
          8,
          8,
          7,
          6,
          6,
          7,
          7,
          4,
          8,
          6,
          6,
          6,
          6,
          6,
          7,
          5,
          6,
          6,
          6,
          6,
          7,
          6,
          7,
          7,
          6,
          5,
          8,
          7,
          7,
          6,
          6,
          6,
          7,
          6,
          8,
          9,
          4,
          6,
          8,
          4,
          6,
          6,
          8,
          7,
          6,
          5,
          8,
          7,
          6,
          7,
          6,
          7,
          6,
          4,
          7,
          6,
          8,
          8,
          7,
          6,
          6,
          8,
          6,
          5,
          7,
          6,
          6,
          6,
          6,
          6,
          6,
          7,
          6,
          6,
          8,
          6,
          7,
          8,
          6,
          8,
          8,
          7,
          6,
          6,
          6,
          7,
          6,
          5,
          6,
          6,
          8,
          4,
          7,
          6,
          6,
          8,
          7,
          6,
          6,
          8,
          7,
          7,
          7,
          6,
          6,
          8,
          4,
          6,
          6,
          7,
          7,
          6,
          6,
          6,
          6,
          7,
          8,
          7,
          6,
          6,
          7,
          8,
          6,
          6,
          6,
          8,
          6,
          6,
          7,
          4,
          6,
          6,
          8,
          6,
          6,
          7,
          7,
          7,
          7,
          10,
          7,
          6,
          6,
          6,
          7,
          7,
          6,
          6,
          8,
          6,
          8,
          6,
          8,
          6,
          7,
          7,
          8,
          6,
          6,
          7,
          6,
          6,
          7,
          5,
          7,
          5,
          6,
          7,
          8,
          6,
          8,
          6,
          6,
          7,
          5,
          6,
          6,
          5,
          6,
          6,
          6,
          6,
          6,
          7,
          5,
          6,
          6,
          7,
          6,
          7,
          6,
          6,
          6,
          7,
          7,
          8,
          6,
          6,
          4,
          6,
          8,
          6,
          6,
          6,
          6,
          6,
          6,
          5,
          7,
          7,
          8,
          7,
          8,
          7,
          7,
          7,
          8,
          7,
          6,
          7,
          7,
          6,
          6,
          7,
          4,
          7,
          5,
          7,
          7,
          6,
          7,
          7,
          6,
          11,
          8,
          8,
          6,
          8,
          5,
          6,
          6,
          8,
          7,
          7,
          7,
          4,
          7,
          8,
          8,
          5,
          5,
          6,
          7,
          8,
          5,
          8,
          7,
          9,
          7,
          10,
          6,
          6,
          7,
          8,
          6,
          5,
          7,
          8,
          8,
          7,
          8,
          7,
          11,
          5,
          6,
          6,
          6,
          11,
          6,
          5,
          7,
          8,
          8,
          7,
          8,
          8,
          8,
          7,
          4,
          6,
          6,
          6,
          5,
          7,
          7,
          8,
          6,
          6,
          5,
          7,
          8,
          8,
          7,
          7,
          7,
          8,
          7,
          6,
          5,
          8,
          6,
          7,
          7,
          6,
          9,
          7,
          6,
          7,
          6,
          7,
          5,
          7,
          7,
          6,
          4,
          7,
          7,
          7,
          7,
          7,
          9,
          7,
          6,
          5,
          6,
          8,
          7,
          7,
          7,
          6,
          7,
          8,
          8,
          7,
          8,
          6,
          6,
          8,
          4,
          5,
          8,
          6,
          4,
          8,
          6,
          6,
          5,
          5,
          7,
          7,
          8,
          8,
          7,
          7,
          6,
          6,
          6,
          5,
          4,
          5,
          6,
          7,
          8,
          7,
          6,
          8,
          7,
          7,
          6,
          6,
          7,
          8,
          7,
          7,
          7,
          6,
          7,
          7,
          4,
          5,
          6,
          5,
          8,
          7,
          7,
          5,
          7,
          7,
          8,
          6,
          6,
          6,
          6,
          6,
          7,
          7,
          7,
          6,
          6,
          7,
          7,
          6,
          7,
          7,
          8,
          7,
          7,
          6,
          9,
          6,
          7,
          5,
          7,
          7,
          8,
          7,
          7,
          6,
          8,
          7,
          8,
          6,
          8,
          7,
          8,
          8,
          8,
          7,
          5,
          6,
          6,
          6,
          6,
          6,
          7,
          6,
          4,
          7,
          7,
          7,
          7,
          6,
          8,
          5,
          6,
          6,
          7,
          6,
          5,
          8,
          6,
          6,
          7,
          8,
          6,
          7,
          6,
          7,
          6,
          6,
          7,
          6,
          6,
          7,
          8,
          7
         ],
         "xaxis": "x",
         "yaxis": "y"
        },
        {
         "alignmentgroup": "True",
         "boxpoints": "all",
         "fillcolor": "rgba(255,255,255,0)",
         "hoveron": "points",
         "hovertemplate": "defendersInTheBox=%{x}<extra></extra>",
         "jitter": 0,
         "legendgroup": "",
         "line": {
          "color": "rgba(255,255,255,0)"
         },
         "marker": {
          "color": "rgb(133, 92, 117)",
          "symbol": "line-ns-open"
         },
         "name": "",
         "offsetgroup": "",
         "showlegend": false,
         "type": "box",
         "x": [
          7,
          6,
          6,
          5,
          7,
          6,
          8,
          7,
          8,
          6,
          4,
          6,
          7,
          7,
          6,
          7,
          5,
          6,
          8,
          7,
          5,
          7,
          6,
          8,
          7,
          7,
          8,
          6,
          7,
          7,
          8,
          7,
          7,
          7,
          7,
          6,
          7,
          6,
          7,
          6,
          8,
          7,
          8,
          8,
          8,
          6,
          7,
          6,
          7,
          6,
          6,
          6,
          8,
          6,
          6,
          6,
          5,
          7,
          7,
          7,
          6,
          3,
          5,
          5,
          6,
          9,
          6,
          7,
          8,
          7,
          6,
          6,
          7,
          5,
          6,
          6,
          6,
          6,
          6,
          7,
          6,
          8,
          7,
          6,
          7,
          5,
          7,
          8,
          7,
          6,
          6,
          7,
          6,
          6,
          7,
          6,
          6,
          5,
          6,
          6,
          7,
          7,
          7,
          6,
          8,
          6,
          6,
          7,
          7,
          6,
          4,
          7,
          6,
          6,
          8,
          6,
          6,
          9,
          7,
          6,
          6,
          8,
          6,
          6,
          8,
          4,
          6,
          6,
          6,
          7,
          8,
          6,
          8,
          7,
          6,
          5,
          8,
          8,
          7,
          6,
          6,
          7,
          6,
          5,
          7,
          6,
          7,
          8,
          4,
          5,
          6,
          6,
          6,
          6,
          6,
          6,
          7,
          7,
          7,
          6,
          6,
          6,
          6,
          8,
          7,
          6,
          8,
          5,
          8,
          6,
          7,
          5,
          5,
          6,
          6,
          6,
          8,
          7,
          6,
          6,
          8,
          7,
          8,
          6,
          7,
          6,
          6,
          6,
          5,
          6,
          8,
          6,
          7,
          7,
          6,
          6,
          7,
          7,
          6,
          6,
          7,
          8,
          4,
          8,
          8,
          7,
          6,
          6,
          7,
          7,
          4,
          8,
          6,
          6,
          6,
          6,
          6,
          7,
          5,
          6,
          6,
          6,
          6,
          7,
          6,
          7,
          7,
          6,
          5,
          8,
          7,
          7,
          6,
          6,
          6,
          7,
          6,
          8,
          9,
          4,
          6,
          8,
          4,
          6,
          6,
          8,
          7,
          6,
          5,
          8,
          7,
          6,
          7,
          6,
          7,
          6,
          4,
          7,
          6,
          8,
          8,
          7,
          6,
          6,
          8,
          6,
          5,
          7,
          6,
          6,
          6,
          6,
          6,
          6,
          7,
          6,
          6,
          8,
          6,
          7,
          8,
          6,
          8,
          8,
          7,
          6,
          6,
          6,
          7,
          6,
          5,
          6,
          6,
          8,
          4,
          7,
          6,
          6,
          8,
          7,
          6,
          6,
          8,
          7,
          7,
          7,
          6,
          6,
          8,
          4,
          6,
          6,
          7,
          7,
          6,
          6,
          6,
          6,
          7,
          8,
          7,
          6,
          6,
          7,
          8,
          6,
          6,
          6,
          8,
          6,
          6,
          7,
          4,
          6,
          6,
          8,
          6,
          6,
          7,
          7,
          7,
          7,
          10,
          7,
          6,
          6,
          6,
          7,
          7,
          6,
          6,
          8,
          6,
          8,
          6,
          8,
          6,
          7,
          7,
          8,
          6,
          6,
          7,
          6,
          6,
          7,
          5,
          7,
          5,
          6,
          7,
          8,
          6,
          8,
          6,
          6,
          7,
          5,
          6,
          6,
          5,
          6,
          6,
          6,
          6,
          6,
          7,
          5,
          6,
          6,
          7,
          6,
          7,
          6,
          6,
          6,
          7,
          7,
          8,
          6,
          6,
          4,
          6,
          8,
          6,
          6,
          6,
          6,
          6,
          6,
          5,
          7,
          7,
          8,
          7,
          8,
          7,
          7,
          7,
          8,
          7,
          6,
          7,
          7,
          6,
          6,
          7,
          4,
          7,
          5,
          7,
          7,
          6,
          7,
          7,
          6,
          11,
          8,
          8,
          6,
          8,
          5,
          6,
          6,
          8,
          7,
          7,
          7,
          4,
          7,
          8,
          8,
          5,
          5,
          6,
          7,
          8,
          5,
          8,
          7,
          9,
          7,
          10,
          6,
          6,
          7,
          8,
          6,
          5,
          7,
          8,
          8,
          7,
          8,
          7,
          11,
          5,
          6,
          6,
          6,
          11,
          6,
          5,
          7,
          8,
          8,
          7,
          8,
          8,
          8,
          7,
          4,
          6,
          6,
          6,
          5,
          7,
          7,
          8,
          6,
          6,
          5,
          7,
          8,
          8,
          7,
          7,
          7,
          8,
          7,
          6,
          5,
          8,
          6,
          7,
          7,
          6,
          9,
          7,
          6,
          7,
          6,
          7,
          5,
          7,
          7,
          6,
          4,
          7,
          7,
          7,
          7,
          7,
          9,
          7,
          6,
          5,
          6,
          8,
          7,
          7,
          7,
          6,
          7,
          8,
          8,
          7,
          8,
          6,
          6,
          8,
          4,
          5,
          8,
          6,
          4,
          8,
          6,
          6,
          5,
          5,
          7,
          7,
          8,
          8,
          7,
          7,
          6,
          6,
          6,
          5,
          4,
          5,
          6,
          7,
          8,
          7,
          6,
          8,
          7,
          7,
          6,
          6,
          7,
          8,
          7,
          7,
          7,
          6,
          7,
          7,
          4,
          5,
          6,
          5,
          8,
          7,
          7,
          5,
          7,
          7,
          8,
          6,
          6,
          6,
          6,
          6,
          7,
          7,
          7,
          6,
          6,
          7,
          7,
          6,
          7,
          7,
          8,
          7,
          7,
          6,
          9,
          6,
          7,
          5,
          7,
          7,
          8,
          7,
          7,
          6,
          8,
          7,
          8,
          6,
          8,
          7,
          8,
          8,
          8,
          7,
          5,
          6,
          6,
          6,
          6,
          6,
          7,
          6,
          4,
          7,
          7,
          7,
          7,
          6,
          8,
          5,
          6,
          6,
          7,
          6,
          5,
          8,
          6,
          6,
          7,
          8,
          6,
          7,
          6,
          7,
          6,
          6,
          7,
          6,
          6,
          7,
          8,
          7
         ],
         "xaxis": "x2",
         "yaxis": "y2"
        }
       ],
       "layout": {
        "autosize": true,
        "barmode": "relative",
        "legend": {
         "tracegroupgap": 0
        },
        "template": {
         "data": {
          "bar": [
           {
            "error_x": {
             "color": "#2a3f5f"
            },
            "error_y": {
             "color": "#2a3f5f"
            },
            "marker": {
             "line": {
              "color": "#E5ECF6",
              "width": 0.5
             },
             "pattern": {
              "fillmode": "overlay",
              "size": 10,
              "solidity": 0.2
             }
            },
            "type": "bar"
           }
          ],
          "barpolar": [
           {
            "marker": {
             "line": {
              "color": "#E5ECF6",
              "width": 0.5
             },
             "pattern": {
              "fillmode": "overlay",
              "size": 10,
              "solidity": 0.2
             }
            },
            "type": "barpolar"
           }
          ],
          "carpet": [
           {
            "aaxis": {
             "endlinecolor": "#2a3f5f",
             "gridcolor": "white",
             "linecolor": "white",
             "minorgridcolor": "white",
             "startlinecolor": "#2a3f5f"
            },
            "baxis": {
             "endlinecolor": "#2a3f5f",
             "gridcolor": "white",
             "linecolor": "white",
             "minorgridcolor": "white",
             "startlinecolor": "#2a3f5f"
            },
            "type": "carpet"
           }
          ],
          "choropleth": [
           {
            "colorbar": {
             "outlinewidth": 0,
             "ticks": ""
            },
            "type": "choropleth"
           }
          ],
          "contour": [
           {
            "colorbar": {
             "outlinewidth": 0,
             "ticks": ""
            },
            "colorscale": [
             [
              0,
              "#0d0887"
             ],
             [
              0.1111111111111111,
              "#46039f"
             ],
             [
              0.2222222222222222,
              "#7201a8"
             ],
             [
              0.3333333333333333,
              "#9c179e"
             ],
             [
              0.4444444444444444,
              "#bd3786"
             ],
             [
              0.5555555555555556,
              "#d8576b"
             ],
             [
              0.6666666666666666,
              "#ed7953"
             ],
             [
              0.7777777777777778,
              "#fb9f3a"
             ],
             [
              0.8888888888888888,
              "#fdca26"
             ],
             [
              1,
              "#f0f921"
             ]
            ],
            "type": "contour"
           }
          ],
          "contourcarpet": [
           {
            "colorbar": {
             "outlinewidth": 0,
             "ticks": ""
            },
            "type": "contourcarpet"
           }
          ],
          "heatmap": [
           {
            "colorbar": {
             "outlinewidth": 0,
             "ticks": ""
            },
            "colorscale": [
             [
              0,
              "#0d0887"
             ],
             [
              0.1111111111111111,
              "#46039f"
             ],
             [
              0.2222222222222222,
              "#7201a8"
             ],
             [
              0.3333333333333333,
              "#9c179e"
             ],
             [
              0.4444444444444444,
              "#bd3786"
             ],
             [
              0.5555555555555556,
              "#d8576b"
             ],
             [
              0.6666666666666666,
              "#ed7953"
             ],
             [
              0.7777777777777778,
              "#fb9f3a"
             ],
             [
              0.8888888888888888,
              "#fdca26"
             ],
             [
              1,
              "#f0f921"
             ]
            ],
            "type": "heatmap"
           }
          ],
          "heatmapgl": [
           {
            "colorbar": {
             "outlinewidth": 0,
             "ticks": ""
            },
            "colorscale": [
             [
              0,
              "#0d0887"
             ],
             [
              0.1111111111111111,
              "#46039f"
             ],
             [
              0.2222222222222222,
              "#7201a8"
             ],
             [
              0.3333333333333333,
              "#9c179e"
             ],
             [
              0.4444444444444444,
              "#bd3786"
             ],
             [
              0.5555555555555556,
              "#d8576b"
             ],
             [
              0.6666666666666666,
              "#ed7953"
             ],
             [
              0.7777777777777778,
              "#fb9f3a"
             ],
             [
              0.8888888888888888,
              "#fdca26"
             ],
             [
              1,
              "#f0f921"
             ]
            ],
            "type": "heatmapgl"
           }
          ],
          "histogram": [
           {
            "marker": {
             "pattern": {
              "fillmode": "overlay",
              "size": 10,
              "solidity": 0.2
             }
            },
            "type": "histogram"
           }
          ],
          "histogram2d": [
           {
            "colorbar": {
             "outlinewidth": 0,
             "ticks": ""
            },
            "colorscale": [
             [
              0,
              "#0d0887"
             ],
             [
              0.1111111111111111,
              "#46039f"
             ],
             [
              0.2222222222222222,
              "#7201a8"
             ],
             [
              0.3333333333333333,
              "#9c179e"
             ],
             [
              0.4444444444444444,
              "#bd3786"
             ],
             [
              0.5555555555555556,
              "#d8576b"
             ],
             [
              0.6666666666666666,
              "#ed7953"
             ],
             [
              0.7777777777777778,
              "#fb9f3a"
             ],
             [
              0.8888888888888888,
              "#fdca26"
             ],
             [
              1,
              "#f0f921"
             ]
            ],
            "type": "histogram2d"
           }
          ],
          "histogram2dcontour": [
           {
            "colorbar": {
             "outlinewidth": 0,
             "ticks": ""
            },
            "colorscale": [
             [
              0,
              "#0d0887"
             ],
             [
              0.1111111111111111,
              "#46039f"
             ],
             [
              0.2222222222222222,
              "#7201a8"
             ],
             [
              0.3333333333333333,
              "#9c179e"
             ],
             [
              0.4444444444444444,
              "#bd3786"
             ],
             [
              0.5555555555555556,
              "#d8576b"
             ],
             [
              0.6666666666666666,
              "#ed7953"
             ],
             [
              0.7777777777777778,
              "#fb9f3a"
             ],
             [
              0.8888888888888888,
              "#fdca26"
             ],
             [
              1,
              "#f0f921"
             ]
            ],
            "type": "histogram2dcontour"
           }
          ],
          "mesh3d": [
           {
            "colorbar": {
             "outlinewidth": 0,
             "ticks": ""
            },
            "type": "mesh3d"
           }
          ],
          "parcoords": [
           {
            "line": {
             "colorbar": {
              "outlinewidth": 0,
              "ticks": ""
             }
            },
            "type": "parcoords"
           }
          ],
          "pie": [
           {
            "automargin": true,
            "type": "pie"
           }
          ],
          "scatter": [
           {
            "fillpattern": {
             "fillmode": "overlay",
             "size": 10,
             "solidity": 0.2
            },
            "type": "scatter"
           }
          ],
          "scatter3d": [
           {
            "line": {
             "colorbar": {
              "outlinewidth": 0,
              "ticks": ""
             }
            },
            "marker": {
             "colorbar": {
              "outlinewidth": 0,
              "ticks": ""
             }
            },
            "type": "scatter3d"
           }
          ],
          "scattercarpet": [
           {
            "marker": {
             "colorbar": {
              "outlinewidth": 0,
              "ticks": ""
             }
            },
            "type": "scattercarpet"
           }
          ],
          "scattergeo": [
           {
            "marker": {
             "colorbar": {
              "outlinewidth": 0,
              "ticks": ""
             }
            },
            "type": "scattergeo"
           }
          ],
          "scattergl": [
           {
            "marker": {
             "colorbar": {
              "outlinewidth": 0,
              "ticks": ""
             }
            },
            "type": "scattergl"
           }
          ],
          "scattermapbox": [
           {
            "marker": {
             "colorbar": {
              "outlinewidth": 0,
              "ticks": ""
             }
            },
            "type": "scattermapbox"
           }
          ],
          "scatterpolar": [
           {
            "marker": {
             "colorbar": {
              "outlinewidth": 0,
              "ticks": ""
             }
            },
            "type": "scatterpolar"
           }
          ],
          "scatterpolargl": [
           {
            "marker": {
             "colorbar": {
              "outlinewidth": 0,
              "ticks": ""
             }
            },
            "type": "scatterpolargl"
           }
          ],
          "scatterternary": [
           {
            "marker": {
             "colorbar": {
              "outlinewidth": 0,
              "ticks": ""
             }
            },
            "type": "scatterternary"
           }
          ],
          "surface": [
           {
            "colorbar": {
             "outlinewidth": 0,
             "ticks": ""
            },
            "colorscale": [
             [
              0,
              "#0d0887"
             ],
             [
              0.1111111111111111,
              "#46039f"
             ],
             [
              0.2222222222222222,
              "#7201a8"
             ],
             [
              0.3333333333333333,
              "#9c179e"
             ],
             [
              0.4444444444444444,
              "#bd3786"
             ],
             [
              0.5555555555555556,
              "#d8576b"
             ],
             [
              0.6666666666666666,
              "#ed7953"
             ],
             [
              0.7777777777777778,
              "#fb9f3a"
             ],
             [
              0.8888888888888888,
              "#fdca26"
             ],
             [
              1,
              "#f0f921"
             ]
            ],
            "type": "surface"
           }
          ],
          "table": [
           {
            "cells": {
             "fill": {
              "color": "#EBF0F8"
             },
             "line": {
              "color": "white"
             }
            },
            "header": {
             "fill": {
              "color": "#C8D4E3"
             },
             "line": {
              "color": "white"
             }
            },
            "type": "table"
           }
          ]
         },
         "layout": {
          "annotationdefaults": {
           "arrowcolor": "#2a3f5f",
           "arrowhead": 0,
           "arrowwidth": 1
          },
          "autotypenumbers": "strict",
          "coloraxis": {
           "colorbar": {
            "outlinewidth": 0,
            "ticks": ""
           }
          },
          "colorscale": {
           "diverging": [
            [
             0,
             "#8e0152"
            ],
            [
             0.1,
             "#c51b7d"
            ],
            [
             0.2,
             "#de77ae"
            ],
            [
             0.3,
             "#f1b6da"
            ],
            [
             0.4,
             "#fde0ef"
            ],
            [
             0.5,
             "#f7f7f7"
            ],
            [
             0.6,
             "#e6f5d0"
            ],
            [
             0.7,
             "#b8e186"
            ],
            [
             0.8,
             "#7fbc41"
            ],
            [
             0.9,
             "#4d9221"
            ],
            [
             1,
             "#276419"
            ]
           ],
           "sequential": [
            [
             0,
             "#0d0887"
            ],
            [
             0.1111111111111111,
             "#46039f"
            ],
            [
             0.2222222222222222,
             "#7201a8"
            ],
            [
             0.3333333333333333,
             "#9c179e"
            ],
            [
             0.4444444444444444,
             "#bd3786"
            ],
            [
             0.5555555555555556,
             "#d8576b"
            ],
            [
             0.6666666666666666,
             "#ed7953"
            ],
            [
             0.7777777777777778,
             "#fb9f3a"
            ],
            [
             0.8888888888888888,
             "#fdca26"
            ],
            [
             1,
             "#f0f921"
            ]
           ],
           "sequentialminus": [
            [
             0,
             "#0d0887"
            ],
            [
             0.1111111111111111,
             "#46039f"
            ],
            [
             0.2222222222222222,
             "#7201a8"
            ],
            [
             0.3333333333333333,
             "#9c179e"
            ],
            [
             0.4444444444444444,
             "#bd3786"
            ],
            [
             0.5555555555555556,
             "#d8576b"
            ],
            [
             0.6666666666666666,
             "#ed7953"
            ],
            [
             0.7777777777777778,
             "#fb9f3a"
            ],
            [
             0.8888888888888888,
             "#fdca26"
            ],
            [
             1,
             "#f0f921"
            ]
           ]
          },
          "colorway": [
           "#636efa",
           "#EF553B",
           "#00cc96",
           "#ab63fa",
           "#FFA15A",
           "#19d3f3",
           "#FF6692",
           "#B6E880",
           "#FF97FF",
           "#FECB52"
          ],
          "font": {
           "color": "#2a3f5f"
          },
          "geo": {
           "bgcolor": "white",
           "lakecolor": "white",
           "landcolor": "#E5ECF6",
           "showlakes": true,
           "showland": true,
           "subunitcolor": "white"
          },
          "hoverlabel": {
           "align": "left"
          },
          "hovermode": "closest",
          "mapbox": {
           "style": "light"
          },
          "paper_bgcolor": "white",
          "plot_bgcolor": "#E5ECF6",
          "polar": {
           "angularaxis": {
            "gridcolor": "white",
            "linecolor": "white",
            "ticks": ""
           },
           "bgcolor": "#E5ECF6",
           "radialaxis": {
            "gridcolor": "white",
            "linecolor": "white",
            "ticks": ""
           }
          },
          "scene": {
           "xaxis": {
            "backgroundcolor": "#E5ECF6",
            "gridcolor": "white",
            "gridwidth": 2,
            "linecolor": "white",
            "showbackground": true,
            "ticks": "",
            "zerolinecolor": "white"
           },
           "yaxis": {
            "backgroundcolor": "#E5ECF6",
            "gridcolor": "white",
            "gridwidth": 2,
            "linecolor": "white",
            "showbackground": true,
            "ticks": "",
            "zerolinecolor": "white"
           },
           "zaxis": {
            "backgroundcolor": "#E5ECF6",
            "gridcolor": "white",
            "gridwidth": 2,
            "linecolor": "white",
            "showbackground": true,
            "ticks": "",
            "zerolinecolor": "white"
           }
          },
          "shapedefaults": {
           "line": {
            "color": "#2a3f5f"
           }
          },
          "ternary": {
           "aaxis": {
            "gridcolor": "white",
            "linecolor": "white",
            "ticks": ""
           },
           "baxis": {
            "gridcolor": "white",
            "linecolor": "white",
            "ticks": ""
           },
           "bgcolor": "#E5ECF6",
           "caxis": {
            "gridcolor": "white",
            "linecolor": "white",
            "ticks": ""
           }
          },
          "title": {
           "x": 0.05
          },
          "xaxis": {
           "automargin": true,
           "gridcolor": "white",
           "linecolor": "white",
           "ticks": "",
           "title": {
            "standoff": 15
           },
           "zerolinecolor": "white",
           "zerolinewidth": 2
          },
          "yaxis": {
           "automargin": true,
           "gridcolor": "white",
           "linecolor": "white",
           "ticks": "",
           "title": {
            "standoff": 15
           },
           "zerolinecolor": "white",
           "zerolinewidth": 2
          }
         }
        },
        "title": {
         "text": "Distribution of Defenders in the Box by Plays for the 49ers"
        },
        "xaxis": {
         "anchor": "y",
         "autorange": true,
         "domain": [
          0,
          1
         ],
         "range": [
          2.5,
          11.5
         ],
         "title": {
          "text": "defendersInTheBox"
         },
         "type": "linear"
        },
        "xaxis2": {
         "anchor": "y2",
         "autorange": true,
         "domain": [
          0,
          1
         ],
         "matches": "x",
         "range": [
          2.5,
          11.5
         ],
         "showgrid": true,
         "showticklabels": false,
         "type": "linear"
        },
        "yaxis": {
         "anchor": "x",
         "autorange": true,
         "domain": [
          0,
          0.8316
         ],
         "range": [
          0,
          281.0526315789474
         ],
         "title": {
          "text": "count"
         }
        },
        "yaxis2": {
         "anchor": "x2",
         "autorange": true,
         "domain": [
          0.8416,
          1
         ],
         "matches": "y2",
         "range": [
          -0.6175917215428034,
          0.5
         ],
         "showgrid": false,
         "showline": false,
         "showticklabels": false,
         "ticks": "",
         "type": "category"
        }
       }
      },
      "image/png": "[encoded data removed]",
      "text/html": [
       "<div>                            <div id=\"ac3b4c26-9f52-4201-a3c3-ffe233e59508\" class=\"plotly-graph-div\" style=\"height:525px; width:100%;\"></div>            <script type=\"text/javascript\">                require([\"plotly\"], function(Plotly) {                    window.PLOTLYENV=window.PLOTLYENV || {};                                    if (document.getElementById(\"ac3b4c26-9f52-4201-a3c3-ffe233e59508\")) {                    Plotly.newPlot(                        \"ac3b4c26-9f52-4201-a3c3-ffe233e59508\",                        [{\"alignmentgroup\":\"True\",\"bingroup\":\"x\",\"hovertemplate\":\"defendersInTheBox=%{x}\\u003cbr\\u003ecount=%{y}\\u003cextra\\u003e\\u003c\\u002fextra\\u003e\",\"legendgroup\":\"\",\"marker\":{\"color\":\"rgb(133, 92, 117)\",\"pattern\":{\"shape\":\"\"}},\"name\":\"\",\"offsetgroup\":\"\",\"orientation\":\"v\",\"showlegend\":false,\"x\":[7.0,6.0,6.0,5.0,7.0,6.0,8.0,7.0,8.0,6.0,4.0,6.0,7.0,7.0,6.0,7.0,5.0,6.0,8.0,7.0,5.0,7.0,6.0,8.0,7.0,7.0,8.0,6.0,7.0,7.0,8.0,7.0,7.0,7.0,7.0,6.0,7.0,6.0,7.0,6.0,8.0,7.0,8.0,8.0,8.0,6.0,7.0,6.0,7.0,6.0,6.0,6.0,8.0,6.0,6.0,6.0,5.0,7.0,7.0,7.0,6.0,3.0,5.0,5.0,6.0,9.0,6.0,7.0,8.0,7.0,6.0,6.0,7.0,5.0,6.0,6.0,6.0,6.0,6.0,7.0,6.0,8.0,7.0,6.0,7.0,5.0,7.0,8.0,7.0,6.0,6.0,7.0,6.0,6.0,7.0,6.0,6.0,5.0,6.0,6.0,7.0,7.0,7.0,6.0,8.0,6.0,6.0,7.0,7.0,6.0,4.0,7.0,6.0,6.0,8.0,6.0,6.0,9.0,7.0,6.0,6.0,8.0,6.0,6.0,8.0,4.0,6.0,6.0,6.0,7.0,8.0,6.0,8.0,7.0,6.0,5.0,8.0,8.0,7.0,6.0,6.0,7.0,6.0,5.0,7.0,6.0,7.0,8.0,4.0,5.0,6.0,6.0,6.0,6.0,6.0,6.0,7.0,7.0,7.0,6.0,6.0,6.0,6.0,8.0,7.0,6.0,8.0,5.0,8.0,6.0,7.0,5.0,5.0,6.0,6.0,6.0,8.0,7.0,6.0,6.0,8.0,7.0,8.0,6.0,7.0,6.0,6.0,6.0,5.0,6.0,8.0,6.0,7.0,7.0,6.0,6.0,7.0,7.0,6.0,6.0,7.0,8.0,4.0,8.0,8.0,7.0,6.0,6.0,7.0,7.0,4.0,8.0,6.0,6.0,6.0,6.0,6.0,7.0,5.0,6.0,6.0,6.0,6.0,7.0,6.0,7.0,7.0,6.0,5.0,8.0,7.0,7.0,6.0,6.0,6.0,7.0,6.0,8.0,9.0,4.0,6.0,8.0,4.0,6.0,6.0,8.0,7.0,6.0,5.0,8.0,7.0,6.0,7.0,6.0,7.0,6.0,4.0,7.0,6.0,8.0,8.0,7.0,6.0,6.0,8.0,6.0,5.0,7.0,6.0,6.0,6.0,6.0,6.0,6.0,7.0,6.0,6.0,8.0,6.0,7.0,8.0,6.0,8.0,8.0,7.0,6.0,6.0,6.0,7.0,6.0,5.0,6.0,6.0,8.0,4.0,7.0,6.0,6.0,8.0,7.0,6.0,6.0,8.0,7.0,7.0,7.0,6.0,6.0,8.0,4.0,6.0,6.0,7.0,7.0,6.0,6.0,6.0,6.0,7.0,8.0,7.0,6.0,6.0,7.0,8.0,6.0,6.0,6.0,8.0,6.0,6.0,7.0,4.0,6.0,6.0,8.0,6.0,6.0,7.0,7.0,7.0,7.0,10.0,7.0,6.0,6.0,6.0,7.0,7.0,6.0,6.0,8.0,6.0,8.0,6.0,8.0,6.0,7.0,7.0,8.0,6.0,6.0,7.0,6.0,6.0,7.0,5.0,7.0,5.0,6.0,7.0,8.0,6.0,8.0,6.0,6.0,7.0,5.0,6.0,6.0,5.0,6.0,6.0,6.0,6.0,6.0,7.0,5.0,6.0,6.0,7.0,6.0,7.0,6.0,6.0,6.0,7.0,7.0,8.0,6.0,6.0,4.0,6.0,8.0,6.0,6.0,6.0,6.0,6.0,6.0,5.0,7.0,7.0,8.0,7.0,8.0,7.0,7.0,7.0,8.0,7.0,6.0,7.0,7.0,6.0,6.0,7.0,4.0,7.0,5.0,7.0,7.0,6.0,7.0,7.0,6.0,11.0,8.0,8.0,6.0,8.0,5.0,6.0,6.0,8.0,7.0,7.0,7.0,4.0,7.0,8.0,8.0,5.0,5.0,6.0,7.0,8.0,5.0,8.0,7.0,9.0,7.0,10.0,6.0,6.0,7.0,8.0,6.0,5.0,7.0,8.0,8.0,7.0,8.0,7.0,11.0,5.0,6.0,6.0,6.0,11.0,6.0,5.0,7.0,8.0,8.0,7.0,8.0,8.0,8.0,7.0,4.0,6.0,6.0,6.0,5.0,7.0,7.0,8.0,6.0,6.0,5.0,7.0,8.0,8.0,7.0,7.0,7.0,8.0,7.0,6.0,5.0,8.0,6.0,7.0,7.0,6.0,9.0,7.0,6.0,7.0,6.0,7.0,5.0,7.0,7.0,6.0,4.0,7.0,7.0,7.0,7.0,7.0,9.0,7.0,6.0,5.0,6.0,8.0,7.0,7.0,7.0,6.0,7.0,8.0,8.0,7.0,8.0,6.0,6.0,8.0,4.0,5.0,8.0,6.0,4.0,8.0,6.0,6.0,5.0,5.0,7.0,7.0,8.0,8.0,7.0,7.0,6.0,6.0,6.0,5.0,4.0,5.0,6.0,7.0,8.0,7.0,6.0,8.0,7.0,7.0,6.0,6.0,7.0,8.0,7.0,7.0,7.0,6.0,7.0,7.0,4.0,5.0,6.0,5.0,8.0,7.0,7.0,5.0,7.0,7.0,8.0,6.0,6.0,6.0,6.0,6.0,7.0,7.0,7.0,6.0,6.0,7.0,7.0,6.0,7.0,7.0,8.0,7.0,7.0,6.0,9.0,6.0,7.0,5.0,7.0,7.0,8.0,7.0,7.0,6.0,8.0,7.0,8.0,6.0,8.0,7.0,8.0,8.0,8.0,7.0,5.0,6.0,6.0,6.0,6.0,6.0,7.0,6.0,4.0,7.0,7.0,7.0,7.0,6.0,8.0,5.0,6.0,6.0,7.0,6.0,5.0,8.0,6.0,6.0,7.0,8.0,6.0,7.0,6.0,7.0,6.0,6.0,7.0,6.0,6.0,7.0,8.0,7.0],\"xaxis\":\"x\",\"yaxis\":\"y\",\"type\":\"histogram\"},{\"alignmentgroup\":\"True\",\"boxpoints\":\"all\",\"fillcolor\":\"rgba(255,255,255,0)\",\"hoveron\":\"points\",\"hovertemplate\":\"defendersInTheBox=%{x}\\u003cextra\\u003e\\u003c\\u002fextra\\u003e\",\"jitter\":0,\"legendgroup\":\"\",\"line\":{\"color\":\"rgba(255,255,255,0)\"},\"marker\":{\"color\":\"rgb(133, 92, 117)\",\"symbol\":\"line-ns-open\"},\"name\":\"\",\"offsetgroup\":\"\",\"showlegend\":false,\"x\":[7.0,6.0,6.0,5.0,7.0,6.0,8.0,7.0,8.0,6.0,4.0,6.0,7.0,7.0,6.0,7.0,5.0,6.0,8.0,7.0,5.0,7.0,6.0,8.0,7.0,7.0,8.0,6.0,7.0,7.0,8.0,7.0,7.0,7.0,7.0,6.0,7.0,6.0,7.0,6.0,8.0,7.0,8.0,8.0,8.0,6.0,7.0,6.0,7.0,6.0,6.0,6.0,8.0,6.0,6.0,6.0,5.0,7.0,7.0,7.0,6.0,3.0,5.0,5.0,6.0,9.0,6.0,7.0,8.0,7.0,6.0,6.0,7.0,5.0,6.0,6.0,6.0,6.0,6.0,7.0,6.0,8.0,7.0,6.0,7.0,5.0,7.0,8.0,7.0,6.0,6.0,7.0,6.0,6.0,7.0,6.0,6.0,5.0,6.0,6.0,7.0,7.0,7.0,6.0,8.0,6.0,6.0,7.0,7.0,6.0,4.0,7.0,6.0,6.0,8.0,6.0,6.0,9.0,7.0,6.0,6.0,8.0,6.0,6.0,8.0,4.0,6.0,6.0,6.0,7.0,8.0,6.0,8.0,7.0,6.0,5.0,8.0,8.0,7.0,6.0,6.0,7.0,6.0,5.0,7.0,6.0,7.0,8.0,4.0,5.0,6.0,6.0,6.0,6.0,6.0,6.0,7.0,7.0,7.0,6.0,6.0,6.0,6.0,8.0,7.0,6.0,8.0,5.0,8.0,6.0,7.0,5.0,5.0,6.0,6.0,6.0,8.0,7.0,6.0,6.0,8.0,7.0,8.0,6.0,7.0,6.0,6.0,6.0,5.0,6.0,8.0,6.0,7.0,7.0,6.0,6.0,7.0,7.0,6.0,6.0,7.0,8.0,4.0,8.0,8.0,7.0,6.0,6.0,7.0,7.0,4.0,8.0,6.0,6.0,6.0,6.0,6.0,7.0,5.0,6.0,6.0,6.0,6.0,7.0,6.0,7.0,7.0,6.0,5.0,8.0,7.0,7.0,6.0,6.0,6.0,7.0,6.0,8.0,9.0,4.0,6.0,8.0,4.0,6.0,6.0,8.0,7.0,6.0,5.0,8.0,7.0,6.0,7.0,6.0,7.0,6.0,4.0,7.0,6.0,8.0,8.0,7.0,6.0,6.0,8.0,6.0,5.0,7.0,6.0,6.0,6.0,6.0,6.0,6.0,7.0,6.0,6.0,8.0,6.0,7.0,8.0,6.0,8.0,8.0,7.0,6.0,6.0,6.0,7.0,6.0,5.0,6.0,6.0,8.0,4.0,7.0,6.0,6.0,8.0,7.0,6.0,6.0,8.0,7.0,7.0,7.0,6.0,6.0,8.0,4.0,6.0,6.0,7.0,7.0,6.0,6.0,6.0,6.0,7.0,8.0,7.0,6.0,6.0,7.0,8.0,6.0,6.0,6.0,8.0,6.0,6.0,7.0,4.0,6.0,6.0,8.0,6.0,6.0,7.0,7.0,7.0,7.0,10.0,7.0,6.0,6.0,6.0,7.0,7.0,6.0,6.0,8.0,6.0,8.0,6.0,8.0,6.0,7.0,7.0,8.0,6.0,6.0,7.0,6.0,6.0,7.0,5.0,7.0,5.0,6.0,7.0,8.0,6.0,8.0,6.0,6.0,7.0,5.0,6.0,6.0,5.0,6.0,6.0,6.0,6.0,6.0,7.0,5.0,6.0,6.0,7.0,6.0,7.0,6.0,6.0,6.0,7.0,7.0,8.0,6.0,6.0,4.0,6.0,8.0,6.0,6.0,6.0,6.0,6.0,6.0,5.0,7.0,7.0,8.0,7.0,8.0,7.0,7.0,7.0,8.0,7.0,6.0,7.0,7.0,6.0,6.0,7.0,4.0,7.0,5.0,7.0,7.0,6.0,7.0,7.0,6.0,11.0,8.0,8.0,6.0,8.0,5.0,6.0,6.0,8.0,7.0,7.0,7.0,4.0,7.0,8.0,8.0,5.0,5.0,6.0,7.0,8.0,5.0,8.0,7.0,9.0,7.0,10.0,6.0,6.0,7.0,8.0,6.0,5.0,7.0,8.0,8.0,7.0,8.0,7.0,11.0,5.0,6.0,6.0,6.0,11.0,6.0,5.0,7.0,8.0,8.0,7.0,8.0,8.0,8.0,7.0,4.0,6.0,6.0,6.0,5.0,7.0,7.0,8.0,6.0,6.0,5.0,7.0,8.0,8.0,7.0,7.0,7.0,8.0,7.0,6.0,5.0,8.0,6.0,7.0,7.0,6.0,9.0,7.0,6.0,7.0,6.0,7.0,5.0,7.0,7.0,6.0,4.0,7.0,7.0,7.0,7.0,7.0,9.0,7.0,6.0,5.0,6.0,8.0,7.0,7.0,7.0,6.0,7.0,8.0,8.0,7.0,8.0,6.0,6.0,8.0,4.0,5.0,8.0,6.0,4.0,8.0,6.0,6.0,5.0,5.0,7.0,7.0,8.0,8.0,7.0,7.0,6.0,6.0,6.0,5.0,4.0,5.0,6.0,7.0,8.0,7.0,6.0,8.0,7.0,7.0,6.0,6.0,7.0,8.0,7.0,7.0,7.0,6.0,7.0,7.0,4.0,5.0,6.0,5.0,8.0,7.0,7.0,5.0,7.0,7.0,8.0,6.0,6.0,6.0,6.0,6.0,7.0,7.0,7.0,6.0,6.0,7.0,7.0,6.0,7.0,7.0,8.0,7.0,7.0,6.0,9.0,6.0,7.0,5.0,7.0,7.0,8.0,7.0,7.0,6.0,8.0,7.0,8.0,6.0,8.0,7.0,8.0,8.0,8.0,7.0,5.0,6.0,6.0,6.0,6.0,6.0,7.0,6.0,4.0,7.0,7.0,7.0,7.0,6.0,8.0,5.0,6.0,6.0,7.0,6.0,5.0,8.0,6.0,6.0,7.0,8.0,6.0,7.0,6.0,7.0,6.0,6.0,7.0,6.0,6.0,7.0,8.0,7.0],\"xaxis\":\"x2\",\"yaxis\":\"y2\",\"type\":\"box\"}],                        {\"template\":{\"data\":{\"histogram2dcontour\":[{\"type\":\"histogram2dcontour\",\"colorbar\":{\"outlinewidth\":0,\"ticks\":\"\"},\"colorscale\":[[0.0,\"#0d0887\"],[0.1111111111111111,\"#46039f\"],[0.2222222222222222,\"#7201a8\"],[0.3333333333333333,\"#9c179e\"],[0.4444444444444444,\"#bd3786\"],[0.5555555555555556,\"#d8576b\"],[0.6666666666666666,\"#ed7953\"],[0.7777777777777778,\"#fb9f3a\"],[0.8888888888888888,\"#fdca26\"],[1.0,\"#f0f921\"]]}],\"choropleth\":[{\"type\":\"choropleth\",\"colorbar\":{\"outlinewidth\":0,\"ticks\":\"\"}}],\"histogram2d\":[{\"type\":\"histogram2d\",\"colorbar\":{\"outlinewidth\":0,\"ticks\":\"\"},\"colorscale\":[[0.0,\"#0d0887\"],[0.1111111111111111,\"#46039f\"],[0.2222222222222222,\"#7201a8\"],[0.3333333333333333,\"#9c179e\"],[0.4444444444444444,\"#bd3786\"],[0.5555555555555556,\"#d8576b\"],[0.6666666666666666,\"#ed7953\"],[0.7777777777777778,\"#fb9f3a\"],[0.8888888888888888,\"#fdca26\"],[1.0,\"#f0f921\"]]}],\"heatmap\":[{\"type\":\"heatmap\",\"colorbar\":{\"outlinewidth\":0,\"ticks\":\"\"},\"colorscale\":[[0.0,\"#0d0887\"],[0.1111111111111111,\"#46039f\"],[0.2222222222222222,\"#7201a8\"],[0.3333333333333333,\"#9c179e\"],[0.4444444444444444,\"#bd3786\"],[0.5555555555555556,\"#d8576b\"],[0.6666666666666666,\"#ed7953\"],[0.7777777777777778,\"#fb9f3a\"],[0.8888888888888888,\"#fdca26\"],[1.0,\"#f0f921\"]]}],\"heatmapgl\":[{\"type\":\"heatmapgl\",\"colorbar\":{\"outlinewidth\":0,\"ticks\":\"\"},\"colorscale\":[[0.0,\"#0d0887\"],[0.1111111111111111,\"#46039f\"],[0.2222222222222222,\"#7201a8\"],[0.3333333333333333,\"#9c179e\"],[0.4444444444444444,\"#bd3786\"],[0.5555555555555556,\"#d8576b\"],[0.6666666666666666,\"#ed7953\"],[0.7777777777777778,\"#fb9f3a\"],[0.8888888888888888,\"#fdca26\"],[1.0,\"#f0f921\"]]}],\"contourcarpet\":[{\"type\":\"contourcarpet\",\"colorbar\":{\"outlinewidth\":0,\"ticks\":\"\"}}],\"contour\":[{\"type\":\"contour\",\"colorbar\":{\"outlinewidth\":0,\"ticks\":\"\"},\"colorscale\":[[0.0,\"#0d0887\"],[0.1111111111111111,\"#46039f\"],[0.2222222222222222,\"#7201a8\"],[0.3333333333333333,\"#9c179e\"],[0.4444444444444444,\"#bd3786\"],[0.5555555555555556,\"#d8576b\"],[0.6666666666666666,\"#ed7953\"],[0.7777777777777778,\"#fb9f3a\"],[0.8888888888888888,\"#fdca26\"],[1.0,\"#f0f921\"]]}],\"surface\":[{\"type\":\"surface\",\"colorbar\":{\"outlinewidth\":0,\"ticks\":\"\"},\"colorscale\":[[0.0,\"#0d0887\"],[0.1111111111111111,\"#46039f\"],[0.2222222222222222,\"#7201a8\"],[0.3333333333333333,\"#9c179e\"],[0.4444444444444444,\"#bd3786\"],[0.5555555555555556,\"#d8576b\"],[0.6666666666666666,\"#ed7953\"],[0.7777777777777778,\"#fb9f3a\"],[0.8888888888888888,\"#fdca26\"],[1.0,\"#f0f921\"]]}],\"mesh3d\":[{\"type\":\"mesh3d\",\"colorbar\":{\"outlinewidth\":0,\"ticks\":\"\"}}],\"scatter\":[{\"fillpattern\":{\"fillmode\":\"overlay\",\"size\":10,\"solidity\":0.2},\"type\":\"scatter\"}],\"parcoords\":[{\"type\":\"parcoords\",\"line\":{\"colorbar\":{\"outlinewidth\":0,\"ticks\":\"\"}}}],\"scatterpolargl\":[{\"type\":\"scatterpolargl\",\"marker\":{\"colorbar\":{\"outlinewidth\":0,\"ticks\":\"\"}}}],\"bar\":[{\"error_x\":{\"color\":\"#2a3f5f\"},\"error_y\":{\"color\":\"#2a3f5f\"},\"marker\":{\"line\":{\"color\":\"#E5ECF6\",\"width\":0.5},\"pattern\":{\"fillmode\":\"overlay\",\"size\":10,\"solidity\":0.2}},\"type\":\"bar\"}],\"scattergeo\":[{\"type\":\"scattergeo\",\"marker\":{\"colorbar\":{\"outlinewidth\":0,\"ticks\":\"\"}}}],\"scatterpolar\":[{\"type\":\"scatterpolar\",\"marker\":{\"colorbar\":{\"outlinewidth\":0,\"ticks\":\"\"}}}],\"histogram\":[{\"marker\":{\"pattern\":{\"fillmode\":\"overlay\",\"size\":10,\"solidity\":0.2}},\"type\":\"histogram\"}],\"scattergl\":[{\"type\":\"scattergl\",\"marker\":{\"colorbar\":{\"outlinewidth\":0,\"ticks\":\"\"}}}],\"scatter3d\":[{\"type\":\"scatter3d\",\"line\":{\"colorbar\":{\"outlinewidth\":0,\"ticks\":\"\"}},\"marker\":{\"colorbar\":{\"outlinewidth\":0,\"ticks\":\"\"}}}],\"scattermapbox\":[{\"type\":\"scattermapbox\",\"marker\":{\"colorbar\":{\"outlinewidth\":0,\"ticks\":\"\"}}}],\"scatterternary\":[{\"type\":\"scatterternary\",\"marker\":{\"colorbar\":{\"outlinewidth\":0,\"ticks\":\"\"}}}],\"scattercarpet\":[{\"type\":\"scattercarpet\",\"marker\":{\"colorbar\":{\"outlinewidth\":0,\"ticks\":\"\"}}}],\"carpet\":[{\"aaxis\":{\"endlinecolor\":\"#2a3f5f\",\"gridcolor\":\"white\",\"linecolor\":\"white\",\"minorgridcolor\":\"white\",\"startlinecolor\":\"#2a3f5f\"},\"baxis\":{\"endlinecolor\":\"#2a3f5f\",\"gridcolor\":\"white\",\"linecolor\":\"white\",\"minorgridcolor\":\"white\",\"startlinecolor\":\"#2a3f5f\"},\"type\":\"carpet\"}],\"table\":[{\"cells\":{\"fill\":{\"color\":\"#EBF0F8\"},\"line\":{\"color\":\"white\"}},\"header\":{\"fill\":{\"color\":\"#C8D4E3\"},\"line\":{\"color\":\"white\"}},\"type\":\"table\"}],\"barpolar\":[{\"marker\":{\"line\":{\"color\":\"#E5ECF6\",\"width\":0.5},\"pattern\":{\"fillmode\":\"overlay\",\"size\":10,\"solidity\":0.2}},\"type\":\"barpolar\"}],\"pie\":[{\"automargin\":true,\"type\":\"pie\"}]},\"layout\":{\"autotypenumbers\":\"strict\",\"colorway\":[\"#636efa\",\"#EF553B\",\"#00cc96\",\"#ab63fa\",\"#FFA15A\",\"#19d3f3\",\"#FF6692\",\"#B6E880\",\"#FF97FF\",\"#FECB52\"],\"font\":{\"color\":\"#2a3f5f\"},\"hovermode\":\"closest\",\"hoverlabel\":{\"align\":\"left\"},\"paper_bgcolor\":\"white\",\"plot_bgcolor\":\"#E5ECF6\",\"polar\":{\"bgcolor\":\"#E5ECF6\",\"angularaxis\":{\"gridcolor\":\"white\",\"linecolor\":\"white\",\"ticks\":\"\"},\"radialaxis\":{\"gridcolor\":\"white\",\"linecolor\":\"white\",\"ticks\":\"\"}},\"ternary\":{\"bgcolor\":\"#E5ECF6\",\"aaxis\":{\"gridcolor\":\"white\",\"linecolor\":\"white\",\"ticks\":\"\"},\"baxis\":{\"gridcolor\":\"white\",\"linecolor\":\"white\",\"ticks\":\"\"},\"caxis\":{\"gridcolor\":\"white\",\"linecolor\":\"white\",\"ticks\":\"\"}},\"coloraxis\":{\"colorbar\":{\"outlinewidth\":0,\"ticks\":\"\"}},\"colorscale\":{\"sequential\":[[0.0,\"#0d0887\"],[0.1111111111111111,\"#46039f\"],[0.2222222222222222,\"#7201a8\"],[0.3333333333333333,\"#9c179e\"],[0.4444444444444444,\"#bd3786\"],[0.5555555555555556,\"#d8576b\"],[0.6666666666666666,\"#ed7953\"],[0.7777777777777778,\"#fb9f3a\"],[0.8888888888888888,\"#fdca26\"],[1.0,\"#f0f921\"]],\"sequentialminus\":[[0.0,\"#0d0887\"],[0.1111111111111111,\"#46039f\"],[0.2222222222222222,\"#7201a8\"],[0.3333333333333333,\"#9c179e\"],[0.4444444444444444,\"#bd3786\"],[0.5555555555555556,\"#d8576b\"],[0.6666666666666666,\"#ed7953\"],[0.7777777777777778,\"#fb9f3a\"],[0.8888888888888888,\"#fdca26\"],[1.0,\"#f0f921\"]],\"diverging\":[[0,\"#8e0152\"],[0.1,\"#c51b7d\"],[0.2,\"#de77ae\"],[0.3,\"#f1b6da\"],[0.4,\"#fde0ef\"],[0.5,\"#f7f7f7\"],[0.6,\"#e6f5d0\"],[0.7,\"#b8e186\"],[0.8,\"#7fbc41\"],[0.9,\"#4d9221\"],[1,\"#276419\"]]},\"xaxis\":{\"gridcolor\":\"white\",\"linecolor\":\"white\",\"ticks\":\"\",\"title\":{\"standoff\":15},\"zerolinecolor\":\"white\",\"automargin\":true,\"zerolinewidth\":2},\"yaxis\":{\"gridcolor\":\"white\",\"linecolor\":\"white\",\"ticks\":\"\",\"title\":{\"standoff\":15},\"zerolinecolor\":\"white\",\"automargin\":true,\"zerolinewidth\":2},\"scene\":{\"xaxis\":{\"backgroundcolor\":\"#E5ECF6\",\"gridcolor\":\"white\",\"linecolor\":\"white\",\"showbackground\":true,\"ticks\":\"\",\"zerolinecolor\":\"white\",\"gridwidth\":2},\"yaxis\":{\"backgroundcolor\":\"#E5ECF6\",\"gridcolor\":\"white\",\"linecolor\":\"white\",\"showbackground\":true,\"ticks\":\"\",\"zerolinecolor\":\"white\",\"gridwidth\":2},\"zaxis\":{\"backgroundcolor\":\"#E5ECF6\",\"gridcolor\":\"white\",\"linecolor\":\"white\",\"showbackground\":true,\"ticks\":\"\",\"zerolinecolor\":\"white\",\"gridwidth\":2}},\"shapedefaults\":{\"line\":{\"color\":\"#2a3f5f\"}},\"annotationdefaults\":{\"arrowcolor\":\"#2a3f5f\",\"arrowhead\":0,\"arrowwidth\":1},\"geo\":{\"bgcolor\":\"white\",\"landcolor\":\"#E5ECF6\",\"subunitcolor\":\"white\",\"showland\":true,\"showlakes\":true,\"lakecolor\":\"white\"},\"title\":{\"x\":0.05},\"mapbox\":{\"style\":\"light\"}}},\"xaxis\":{\"anchor\":\"y\",\"domain\":[0.0,1.0],\"title\":{\"text\":\"defendersInTheBox\"}},\"yaxis\":{\"anchor\":\"x\",\"domain\":[0.0,0.8316],\"title\":{\"text\":\"count\"}},\"xaxis2\":{\"anchor\":\"y2\",\"domain\":[0.0,1.0],\"matches\":\"x\",\"showticklabels\":false,\"showgrid\":true},\"yaxis2\":{\"anchor\":\"x2\",\"domain\":[0.8416,1.0],\"matches\":\"y2\",\"showticklabels\":false,\"showline\":false,\"ticks\":\"\",\"showgrid\":false},\"legend\":{\"tracegroupgap\":0},\"title\":{\"text\":\"Distribution of Defenders in the Box by Plays for the 49ers\"},\"barmode\":\"relative\"},                        {\"responsive\": true}                    ).then(function(){\n",
       "                            \n",
       "var gd = document.getElementById('ac3b4c26-9f52-4201-a3c3-ffe233e59508');\n",
       "var x = new MutationObserver(function (mutations, observer) {{\n",
       "        var display = window.getComputedStyle(gd).display;\n",
       "        if (!display || display === 'none') {{\n",
       "            console.log([gd, 'removed!']);\n",
       "            Plotly.purge(gd);\n",
       "            observer.disconnect();\n",
       "        }}\n",
       "}});\n",
       "\n",
       "// Listen for the removal of the full notebook cells\n",
       "var notebookContainer = gd.closest('#notebook-container');\n",
       "if (notebookContainer) {{\n",
       "    x.observe(notebookContainer, {childList: true});\n",
       "}}\n",
       "\n",
       "// Listen for the clearing of the current output cell\n",
       "var outputEl = gd.closest('.output');\n",
       "if (outputEl) {{\n",
       "    x.observe(outputEl, {childList: true});\n",
       "}}\n",
       "\n",
       "                        })                };                });            </script>        </div>"
      ]
     },
     "metadata": {},
     "output_type": "display_data"
    }
   ],
   "source": [
    "sf_play_tackles = play_tackles[(play_tackles['possessionTeam'] == 'SF') | (play_tackles['defensiveTeam'] == 'SF')]\n",
    "\n",
    "# Create the histogram for the filtered data\n",
    "fig = px.histogram(sf_play_tackles, x=\"defendersInTheBox\", marginal=\"rug\",\n",
    "                   title='Distribution of Defenders in the Box by Plays for the 49ers',\n",
    "                   color_discrete_sequence=px.colors.qualitative.Antique)\n",
    "\n",
    "# Display the figure\n",
    "fig.show()"
   ]
  },
  {
   "cell_type": "markdown",
   "id": "1982e5c6-8000-4b78-af4d-f5fb47b08b1a",
   "metadata": {},
   "source": [
    "We can see its distribution to be slightly skewed to the right (with the majority of the plays having it equal to `6` or `7`). With `6` serving as the median for all plays, what about for plays with successful tackles? Let's develop two charts that will illustrate the distribution of defenders near the line of scrimmage for all plays and then those with successful tackles."
   ]
  },
  {
   "cell_type": "code",
   "execution_count": 24,
   "id": "69af7add-f9bb-4716-b6ac-b0b73a69a429",
   "metadata": {
    "scrolled": true
   },
   "outputs": [
    {
     "data": {
      "application/vnd.plotly.v1+json": {
       "config": {
        "plotlyServerURL": "https://plot.ly"
       },
       "data": [
        {
         "alignmentgroup": "True",
         "hovertemplate": "tackles=%{x}<br>defendersInTheBox=%{y}<extra></extra>",
         "legendgroup": "",
         "marker": {
          "color": "rgb(133, 92, 117)"
         },
         "name": "",
         "notched": false,
         "offsetgroup": "",
         "orientation": "v",
         "showlegend": false,
         "type": "box",
         "x": [
          0,
          1,
          1,
          0,
          0,
          0,
          1,
          1,
          1,
          1,
          1,
          1,
          1,
          1,
          1,
          1,
          1,
          -1,
          1,
          1,
          1,
          0,
          1,
          1,
          1,
          1,
          1,
          1,
          1,
          1,
          1,
          1,
          1,
          1,
          0,
          1,
          1,
          1,
          1,
          1,
          0,
          1,
          1,
          1,
          1,
          0,
          0,
          1,
          -1,
          1,
          1,
          1,
          0,
          -1,
          1,
          0,
          1,
          1,
          1,
          1,
          1,
          0,
          1,
          1,
          0,
          1,
          1,
          1,
          1,
          0,
          1,
          1,
          1,
          1,
          1,
          0,
          1,
          1,
          1,
          1,
          1,
          0,
          1,
          1,
          1,
          1,
          1,
          0,
          0,
          0,
          0,
          0,
          1,
          1,
          1,
          1,
          1,
          1,
          1,
          1,
          1,
          1,
          1,
          1,
          1,
          -1,
          1,
          0,
          1,
          0,
          0,
          0,
          1,
          1,
          1,
          1,
          0,
          1,
          0,
          1,
          1,
          0,
          1,
          1,
          1,
          1,
          1,
          1,
          1,
          1,
          1,
          -1,
          0,
          0,
          1,
          1,
          1,
          1,
          1,
          0,
          1,
          1,
          1,
          1,
          1,
          0,
          1,
          1,
          1,
          1,
          1,
          1,
          1,
          0,
          1,
          1,
          1,
          1,
          1,
          1,
          1,
          1,
          1,
          1,
          0,
          0,
          1,
          1,
          0,
          0,
          1,
          1,
          1,
          1,
          1,
          0,
          1,
          1,
          1,
          1,
          1,
          1,
          1,
          1,
          1,
          1,
          1,
          1,
          1,
          1,
          1,
          1,
          1,
          1,
          1,
          1,
          1,
          1,
          1,
          0,
          1,
          0,
          -1,
          1,
          1,
          1,
          1,
          0,
          1,
          1,
          1,
          1,
          1,
          1,
          1,
          -1,
          1,
          1,
          1,
          0,
          1,
          1,
          1,
          1,
          0,
          0,
          0,
          0,
          1,
          1,
          1,
          1,
          1,
          1,
          1,
          1,
          1,
          1,
          1,
          1,
          -1,
          1,
          1,
          1,
          0,
          1,
          1,
          1,
          0,
          1,
          1,
          1,
          1,
          1,
          1,
          0,
          -1,
          -1,
          0,
          1,
          0,
          1,
          1,
          1,
          0,
          -1,
          1,
          0,
          1,
          1,
          -1,
          1,
          1,
          1,
          1,
          0,
          1,
          1,
          1,
          1,
          1,
          1,
          1,
          -1,
          -1,
          1,
          1,
          1,
          1,
          0,
          1,
          1,
          1,
          1,
          1,
          1,
          1,
          1,
          1,
          1,
          1,
          1,
          1,
          1,
          1,
          1,
          1,
          1,
          1,
          1,
          1,
          -1,
          1,
          1,
          1,
          1,
          1,
          0,
          1,
          1,
          1,
          1,
          1,
          1,
          1,
          1,
          1,
          1,
          1,
          1,
          1,
          1,
          1,
          1,
          1,
          0,
          1,
          1,
          1,
          1,
          0,
          1,
          1,
          -1,
          1,
          1,
          1,
          1,
          1,
          1,
          1,
          1,
          1,
          0,
          1,
          1,
          1,
          0,
          0,
          1,
          1,
          1,
          1,
          1,
          0,
          1,
          1,
          1,
          1,
          1,
          1,
          0,
          0,
          1,
          1,
          1,
          1,
          1,
          1,
          1,
          0,
          1,
          1,
          1,
          1,
          1,
          1,
          1,
          1,
          1,
          0,
          1,
          1,
          1,
          0,
          1,
          1,
          1,
          1,
          1,
          1,
          1,
          1,
          1,
          1,
          0,
          1,
          1,
          1,
          1,
          1,
          1,
          1,
          0,
          1,
          1,
          1,
          0,
          1,
          1,
          0,
          0,
          1,
          1,
          0,
          1,
          0,
          1,
          1,
          1,
          1,
          1,
          1,
          1,
          1,
          0,
          1,
          0,
          1,
          1,
          1,
          0,
          1,
          -1,
          0,
          1,
          1,
          1,
          0,
          1,
          1,
          1,
          1,
          1,
          0,
          1,
          1,
          1,
          1,
          1,
          1,
          1,
          1,
          1,
          1,
          1,
          1,
          1,
          0,
          1,
          -1,
          0,
          1,
          1,
          1,
          -1,
          0,
          1,
          0,
          1,
          -1,
          1,
          1,
          1,
          0,
          1,
          0,
          0,
          1,
          1,
          1,
          1,
          0,
          1,
          1,
          1,
          1,
          0,
          1,
          1,
          0,
          1,
          1,
          -1,
          1,
          1,
          1,
          1,
          1,
          1,
          1,
          1,
          1,
          1,
          1,
          1,
          1,
          1,
          1,
          1,
          1,
          1,
          1,
          1,
          1,
          1,
          1,
          1,
          1,
          0,
          1,
          0,
          1,
          -1,
          1,
          1,
          0,
          1,
          1,
          1,
          1,
          1,
          1,
          1,
          1,
          1,
          0,
          -1,
          1,
          1,
          1,
          1,
          0,
          1,
          1,
          1,
          1,
          1,
          1,
          1,
          1,
          -1,
          1,
          1,
          0,
          0,
          1,
          1,
          1,
          0,
          1,
          1,
          1,
          1,
          -1,
          1,
          1,
          1,
          0,
          1,
          0,
          1,
          1,
          1,
          0,
          1,
          -1,
          1,
          1,
          1,
          1,
          1,
          1,
          1,
          0,
          0,
          0,
          1,
          1,
          1,
          1,
          1,
          1,
          0,
          1,
          1,
          1,
          1,
          1,
          1,
          1,
          1,
          0,
          1,
          0,
          1,
          1,
          0,
          1,
          1,
          0,
          -1,
          1,
          1,
          1,
          1,
          -1,
          0,
          1,
          1,
          1,
          1,
          1,
          1,
          1,
          0,
          1,
          1,
          1,
          0,
          1,
          1,
          0,
          1,
          1,
          1,
          1,
          0,
          1,
          1,
          1,
          1,
          1,
          1,
          0,
          0,
          1,
          1,
          1,
          1,
          1,
          1,
          1,
          1,
          1,
          1,
          1,
          1,
          1,
          1,
          0,
          1,
          1,
          1,
          1,
          1,
          1,
          0,
          1
         ],
         "x0": " ",
         "xaxis": "x",
         "y": [
          7,
          6,
          6,
          5,
          7,
          6,
          8,
          7,
          8,
          6,
          4,
          6,
          7,
          7,
          6,
          7,
          5,
          6,
          8,
          7,
          5,
          7,
          6,
          8,
          7,
          7,
          8,
          6,
          7,
          7,
          8,
          7,
          7,
          7,
          7,
          6,
          7,
          6,
          7,
          6,
          8,
          7,
          8,
          8,
          8,
          6,
          7,
          6,
          7,
          6,
          6,
          6,
          8,
          6,
          6,
          6,
          5,
          7,
          7,
          7,
          6,
          3,
          5,
          5,
          6,
          9,
          6,
          7,
          8,
          7,
          6,
          6,
          7,
          5,
          6,
          6,
          6,
          6,
          6,
          7,
          6,
          8,
          7,
          6,
          7,
          5,
          7,
          8,
          7,
          6,
          6,
          7,
          6,
          6,
          7,
          6,
          6,
          5,
          6,
          6,
          7,
          7,
          7,
          6,
          8,
          6,
          6,
          7,
          7,
          6,
          4,
          7,
          6,
          6,
          8,
          6,
          6,
          9,
          7,
          6,
          6,
          8,
          6,
          6,
          8,
          4,
          6,
          6,
          6,
          7,
          8,
          6,
          8,
          7,
          6,
          5,
          8,
          8,
          7,
          6,
          6,
          7,
          6,
          5,
          7,
          6,
          7,
          8,
          4,
          5,
          6,
          6,
          6,
          6,
          6,
          6,
          7,
          7,
          7,
          6,
          6,
          6,
          6,
          8,
          7,
          6,
          8,
          5,
          8,
          6,
          7,
          5,
          5,
          6,
          6,
          6,
          8,
          7,
          6,
          6,
          8,
          7,
          8,
          6,
          7,
          6,
          6,
          6,
          5,
          6,
          8,
          6,
          7,
          7,
          6,
          6,
          7,
          7,
          6,
          6,
          7,
          8,
          4,
          8,
          8,
          7,
          6,
          6,
          7,
          7,
          4,
          8,
          6,
          6,
          6,
          6,
          6,
          7,
          5,
          6,
          6,
          6,
          6,
          7,
          6,
          7,
          7,
          6,
          5,
          8,
          7,
          7,
          6,
          6,
          6,
          7,
          6,
          8,
          9,
          4,
          6,
          8,
          4,
          6,
          6,
          8,
          7,
          6,
          5,
          8,
          7,
          6,
          7,
          6,
          7,
          6,
          4,
          7,
          6,
          8,
          8,
          7,
          6,
          6,
          8,
          6,
          5,
          7,
          6,
          6,
          6,
          6,
          6,
          6,
          7,
          6,
          6,
          8,
          6,
          7,
          8,
          6,
          8,
          8,
          7,
          6,
          6,
          6,
          7,
          6,
          5,
          6,
          6,
          8,
          4,
          7,
          6,
          6,
          8,
          7,
          6,
          6,
          8,
          7,
          7,
          7,
          6,
          6,
          8,
          4,
          6,
          6,
          7,
          7,
          6,
          6,
          6,
          6,
          7,
          8,
          7,
          6,
          6,
          7,
          8,
          6,
          6,
          6,
          8,
          6,
          6,
          7,
          4,
          6,
          6,
          8,
          6,
          6,
          7,
          7,
          7,
          7,
          10,
          7,
          6,
          6,
          6,
          7,
          7,
          6,
          6,
          8,
          6,
          8,
          6,
          8,
          6,
          7,
          7,
          8,
          6,
          6,
          7,
          6,
          6,
          7,
          5,
          7,
          5,
          6,
          7,
          8,
          6,
          8,
          6,
          6,
          7,
          5,
          6,
          6,
          5,
          6,
          6,
          6,
          6,
          6,
          7,
          5,
          6,
          6,
          7,
          6,
          7,
          6,
          6,
          6,
          7,
          7,
          8,
          6,
          6,
          4,
          6,
          8,
          6,
          6,
          6,
          6,
          6,
          6,
          5,
          7,
          7,
          8,
          7,
          8,
          7,
          7,
          7,
          8,
          7,
          6,
          7,
          7,
          6,
          6,
          7,
          4,
          7,
          5,
          7,
          7,
          6,
          7,
          7,
          6,
          11,
          8,
          8,
          6,
          8,
          5,
          6,
          6,
          8,
          7,
          7,
          7,
          4,
          7,
          8,
          8,
          5,
          5,
          6,
          7,
          8,
          5,
          8,
          7,
          9,
          7,
          10,
          6,
          6,
          7,
          8,
          6,
          5,
          7,
          8,
          8,
          7,
          8,
          7,
          11,
          5,
          6,
          6,
          6,
          11,
          6,
          5,
          7,
          8,
          8,
          7,
          8,
          8,
          8,
          7,
          4,
          6,
          6,
          6,
          5,
          7,
          7,
          8,
          6,
          6,
          5,
          7,
          8,
          8,
          7,
          7,
          7,
          8,
          7,
          6,
          5,
          8,
          6,
          7,
          7,
          6,
          9,
          7,
          6,
          7,
          6,
          7,
          5,
          7,
          7,
          6,
          4,
          7,
          7,
          7,
          7,
          7,
          9,
          7,
          6,
          5,
          6,
          8,
          7,
          7,
          7,
          6,
          7,
          8,
          8,
          7,
          8,
          6,
          6,
          8,
          4,
          5,
          8,
          6,
          4,
          8,
          6,
          6,
          5,
          5,
          7,
          7,
          8,
          8,
          7,
          7,
          6,
          6,
          6,
          5,
          4,
          5,
          6,
          7,
          8,
          7,
          6,
          8,
          7,
          7,
          6,
          6,
          7,
          8,
          7,
          7,
          7,
          6,
          7,
          7,
          4,
          5,
          6,
          5,
          8,
          7,
          7,
          5,
          7,
          7,
          8,
          6,
          6,
          6,
          6,
          6,
          7,
          7,
          7,
          6,
          6,
          7,
          7,
          6,
          7,
          7,
          8,
          7,
          7,
          6,
          9,
          6,
          7,
          5,
          7,
          7,
          8,
          7,
          7,
          6,
          8,
          7,
          8,
          6,
          8,
          7,
          8,
          8,
          8,
          7,
          5,
          6,
          6,
          6,
          6,
          6,
          7,
          6,
          4,
          7,
          7,
          7,
          7,
          6,
          8,
          5,
          6,
          6,
          7,
          6,
          5,
          8,
          6,
          6,
          7,
          8,
          6,
          7,
          6,
          7,
          6,
          6,
          7,
          6,
          6,
          7,
          8,
          7
         ],
         "y0": " ",
         "yaxis": "y"
        }
       ],
       "layout": {
        "autosize": true,
        "boxmode": "group",
        "legend": {
         "tracegroupgap": 0
        },
        "template": {
         "data": {
          "bar": [
           {
            "error_x": {
             "color": "#2a3f5f"
            },
            "error_y": {
             "color": "#2a3f5f"
            },
            "marker": {
             "line": {
              "color": "#E5ECF6",
              "width": 0.5
             },
             "pattern": {
              "fillmode": "overlay",
              "size": 10,
              "solidity": 0.2
             }
            },
            "type": "bar"
           }
          ],
          "barpolar": [
           {
            "marker": {
             "line": {
              "color": "#E5ECF6",
              "width": 0.5
             },
             "pattern": {
              "fillmode": "overlay",
              "size": 10,
              "solidity": 0.2
             }
            },
            "type": "barpolar"
           }
          ],
          "carpet": [
           {
            "aaxis": {
             "endlinecolor": "#2a3f5f",
             "gridcolor": "white",
             "linecolor": "white",
             "minorgridcolor": "white",
             "startlinecolor": "#2a3f5f"
            },
            "baxis": {
             "endlinecolor": "#2a3f5f",
             "gridcolor": "white",
             "linecolor": "white",
             "minorgridcolor": "white",
             "startlinecolor": "#2a3f5f"
            },
            "type": "carpet"
           }
          ],
          "choropleth": [
           {
            "colorbar": {
             "outlinewidth": 0,
             "ticks": ""
            },
            "type": "choropleth"
           }
          ],
          "contour": [
           {
            "colorbar": {
             "outlinewidth": 0,
             "ticks": ""
            },
            "colorscale": [
             [
              0,
              "#0d0887"
             ],
             [
              0.1111111111111111,
              "#46039f"
             ],
             [
              0.2222222222222222,
              "#7201a8"
             ],
             [
              0.3333333333333333,
              "#9c179e"
             ],
             [
              0.4444444444444444,
              "#bd3786"
             ],
             [
              0.5555555555555556,
              "#d8576b"
             ],
             [
              0.6666666666666666,
              "#ed7953"
             ],
             [
              0.7777777777777778,
              "#fb9f3a"
             ],
             [
              0.8888888888888888,
              "#fdca26"
             ],
             [
              1,
              "#f0f921"
             ]
            ],
            "type": "contour"
           }
          ],
          "contourcarpet": [
           {
            "colorbar": {
             "outlinewidth": 0,
             "ticks": ""
            },
            "type": "contourcarpet"
           }
          ],
          "heatmap": [
           {
            "colorbar": {
             "outlinewidth": 0,
             "ticks": ""
            },
            "colorscale": [
             [
              0,
              "#0d0887"
             ],
             [
              0.1111111111111111,
              "#46039f"
             ],
             [
              0.2222222222222222,
              "#7201a8"
             ],
             [
              0.3333333333333333,
              "#9c179e"
             ],
             [
              0.4444444444444444,
              "#bd3786"
             ],
             [
              0.5555555555555556,
              "#d8576b"
             ],
             [
              0.6666666666666666,
              "#ed7953"
             ],
             [
              0.7777777777777778,
              "#fb9f3a"
             ],
             [
              0.8888888888888888,
              "#fdca26"
             ],
             [
              1,
              "#f0f921"
             ]
            ],
            "type": "heatmap"
           }
          ],
          "heatmapgl": [
           {
            "colorbar": {
             "outlinewidth": 0,
             "ticks": ""
            },
            "colorscale": [
             [
              0,
              "#0d0887"
             ],
             [
              0.1111111111111111,
              "#46039f"
             ],
             [
              0.2222222222222222,
              "#7201a8"
             ],
             [
              0.3333333333333333,
              "#9c179e"
             ],
             [
              0.4444444444444444,
              "#bd3786"
             ],
             [
              0.5555555555555556,
              "#d8576b"
             ],
             [
              0.6666666666666666,
              "#ed7953"
             ],
             [
              0.7777777777777778,
              "#fb9f3a"
             ],
             [
              0.8888888888888888,
              "#fdca26"
             ],
             [
              1,
              "#f0f921"
             ]
            ],
            "type": "heatmapgl"
           }
          ],
          "histogram": [
           {
            "marker": {
             "pattern": {
              "fillmode": "overlay",
              "size": 10,
              "solidity": 0.2
             }
            },
            "type": "histogram"
           }
          ],
          "histogram2d": [
           {
            "colorbar": {
             "outlinewidth": 0,
             "ticks": ""
            },
            "colorscale": [
             [
              0,
              "#0d0887"
             ],
             [
              0.1111111111111111,
              "#46039f"
             ],
             [
              0.2222222222222222,
              "#7201a8"
             ],
             [
              0.3333333333333333,
              "#9c179e"
             ],
             [
              0.4444444444444444,
              "#bd3786"
             ],
             [
              0.5555555555555556,
              "#d8576b"
             ],
             [
              0.6666666666666666,
              "#ed7953"
             ],
             [
              0.7777777777777778,
              "#fb9f3a"
             ],
             [
              0.8888888888888888,
              "#fdca26"
             ],
             [
              1,
              "#f0f921"
             ]
            ],
            "type": "histogram2d"
           }
          ],
          "histogram2dcontour": [
           {
            "colorbar": {
             "outlinewidth": 0,
             "ticks": ""
            },
            "colorscale": [
             [
              0,
              "#0d0887"
             ],
             [
              0.1111111111111111,
              "#46039f"
             ],
             [
              0.2222222222222222,
              "#7201a8"
             ],
             [
              0.3333333333333333,
              "#9c179e"
             ],
             [
              0.4444444444444444,
              "#bd3786"
             ],
             [
              0.5555555555555556,
              "#d8576b"
             ],
             [
              0.6666666666666666,
              "#ed7953"
             ],
             [
              0.7777777777777778,
              "#fb9f3a"
             ],
             [
              0.8888888888888888,
              "#fdca26"
             ],
             [
              1,
              "#f0f921"
             ]
            ],
            "type": "histogram2dcontour"
           }
          ],
          "mesh3d": [
           {
            "colorbar": {
             "outlinewidth": 0,
             "ticks": ""
            },
            "type": "mesh3d"
           }
          ],
          "parcoords": [
           {
            "line": {
             "colorbar": {
              "outlinewidth": 0,
              "ticks": ""
             }
            },
            "type": "parcoords"
           }
          ],
          "pie": [
           {
            "automargin": true,
            "type": "pie"
           }
          ],
          "scatter": [
           {
            "fillpattern": {
             "fillmode": "overlay",
             "size": 10,
             "solidity": 0.2
            },
            "type": "scatter"
           }
          ],
          "scatter3d": [
           {
            "line": {
             "colorbar": {
              "outlinewidth": 0,
              "ticks": ""
             }
            },
            "marker": {
             "colorbar": {
              "outlinewidth": 0,
              "ticks": ""
             }
            },
            "type": "scatter3d"
           }
          ],
          "scattercarpet": [
           {
            "marker": {
             "colorbar": {
              "outlinewidth": 0,
              "ticks": ""
             }
            },
            "type": "scattercarpet"
           }
          ],
          "scattergeo": [
           {
            "marker": {
             "colorbar": {
              "outlinewidth": 0,
              "ticks": ""
             }
            },
            "type": "scattergeo"
           }
          ],
          "scattergl": [
           {
            "marker": {
             "colorbar": {
              "outlinewidth": 0,
              "ticks": ""
             }
            },
            "type": "scattergl"
           }
          ],
          "scattermapbox": [
           {
            "marker": {
             "colorbar": {
              "outlinewidth": 0,
              "ticks": ""
             }
            },
            "type": "scattermapbox"
           }
          ],
          "scatterpolar": [
           {
            "marker": {
             "colorbar": {
              "outlinewidth": 0,
              "ticks": ""
             }
            },
            "type": "scatterpolar"
           }
          ],
          "scatterpolargl": [
           {
            "marker": {
             "colorbar": {
              "outlinewidth": 0,
              "ticks": ""
             }
            },
            "type": "scatterpolargl"
           }
          ],
          "scatterternary": [
           {
            "marker": {
             "colorbar": {
              "outlinewidth": 0,
              "ticks": ""
             }
            },
            "type": "scatterternary"
           }
          ],
          "surface": [
           {
            "colorbar": {
             "outlinewidth": 0,
             "ticks": ""
            },
            "colorscale": [
             [
              0,
              "#0d0887"
             ],
             [
              0.1111111111111111,
              "#46039f"
             ],
             [
              0.2222222222222222,
              "#7201a8"
             ],
             [
              0.3333333333333333,
              "#9c179e"
             ],
             [
              0.4444444444444444,
              "#bd3786"
             ],
             [
              0.5555555555555556,
              "#d8576b"
             ],
             [
              0.6666666666666666,
              "#ed7953"
             ],
             [
              0.7777777777777778,
              "#fb9f3a"
             ],
             [
              0.8888888888888888,
              "#fdca26"
             ],
             [
              1,
              "#f0f921"
             ]
            ],
            "type": "surface"
           }
          ],
          "table": [
           {
            "cells": {
             "fill": {
              "color": "#EBF0F8"
             },
             "line": {
              "color": "white"
             }
            },
            "header": {
             "fill": {
              "color": "#C8D4E3"
             },
             "line": {
              "color": "white"
             }
            },
            "type": "table"
           }
          ]
         },
         "layout": {
          "annotationdefaults": {
           "arrowcolor": "#2a3f5f",
           "arrowhead": 0,
           "arrowwidth": 1
          },
          "autotypenumbers": "strict",
          "coloraxis": {
           "colorbar": {
            "outlinewidth": 0,
            "ticks": ""
           }
          },
          "colorscale": {
           "diverging": [
            [
             0,
             "#8e0152"
            ],
            [
             0.1,
             "#c51b7d"
            ],
            [
             0.2,
             "#de77ae"
            ],
            [
             0.3,
             "#f1b6da"
            ],
            [
             0.4,
             "#fde0ef"
            ],
            [
             0.5,
             "#f7f7f7"
            ],
            [
             0.6,
             "#e6f5d0"
            ],
            [
             0.7,
             "#b8e186"
            ],
            [
             0.8,
             "#7fbc41"
            ],
            [
             0.9,
             "#4d9221"
            ],
            [
             1,
             "#276419"
            ]
           ],
           "sequential": [
            [
             0,
             "#0d0887"
            ],
            [
             0.1111111111111111,
             "#46039f"
            ],
            [
             0.2222222222222222,
             "#7201a8"
            ],
            [
             0.3333333333333333,
             "#9c179e"
            ],
            [
             0.4444444444444444,
             "#bd3786"
            ],
            [
             0.5555555555555556,
             "#d8576b"
            ],
            [
             0.6666666666666666,
             "#ed7953"
            ],
            [
             0.7777777777777778,
             "#fb9f3a"
            ],
            [
             0.8888888888888888,
             "#fdca26"
            ],
            [
             1,
             "#f0f921"
            ]
           ],
           "sequentialminus": [
            [
             0,
             "#0d0887"
            ],
            [
             0.1111111111111111,
             "#46039f"
            ],
            [
             0.2222222222222222,
             "#7201a8"
            ],
            [
             0.3333333333333333,
             "#9c179e"
            ],
            [
             0.4444444444444444,
             "#bd3786"
            ],
            [
             0.5555555555555556,
             "#d8576b"
            ],
            [
             0.6666666666666666,
             "#ed7953"
            ],
            [
             0.7777777777777778,
             "#fb9f3a"
            ],
            [
             0.8888888888888888,
             "#fdca26"
            ],
            [
             1,
             "#f0f921"
            ]
           ]
          },
          "colorway": [
           "#636efa",
           "#EF553B",
           "#00cc96",
           "#ab63fa",
           "#FFA15A",
           "#19d3f3",
           "#FF6692",
           "#B6E880",
           "#FF97FF",
           "#FECB52"
          ],
          "font": {
           "color": "#2a3f5f"
          },
          "geo": {
           "bgcolor": "white",
           "lakecolor": "white",
           "landcolor": "#E5ECF6",
           "showlakes": true,
           "showland": true,
           "subunitcolor": "white"
          },
          "hoverlabel": {
           "align": "left"
          },
          "hovermode": "closest",
          "mapbox": {
           "style": "light"
          },
          "paper_bgcolor": "white",
          "plot_bgcolor": "#E5ECF6",
          "polar": {
           "angularaxis": {
            "gridcolor": "white",
            "linecolor": "white",
            "ticks": ""
           },
           "bgcolor": "#E5ECF6",
           "radialaxis": {
            "gridcolor": "white",
            "linecolor": "white",
            "ticks": ""
           }
          },
          "scene": {
           "xaxis": {
            "backgroundcolor": "#E5ECF6",
            "gridcolor": "white",
            "gridwidth": 2,
            "linecolor": "white",
            "showbackground": true,
            "ticks": "",
            "zerolinecolor": "white"
           },
           "yaxis": {
            "backgroundcolor": "#E5ECF6",
            "gridcolor": "white",
            "gridwidth": 2,
            "linecolor": "white",
            "showbackground": true,
            "ticks": "",
            "zerolinecolor": "white"
           },
           "zaxis": {
            "backgroundcolor": "#E5ECF6",
            "gridcolor": "white",
            "gridwidth": 2,
            "linecolor": "white",
            "showbackground": true,
            "ticks": "",
            "zerolinecolor": "white"
           }
          },
          "shapedefaults": {
           "line": {
            "color": "#2a3f5f"
           }
          },
          "ternary": {
           "aaxis": {
            "gridcolor": "white",
            "linecolor": "white",
            "ticks": ""
           },
           "baxis": {
            "gridcolor": "white",
            "linecolor": "white",
            "ticks": ""
           },
           "bgcolor": "#E5ECF6",
           "caxis": {
            "gridcolor": "white",
            "linecolor": "white",
            "ticks": ""
           }
          },
          "title": {
           "x": 0.05
          },
          "xaxis": {
           "automargin": true,
           "gridcolor": "white",
           "linecolor": "white",
           "ticks": "",
           "title": {
            "standoff": 15
           },
           "zerolinecolor": "white",
           "zerolinewidth": 2
          },
          "yaxis": {
           "automargin": true,
           "gridcolor": "white",
           "linecolor": "white",
           "ticks": "",
           "title": {
            "standoff": 15
           },
           "zerolinecolor": "white",
           "zerolinewidth": 2
          }
         }
        },
        "title": {
         "text": "Summary Statistics on Defenders in the Box by Tackles in a Play for the 49ers"
        },
        "xaxis": {
         "anchor": "y",
         "autorange": true,
         "domain": [
          0,
          1
         ],
         "range": [
          -1.5,
          1.5
         ],
         "title": {
          "text": "tackles"
         },
         "type": "linear"
        },
        "yaxis": {
         "anchor": "x",
         "autorange": true,
         "domain": [
          0,
          1
         ],
         "range": [
          2.5555555555555554,
          11.444444444444445
         ],
         "title": {
          "text": "defendersInTheBox"
         },
         "type": "linear"
        }
       }
      },
      "image/png": "[encoded data removed]",
      "text/html": [
       "<div>                            <div id=\"ed4aed9e-26ae-4dc4-980d-417becb82d08\" class=\"plotly-graph-div\" style=\"height:525px; width:100%;\"></div>            <script type=\"text/javascript\">                require([\"plotly\"], function(Plotly) {                    window.PLOTLYENV=window.PLOTLYENV || {};                                    if (document.getElementById(\"ed4aed9e-26ae-4dc4-980d-417becb82d08\")) {                    Plotly.newPlot(                        \"ed4aed9e-26ae-4dc4-980d-417becb82d08\",                        [{\"alignmentgroup\":\"True\",\"hovertemplate\":\"tackles=%{x}\\u003cbr\\u003edefendersInTheBox=%{y}\\u003cextra\\u003e\\u003c\\u002fextra\\u003e\",\"legendgroup\":\"\",\"marker\":{\"color\":\"rgb(133, 92, 117)\"},\"name\":\"\",\"notched\":false,\"offsetgroup\":\"\",\"orientation\":\"v\",\"showlegend\":false,\"x\":[0,1,1,0,0,0,1,1,1,1,1,1,1,1,1,1,1,-1,1,1,1,0,1,1,1,1,1,1,1,1,1,1,1,1,0,1,1,1,1,1,0,1,1,1,1,0,0,1,-1,1,1,1,0,-1,1,0,1,1,1,1,1,0,1,1,0,1,1,1,1,0,1,1,1,1,1,0,1,1,1,1,1,0,1,1,1,1,1,0,0,0,0,0,1,1,1,1,1,1,1,1,1,1,1,1,1,-1,1,0,1,0,0,0,1,1,1,1,0,1,0,1,1,0,1,1,1,1,1,1,1,1,1,-1,0,0,1,1,1,1,1,0,1,1,1,1,1,0,1,1,1,1,1,1,1,0,1,1,1,1,1,1,1,1,1,1,0,0,1,1,0,0,1,1,1,1,1,0,1,1,1,1,1,1,1,1,1,1,1,1,1,1,1,1,1,1,1,1,1,1,1,0,1,0,-1,1,1,1,1,0,1,1,1,1,1,1,1,-1,1,1,1,0,1,1,1,1,0,0,0,0,1,1,1,1,1,1,1,1,1,1,1,1,-1,1,1,1,0,1,1,1,0,1,1,1,1,1,1,0,-1,-1,0,1,0,1,1,1,0,-1,1,0,1,1,-1,1,1,1,1,0,1,1,1,1,1,1,1,-1,-1,1,1,1,1,0,1,1,1,1,1,1,1,1,1,1,1,1,1,1,1,1,1,1,1,1,1,-1,1,1,1,1,1,0,1,1,1,1,1,1,1,1,1,1,1,1,1,1,1,1,1,0,1,1,1,1,0,1,1,-1,1,1,1,1,1,1,1,1,1,0,1,1,1,0,0,1,1,1,1,1,0,1,1,1,1,1,1,0,0,1,1,1,1,1,1,1,0,1,1,1,1,1,1,1,1,1,0,1,1,1,0,1,1,1,1,1,1,1,1,1,1,0,1,1,1,1,1,1,1,0,1,1,1,0,1,1,0,0,1,1,0,1,0,1,1,1,1,1,1,1,1,0,1,0,1,1,1,0,1,-1,0,1,1,1,0,1,1,1,1,1,0,1,1,1,1,1,1,1,1,1,1,1,1,1,0,1,-1,0,1,1,1,-1,0,1,0,1,-1,1,1,1,0,1,0,0,1,1,1,1,0,1,1,1,1,0,1,1,0,1,1,-1,1,1,1,1,1,1,1,1,1,1,1,1,1,1,1,1,1,1,1,1,1,1,1,1,1,0,1,0,1,-1,1,1,0,1,1,1,1,1,1,1,1,1,0,-1,1,1,1,1,0,1,1,1,1,1,1,1,1,-1,1,1,0,0,1,1,1,0,1,1,1,1,-1,1,1,1,0,1,0,1,1,1,0,1,-1,1,1,1,1,1,1,1,0,0,0,1,1,1,1,1,1,0,1,1,1,1,1,1,1,1,0,1,0,1,1,0,1,1,0,-1,1,1,1,1,-1,0,1,1,1,1,1,1,1,0,1,1,1,0,1,1,0,1,1,1,1,0,1,1,1,1,1,1,0,0,1,1,1,1,1,1,1,1,1,1,1,1,1,1,0,1,1,1,1,1,1,0,1],\"x0\":\" \",\"xaxis\":\"x\",\"y\":[7.0,6.0,6.0,5.0,7.0,6.0,8.0,7.0,8.0,6.0,4.0,6.0,7.0,7.0,6.0,7.0,5.0,6.0,8.0,7.0,5.0,7.0,6.0,8.0,7.0,7.0,8.0,6.0,7.0,7.0,8.0,7.0,7.0,7.0,7.0,6.0,7.0,6.0,7.0,6.0,8.0,7.0,8.0,8.0,8.0,6.0,7.0,6.0,7.0,6.0,6.0,6.0,8.0,6.0,6.0,6.0,5.0,7.0,7.0,7.0,6.0,3.0,5.0,5.0,6.0,9.0,6.0,7.0,8.0,7.0,6.0,6.0,7.0,5.0,6.0,6.0,6.0,6.0,6.0,7.0,6.0,8.0,7.0,6.0,7.0,5.0,7.0,8.0,7.0,6.0,6.0,7.0,6.0,6.0,7.0,6.0,6.0,5.0,6.0,6.0,7.0,7.0,7.0,6.0,8.0,6.0,6.0,7.0,7.0,6.0,4.0,7.0,6.0,6.0,8.0,6.0,6.0,9.0,7.0,6.0,6.0,8.0,6.0,6.0,8.0,4.0,6.0,6.0,6.0,7.0,8.0,6.0,8.0,7.0,6.0,5.0,8.0,8.0,7.0,6.0,6.0,7.0,6.0,5.0,7.0,6.0,7.0,8.0,4.0,5.0,6.0,6.0,6.0,6.0,6.0,6.0,7.0,7.0,7.0,6.0,6.0,6.0,6.0,8.0,7.0,6.0,8.0,5.0,8.0,6.0,7.0,5.0,5.0,6.0,6.0,6.0,8.0,7.0,6.0,6.0,8.0,7.0,8.0,6.0,7.0,6.0,6.0,6.0,5.0,6.0,8.0,6.0,7.0,7.0,6.0,6.0,7.0,7.0,6.0,6.0,7.0,8.0,4.0,8.0,8.0,7.0,6.0,6.0,7.0,7.0,4.0,8.0,6.0,6.0,6.0,6.0,6.0,7.0,5.0,6.0,6.0,6.0,6.0,7.0,6.0,7.0,7.0,6.0,5.0,8.0,7.0,7.0,6.0,6.0,6.0,7.0,6.0,8.0,9.0,4.0,6.0,8.0,4.0,6.0,6.0,8.0,7.0,6.0,5.0,8.0,7.0,6.0,7.0,6.0,7.0,6.0,4.0,7.0,6.0,8.0,8.0,7.0,6.0,6.0,8.0,6.0,5.0,7.0,6.0,6.0,6.0,6.0,6.0,6.0,7.0,6.0,6.0,8.0,6.0,7.0,8.0,6.0,8.0,8.0,7.0,6.0,6.0,6.0,7.0,6.0,5.0,6.0,6.0,8.0,4.0,7.0,6.0,6.0,8.0,7.0,6.0,6.0,8.0,7.0,7.0,7.0,6.0,6.0,8.0,4.0,6.0,6.0,7.0,7.0,6.0,6.0,6.0,6.0,7.0,8.0,7.0,6.0,6.0,7.0,8.0,6.0,6.0,6.0,8.0,6.0,6.0,7.0,4.0,6.0,6.0,8.0,6.0,6.0,7.0,7.0,7.0,7.0,10.0,7.0,6.0,6.0,6.0,7.0,7.0,6.0,6.0,8.0,6.0,8.0,6.0,8.0,6.0,7.0,7.0,8.0,6.0,6.0,7.0,6.0,6.0,7.0,5.0,7.0,5.0,6.0,7.0,8.0,6.0,8.0,6.0,6.0,7.0,5.0,6.0,6.0,5.0,6.0,6.0,6.0,6.0,6.0,7.0,5.0,6.0,6.0,7.0,6.0,7.0,6.0,6.0,6.0,7.0,7.0,8.0,6.0,6.0,4.0,6.0,8.0,6.0,6.0,6.0,6.0,6.0,6.0,5.0,7.0,7.0,8.0,7.0,8.0,7.0,7.0,7.0,8.0,7.0,6.0,7.0,7.0,6.0,6.0,7.0,4.0,7.0,5.0,7.0,7.0,6.0,7.0,7.0,6.0,11.0,8.0,8.0,6.0,8.0,5.0,6.0,6.0,8.0,7.0,7.0,7.0,4.0,7.0,8.0,8.0,5.0,5.0,6.0,7.0,8.0,5.0,8.0,7.0,9.0,7.0,10.0,6.0,6.0,7.0,8.0,6.0,5.0,7.0,8.0,8.0,7.0,8.0,7.0,11.0,5.0,6.0,6.0,6.0,11.0,6.0,5.0,7.0,8.0,8.0,7.0,8.0,8.0,8.0,7.0,4.0,6.0,6.0,6.0,5.0,7.0,7.0,8.0,6.0,6.0,5.0,7.0,8.0,8.0,7.0,7.0,7.0,8.0,7.0,6.0,5.0,8.0,6.0,7.0,7.0,6.0,9.0,7.0,6.0,7.0,6.0,7.0,5.0,7.0,7.0,6.0,4.0,7.0,7.0,7.0,7.0,7.0,9.0,7.0,6.0,5.0,6.0,8.0,7.0,7.0,7.0,6.0,7.0,8.0,8.0,7.0,8.0,6.0,6.0,8.0,4.0,5.0,8.0,6.0,4.0,8.0,6.0,6.0,5.0,5.0,7.0,7.0,8.0,8.0,7.0,7.0,6.0,6.0,6.0,5.0,4.0,5.0,6.0,7.0,8.0,7.0,6.0,8.0,7.0,7.0,6.0,6.0,7.0,8.0,7.0,7.0,7.0,6.0,7.0,7.0,4.0,5.0,6.0,5.0,8.0,7.0,7.0,5.0,7.0,7.0,8.0,6.0,6.0,6.0,6.0,6.0,7.0,7.0,7.0,6.0,6.0,7.0,7.0,6.0,7.0,7.0,8.0,7.0,7.0,6.0,9.0,6.0,7.0,5.0,7.0,7.0,8.0,7.0,7.0,6.0,8.0,7.0,8.0,6.0,8.0,7.0,8.0,8.0,8.0,7.0,5.0,6.0,6.0,6.0,6.0,6.0,7.0,6.0,4.0,7.0,7.0,7.0,7.0,6.0,8.0,5.0,6.0,6.0,7.0,6.0,5.0,8.0,6.0,6.0,7.0,8.0,6.0,7.0,6.0,7.0,6.0,6.0,7.0,6.0,6.0,7.0,8.0,7.0],\"y0\":\" \",\"yaxis\":\"y\",\"type\":\"box\"}],                        {\"template\":{\"data\":{\"histogram2dcontour\":[{\"type\":\"histogram2dcontour\",\"colorbar\":{\"outlinewidth\":0,\"ticks\":\"\"},\"colorscale\":[[0.0,\"#0d0887\"],[0.1111111111111111,\"#46039f\"],[0.2222222222222222,\"#7201a8\"],[0.3333333333333333,\"#9c179e\"],[0.4444444444444444,\"#bd3786\"],[0.5555555555555556,\"#d8576b\"],[0.6666666666666666,\"#ed7953\"],[0.7777777777777778,\"#fb9f3a\"],[0.8888888888888888,\"#fdca26\"],[1.0,\"#f0f921\"]]}],\"choropleth\":[{\"type\":\"choropleth\",\"colorbar\":{\"outlinewidth\":0,\"ticks\":\"\"}}],\"histogram2d\":[{\"type\":\"histogram2d\",\"colorbar\":{\"outlinewidth\":0,\"ticks\":\"\"},\"colorscale\":[[0.0,\"#0d0887\"],[0.1111111111111111,\"#46039f\"],[0.2222222222222222,\"#7201a8\"],[0.3333333333333333,\"#9c179e\"],[0.4444444444444444,\"#bd3786\"],[0.5555555555555556,\"#d8576b\"],[0.6666666666666666,\"#ed7953\"],[0.7777777777777778,\"#fb9f3a\"],[0.8888888888888888,\"#fdca26\"],[1.0,\"#f0f921\"]]}],\"heatmap\":[{\"type\":\"heatmap\",\"colorbar\":{\"outlinewidth\":0,\"ticks\":\"\"},\"colorscale\":[[0.0,\"#0d0887\"],[0.1111111111111111,\"#46039f\"],[0.2222222222222222,\"#7201a8\"],[0.3333333333333333,\"#9c179e\"],[0.4444444444444444,\"#bd3786\"],[0.5555555555555556,\"#d8576b\"],[0.6666666666666666,\"#ed7953\"],[0.7777777777777778,\"#fb9f3a\"],[0.8888888888888888,\"#fdca26\"],[1.0,\"#f0f921\"]]}],\"heatmapgl\":[{\"type\":\"heatmapgl\",\"colorbar\":{\"outlinewidth\":0,\"ticks\":\"\"},\"colorscale\":[[0.0,\"#0d0887\"],[0.1111111111111111,\"#46039f\"],[0.2222222222222222,\"#7201a8\"],[0.3333333333333333,\"#9c179e\"],[0.4444444444444444,\"#bd3786\"],[0.5555555555555556,\"#d8576b\"],[0.6666666666666666,\"#ed7953\"],[0.7777777777777778,\"#fb9f3a\"],[0.8888888888888888,\"#fdca26\"],[1.0,\"#f0f921\"]]}],\"contourcarpet\":[{\"type\":\"contourcarpet\",\"colorbar\":{\"outlinewidth\":0,\"ticks\":\"\"}}],\"contour\":[{\"type\":\"contour\",\"colorbar\":{\"outlinewidth\":0,\"ticks\":\"\"},\"colorscale\":[[0.0,\"#0d0887\"],[0.1111111111111111,\"#46039f\"],[0.2222222222222222,\"#7201a8\"],[0.3333333333333333,\"#9c179e\"],[0.4444444444444444,\"#bd3786\"],[0.5555555555555556,\"#d8576b\"],[0.6666666666666666,\"#ed7953\"],[0.7777777777777778,\"#fb9f3a\"],[0.8888888888888888,\"#fdca26\"],[1.0,\"#f0f921\"]]}],\"surface\":[{\"type\":\"surface\",\"colorbar\":{\"outlinewidth\":0,\"ticks\":\"\"},\"colorscale\":[[0.0,\"#0d0887\"],[0.1111111111111111,\"#46039f\"],[0.2222222222222222,\"#7201a8\"],[0.3333333333333333,\"#9c179e\"],[0.4444444444444444,\"#bd3786\"],[0.5555555555555556,\"#d8576b\"],[0.6666666666666666,\"#ed7953\"],[0.7777777777777778,\"#fb9f3a\"],[0.8888888888888888,\"#fdca26\"],[1.0,\"#f0f921\"]]}],\"mesh3d\":[{\"type\":\"mesh3d\",\"colorbar\":{\"outlinewidth\":0,\"ticks\":\"\"}}],\"scatter\":[{\"fillpattern\":{\"fillmode\":\"overlay\",\"size\":10,\"solidity\":0.2},\"type\":\"scatter\"}],\"parcoords\":[{\"type\":\"parcoords\",\"line\":{\"colorbar\":{\"outlinewidth\":0,\"ticks\":\"\"}}}],\"scatterpolargl\":[{\"type\":\"scatterpolargl\",\"marker\":{\"colorbar\":{\"outlinewidth\":0,\"ticks\":\"\"}}}],\"bar\":[{\"error_x\":{\"color\":\"#2a3f5f\"},\"error_y\":{\"color\":\"#2a3f5f\"},\"marker\":{\"line\":{\"color\":\"#E5ECF6\",\"width\":0.5},\"pattern\":{\"fillmode\":\"overlay\",\"size\":10,\"solidity\":0.2}},\"type\":\"bar\"}],\"scattergeo\":[{\"type\":\"scattergeo\",\"marker\":{\"colorbar\":{\"outlinewidth\":0,\"ticks\":\"\"}}}],\"scatterpolar\":[{\"type\":\"scatterpolar\",\"marker\":{\"colorbar\":{\"outlinewidth\":0,\"ticks\":\"\"}}}],\"histogram\":[{\"marker\":{\"pattern\":{\"fillmode\":\"overlay\",\"size\":10,\"solidity\":0.2}},\"type\":\"histogram\"}],\"scattergl\":[{\"type\":\"scattergl\",\"marker\":{\"colorbar\":{\"outlinewidth\":0,\"ticks\":\"\"}}}],\"scatter3d\":[{\"type\":\"scatter3d\",\"line\":{\"colorbar\":{\"outlinewidth\":0,\"ticks\":\"\"}},\"marker\":{\"colorbar\":{\"outlinewidth\":0,\"ticks\":\"\"}}}],\"scattermapbox\":[{\"type\":\"scattermapbox\",\"marker\":{\"colorbar\":{\"outlinewidth\":0,\"ticks\":\"\"}}}],\"scatterternary\":[{\"type\":\"scatterternary\",\"marker\":{\"colorbar\":{\"outlinewidth\":0,\"ticks\":\"\"}}}],\"scattercarpet\":[{\"type\":\"scattercarpet\",\"marker\":{\"colorbar\":{\"outlinewidth\":0,\"ticks\":\"\"}}}],\"carpet\":[{\"aaxis\":{\"endlinecolor\":\"#2a3f5f\",\"gridcolor\":\"white\",\"linecolor\":\"white\",\"minorgridcolor\":\"white\",\"startlinecolor\":\"#2a3f5f\"},\"baxis\":{\"endlinecolor\":\"#2a3f5f\",\"gridcolor\":\"white\",\"linecolor\":\"white\",\"minorgridcolor\":\"white\",\"startlinecolor\":\"#2a3f5f\"},\"type\":\"carpet\"}],\"table\":[{\"cells\":{\"fill\":{\"color\":\"#EBF0F8\"},\"line\":{\"color\":\"white\"}},\"header\":{\"fill\":{\"color\":\"#C8D4E3\"},\"line\":{\"color\":\"white\"}},\"type\":\"table\"}],\"barpolar\":[{\"marker\":{\"line\":{\"color\":\"#E5ECF6\",\"width\":0.5},\"pattern\":{\"fillmode\":\"overlay\",\"size\":10,\"solidity\":0.2}},\"type\":\"barpolar\"}],\"pie\":[{\"automargin\":true,\"type\":\"pie\"}]},\"layout\":{\"autotypenumbers\":\"strict\",\"colorway\":[\"#636efa\",\"#EF553B\",\"#00cc96\",\"#ab63fa\",\"#FFA15A\",\"#19d3f3\",\"#FF6692\",\"#B6E880\",\"#FF97FF\",\"#FECB52\"],\"font\":{\"color\":\"#2a3f5f\"},\"hovermode\":\"closest\",\"hoverlabel\":{\"align\":\"left\"},\"paper_bgcolor\":\"white\",\"plot_bgcolor\":\"#E5ECF6\",\"polar\":{\"bgcolor\":\"#E5ECF6\",\"angularaxis\":{\"gridcolor\":\"white\",\"linecolor\":\"white\",\"ticks\":\"\"},\"radialaxis\":{\"gridcolor\":\"white\",\"linecolor\":\"white\",\"ticks\":\"\"}},\"ternary\":{\"bgcolor\":\"#E5ECF6\",\"aaxis\":{\"gridcolor\":\"white\",\"linecolor\":\"white\",\"ticks\":\"\"},\"baxis\":{\"gridcolor\":\"white\",\"linecolor\":\"white\",\"ticks\":\"\"},\"caxis\":{\"gridcolor\":\"white\",\"linecolor\":\"white\",\"ticks\":\"\"}},\"coloraxis\":{\"colorbar\":{\"outlinewidth\":0,\"ticks\":\"\"}},\"colorscale\":{\"sequential\":[[0.0,\"#0d0887\"],[0.1111111111111111,\"#46039f\"],[0.2222222222222222,\"#7201a8\"],[0.3333333333333333,\"#9c179e\"],[0.4444444444444444,\"#bd3786\"],[0.5555555555555556,\"#d8576b\"],[0.6666666666666666,\"#ed7953\"],[0.7777777777777778,\"#fb9f3a\"],[0.8888888888888888,\"#fdca26\"],[1.0,\"#f0f921\"]],\"sequentialminus\":[[0.0,\"#0d0887\"],[0.1111111111111111,\"#46039f\"],[0.2222222222222222,\"#7201a8\"],[0.3333333333333333,\"#9c179e\"],[0.4444444444444444,\"#bd3786\"],[0.5555555555555556,\"#d8576b\"],[0.6666666666666666,\"#ed7953\"],[0.7777777777777778,\"#fb9f3a\"],[0.8888888888888888,\"#fdca26\"],[1.0,\"#f0f921\"]],\"diverging\":[[0,\"#8e0152\"],[0.1,\"#c51b7d\"],[0.2,\"#de77ae\"],[0.3,\"#f1b6da\"],[0.4,\"#fde0ef\"],[0.5,\"#f7f7f7\"],[0.6,\"#e6f5d0\"],[0.7,\"#b8e186\"],[0.8,\"#7fbc41\"],[0.9,\"#4d9221\"],[1,\"#276419\"]]},\"xaxis\":{\"gridcolor\":\"white\",\"linecolor\":\"white\",\"ticks\":\"\",\"title\":{\"standoff\":15},\"zerolinecolor\":\"white\",\"automargin\":true,\"zerolinewidth\":2},\"yaxis\":{\"gridcolor\":\"white\",\"linecolor\":\"white\",\"ticks\":\"\",\"title\":{\"standoff\":15},\"zerolinecolor\":\"white\",\"automargin\":true,\"zerolinewidth\":2},\"scene\":{\"xaxis\":{\"backgroundcolor\":\"#E5ECF6\",\"gridcolor\":\"white\",\"linecolor\":\"white\",\"showbackground\":true,\"ticks\":\"\",\"zerolinecolor\":\"white\",\"gridwidth\":2},\"yaxis\":{\"backgroundcolor\":\"#E5ECF6\",\"gridcolor\":\"white\",\"linecolor\":\"white\",\"showbackground\":true,\"ticks\":\"\",\"zerolinecolor\":\"white\",\"gridwidth\":2},\"zaxis\":{\"backgroundcolor\":\"#E5ECF6\",\"gridcolor\":\"white\",\"linecolor\":\"white\",\"showbackground\":true,\"ticks\":\"\",\"zerolinecolor\":\"white\",\"gridwidth\":2}},\"shapedefaults\":{\"line\":{\"color\":\"#2a3f5f\"}},\"annotationdefaults\":{\"arrowcolor\":\"#2a3f5f\",\"arrowhead\":0,\"arrowwidth\":1},\"geo\":{\"bgcolor\":\"white\",\"landcolor\":\"#E5ECF6\",\"subunitcolor\":\"white\",\"showland\":true,\"showlakes\":true,\"lakecolor\":\"white\"},\"title\":{\"x\":0.05},\"mapbox\":{\"style\":\"light\"}}},\"xaxis\":{\"anchor\":\"y\",\"domain\":[0.0,1.0],\"title\":{\"text\":\"tackles\"}},\"yaxis\":{\"anchor\":\"x\",\"domain\":[0.0,1.0],\"title\":{\"text\":\"defendersInTheBox\"}},\"legend\":{\"tracegroupgap\":0},\"title\":{\"text\":\"Summary Statistics on Defenders in the Box by Tackles in a Play for the 49ers\"},\"boxmode\":\"group\"},                        {\"responsive\": true}                    ).then(function(){\n",
       "                            \n",
       "var gd = document.getElementById('ed4aed9e-26ae-4dc4-980d-417becb82d08');\n",
       "var x = new MutationObserver(function (mutations, observer) {{\n",
       "        var display = window.getComputedStyle(gd).display;\n",
       "        if (!display || display === 'none') {{\n",
       "            console.log([gd, 'removed!']);\n",
       "            Plotly.purge(gd);\n",
       "            observer.disconnect();\n",
       "        }}\n",
       "}});\n",
       "\n",
       "// Listen for the removal of the full notebook cells\n",
       "var notebookContainer = gd.closest('#notebook-container');\n",
       "if (notebookContainer) {{\n",
       "    x.observe(notebookContainer, {childList: true});\n",
       "}}\n",
       "\n",
       "// Listen for the clearing of the current output cell\n",
       "var outputEl = gd.closest('.output');\n",
       "if (outputEl) {{\n",
       "    x.observe(outputEl, {childList: true});\n",
       "}}\n",
       "\n",
       "                        })                };                });            </script>        </div>"
      ]
     },
     "metadata": {},
     "output_type": "display_data"
    }
   ],
   "source": [
    "# Filter for plays involving the 49ers as either the possession or defensive team\n",
    "sf_play_tackles = play_tackles[(play_tackles['possessionTeam'] == 'SF') | (play_tackles['defensiveTeam'] == 'SF')]\n",
    "\n",
    "# Create the box plot for the filtered data\n",
    "fig = px.box(sf_play_tackles, x=\"tackles\", y=\"defendersInTheBox\",\n",
    "             title='Summary Statistics on Defenders in the Box by Tackles in a Play for the 49ers',\n",
    "             color_discrete_sequence=px.colors.qualitative.Antique)\n",
    "\n",
    "# Display the figure\n",
    "fig.show()"
   ]
  },
  {
   "cell_type": "markdown",
   "id": "75dabc8c-88aa-491d-aaf6-c004353b4027",
   "metadata": {},
   "source": [
    "For plays with and without successful tackles involving the 49ers, we see a difference in the median. Plays without a tackle made saw a median of `7`, but those with tackles saw a median of `6`. This suggests that for the 49ers, less players in the box can be better for tackle success. \n",
    "\n",
    "Let's take a look at the Chiefs now. "
   ]
  },
  {
   "cell_type": "code",
   "execution_count": 25,
   "id": "c11284cd-a8d7-476d-be7f-918afb6fd613",
   "metadata": {
    "scrolled": true
   },
   "outputs": [
    {
     "data": {
      "application/vnd.plotly.v1+json": {
       "config": {
        "plotlyServerURL": "https://plot.ly"
       },
       "data": [
        {
         "alignmentgroup": "True",
         "bingroup": "x",
         "hovertemplate": "defendersInTheBox=%{x}<br>count=%{y}<extra></extra>",
         "legendgroup": "",
         "marker": {
          "color": "rgb(95, 70, 144)",
          "pattern": {
           "shape": ""
          }
         },
         "name": "",
         "offsetgroup": "",
         "orientation": "v",
         "showlegend": false,
         "type": "histogram",
         "x": [
          7,
          6,
          7,
          5,
          6,
          6,
          6,
          6,
          8,
          6,
          6,
          6,
          6,
          6,
          7,
          4,
          6,
          5,
          6,
          8,
          5,
          6,
          7,
          6,
          7,
          7,
          6,
          7,
          8,
          5,
          5,
          7,
          7,
          6,
          6,
          6,
          7,
          6,
          7,
          7,
          7,
          7,
          7,
          6,
          5,
          7,
          7,
          6,
          6,
          9,
          6,
          6,
          7,
          5,
          8,
          7,
          6,
          8,
          6,
          7,
          7,
          6,
          5,
          8,
          6,
          7,
          6,
          8,
          5,
          6,
          6,
          7,
          6,
          6,
          3,
          7,
          6,
          6,
          7,
          4,
          7,
          5,
          7,
          6,
          6,
          6,
          6,
          6,
          6,
          7,
          6,
          6,
          7,
          6,
          6,
          6,
          4,
          6,
          7,
          8,
          5,
          8,
          6,
          7,
          6,
          8,
          6,
          6,
          7,
          7,
          6,
          6,
          7,
          5,
          6,
          8,
          6,
          6,
          6,
          7,
          6,
          6,
          7,
          7,
          6,
          6,
          5,
          6,
          6,
          7,
          6,
          8,
          6,
          7,
          7,
          7,
          6,
          7,
          8,
          6,
          6,
          7,
          7,
          6,
          6,
          5,
          5,
          6,
          6,
          6,
          7,
          4,
          6,
          5,
          6,
          6,
          6,
          6,
          6,
          6,
          7,
          6,
          6,
          7,
          5,
          6,
          6,
          5,
          6,
          4,
          9,
          6,
          7,
          4,
          6,
          7,
          6,
          7,
          6,
          5,
          7,
          6,
          6,
          6,
          6,
          6,
          7,
          8,
          6,
          6,
          6,
          6,
          7,
          6,
          6,
          7,
          7,
          7,
          6,
          6,
          5,
          5,
          6,
          6,
          7,
          6,
          6,
          6,
          7,
          6,
          6,
          6,
          6,
          8,
          6,
          7,
          4,
          6,
          6,
          6,
          6,
          6,
          8,
          7,
          6,
          6,
          6,
          6,
          5,
          7,
          6,
          4,
          5,
          6,
          7,
          9,
          7,
          6,
          4,
          6,
          6,
          6,
          6,
          5,
          6,
          7,
          6,
          8,
          5,
          7,
          6,
          6,
          6,
          4,
          5,
          7,
          7,
          5,
          6,
          7,
          4,
          8,
          6,
          8,
          6,
          7,
          6,
          7,
          5,
          6,
          6,
          6,
          5,
          7,
          6,
          6,
          5,
          6,
          5,
          6,
          6,
          5,
          6,
          7,
          5,
          6,
          5,
          6,
          7,
          6,
          6,
          6,
          6,
          6,
          8,
          6,
          6,
          6,
          7,
          6,
          6,
          7,
          5,
          8,
          7,
          8,
          7,
          6,
          5,
          6,
          7,
          7,
          6,
          6,
          6,
          6,
          7,
          6,
          6,
          7,
          6,
          7,
          7,
          6,
          7,
          8,
          4,
          7,
          6,
          6,
          6,
          5,
          6,
          6,
          4,
          5,
          6,
          7,
          7,
          5,
          6,
          7,
          6,
          6,
          6,
          7,
          5,
          6,
          6,
          8,
          6,
          6,
          6,
          6,
          10,
          6,
          5,
          6,
          9,
          6,
          6,
          4,
          7,
          7,
          5,
          8,
          5,
          6,
          7,
          7,
          6,
          4,
          6,
          5,
          5,
          6,
          8,
          6,
          6,
          5,
          6,
          6,
          8,
          6,
          6,
          6,
          6,
          6,
          6,
          5,
          5,
          7,
          6,
          4,
          6,
          7,
          6,
          7,
          4,
          6,
          7,
          6,
          6,
          6,
          8,
          5,
          8,
          6,
          6,
          7,
          7,
          6,
          6,
          8,
          7,
          6,
          6,
          6,
          7,
          5,
          5,
          6,
          6,
          6,
          6,
          6,
          5,
          6,
          6,
          6,
          7,
          8,
          6,
          7,
          6,
          5,
          6,
          6,
          5,
          5,
          7,
          8,
          7,
          4,
          6,
          6,
          8,
          5,
          7,
          8,
          5,
          8,
          7,
          7,
          7,
          6,
          6,
          6,
          7,
          7,
          7,
          7,
          5,
          4,
          7,
          7,
          6,
          7,
          6,
          8,
          6,
          5,
          6,
          6,
          6,
          6,
          6,
          6,
          7,
          6,
          6,
          5,
          7,
          6,
          8,
          6,
          5,
          7,
          7,
          5,
          6,
          8,
          10,
          6,
          4,
          6,
          7,
          6,
          6,
          8,
          7,
          8,
          7,
          6,
          6,
          6,
          6,
          6,
          9,
          4,
          8,
          6,
          6,
          7,
          6,
          6,
          6,
          7,
          6,
          7,
          7,
          6,
          7,
          7,
          8,
          5,
          5,
          7,
          6,
          5,
          8,
          6,
          6,
          6,
          7,
          6,
          6,
          6,
          5,
          6,
          5,
          6,
          5,
          6,
          6,
          10,
          10,
          5,
          6,
          7,
          7,
          6,
          7,
          6,
          8,
          8,
          6,
          6,
          6,
          7,
          7,
          7,
          7,
          4,
          7,
          7,
          6,
          5,
          6,
          7,
          6,
          6,
          7,
          6,
          6,
          7,
          6,
          7,
          6,
          6,
          8,
          6,
          6,
          7,
          6,
          9,
          8,
          6,
          6,
          7,
          6,
          6,
          5,
          8,
          6,
          8,
          6,
          6,
          6,
          6,
          7,
          5,
          8,
          7,
          6,
          5,
          6,
          6,
          6,
          8,
          4,
          6,
          6,
          7,
          6,
          5,
          6,
          6,
          8,
          6,
          7,
          6,
          7,
          8,
          7,
          7,
          7,
          6,
          8,
          6,
          5,
          5,
          7,
          6,
          7,
          7,
          5,
          8,
          7,
          6,
          6,
          4,
          6,
          6,
          7,
          5,
          6,
          6,
          7,
          6,
          6,
          6,
          6,
          7,
          7,
          7,
          6,
          6,
          6,
          9,
          3,
          6,
          6,
          8,
          7,
          6,
          6,
          3,
          5,
          5,
          9,
          6,
          6,
          7,
          5,
          8,
          6,
          6,
          4,
          5,
          5,
          6,
          8,
          6,
          8,
          5,
          6,
          7,
          5,
          6,
          5,
          7,
          5,
          6,
          7,
          7,
          6,
          6,
          8,
          6,
          7,
          6,
          6,
          7,
          6,
          5,
          8,
          7,
          5,
          7,
          6,
          6,
          7,
          6,
          6,
          7,
          6,
          7,
          6,
          6,
          6,
          7,
          6,
          6,
          7,
          6,
          6,
          6,
          5,
          7,
          6,
          6,
          5,
          7,
          8,
          5,
          6,
          6,
          6,
          8,
          5,
          6,
          7,
          6,
          5,
          6,
          5,
          6,
          7,
          6,
          6,
          6,
          8,
          6,
          6,
          5,
          7
         ],
         "xaxis": "x",
         "yaxis": "y"
        },
        {
         "alignmentgroup": "True",
         "boxpoints": "all",
         "fillcolor": "rgba(255,255,255,0)",
         "hoveron": "points",
         "hovertemplate": "defendersInTheBox=%{x}<extra></extra>",
         "jitter": 0,
         "legendgroup": "",
         "line": {
          "color": "rgba(255,255,255,0)"
         },
         "marker": {
          "color": "rgb(95, 70, 144)",
          "symbol": "line-ns-open"
         },
         "name": "",
         "offsetgroup": "",
         "showlegend": false,
         "type": "box",
         "x": [
          7,
          6,
          7,
          5,
          6,
          6,
          6,
          6,
          8,
          6,
          6,
          6,
          6,
          6,
          7,
          4,
          6,
          5,
          6,
          8,
          5,
          6,
          7,
          6,
          7,
          7,
          6,
          7,
          8,
          5,
          5,
          7,
          7,
          6,
          6,
          6,
          7,
          6,
          7,
          7,
          7,
          7,
          7,
          6,
          5,
          7,
          7,
          6,
          6,
          9,
          6,
          6,
          7,
          5,
          8,
          7,
          6,
          8,
          6,
          7,
          7,
          6,
          5,
          8,
          6,
          7,
          6,
          8,
          5,
          6,
          6,
          7,
          6,
          6,
          3,
          7,
          6,
          6,
          7,
          4,
          7,
          5,
          7,
          6,
          6,
          6,
          6,
          6,
          6,
          7,
          6,
          6,
          7,
          6,
          6,
          6,
          4,
          6,
          7,
          8,
          5,
          8,
          6,
          7,
          6,
          8,
          6,
          6,
          7,
          7,
          6,
          6,
          7,
          5,
          6,
          8,
          6,
          6,
          6,
          7,
          6,
          6,
          7,
          7,
          6,
          6,
          5,
          6,
          6,
          7,
          6,
          8,
          6,
          7,
          7,
          7,
          6,
          7,
          8,
          6,
          6,
          7,
          7,
          6,
          6,
          5,
          5,
          6,
          6,
          6,
          7,
          4,
          6,
          5,
          6,
          6,
          6,
          6,
          6,
          6,
          7,
          6,
          6,
          7,
          5,
          6,
          6,
          5,
          6,
          4,
          9,
          6,
          7,
          4,
          6,
          7,
          6,
          7,
          6,
          5,
          7,
          6,
          6,
          6,
          6,
          6,
          7,
          8,
          6,
          6,
          6,
          6,
          7,
          6,
          6,
          7,
          7,
          7,
          6,
          6,
          5,
          5,
          6,
          6,
          7,
          6,
          6,
          6,
          7,
          6,
          6,
          6,
          6,
          8,
          6,
          7,
          4,
          6,
          6,
          6,
          6,
          6,
          8,
          7,
          6,
          6,
          6,
          6,
          5,
          7,
          6,
          4,
          5,
          6,
          7,
          9,
          7,
          6,
          4,
          6,
          6,
          6,
          6,
          5,
          6,
          7,
          6,
          8,
          5,
          7,
          6,
          6,
          6,
          4,
          5,
          7,
          7,
          5,
          6,
          7,
          4,
          8,
          6,
          8,
          6,
          7,
          6,
          7,
          5,
          6,
          6,
          6,
          5,
          7,
          6,
          6,
          5,
          6,
          5,
          6,
          6,
          5,
          6,
          7,
          5,
          6,
          5,
          6,
          7,
          6,
          6,
          6,
          6,
          6,
          8,
          6,
          6,
          6,
          7,
          6,
          6,
          7,
          5,
          8,
          7,
          8,
          7,
          6,
          5,
          6,
          7,
          7,
          6,
          6,
          6,
          6,
          7,
          6,
          6,
          7,
          6,
          7,
          7,
          6,
          7,
          8,
          4,
          7,
          6,
          6,
          6,
          5,
          6,
          6,
          4,
          5,
          6,
          7,
          7,
          5,
          6,
          7,
          6,
          6,
          6,
          7,
          5,
          6,
          6,
          8,
          6,
          6,
          6,
          6,
          10,
          6,
          5,
          6,
          9,
          6,
          6,
          4,
          7,
          7,
          5,
          8,
          5,
          6,
          7,
          7,
          6,
          4,
          6,
          5,
          5,
          6,
          8,
          6,
          6,
          5,
          6,
          6,
          8,
          6,
          6,
          6,
          6,
          6,
          6,
          5,
          5,
          7,
          6,
          4,
          6,
          7,
          6,
          7,
          4,
          6,
          7,
          6,
          6,
          6,
          8,
          5,
          8,
          6,
          6,
          7,
          7,
          6,
          6,
          8,
          7,
          6,
          6,
          6,
          7,
          5,
          5,
          6,
          6,
          6,
          6,
          6,
          5,
          6,
          6,
          6,
          7,
          8,
          6,
          7,
          6,
          5,
          6,
          6,
          5,
          5,
          7,
          8,
          7,
          4,
          6,
          6,
          8,
          5,
          7,
          8,
          5,
          8,
          7,
          7,
          7,
          6,
          6,
          6,
          7,
          7,
          7,
          7,
          5,
          4,
          7,
          7,
          6,
          7,
          6,
          8,
          6,
          5,
          6,
          6,
          6,
          6,
          6,
          6,
          7,
          6,
          6,
          5,
          7,
          6,
          8,
          6,
          5,
          7,
          7,
          5,
          6,
          8,
          10,
          6,
          4,
          6,
          7,
          6,
          6,
          8,
          7,
          8,
          7,
          6,
          6,
          6,
          6,
          6,
          9,
          4,
          8,
          6,
          6,
          7,
          6,
          6,
          6,
          7,
          6,
          7,
          7,
          6,
          7,
          7,
          8,
          5,
          5,
          7,
          6,
          5,
          8,
          6,
          6,
          6,
          7,
          6,
          6,
          6,
          5,
          6,
          5,
          6,
          5,
          6,
          6,
          10,
          10,
          5,
          6,
          7,
          7,
          6,
          7,
          6,
          8,
          8,
          6,
          6,
          6,
          7,
          7,
          7,
          7,
          4,
          7,
          7,
          6,
          5,
          6,
          7,
          6,
          6,
          7,
          6,
          6,
          7,
          6,
          7,
          6,
          6,
          8,
          6,
          6,
          7,
          6,
          9,
          8,
          6,
          6,
          7,
          6,
          6,
          5,
          8,
          6,
          8,
          6,
          6,
          6,
          6,
          7,
          5,
          8,
          7,
          6,
          5,
          6,
          6,
          6,
          8,
          4,
          6,
          6,
          7,
          6,
          5,
          6,
          6,
          8,
          6,
          7,
          6,
          7,
          8,
          7,
          7,
          7,
          6,
          8,
          6,
          5,
          5,
          7,
          6,
          7,
          7,
          5,
          8,
          7,
          6,
          6,
          4,
          6,
          6,
          7,
          5,
          6,
          6,
          7,
          6,
          6,
          6,
          6,
          7,
          7,
          7,
          6,
          6,
          6,
          9,
          3,
          6,
          6,
          8,
          7,
          6,
          6,
          3,
          5,
          5,
          9,
          6,
          6,
          7,
          5,
          8,
          6,
          6,
          4,
          5,
          5,
          6,
          8,
          6,
          8,
          5,
          6,
          7,
          5,
          6,
          5,
          7,
          5,
          6,
          7,
          7,
          6,
          6,
          8,
          6,
          7,
          6,
          6,
          7,
          6,
          5,
          8,
          7,
          5,
          7,
          6,
          6,
          7,
          6,
          6,
          7,
          6,
          7,
          6,
          6,
          6,
          7,
          6,
          6,
          7,
          6,
          6,
          6,
          5,
          7,
          6,
          6,
          5,
          7,
          8,
          5,
          6,
          6,
          6,
          8,
          5,
          6,
          7,
          6,
          5,
          6,
          5,
          6,
          7,
          6,
          6,
          6,
          8,
          6,
          6,
          5,
          7
         ],
         "xaxis": "x2",
         "yaxis": "y2"
        }
       ],
       "layout": {
        "autosize": true,
        "barmode": "relative",
        "legend": {
         "tracegroupgap": 0
        },
        "template": {
         "data": {
          "bar": [
           {
            "error_x": {
             "color": "#2a3f5f"
            },
            "error_y": {
             "color": "#2a3f5f"
            },
            "marker": {
             "line": {
              "color": "#E5ECF6",
              "width": 0.5
             },
             "pattern": {
              "fillmode": "overlay",
              "size": 10,
              "solidity": 0.2
             }
            },
            "type": "bar"
           }
          ],
          "barpolar": [
           {
            "marker": {
             "line": {
              "color": "#E5ECF6",
              "width": 0.5
             },
             "pattern": {
              "fillmode": "overlay",
              "size": 10,
              "solidity": 0.2
             }
            },
            "type": "barpolar"
           }
          ],
          "carpet": [
           {
            "aaxis": {
             "endlinecolor": "#2a3f5f",
             "gridcolor": "white",
             "linecolor": "white",
             "minorgridcolor": "white",
             "startlinecolor": "#2a3f5f"
            },
            "baxis": {
             "endlinecolor": "#2a3f5f",
             "gridcolor": "white",
             "linecolor": "white",
             "minorgridcolor": "white",
             "startlinecolor": "#2a3f5f"
            },
            "type": "carpet"
           }
          ],
          "choropleth": [
           {
            "colorbar": {
             "outlinewidth": 0,
             "ticks": ""
            },
            "type": "choropleth"
           }
          ],
          "contour": [
           {
            "colorbar": {
             "outlinewidth": 0,
             "ticks": ""
            },
            "colorscale": [
             [
              0,
              "#0d0887"
             ],
             [
              0.1111111111111111,
              "#46039f"
             ],
             [
              0.2222222222222222,
              "#7201a8"
             ],
             [
              0.3333333333333333,
              "#9c179e"
             ],
             [
              0.4444444444444444,
              "#bd3786"
             ],
             [
              0.5555555555555556,
              "#d8576b"
             ],
             [
              0.6666666666666666,
              "#ed7953"
             ],
             [
              0.7777777777777778,
              "#fb9f3a"
             ],
             [
              0.8888888888888888,
              "#fdca26"
             ],
             [
              1,
              "#f0f921"
             ]
            ],
            "type": "contour"
           }
          ],
          "contourcarpet": [
           {
            "colorbar": {
             "outlinewidth": 0,
             "ticks": ""
            },
            "type": "contourcarpet"
           }
          ],
          "heatmap": [
           {
            "colorbar": {
             "outlinewidth": 0,
             "ticks": ""
            },
            "colorscale": [
             [
              0,
              "#0d0887"
             ],
             [
              0.1111111111111111,
              "#46039f"
             ],
             [
              0.2222222222222222,
              "#7201a8"
             ],
             [
              0.3333333333333333,
              "#9c179e"
             ],
             [
              0.4444444444444444,
              "#bd3786"
             ],
             [
              0.5555555555555556,
              "#d8576b"
             ],
             [
              0.6666666666666666,
              "#ed7953"
             ],
             [
              0.7777777777777778,
              "#fb9f3a"
             ],
             [
              0.8888888888888888,
              "#fdca26"
             ],
             [
              1,
              "#f0f921"
             ]
            ],
            "type": "heatmap"
           }
          ],
          "heatmapgl": [
           {
            "colorbar": {
             "outlinewidth": 0,
             "ticks": ""
            },
            "colorscale": [
             [
              0,
              "#0d0887"
             ],
             [
              0.1111111111111111,
              "#46039f"
             ],
             [
              0.2222222222222222,
              "#7201a8"
             ],
             [
              0.3333333333333333,
              "#9c179e"
             ],
             [
              0.4444444444444444,
              "#bd3786"
             ],
             [
              0.5555555555555556,
              "#d8576b"
             ],
             [
              0.6666666666666666,
              "#ed7953"
             ],
             [
              0.7777777777777778,
              "#fb9f3a"
             ],
             [
              0.8888888888888888,
              "#fdca26"
             ],
             [
              1,
              "#f0f921"
             ]
            ],
            "type": "heatmapgl"
           }
          ],
          "histogram": [
           {
            "marker": {
             "pattern": {
              "fillmode": "overlay",
              "size": 10,
              "solidity": 0.2
             }
            },
            "type": "histogram"
           }
          ],
          "histogram2d": [
           {
            "colorbar": {
             "outlinewidth": 0,
             "ticks": ""
            },
            "colorscale": [
             [
              0,
              "#0d0887"
             ],
             [
              0.1111111111111111,
              "#46039f"
             ],
             [
              0.2222222222222222,
              "#7201a8"
             ],
             [
              0.3333333333333333,
              "#9c179e"
             ],
             [
              0.4444444444444444,
              "#bd3786"
             ],
             [
              0.5555555555555556,
              "#d8576b"
             ],
             [
              0.6666666666666666,
              "#ed7953"
             ],
             [
              0.7777777777777778,
              "#fb9f3a"
             ],
             [
              0.8888888888888888,
              "#fdca26"
             ],
             [
              1,
              "#f0f921"
             ]
            ],
            "type": "histogram2d"
           }
          ],
          "histogram2dcontour": [
           {
            "colorbar": {
             "outlinewidth": 0,
             "ticks": ""
            },
            "colorscale": [
             [
              0,
              "#0d0887"
             ],
             [
              0.1111111111111111,
              "#46039f"
             ],
             [
              0.2222222222222222,
              "#7201a8"
             ],
             [
              0.3333333333333333,
              "#9c179e"
             ],
             [
              0.4444444444444444,
              "#bd3786"
             ],
             [
              0.5555555555555556,
              "#d8576b"
             ],
             [
              0.6666666666666666,
              "#ed7953"
             ],
             [
              0.7777777777777778,
              "#fb9f3a"
             ],
             [
              0.8888888888888888,
              "#fdca26"
             ],
             [
              1,
              "#f0f921"
             ]
            ],
            "type": "histogram2dcontour"
           }
          ],
          "mesh3d": [
           {
            "colorbar": {
             "outlinewidth": 0,
             "ticks": ""
            },
            "type": "mesh3d"
           }
          ],
          "parcoords": [
           {
            "line": {
             "colorbar": {
              "outlinewidth": 0,
              "ticks": ""
             }
            },
            "type": "parcoords"
           }
          ],
          "pie": [
           {
            "automargin": true,
            "type": "pie"
           }
          ],
          "scatter": [
           {
            "fillpattern": {
             "fillmode": "overlay",
             "size": 10,
             "solidity": 0.2
            },
            "type": "scatter"
           }
          ],
          "scatter3d": [
           {
            "line": {
             "colorbar": {
              "outlinewidth": 0,
              "ticks": ""
             }
            },
            "marker": {
             "colorbar": {
              "outlinewidth": 0,
              "ticks": ""
             }
            },
            "type": "scatter3d"
           }
          ],
          "scattercarpet": [
           {
            "marker": {
             "colorbar": {
              "outlinewidth": 0,
              "ticks": ""
             }
            },
            "type": "scattercarpet"
           }
          ],
          "scattergeo": [
           {
            "marker": {
             "colorbar": {
              "outlinewidth": 0,
              "ticks": ""
             }
            },
            "type": "scattergeo"
           }
          ],
          "scattergl": [
           {
            "marker": {
             "colorbar": {
              "outlinewidth": 0,
              "ticks": ""
             }
            },
            "type": "scattergl"
           }
          ],
          "scattermapbox": [
           {
            "marker": {
             "colorbar": {
              "outlinewidth": 0,
              "ticks": ""
             }
            },
            "type": "scattermapbox"
           }
          ],
          "scatterpolar": [
           {
            "marker": {
             "colorbar": {
              "outlinewidth": 0,
              "ticks": ""
             }
            },
            "type": "scatterpolar"
           }
          ],
          "scatterpolargl": [
           {
            "marker": {
             "colorbar": {
              "outlinewidth": 0,
              "ticks": ""
             }
            },
            "type": "scatterpolargl"
           }
          ],
          "scatterternary": [
           {
            "marker": {
             "colorbar": {
              "outlinewidth": 0,
              "ticks": ""
             }
            },
            "type": "scatterternary"
           }
          ],
          "surface": [
           {
            "colorbar": {
             "outlinewidth": 0,
             "ticks": ""
            },
            "colorscale": [
             [
              0,
              "#0d0887"
             ],
             [
              0.1111111111111111,
              "#46039f"
             ],
             [
              0.2222222222222222,
              "#7201a8"
             ],
             [
              0.3333333333333333,
              "#9c179e"
             ],
             [
              0.4444444444444444,
              "#bd3786"
             ],
             [
              0.5555555555555556,
              "#d8576b"
             ],
             [
              0.6666666666666666,
              "#ed7953"
             ],
             [
              0.7777777777777778,
              "#fb9f3a"
             ],
             [
              0.8888888888888888,
              "#fdca26"
             ],
             [
              1,
              "#f0f921"
             ]
            ],
            "type": "surface"
           }
          ],
          "table": [
           {
            "cells": {
             "fill": {
              "color": "#EBF0F8"
             },
             "line": {
              "color": "white"
             }
            },
            "header": {
             "fill": {
              "color": "#C8D4E3"
             },
             "line": {
              "color": "white"
             }
            },
            "type": "table"
           }
          ]
         },
         "layout": {
          "annotationdefaults": {
           "arrowcolor": "#2a3f5f",
           "arrowhead": 0,
           "arrowwidth": 1
          },
          "autotypenumbers": "strict",
          "coloraxis": {
           "colorbar": {
            "outlinewidth": 0,
            "ticks": ""
           }
          },
          "colorscale": {
           "diverging": [
            [
             0,
             "#8e0152"
            ],
            [
             0.1,
             "#c51b7d"
            ],
            [
             0.2,
             "#de77ae"
            ],
            [
             0.3,
             "#f1b6da"
            ],
            [
             0.4,
             "#fde0ef"
            ],
            [
             0.5,
             "#f7f7f7"
            ],
            [
             0.6,
             "#e6f5d0"
            ],
            [
             0.7,
             "#b8e186"
            ],
            [
             0.8,
             "#7fbc41"
            ],
            [
             0.9,
             "#4d9221"
            ],
            [
             1,
             "#276419"
            ]
           ],
           "sequential": [
            [
             0,
             "#0d0887"
            ],
            [
             0.1111111111111111,
             "#46039f"
            ],
            [
             0.2222222222222222,
             "#7201a8"
            ],
            [
             0.3333333333333333,
             "#9c179e"
            ],
            [
             0.4444444444444444,
             "#bd3786"
            ],
            [
             0.5555555555555556,
             "#d8576b"
            ],
            [
             0.6666666666666666,
             "#ed7953"
            ],
            [
             0.7777777777777778,
             "#fb9f3a"
            ],
            [
             0.8888888888888888,
             "#fdca26"
            ],
            [
             1,
             "#f0f921"
            ]
           ],
           "sequentialminus": [
            [
             0,
             "#0d0887"
            ],
            [
             0.1111111111111111,
             "#46039f"
            ],
            [
             0.2222222222222222,
             "#7201a8"
            ],
            [
             0.3333333333333333,
             "#9c179e"
            ],
            [
             0.4444444444444444,
             "#bd3786"
            ],
            [
             0.5555555555555556,
             "#d8576b"
            ],
            [
             0.6666666666666666,
             "#ed7953"
            ],
            [
             0.7777777777777778,
             "#fb9f3a"
            ],
            [
             0.8888888888888888,
             "#fdca26"
            ],
            [
             1,
             "#f0f921"
            ]
           ]
          },
          "colorway": [
           "#636efa",
           "#EF553B",
           "#00cc96",
           "#ab63fa",
           "#FFA15A",
           "#19d3f3",
           "#FF6692",
           "#B6E880",
           "#FF97FF",
           "#FECB52"
          ],
          "font": {
           "color": "#2a3f5f"
          },
          "geo": {
           "bgcolor": "white",
           "lakecolor": "white",
           "landcolor": "#E5ECF6",
           "showlakes": true,
           "showland": true,
           "subunitcolor": "white"
          },
          "hoverlabel": {
           "align": "left"
          },
          "hovermode": "closest",
          "mapbox": {
           "style": "light"
          },
          "paper_bgcolor": "white",
          "plot_bgcolor": "#E5ECF6",
          "polar": {
           "angularaxis": {
            "gridcolor": "white",
            "linecolor": "white",
            "ticks": ""
           },
           "bgcolor": "#E5ECF6",
           "radialaxis": {
            "gridcolor": "white",
            "linecolor": "white",
            "ticks": ""
           }
          },
          "scene": {
           "xaxis": {
            "backgroundcolor": "#E5ECF6",
            "gridcolor": "white",
            "gridwidth": 2,
            "linecolor": "white",
            "showbackground": true,
            "ticks": "",
            "zerolinecolor": "white"
           },
           "yaxis": {
            "backgroundcolor": "#E5ECF6",
            "gridcolor": "white",
            "gridwidth": 2,
            "linecolor": "white",
            "showbackground": true,
            "ticks": "",
            "zerolinecolor": "white"
           },
           "zaxis": {
            "backgroundcolor": "#E5ECF6",
            "gridcolor": "white",
            "gridwidth": 2,
            "linecolor": "white",
            "showbackground": true,
            "ticks": "",
            "zerolinecolor": "white"
           }
          },
          "shapedefaults": {
           "line": {
            "color": "#2a3f5f"
           }
          },
          "ternary": {
           "aaxis": {
            "gridcolor": "white",
            "linecolor": "white",
            "ticks": ""
           },
           "baxis": {
            "gridcolor": "white",
            "linecolor": "white",
            "ticks": ""
           },
           "bgcolor": "#E5ECF6",
           "caxis": {
            "gridcolor": "white",
            "linecolor": "white",
            "ticks": ""
           }
          },
          "title": {
           "x": 0.05
          },
          "xaxis": {
           "automargin": true,
           "gridcolor": "white",
           "linecolor": "white",
           "ticks": "",
           "title": {
            "standoff": 15
           },
           "zerolinecolor": "white",
           "zerolinewidth": 2
          },
          "yaxis": {
           "automargin": true,
           "gridcolor": "white",
           "linecolor": "white",
           "ticks": "",
           "title": {
            "standoff": 15
           },
           "zerolinecolor": "white",
           "zerolinewidth": 2
          }
         }
        },
        "title": {
         "text": "Distribution of Defenders in the Box by Plays for the Chiefs"
        },
        "xaxis": {
         "anchor": "y",
         "autorange": true,
         "domain": [
          0,
          1
         ],
         "range": [
          2.5,
          10.5
         ],
         "title": {
          "text": "defendersInTheBox"
         },
         "type": "linear"
        },
        "xaxis2": {
         "anchor": "y2",
         "autorange": true,
         "domain": [
          0,
          1
         ],
         "matches": "x",
         "range": [
          2.5,
          10.5
         ],
         "showgrid": true,
         "showticklabels": false,
         "type": "linear"
        },
        "yaxis": {
         "anchor": "x",
         "autorange": true,
         "domain": [
          0,
          0.8316
         ],
         "range": [
          0,
          393.6842105263158
         ],
         "title": {
          "text": "count"
         }
        },
        "yaxis2": {
         "anchor": "x2",
         "autorange": true,
         "domain": [
          0.8416,
          1
         ],
         "matches": "y2",
         "range": [
          -0.6175917215428034,
          0.5
         ],
         "showgrid": false,
         "showline": false,
         "showticklabels": false,
         "ticks": "",
         "type": "category"
        }
       }
      },
      "image/png": "[encoded data removed]",
      "text/html": [
       "<div>                            <div id=\"be2f90b4-e4fd-496c-aafe-ca0931c852f7\" class=\"plotly-graph-div\" style=\"height:525px; width:100%;\"></div>            <script type=\"text/javascript\">                require([\"plotly\"], function(Plotly) {                    window.PLOTLYENV=window.PLOTLYENV || {};                                    if (document.getElementById(\"be2f90b4-e4fd-496c-aafe-ca0931c852f7\")) {                    Plotly.newPlot(                        \"be2f90b4-e4fd-496c-aafe-ca0931c852f7\",                        [{\"alignmentgroup\":\"True\",\"bingroup\":\"x\",\"hovertemplate\":\"defendersInTheBox=%{x}\\u003cbr\\u003ecount=%{y}\\u003cextra\\u003e\\u003c\\u002fextra\\u003e\",\"legendgroup\":\"\",\"marker\":{\"color\":\"rgb(95, 70, 144)\",\"pattern\":{\"shape\":\"\"}},\"name\":\"\",\"offsetgroup\":\"\",\"orientation\":\"v\",\"showlegend\":false,\"x\":[7.0,6.0,7.0,5.0,6.0,6.0,6.0,6.0,8.0,6.0,6.0,6.0,6.0,6.0,7.0,4.0,6.0,5.0,6.0,8.0,5.0,6.0,7.0,6.0,7.0,7.0,6.0,7.0,8.0,5.0,5.0,7.0,7.0,6.0,6.0,6.0,7.0,6.0,7.0,7.0,7.0,7.0,7.0,6.0,5.0,7.0,7.0,6.0,6.0,9.0,6.0,6.0,7.0,5.0,8.0,7.0,6.0,8.0,6.0,7.0,7.0,6.0,5.0,8.0,6.0,7.0,6.0,8.0,5.0,6.0,6.0,7.0,6.0,6.0,3.0,7.0,6.0,6.0,7.0,4.0,7.0,5.0,7.0,6.0,6.0,6.0,6.0,6.0,6.0,7.0,6.0,6.0,7.0,6.0,6.0,6.0,4.0,6.0,7.0,8.0,5.0,8.0,6.0,7.0,6.0,8.0,6.0,6.0,7.0,7.0,6.0,6.0,7.0,5.0,6.0,8.0,6.0,6.0,6.0,7.0,6.0,6.0,7.0,7.0,6.0,6.0,5.0,6.0,6.0,7.0,6.0,8.0,6.0,7.0,7.0,7.0,6.0,7.0,8.0,6.0,6.0,7.0,7.0,6.0,6.0,5.0,5.0,6.0,6.0,6.0,7.0,4.0,6.0,5.0,6.0,6.0,6.0,6.0,6.0,6.0,7.0,6.0,6.0,7.0,5.0,6.0,6.0,5.0,6.0,4.0,9.0,6.0,7.0,4.0,6.0,7.0,6.0,7.0,6.0,5.0,7.0,6.0,6.0,6.0,6.0,6.0,7.0,8.0,6.0,6.0,6.0,6.0,7.0,6.0,6.0,7.0,7.0,7.0,6.0,6.0,5.0,5.0,6.0,6.0,7.0,6.0,6.0,6.0,7.0,6.0,6.0,6.0,6.0,8.0,6.0,7.0,4.0,6.0,6.0,6.0,6.0,6.0,8.0,7.0,6.0,6.0,6.0,6.0,5.0,7.0,6.0,4.0,5.0,6.0,7.0,9.0,7.0,6.0,4.0,6.0,6.0,6.0,6.0,5.0,6.0,7.0,6.0,8.0,5.0,7.0,6.0,6.0,6.0,4.0,5.0,7.0,7.0,5.0,6.0,7.0,4.0,8.0,6.0,8.0,6.0,7.0,6.0,7.0,5.0,6.0,6.0,6.0,5.0,7.0,6.0,6.0,5.0,6.0,5.0,6.0,6.0,5.0,6.0,7.0,5.0,6.0,5.0,6.0,7.0,6.0,6.0,6.0,6.0,6.0,8.0,6.0,6.0,6.0,7.0,6.0,6.0,7.0,5.0,8.0,7.0,8.0,7.0,6.0,5.0,6.0,7.0,7.0,6.0,6.0,6.0,6.0,7.0,6.0,6.0,7.0,6.0,7.0,7.0,6.0,7.0,8.0,4.0,7.0,6.0,6.0,6.0,5.0,6.0,6.0,4.0,5.0,6.0,7.0,7.0,5.0,6.0,7.0,6.0,6.0,6.0,7.0,5.0,6.0,6.0,8.0,6.0,6.0,6.0,6.0,10.0,6.0,5.0,6.0,9.0,6.0,6.0,4.0,7.0,7.0,5.0,8.0,5.0,6.0,7.0,7.0,6.0,4.0,6.0,5.0,5.0,6.0,8.0,6.0,6.0,5.0,6.0,6.0,8.0,6.0,6.0,6.0,6.0,6.0,6.0,5.0,5.0,7.0,6.0,4.0,6.0,7.0,6.0,7.0,4.0,6.0,7.0,6.0,6.0,6.0,8.0,5.0,8.0,6.0,6.0,7.0,7.0,6.0,6.0,8.0,7.0,6.0,6.0,6.0,7.0,5.0,5.0,6.0,6.0,6.0,6.0,6.0,5.0,6.0,6.0,6.0,7.0,8.0,6.0,7.0,6.0,5.0,6.0,6.0,5.0,5.0,7.0,8.0,7.0,4.0,6.0,6.0,8.0,5.0,7.0,8.0,5.0,8.0,7.0,7.0,7.0,6.0,6.0,6.0,7.0,7.0,7.0,7.0,5.0,4.0,7.0,7.0,6.0,7.0,6.0,8.0,6.0,5.0,6.0,6.0,6.0,6.0,6.0,6.0,7.0,6.0,6.0,5.0,7.0,6.0,8.0,6.0,5.0,7.0,7.0,5.0,6.0,8.0,10.0,6.0,4.0,6.0,7.0,6.0,6.0,8.0,7.0,8.0,7.0,6.0,6.0,6.0,6.0,6.0,9.0,4.0,8.0,6.0,6.0,7.0,6.0,6.0,6.0,7.0,6.0,7.0,7.0,6.0,7.0,7.0,8.0,5.0,5.0,7.0,6.0,5.0,8.0,6.0,6.0,6.0,7.0,6.0,6.0,6.0,5.0,6.0,5.0,6.0,5.0,6.0,6.0,10.0,10.0,5.0,6.0,7.0,7.0,6.0,7.0,6.0,8.0,8.0,6.0,6.0,6.0,7.0,7.0,7.0,7.0,4.0,7.0,7.0,6.0,5.0,6.0,7.0,6.0,6.0,7.0,6.0,6.0,7.0,6.0,7.0,6.0,6.0,8.0,6.0,6.0,7.0,6.0,9.0,8.0,6.0,6.0,7.0,6.0,6.0,5.0,8.0,6.0,8.0,6.0,6.0,6.0,6.0,7.0,5.0,8.0,7.0,6.0,5.0,6.0,6.0,6.0,8.0,4.0,6.0,6.0,7.0,6.0,5.0,6.0,6.0,8.0,6.0,7.0,6.0,7.0,8.0,7.0,7.0,7.0,6.0,8.0,6.0,5.0,5.0,7.0,6.0,7.0,7.0,5.0,8.0,7.0,6.0,6.0,4.0,6.0,6.0,7.0,5.0,6.0,6.0,7.0,6.0,6.0,6.0,6.0,7.0,7.0,7.0,6.0,6.0,6.0,9.0,3.0,6.0,6.0,8.0,7.0,6.0,6.0,3.0,5.0,5.0,9.0,6.0,6.0,7.0,5.0,8.0,6.0,6.0,4.0,5.0,5.0,6.0,8.0,6.0,8.0,5.0,6.0,7.0,5.0,6.0,5.0,7.0,5.0,6.0,7.0,7.0,6.0,6.0,8.0,6.0,7.0,6.0,6.0,7.0,6.0,5.0,8.0,7.0,5.0,7.0,6.0,6.0,7.0,6.0,6.0,7.0,6.0,7.0,6.0,6.0,6.0,7.0,6.0,6.0,7.0,6.0,6.0,6.0,5.0,7.0,6.0,6.0,5.0,7.0,8.0,5.0,6.0,6.0,6.0,8.0,5.0,6.0,7.0,6.0,5.0,6.0,5.0,6.0,7.0,6.0,6.0,6.0,8.0,6.0,6.0,5.0,7.0],\"xaxis\":\"x\",\"yaxis\":\"y\",\"type\":\"histogram\"},{\"alignmentgroup\":\"True\",\"boxpoints\":\"all\",\"fillcolor\":\"rgba(255,255,255,0)\",\"hoveron\":\"points\",\"hovertemplate\":\"defendersInTheBox=%{x}\\u003cextra\\u003e\\u003c\\u002fextra\\u003e\",\"jitter\":0,\"legendgroup\":\"\",\"line\":{\"color\":\"rgba(255,255,255,0)\"},\"marker\":{\"color\":\"rgb(95, 70, 144)\",\"symbol\":\"line-ns-open\"},\"name\":\"\",\"offsetgroup\":\"\",\"showlegend\":false,\"x\":[7.0,6.0,7.0,5.0,6.0,6.0,6.0,6.0,8.0,6.0,6.0,6.0,6.0,6.0,7.0,4.0,6.0,5.0,6.0,8.0,5.0,6.0,7.0,6.0,7.0,7.0,6.0,7.0,8.0,5.0,5.0,7.0,7.0,6.0,6.0,6.0,7.0,6.0,7.0,7.0,7.0,7.0,7.0,6.0,5.0,7.0,7.0,6.0,6.0,9.0,6.0,6.0,7.0,5.0,8.0,7.0,6.0,8.0,6.0,7.0,7.0,6.0,5.0,8.0,6.0,7.0,6.0,8.0,5.0,6.0,6.0,7.0,6.0,6.0,3.0,7.0,6.0,6.0,7.0,4.0,7.0,5.0,7.0,6.0,6.0,6.0,6.0,6.0,6.0,7.0,6.0,6.0,7.0,6.0,6.0,6.0,4.0,6.0,7.0,8.0,5.0,8.0,6.0,7.0,6.0,8.0,6.0,6.0,7.0,7.0,6.0,6.0,7.0,5.0,6.0,8.0,6.0,6.0,6.0,7.0,6.0,6.0,7.0,7.0,6.0,6.0,5.0,6.0,6.0,7.0,6.0,8.0,6.0,7.0,7.0,7.0,6.0,7.0,8.0,6.0,6.0,7.0,7.0,6.0,6.0,5.0,5.0,6.0,6.0,6.0,7.0,4.0,6.0,5.0,6.0,6.0,6.0,6.0,6.0,6.0,7.0,6.0,6.0,7.0,5.0,6.0,6.0,5.0,6.0,4.0,9.0,6.0,7.0,4.0,6.0,7.0,6.0,7.0,6.0,5.0,7.0,6.0,6.0,6.0,6.0,6.0,7.0,8.0,6.0,6.0,6.0,6.0,7.0,6.0,6.0,7.0,7.0,7.0,6.0,6.0,5.0,5.0,6.0,6.0,7.0,6.0,6.0,6.0,7.0,6.0,6.0,6.0,6.0,8.0,6.0,7.0,4.0,6.0,6.0,6.0,6.0,6.0,8.0,7.0,6.0,6.0,6.0,6.0,5.0,7.0,6.0,4.0,5.0,6.0,7.0,9.0,7.0,6.0,4.0,6.0,6.0,6.0,6.0,5.0,6.0,7.0,6.0,8.0,5.0,7.0,6.0,6.0,6.0,4.0,5.0,7.0,7.0,5.0,6.0,7.0,4.0,8.0,6.0,8.0,6.0,7.0,6.0,7.0,5.0,6.0,6.0,6.0,5.0,7.0,6.0,6.0,5.0,6.0,5.0,6.0,6.0,5.0,6.0,7.0,5.0,6.0,5.0,6.0,7.0,6.0,6.0,6.0,6.0,6.0,8.0,6.0,6.0,6.0,7.0,6.0,6.0,7.0,5.0,8.0,7.0,8.0,7.0,6.0,5.0,6.0,7.0,7.0,6.0,6.0,6.0,6.0,7.0,6.0,6.0,7.0,6.0,7.0,7.0,6.0,7.0,8.0,4.0,7.0,6.0,6.0,6.0,5.0,6.0,6.0,4.0,5.0,6.0,7.0,7.0,5.0,6.0,7.0,6.0,6.0,6.0,7.0,5.0,6.0,6.0,8.0,6.0,6.0,6.0,6.0,10.0,6.0,5.0,6.0,9.0,6.0,6.0,4.0,7.0,7.0,5.0,8.0,5.0,6.0,7.0,7.0,6.0,4.0,6.0,5.0,5.0,6.0,8.0,6.0,6.0,5.0,6.0,6.0,8.0,6.0,6.0,6.0,6.0,6.0,6.0,5.0,5.0,7.0,6.0,4.0,6.0,7.0,6.0,7.0,4.0,6.0,7.0,6.0,6.0,6.0,8.0,5.0,8.0,6.0,6.0,7.0,7.0,6.0,6.0,8.0,7.0,6.0,6.0,6.0,7.0,5.0,5.0,6.0,6.0,6.0,6.0,6.0,5.0,6.0,6.0,6.0,7.0,8.0,6.0,7.0,6.0,5.0,6.0,6.0,5.0,5.0,7.0,8.0,7.0,4.0,6.0,6.0,8.0,5.0,7.0,8.0,5.0,8.0,7.0,7.0,7.0,6.0,6.0,6.0,7.0,7.0,7.0,7.0,5.0,4.0,7.0,7.0,6.0,7.0,6.0,8.0,6.0,5.0,6.0,6.0,6.0,6.0,6.0,6.0,7.0,6.0,6.0,5.0,7.0,6.0,8.0,6.0,5.0,7.0,7.0,5.0,6.0,8.0,10.0,6.0,4.0,6.0,7.0,6.0,6.0,8.0,7.0,8.0,7.0,6.0,6.0,6.0,6.0,6.0,9.0,4.0,8.0,6.0,6.0,7.0,6.0,6.0,6.0,7.0,6.0,7.0,7.0,6.0,7.0,7.0,8.0,5.0,5.0,7.0,6.0,5.0,8.0,6.0,6.0,6.0,7.0,6.0,6.0,6.0,5.0,6.0,5.0,6.0,5.0,6.0,6.0,10.0,10.0,5.0,6.0,7.0,7.0,6.0,7.0,6.0,8.0,8.0,6.0,6.0,6.0,7.0,7.0,7.0,7.0,4.0,7.0,7.0,6.0,5.0,6.0,7.0,6.0,6.0,7.0,6.0,6.0,7.0,6.0,7.0,6.0,6.0,8.0,6.0,6.0,7.0,6.0,9.0,8.0,6.0,6.0,7.0,6.0,6.0,5.0,8.0,6.0,8.0,6.0,6.0,6.0,6.0,7.0,5.0,8.0,7.0,6.0,5.0,6.0,6.0,6.0,8.0,4.0,6.0,6.0,7.0,6.0,5.0,6.0,6.0,8.0,6.0,7.0,6.0,7.0,8.0,7.0,7.0,7.0,6.0,8.0,6.0,5.0,5.0,7.0,6.0,7.0,7.0,5.0,8.0,7.0,6.0,6.0,4.0,6.0,6.0,7.0,5.0,6.0,6.0,7.0,6.0,6.0,6.0,6.0,7.0,7.0,7.0,6.0,6.0,6.0,9.0,3.0,6.0,6.0,8.0,7.0,6.0,6.0,3.0,5.0,5.0,9.0,6.0,6.0,7.0,5.0,8.0,6.0,6.0,4.0,5.0,5.0,6.0,8.0,6.0,8.0,5.0,6.0,7.0,5.0,6.0,5.0,7.0,5.0,6.0,7.0,7.0,6.0,6.0,8.0,6.0,7.0,6.0,6.0,7.0,6.0,5.0,8.0,7.0,5.0,7.0,6.0,6.0,7.0,6.0,6.0,7.0,6.0,7.0,6.0,6.0,6.0,7.0,6.0,6.0,7.0,6.0,6.0,6.0,5.0,7.0,6.0,6.0,5.0,7.0,8.0,5.0,6.0,6.0,6.0,8.0,5.0,6.0,7.0,6.0,5.0,6.0,5.0,6.0,7.0,6.0,6.0,6.0,8.0,6.0,6.0,5.0,7.0],\"xaxis\":\"x2\",\"yaxis\":\"y2\",\"type\":\"box\"}],                        {\"template\":{\"data\":{\"histogram2dcontour\":[{\"type\":\"histogram2dcontour\",\"colorbar\":{\"outlinewidth\":0,\"ticks\":\"\"},\"colorscale\":[[0.0,\"#0d0887\"],[0.1111111111111111,\"#46039f\"],[0.2222222222222222,\"#7201a8\"],[0.3333333333333333,\"#9c179e\"],[0.4444444444444444,\"#bd3786\"],[0.5555555555555556,\"#d8576b\"],[0.6666666666666666,\"#ed7953\"],[0.7777777777777778,\"#fb9f3a\"],[0.8888888888888888,\"#fdca26\"],[1.0,\"#f0f921\"]]}],\"choropleth\":[{\"type\":\"choropleth\",\"colorbar\":{\"outlinewidth\":0,\"ticks\":\"\"}}],\"histogram2d\":[{\"type\":\"histogram2d\",\"colorbar\":{\"outlinewidth\":0,\"ticks\":\"\"},\"colorscale\":[[0.0,\"#0d0887\"],[0.1111111111111111,\"#46039f\"],[0.2222222222222222,\"#7201a8\"],[0.3333333333333333,\"#9c179e\"],[0.4444444444444444,\"#bd3786\"],[0.5555555555555556,\"#d8576b\"],[0.6666666666666666,\"#ed7953\"],[0.7777777777777778,\"#fb9f3a\"],[0.8888888888888888,\"#fdca26\"],[1.0,\"#f0f921\"]]}],\"heatmap\":[{\"type\":\"heatmap\",\"colorbar\":{\"outlinewidth\":0,\"ticks\":\"\"},\"colorscale\":[[0.0,\"#0d0887\"],[0.1111111111111111,\"#46039f\"],[0.2222222222222222,\"#7201a8\"],[0.3333333333333333,\"#9c179e\"],[0.4444444444444444,\"#bd3786\"],[0.5555555555555556,\"#d8576b\"],[0.6666666666666666,\"#ed7953\"],[0.7777777777777778,\"#fb9f3a\"],[0.8888888888888888,\"#fdca26\"],[1.0,\"#f0f921\"]]}],\"heatmapgl\":[{\"type\":\"heatmapgl\",\"colorbar\":{\"outlinewidth\":0,\"ticks\":\"\"},\"colorscale\":[[0.0,\"#0d0887\"],[0.1111111111111111,\"#46039f\"],[0.2222222222222222,\"#7201a8\"],[0.3333333333333333,\"#9c179e\"],[0.4444444444444444,\"#bd3786\"],[0.5555555555555556,\"#d8576b\"],[0.6666666666666666,\"#ed7953\"],[0.7777777777777778,\"#fb9f3a\"],[0.8888888888888888,\"#fdca26\"],[1.0,\"#f0f921\"]]}],\"contourcarpet\":[{\"type\":\"contourcarpet\",\"colorbar\":{\"outlinewidth\":0,\"ticks\":\"\"}}],\"contour\":[{\"type\":\"contour\",\"colorbar\":{\"outlinewidth\":0,\"ticks\":\"\"},\"colorscale\":[[0.0,\"#0d0887\"],[0.1111111111111111,\"#46039f\"],[0.2222222222222222,\"#7201a8\"],[0.3333333333333333,\"#9c179e\"],[0.4444444444444444,\"#bd3786\"],[0.5555555555555556,\"#d8576b\"],[0.6666666666666666,\"#ed7953\"],[0.7777777777777778,\"#fb9f3a\"],[0.8888888888888888,\"#fdca26\"],[1.0,\"#f0f921\"]]}],\"surface\":[{\"type\":\"surface\",\"colorbar\":{\"outlinewidth\":0,\"ticks\":\"\"},\"colorscale\":[[0.0,\"#0d0887\"],[0.1111111111111111,\"#46039f\"],[0.2222222222222222,\"#7201a8\"],[0.3333333333333333,\"#9c179e\"],[0.4444444444444444,\"#bd3786\"],[0.5555555555555556,\"#d8576b\"],[0.6666666666666666,\"#ed7953\"],[0.7777777777777778,\"#fb9f3a\"],[0.8888888888888888,\"#fdca26\"],[1.0,\"#f0f921\"]]}],\"mesh3d\":[{\"type\":\"mesh3d\",\"colorbar\":{\"outlinewidth\":0,\"ticks\":\"\"}}],\"scatter\":[{\"fillpattern\":{\"fillmode\":\"overlay\",\"size\":10,\"solidity\":0.2},\"type\":\"scatter\"}],\"parcoords\":[{\"type\":\"parcoords\",\"line\":{\"colorbar\":{\"outlinewidth\":0,\"ticks\":\"\"}}}],\"scatterpolargl\":[{\"type\":\"scatterpolargl\",\"marker\":{\"colorbar\":{\"outlinewidth\":0,\"ticks\":\"\"}}}],\"bar\":[{\"error_x\":{\"color\":\"#2a3f5f\"},\"error_y\":{\"color\":\"#2a3f5f\"},\"marker\":{\"line\":{\"color\":\"#E5ECF6\",\"width\":0.5},\"pattern\":{\"fillmode\":\"overlay\",\"size\":10,\"solidity\":0.2}},\"type\":\"bar\"}],\"scattergeo\":[{\"type\":\"scattergeo\",\"marker\":{\"colorbar\":{\"outlinewidth\":0,\"ticks\":\"\"}}}],\"scatterpolar\":[{\"type\":\"scatterpolar\",\"marker\":{\"colorbar\":{\"outlinewidth\":0,\"ticks\":\"\"}}}],\"histogram\":[{\"marker\":{\"pattern\":{\"fillmode\":\"overlay\",\"size\":10,\"solidity\":0.2}},\"type\":\"histogram\"}],\"scattergl\":[{\"type\":\"scattergl\",\"marker\":{\"colorbar\":{\"outlinewidth\":0,\"ticks\":\"\"}}}],\"scatter3d\":[{\"type\":\"scatter3d\",\"line\":{\"colorbar\":{\"outlinewidth\":0,\"ticks\":\"\"}},\"marker\":{\"colorbar\":{\"outlinewidth\":0,\"ticks\":\"\"}}}],\"scattermapbox\":[{\"type\":\"scattermapbox\",\"marker\":{\"colorbar\":{\"outlinewidth\":0,\"ticks\":\"\"}}}],\"scatterternary\":[{\"type\":\"scatterternary\",\"marker\":{\"colorbar\":{\"outlinewidth\":0,\"ticks\":\"\"}}}],\"scattercarpet\":[{\"type\":\"scattercarpet\",\"marker\":{\"colorbar\":{\"outlinewidth\":0,\"ticks\":\"\"}}}],\"carpet\":[{\"aaxis\":{\"endlinecolor\":\"#2a3f5f\",\"gridcolor\":\"white\",\"linecolor\":\"white\",\"minorgridcolor\":\"white\",\"startlinecolor\":\"#2a3f5f\"},\"baxis\":{\"endlinecolor\":\"#2a3f5f\",\"gridcolor\":\"white\",\"linecolor\":\"white\",\"minorgridcolor\":\"white\",\"startlinecolor\":\"#2a3f5f\"},\"type\":\"carpet\"}],\"table\":[{\"cells\":{\"fill\":{\"color\":\"#EBF0F8\"},\"line\":{\"color\":\"white\"}},\"header\":{\"fill\":{\"color\":\"#C8D4E3\"},\"line\":{\"color\":\"white\"}},\"type\":\"table\"}],\"barpolar\":[{\"marker\":{\"line\":{\"color\":\"#E5ECF6\",\"width\":0.5},\"pattern\":{\"fillmode\":\"overlay\",\"size\":10,\"solidity\":0.2}},\"type\":\"barpolar\"}],\"pie\":[{\"automargin\":true,\"type\":\"pie\"}]},\"layout\":{\"autotypenumbers\":\"strict\",\"colorway\":[\"#636efa\",\"#EF553B\",\"#00cc96\",\"#ab63fa\",\"#FFA15A\",\"#19d3f3\",\"#FF6692\",\"#B6E880\",\"#FF97FF\",\"#FECB52\"],\"font\":{\"color\":\"#2a3f5f\"},\"hovermode\":\"closest\",\"hoverlabel\":{\"align\":\"left\"},\"paper_bgcolor\":\"white\",\"plot_bgcolor\":\"#E5ECF6\",\"polar\":{\"bgcolor\":\"#E5ECF6\",\"angularaxis\":{\"gridcolor\":\"white\",\"linecolor\":\"white\",\"ticks\":\"\"},\"radialaxis\":{\"gridcolor\":\"white\",\"linecolor\":\"white\",\"ticks\":\"\"}},\"ternary\":{\"bgcolor\":\"#E5ECF6\",\"aaxis\":{\"gridcolor\":\"white\",\"linecolor\":\"white\",\"ticks\":\"\"},\"baxis\":{\"gridcolor\":\"white\",\"linecolor\":\"white\",\"ticks\":\"\"},\"caxis\":{\"gridcolor\":\"white\",\"linecolor\":\"white\",\"ticks\":\"\"}},\"coloraxis\":{\"colorbar\":{\"outlinewidth\":0,\"ticks\":\"\"}},\"colorscale\":{\"sequential\":[[0.0,\"#0d0887\"],[0.1111111111111111,\"#46039f\"],[0.2222222222222222,\"#7201a8\"],[0.3333333333333333,\"#9c179e\"],[0.4444444444444444,\"#bd3786\"],[0.5555555555555556,\"#d8576b\"],[0.6666666666666666,\"#ed7953\"],[0.7777777777777778,\"#fb9f3a\"],[0.8888888888888888,\"#fdca26\"],[1.0,\"#f0f921\"]],\"sequentialminus\":[[0.0,\"#0d0887\"],[0.1111111111111111,\"#46039f\"],[0.2222222222222222,\"#7201a8\"],[0.3333333333333333,\"#9c179e\"],[0.4444444444444444,\"#bd3786\"],[0.5555555555555556,\"#d8576b\"],[0.6666666666666666,\"#ed7953\"],[0.7777777777777778,\"#fb9f3a\"],[0.8888888888888888,\"#fdca26\"],[1.0,\"#f0f921\"]],\"diverging\":[[0,\"#8e0152\"],[0.1,\"#c51b7d\"],[0.2,\"#de77ae\"],[0.3,\"#f1b6da\"],[0.4,\"#fde0ef\"],[0.5,\"#f7f7f7\"],[0.6,\"#e6f5d0\"],[0.7,\"#b8e186\"],[0.8,\"#7fbc41\"],[0.9,\"#4d9221\"],[1,\"#276419\"]]},\"xaxis\":{\"gridcolor\":\"white\",\"linecolor\":\"white\",\"ticks\":\"\",\"title\":{\"standoff\":15},\"zerolinecolor\":\"white\",\"automargin\":true,\"zerolinewidth\":2},\"yaxis\":{\"gridcolor\":\"white\",\"linecolor\":\"white\",\"ticks\":\"\",\"title\":{\"standoff\":15},\"zerolinecolor\":\"white\",\"automargin\":true,\"zerolinewidth\":2},\"scene\":{\"xaxis\":{\"backgroundcolor\":\"#E5ECF6\",\"gridcolor\":\"white\",\"linecolor\":\"white\",\"showbackground\":true,\"ticks\":\"\",\"zerolinecolor\":\"white\",\"gridwidth\":2},\"yaxis\":{\"backgroundcolor\":\"#E5ECF6\",\"gridcolor\":\"white\",\"linecolor\":\"white\",\"showbackground\":true,\"ticks\":\"\",\"zerolinecolor\":\"white\",\"gridwidth\":2},\"zaxis\":{\"backgroundcolor\":\"#E5ECF6\",\"gridcolor\":\"white\",\"linecolor\":\"white\",\"showbackground\":true,\"ticks\":\"\",\"zerolinecolor\":\"white\",\"gridwidth\":2}},\"shapedefaults\":{\"line\":{\"color\":\"#2a3f5f\"}},\"annotationdefaults\":{\"arrowcolor\":\"#2a3f5f\",\"arrowhead\":0,\"arrowwidth\":1},\"geo\":{\"bgcolor\":\"white\",\"landcolor\":\"#E5ECF6\",\"subunitcolor\":\"white\",\"showland\":true,\"showlakes\":true,\"lakecolor\":\"white\"},\"title\":{\"x\":0.05},\"mapbox\":{\"style\":\"light\"}}},\"xaxis\":{\"anchor\":\"y\",\"domain\":[0.0,1.0],\"title\":{\"text\":\"defendersInTheBox\"}},\"yaxis\":{\"anchor\":\"x\",\"domain\":[0.0,0.8316],\"title\":{\"text\":\"count\"}},\"xaxis2\":{\"anchor\":\"y2\",\"domain\":[0.0,1.0],\"matches\":\"x\",\"showticklabels\":false,\"showgrid\":true},\"yaxis2\":{\"anchor\":\"x2\",\"domain\":[0.8416,1.0],\"matches\":\"y2\",\"showticklabels\":false,\"showline\":false,\"ticks\":\"\",\"showgrid\":false},\"legend\":{\"tracegroupgap\":0},\"title\":{\"text\":\"Distribution of Defenders in the Box by Plays for the Chiefs\"},\"barmode\":\"relative\"},                        {\"responsive\": true}                    ).then(function(){\n",
       "                            \n",
       "var gd = document.getElementById('be2f90b4-e4fd-496c-aafe-ca0931c852f7');\n",
       "var x = new MutationObserver(function (mutations, observer) {{\n",
       "        var display = window.getComputedStyle(gd).display;\n",
       "        if (!display || display === 'none') {{\n",
       "            console.log([gd, 'removed!']);\n",
       "            Plotly.purge(gd);\n",
       "            observer.disconnect();\n",
       "        }}\n",
       "}});\n",
       "\n",
       "// Listen for the removal of the full notebook cells\n",
       "var notebookContainer = gd.closest('#notebook-container');\n",
       "if (notebookContainer) {{\n",
       "    x.observe(notebookContainer, {childList: true});\n",
       "}}\n",
       "\n",
       "// Listen for the clearing of the current output cell\n",
       "var outputEl = gd.closest('.output');\n",
       "if (outputEl) {{\n",
       "    x.observe(outputEl, {childList: true});\n",
       "}}\n",
       "\n",
       "                        })                };                });            </script>        </div>"
      ]
     },
     "metadata": {},
     "output_type": "display_data"
    }
   ],
   "source": [
    "sf_play_tackles = play_tackles[(play_tackles['possessionTeam'] == 'KC') | (play_tackles['defensiveTeam'] == 'KC')]\n",
    "\n",
    "# Create the histogram for the filtered data\n",
    "fig = px.histogram(sf_play_tackles, x=\"defendersInTheBox\", marginal=\"rug\",\n",
    "                   title='Distribution of Defenders in the Box by Plays for the Chiefs',\n",
    "                   color_discrete_sequence=px.colors.qualitative.Prism)\n",
    "\n",
    "# Display the figure\n",
    "fig.show()"
   ]
  },
  {
   "cell_type": "markdown",
   "id": "f11d1e8c-32f4-4f59-9613-17421b78d1cd",
   "metadata": {
    "scrolled": true
   },
   "source": [
    "We can see its distribution to be more equal (with the majority of the plays having it equal to `6`). Significantly more plays involving the Chiefs have `6` defenders in the box than those for the 49ers. Let's now see if this changes for plays with successful tackles? Let's develop two charts that will illustrate the distribution of defenders near the line of scrimmage for all plays and then those with successful tackles."
   ]
  },
  {
   "cell_type": "code",
   "execution_count": 26,
   "id": "9db46702-0671-4895-8b6f-b36eada60848",
   "metadata": {
    "scrolled": true
   },
   "outputs": [
    {
     "data": {
      "application/vnd.plotly.v1+json": {
       "config": {
        "plotlyServerURL": "https://plot.ly"
       },
       "data": [
        {
         "alignmentgroup": "True",
         "hovertemplate": "tackles=%{x}<br>defendersInTheBox=%{y}<extra></extra>",
         "legendgroup": "",
         "marker": {
          "color": "rgb(95, 70, 144)"
         },
         "name": "",
         "notched": false,
         "offsetgroup": "",
         "orientation": "v",
         "showlegend": false,
         "type": "box",
         "x": [
          0,
          1,
          1,
          -1,
          0,
          1,
          1,
          1,
          1,
          1,
          1,
          1,
          1,
          1,
          1,
          1,
          1,
          1,
          1,
          1,
          0,
          1,
          1,
          1,
          1,
          0,
          1,
          -1,
          1,
          1,
          1,
          1,
          1,
          1,
          1,
          1,
          0,
          1,
          1,
          0,
          1,
          -1,
          1,
          1,
          0,
          0,
          1,
          1,
          0,
          1,
          1,
          0,
          1,
          1,
          1,
          1,
          1,
          0,
          1,
          1,
          0,
          1,
          0,
          1,
          0,
          1,
          1,
          1,
          1,
          1,
          1,
          1,
          1,
          1,
          1,
          -1,
          1,
          1,
          1,
          0,
          1,
          1,
          1,
          1,
          1,
          0,
          1,
          1,
          0,
          1,
          1,
          1,
          0,
          1,
          1,
          1,
          0,
          1,
          1,
          1,
          1,
          1,
          -1,
          0,
          0,
          1,
          1,
          1,
          1,
          0,
          1,
          1,
          1,
          1,
          1,
          0,
          1,
          1,
          1,
          -1,
          1,
          1,
          1,
          1,
          1,
          -1,
          1,
          1,
          0,
          1,
          0,
          0,
          -1,
          1,
          1,
          1,
          1,
          1,
          1,
          1,
          1,
          0,
          0,
          1,
          1,
          1,
          1,
          1,
          1,
          0,
          1,
          1,
          1,
          1,
          1,
          1,
          1,
          1,
          1,
          1,
          1,
          1,
          0,
          1,
          1,
          1,
          1,
          0,
          1,
          1,
          0,
          1,
          1,
          1,
          1,
          1,
          1,
          1,
          1,
          1,
          1,
          0,
          1,
          1,
          0,
          1,
          1,
          1,
          1,
          1,
          1,
          0,
          0,
          1,
          0,
          0,
          1,
          1,
          1,
          1,
          1,
          1,
          1,
          1,
          1,
          1,
          0,
          1,
          1,
          1,
          1,
          1,
          1,
          0,
          1,
          0,
          1,
          1,
          0,
          0,
          1,
          1,
          0,
          1,
          1,
          1,
          1,
          1,
          1,
          1,
          -1,
          1,
          1,
          1,
          1,
          -1,
          1,
          1,
          1,
          1,
          1,
          1,
          0,
          1,
          1,
          1,
          1,
          1,
          1,
          1,
          1,
          1,
          0,
          0,
          1,
          1,
          1,
          1,
          1,
          0,
          1,
          1,
          1,
          1,
          1,
          1,
          1,
          1,
          1,
          1,
          1,
          1,
          0,
          1,
          1,
          1,
          1,
          1,
          1,
          1,
          0,
          1,
          1,
          1,
          1,
          0,
          1,
          0,
          1,
          1,
          1,
          1,
          1,
          1,
          1,
          0,
          1,
          0,
          1,
          1,
          1,
          0,
          0,
          1,
          1,
          1,
          0,
          1,
          1,
          1,
          0,
          1,
          1,
          0,
          1,
          1,
          0,
          1,
          1,
          1,
          1,
          0,
          1,
          -1,
          1,
          -1,
          1,
          0,
          1,
          1,
          1,
          1,
          1,
          1,
          1,
          1,
          1,
          1,
          0,
          1,
          1,
          1,
          1,
          0,
          1,
          0,
          1,
          1,
          1,
          1,
          1,
          1,
          1,
          1,
          -1,
          1,
          0,
          1,
          1,
          1,
          1,
          1,
          1,
          1,
          1,
          1,
          1,
          1,
          1,
          0,
          1,
          1,
          1,
          0,
          1,
          1,
          1,
          -1,
          -1,
          1,
          1,
          1,
          1,
          1,
          1,
          1,
          1,
          0,
          0,
          1,
          1,
          1,
          1,
          0,
          0,
          1,
          1,
          1,
          1,
          1,
          1,
          0,
          1,
          1,
          1,
          1,
          1,
          1,
          1,
          1,
          1,
          1,
          1,
          1,
          1,
          1,
          1,
          1,
          1,
          0,
          1,
          1,
          -1,
          1,
          1,
          1,
          1,
          1,
          1,
          1,
          1,
          1,
          1,
          1,
          1,
          1,
          1,
          1,
          1,
          1,
          1,
          1,
          1,
          1,
          0,
          1,
          0,
          1,
          0,
          1,
          1,
          0,
          1,
          1,
          1,
          1,
          0,
          1,
          0,
          1,
          1,
          1,
          1,
          1,
          0,
          1,
          1,
          1,
          1,
          1,
          0,
          1,
          1,
          1,
          0,
          1,
          1,
          1,
          1,
          1,
          1,
          1,
          1,
          1,
          1,
          1,
          1,
          0,
          1,
          1,
          1,
          1,
          1,
          1,
          1,
          1,
          1,
          1,
          1,
          1,
          1,
          1,
          0,
          1,
          1,
          0,
          1,
          1,
          -1,
          1,
          1,
          1,
          1,
          1,
          1,
          1,
          1,
          1,
          1,
          1,
          1,
          1,
          1,
          1,
          1,
          1,
          1,
          1,
          0,
          1,
          1,
          1,
          0,
          1,
          1,
          0,
          1,
          1,
          0,
          1,
          1,
          1,
          1,
          1,
          1,
          0,
          -1,
          1,
          1,
          1,
          0,
          0,
          1,
          1,
          1,
          1,
          1,
          0,
          1,
          0,
          1,
          1,
          1,
          1,
          1,
          1,
          1,
          1,
          1,
          1,
          1,
          1,
          0,
          1,
          1,
          1,
          1,
          1,
          0,
          1,
          1,
          1,
          1,
          1,
          1,
          -1,
          1,
          1,
          0,
          1,
          1,
          1,
          1,
          1,
          0,
          1,
          1,
          1,
          1,
          1,
          1,
          1,
          1,
          1,
          1,
          1,
          0,
          1,
          1,
          0,
          1,
          1,
          1,
          1,
          1,
          1,
          0,
          1,
          -1,
          1,
          1,
          1,
          1,
          0,
          1,
          -1,
          0,
          1,
          1,
          1,
          1,
          1,
          1,
          0,
          1,
          1,
          1,
          0,
          1,
          1,
          0,
          0,
          1,
          1,
          1,
          1,
          0,
          1,
          0,
          1,
          1,
          1,
          1,
          0,
          0,
          1,
          1,
          1,
          0,
          1,
          0,
          0,
          1,
          1,
          1,
          1,
          0,
          1,
          1,
          1,
          1,
          0,
          1,
          1,
          0,
          1,
          0,
          0,
          1,
          1,
          1,
          1,
          1,
          1,
          1,
          1,
          1,
          1,
          1,
          1,
          1,
          1,
          1,
          0,
          1,
          0,
          1,
          1,
          1,
          1,
          1,
          1,
          0,
          1,
          1,
          1,
          1,
          1,
          1,
          1,
          0,
          1,
          0,
          1,
          0,
          0,
          0,
          1,
          0,
          1,
          1,
          1,
          1,
          1,
          1,
          0,
          1,
          1,
          1,
          1,
          0,
          0,
          1,
          1,
          0,
          1,
          1,
          1,
          1,
          1,
          1,
          1,
          1,
          1,
          1,
          1,
          1,
          1,
          1,
          1,
          1,
          0,
          0,
          1,
          1,
          1,
          1
         ],
         "x0": " ",
         "xaxis": "x",
         "y": [
          7,
          6,
          7,
          5,
          6,
          6,
          6,
          6,
          8,
          6,
          6,
          6,
          6,
          6,
          7,
          4,
          6,
          5,
          6,
          8,
          5,
          6,
          7,
          6,
          7,
          7,
          6,
          7,
          8,
          5,
          5,
          7,
          7,
          6,
          6,
          6,
          7,
          6,
          7,
          7,
          7,
          7,
          7,
          6,
          5,
          7,
          7,
          6,
          6,
          9,
          6,
          6,
          7,
          5,
          8,
          7,
          6,
          8,
          6,
          7,
          7,
          6,
          5,
          8,
          6,
          7,
          6,
          8,
          5,
          6,
          6,
          7,
          6,
          6,
          3,
          7,
          6,
          6,
          7,
          4,
          7,
          5,
          7,
          6,
          6,
          6,
          6,
          6,
          6,
          7,
          6,
          6,
          7,
          6,
          6,
          6,
          4,
          6,
          7,
          8,
          5,
          8,
          6,
          7,
          6,
          8,
          6,
          6,
          7,
          7,
          6,
          6,
          7,
          5,
          6,
          8,
          6,
          6,
          6,
          7,
          6,
          6,
          7,
          7,
          6,
          6,
          5,
          6,
          6,
          7,
          6,
          8,
          6,
          7,
          7,
          7,
          6,
          7,
          8,
          6,
          6,
          7,
          7,
          6,
          6,
          5,
          5,
          6,
          6,
          6,
          7,
          4,
          6,
          5,
          6,
          6,
          6,
          6,
          6,
          6,
          7,
          6,
          6,
          7,
          5,
          6,
          6,
          5,
          6,
          4,
          9,
          6,
          7,
          4,
          6,
          7,
          6,
          7,
          6,
          5,
          7,
          6,
          6,
          6,
          6,
          6,
          7,
          8,
          6,
          6,
          6,
          6,
          7,
          6,
          6,
          7,
          7,
          7,
          6,
          6,
          5,
          5,
          6,
          6,
          7,
          6,
          6,
          6,
          7,
          6,
          6,
          6,
          6,
          8,
          6,
          7,
          4,
          6,
          6,
          6,
          6,
          6,
          8,
          7,
          6,
          6,
          6,
          6,
          5,
          7,
          6,
          4,
          5,
          6,
          7,
          9,
          7,
          6,
          4,
          6,
          6,
          6,
          6,
          5,
          6,
          7,
          6,
          8,
          5,
          7,
          6,
          6,
          6,
          4,
          5,
          7,
          7,
          5,
          6,
          7,
          4,
          8,
          6,
          8,
          6,
          7,
          6,
          7,
          5,
          6,
          6,
          6,
          5,
          7,
          6,
          6,
          5,
          6,
          5,
          6,
          6,
          5,
          6,
          7,
          5,
          6,
          5,
          6,
          7,
          6,
          6,
          6,
          6,
          6,
          8,
          6,
          6,
          6,
          7,
          6,
          6,
          7,
          5,
          8,
          7,
          8,
          7,
          6,
          5,
          6,
          7,
          7,
          6,
          6,
          6,
          6,
          7,
          6,
          6,
          7,
          6,
          7,
          7,
          6,
          7,
          8,
          4,
          7,
          6,
          6,
          6,
          5,
          6,
          6,
          4,
          5,
          6,
          7,
          7,
          5,
          6,
          7,
          6,
          6,
          6,
          7,
          5,
          6,
          6,
          8,
          6,
          6,
          6,
          6,
          10,
          6,
          5,
          6,
          9,
          6,
          6,
          4,
          7,
          7,
          5,
          8,
          5,
          6,
          7,
          7,
          6,
          4,
          6,
          5,
          5,
          6,
          8,
          6,
          6,
          5,
          6,
          6,
          8,
          6,
          6,
          6,
          6,
          6,
          6,
          5,
          5,
          7,
          6,
          4,
          6,
          7,
          6,
          7,
          4,
          6,
          7,
          6,
          6,
          6,
          8,
          5,
          8,
          6,
          6,
          7,
          7,
          6,
          6,
          8,
          7,
          6,
          6,
          6,
          7,
          5,
          5,
          6,
          6,
          6,
          6,
          6,
          5,
          6,
          6,
          6,
          7,
          8,
          6,
          7,
          6,
          5,
          6,
          6,
          5,
          5,
          7,
          8,
          7,
          4,
          6,
          6,
          8,
          5,
          7,
          8,
          5,
          8,
          7,
          7,
          7,
          6,
          6,
          6,
          7,
          7,
          7,
          7,
          5,
          4,
          7,
          7,
          6,
          7,
          6,
          8,
          6,
          5,
          6,
          6,
          6,
          6,
          6,
          6,
          7,
          6,
          6,
          5,
          7,
          6,
          8,
          6,
          5,
          7,
          7,
          5,
          6,
          8,
          10,
          6,
          4,
          6,
          7,
          6,
          6,
          8,
          7,
          8,
          7,
          6,
          6,
          6,
          6,
          6,
          9,
          4,
          8,
          6,
          6,
          7,
          6,
          6,
          6,
          7,
          6,
          7,
          7,
          6,
          7,
          7,
          8,
          5,
          5,
          7,
          6,
          5,
          8,
          6,
          6,
          6,
          7,
          6,
          6,
          6,
          5,
          6,
          5,
          6,
          5,
          6,
          6,
          10,
          10,
          5,
          6,
          7,
          7,
          6,
          7,
          6,
          8,
          8,
          6,
          6,
          6,
          7,
          7,
          7,
          7,
          4,
          7,
          7,
          6,
          5,
          6,
          7,
          6,
          6,
          7,
          6,
          6,
          7,
          6,
          7,
          6,
          6,
          8,
          6,
          6,
          7,
          6,
          9,
          8,
          6,
          6,
          7,
          6,
          6,
          5,
          8,
          6,
          8,
          6,
          6,
          6,
          6,
          7,
          5,
          8,
          7,
          6,
          5,
          6,
          6,
          6,
          8,
          4,
          6,
          6,
          7,
          6,
          5,
          6,
          6,
          8,
          6,
          7,
          6,
          7,
          8,
          7,
          7,
          7,
          6,
          8,
          6,
          5,
          5,
          7,
          6,
          7,
          7,
          5,
          8,
          7,
          6,
          6,
          4,
          6,
          6,
          7,
          5,
          6,
          6,
          7,
          6,
          6,
          6,
          6,
          7,
          7,
          7,
          6,
          6,
          6,
          9,
          3,
          6,
          6,
          8,
          7,
          6,
          6,
          3,
          5,
          5,
          9,
          6,
          6,
          7,
          5,
          8,
          6,
          6,
          4,
          5,
          5,
          6,
          8,
          6,
          8,
          5,
          6,
          7,
          5,
          6,
          5,
          7,
          5,
          6,
          7,
          7,
          6,
          6,
          8,
          6,
          7,
          6,
          6,
          7,
          6,
          5,
          8,
          7,
          5,
          7,
          6,
          6,
          7,
          6,
          6,
          7,
          6,
          7,
          6,
          6,
          6,
          7,
          6,
          6,
          7,
          6,
          6,
          6,
          5,
          7,
          6,
          6,
          5,
          7,
          8,
          5,
          6,
          6,
          6,
          8,
          5,
          6,
          7,
          6,
          5,
          6,
          5,
          6,
          7,
          6,
          6,
          6,
          8,
          6,
          6,
          5,
          7
         ],
         "y0": " ",
         "yaxis": "y"
        }
       ],
       "layout": {
        "autosize": true,
        "boxmode": "group",
        "legend": {
         "tracegroupgap": 0
        },
        "template": {
         "data": {
          "bar": [
           {
            "error_x": {
             "color": "#2a3f5f"
            },
            "error_y": {
             "color": "#2a3f5f"
            },
            "marker": {
             "line": {
              "color": "#E5ECF6",
              "width": 0.5
             },
             "pattern": {
              "fillmode": "overlay",
              "size": 10,
              "solidity": 0.2
             }
            },
            "type": "bar"
           }
          ],
          "barpolar": [
           {
            "marker": {
             "line": {
              "color": "#E5ECF6",
              "width": 0.5
             },
             "pattern": {
              "fillmode": "overlay",
              "size": 10,
              "solidity": 0.2
             }
            },
            "type": "barpolar"
           }
          ],
          "carpet": [
           {
            "aaxis": {
             "endlinecolor": "#2a3f5f",
             "gridcolor": "white",
             "linecolor": "white",
             "minorgridcolor": "white",
             "startlinecolor": "#2a3f5f"
            },
            "baxis": {
             "endlinecolor": "#2a3f5f",
             "gridcolor": "white",
             "linecolor": "white",
             "minorgridcolor": "white",
             "startlinecolor": "#2a3f5f"
            },
            "type": "carpet"
           }
          ],
          "choropleth": [
           {
            "colorbar": {
             "outlinewidth": 0,
             "ticks": ""
            },
            "type": "choropleth"
           }
          ],
          "contour": [
           {
            "colorbar": {
             "outlinewidth": 0,
             "ticks": ""
            },
            "colorscale": [
             [
              0,
              "#0d0887"
             ],
             [
              0.1111111111111111,
              "#46039f"
             ],
             [
              0.2222222222222222,
              "#7201a8"
             ],
             [
              0.3333333333333333,
              "#9c179e"
             ],
             [
              0.4444444444444444,
              "#bd3786"
             ],
             [
              0.5555555555555556,
              "#d8576b"
             ],
             [
              0.6666666666666666,
              "#ed7953"
             ],
             [
              0.7777777777777778,
              "#fb9f3a"
             ],
             [
              0.8888888888888888,
              "#fdca26"
             ],
             [
              1,
              "#f0f921"
             ]
            ],
            "type": "contour"
           }
          ],
          "contourcarpet": [
           {
            "colorbar": {
             "outlinewidth": 0,
             "ticks": ""
            },
            "type": "contourcarpet"
           }
          ],
          "heatmap": [
           {
            "colorbar": {
             "outlinewidth": 0,
             "ticks": ""
            },
            "colorscale": [
             [
              0,
              "#0d0887"
             ],
             [
              0.1111111111111111,
              "#46039f"
             ],
             [
              0.2222222222222222,
              "#7201a8"
             ],
             [
              0.3333333333333333,
              "#9c179e"
             ],
             [
              0.4444444444444444,
              "#bd3786"
             ],
             [
              0.5555555555555556,
              "#d8576b"
             ],
             [
              0.6666666666666666,
              "#ed7953"
             ],
             [
              0.7777777777777778,
              "#fb9f3a"
             ],
             [
              0.8888888888888888,
              "#fdca26"
             ],
             [
              1,
              "#f0f921"
             ]
            ],
            "type": "heatmap"
           }
          ],
          "heatmapgl": [
           {
            "colorbar": {
             "outlinewidth": 0,
             "ticks": ""
            },
            "colorscale": [
             [
              0,
              "#0d0887"
             ],
             [
              0.1111111111111111,
              "#46039f"
             ],
             [
              0.2222222222222222,
              "#7201a8"
             ],
             [
              0.3333333333333333,
              "#9c179e"
             ],
             [
              0.4444444444444444,
              "#bd3786"
             ],
             [
              0.5555555555555556,
              "#d8576b"
             ],
             [
              0.6666666666666666,
              "#ed7953"
             ],
             [
              0.7777777777777778,
              "#fb9f3a"
             ],
             [
              0.8888888888888888,
              "#fdca26"
             ],
             [
              1,
              "#f0f921"
             ]
            ],
            "type": "heatmapgl"
           }
          ],
          "histogram": [
           {
            "marker": {
             "pattern": {
              "fillmode": "overlay",
              "size": 10,
              "solidity": 0.2
             }
            },
            "type": "histogram"
           }
          ],
          "histogram2d": [
           {
            "colorbar": {
             "outlinewidth": 0,
             "ticks": ""
            },
            "colorscale": [
             [
              0,
              "#0d0887"
             ],
             [
              0.1111111111111111,
              "#46039f"
             ],
             [
              0.2222222222222222,
              "#7201a8"
             ],
             [
              0.3333333333333333,
              "#9c179e"
             ],
             [
              0.4444444444444444,
              "#bd3786"
             ],
             [
              0.5555555555555556,
              "#d8576b"
             ],
             [
              0.6666666666666666,
              "#ed7953"
             ],
             [
              0.7777777777777778,
              "#fb9f3a"
             ],
             [
              0.8888888888888888,
              "#fdca26"
             ],
             [
              1,
              "#f0f921"
             ]
            ],
            "type": "histogram2d"
           }
          ],
          "histogram2dcontour": [
           {
            "colorbar": {
             "outlinewidth": 0,
             "ticks": ""
            },
            "colorscale": [
             [
              0,
              "#0d0887"
             ],
             [
              0.1111111111111111,
              "#46039f"
             ],
             [
              0.2222222222222222,
              "#7201a8"
             ],
             [
              0.3333333333333333,
              "#9c179e"
             ],
             [
              0.4444444444444444,
              "#bd3786"
             ],
             [
              0.5555555555555556,
              "#d8576b"
             ],
             [
              0.6666666666666666,
              "#ed7953"
             ],
             [
              0.7777777777777778,
              "#fb9f3a"
             ],
             [
              0.8888888888888888,
              "#fdca26"
             ],
             [
              1,
              "#f0f921"
             ]
            ],
            "type": "histogram2dcontour"
           }
          ],
          "mesh3d": [
           {
            "colorbar": {
             "outlinewidth": 0,
             "ticks": ""
            },
            "type": "mesh3d"
           }
          ],
          "parcoords": [
           {
            "line": {
             "colorbar": {
              "outlinewidth": 0,
              "ticks": ""
             }
            },
            "type": "parcoords"
           }
          ],
          "pie": [
           {
            "automargin": true,
            "type": "pie"
           }
          ],
          "scatter": [
           {
            "fillpattern": {
             "fillmode": "overlay",
             "size": 10,
             "solidity": 0.2
            },
            "type": "scatter"
           }
          ],
          "scatter3d": [
           {
            "line": {
             "colorbar": {
              "outlinewidth": 0,
              "ticks": ""
             }
            },
            "marker": {
             "colorbar": {
              "outlinewidth": 0,
              "ticks": ""
             }
            },
            "type": "scatter3d"
           }
          ],
          "scattercarpet": [
           {
            "marker": {
             "colorbar": {
              "outlinewidth": 0,
              "ticks": ""
             }
            },
            "type": "scattercarpet"
           }
          ],
          "scattergeo": [
           {
            "marker": {
             "colorbar": {
              "outlinewidth": 0,
              "ticks": ""
             }
            },
            "type": "scattergeo"
           }
          ],
          "scattergl": [
           {
            "marker": {
             "colorbar": {
              "outlinewidth": 0,
              "ticks": ""
             }
            },
            "type": "scattergl"
           }
          ],
          "scattermapbox": [
           {
            "marker": {
             "colorbar": {
              "outlinewidth": 0,
              "ticks": ""
             }
            },
            "type": "scattermapbox"
           }
          ],
          "scatterpolar": [
           {
            "marker": {
             "colorbar": {
              "outlinewidth": 0,
              "ticks": ""
             }
            },
            "type": "scatterpolar"
           }
          ],
          "scatterpolargl": [
           {
            "marker": {
             "colorbar": {
              "outlinewidth": 0,
              "ticks": ""
             }
            },
            "type": "scatterpolargl"
           }
          ],
          "scatterternary": [
           {
            "marker": {
             "colorbar": {
              "outlinewidth": 0,
              "ticks": ""
             }
            },
            "type": "scatterternary"
           }
          ],
          "surface": [
           {
            "colorbar": {
             "outlinewidth": 0,
             "ticks": ""
            },
            "colorscale": [
             [
              0,
              "#0d0887"
             ],
             [
              0.1111111111111111,
              "#46039f"
             ],
             [
              0.2222222222222222,
              "#7201a8"
             ],
             [
              0.3333333333333333,
              "#9c179e"
             ],
             [
              0.4444444444444444,
              "#bd3786"
             ],
             [
              0.5555555555555556,
              "#d8576b"
             ],
             [
              0.6666666666666666,
              "#ed7953"
             ],
             [
              0.7777777777777778,
              "#fb9f3a"
             ],
             [
              0.8888888888888888,
              "#fdca26"
             ],
             [
              1,
              "#f0f921"
             ]
            ],
            "type": "surface"
           }
          ],
          "table": [
           {
            "cells": {
             "fill": {
              "color": "#EBF0F8"
             },
             "line": {
              "color": "white"
             }
            },
            "header": {
             "fill": {
              "color": "#C8D4E3"
             },
             "line": {
              "color": "white"
             }
            },
            "type": "table"
           }
          ]
         },
         "layout": {
          "annotationdefaults": {
           "arrowcolor": "#2a3f5f",
           "arrowhead": 0,
           "arrowwidth": 1
          },
          "autotypenumbers": "strict",
          "coloraxis": {
           "colorbar": {
            "outlinewidth": 0,
            "ticks": ""
           }
          },
          "colorscale": {
           "diverging": [
            [
             0,
             "#8e0152"
            ],
            [
             0.1,
             "#c51b7d"
            ],
            [
             0.2,
             "#de77ae"
            ],
            [
             0.3,
             "#f1b6da"
            ],
            [
             0.4,
             "#fde0ef"
            ],
            [
             0.5,
             "#f7f7f7"
            ],
            [
             0.6,
             "#e6f5d0"
            ],
            [
             0.7,
             "#b8e186"
            ],
            [
             0.8,
             "#7fbc41"
            ],
            [
             0.9,
             "#4d9221"
            ],
            [
             1,
             "#276419"
            ]
           ],
           "sequential": [
            [
             0,
             "#0d0887"
            ],
            [
             0.1111111111111111,
             "#46039f"
            ],
            [
             0.2222222222222222,
             "#7201a8"
            ],
            [
             0.3333333333333333,
             "#9c179e"
            ],
            [
             0.4444444444444444,
             "#bd3786"
            ],
            [
             0.5555555555555556,
             "#d8576b"
            ],
            [
             0.6666666666666666,
             "#ed7953"
            ],
            [
             0.7777777777777778,
             "#fb9f3a"
            ],
            [
             0.8888888888888888,
             "#fdca26"
            ],
            [
             1,
             "#f0f921"
            ]
           ],
           "sequentialminus": [
            [
             0,
             "#0d0887"
            ],
            [
             0.1111111111111111,
             "#46039f"
            ],
            [
             0.2222222222222222,
             "#7201a8"
            ],
            [
             0.3333333333333333,
             "#9c179e"
            ],
            [
             0.4444444444444444,
             "#bd3786"
            ],
            [
             0.5555555555555556,
             "#d8576b"
            ],
            [
             0.6666666666666666,
             "#ed7953"
            ],
            [
             0.7777777777777778,
             "#fb9f3a"
            ],
            [
             0.8888888888888888,
             "#fdca26"
            ],
            [
             1,
             "#f0f921"
            ]
           ]
          },
          "colorway": [
           "#636efa",
           "#EF553B",
           "#00cc96",
           "#ab63fa",
           "#FFA15A",
           "#19d3f3",
           "#FF6692",
           "#B6E880",
           "#FF97FF",
           "#FECB52"
          ],
          "font": {
           "color": "#2a3f5f"
          },
          "geo": {
           "bgcolor": "white",
           "lakecolor": "white",
           "landcolor": "#E5ECF6",
           "showlakes": true,
           "showland": true,
           "subunitcolor": "white"
          },
          "hoverlabel": {
           "align": "left"
          },
          "hovermode": "closest",
          "mapbox": {
           "style": "light"
          },
          "paper_bgcolor": "white",
          "plot_bgcolor": "#E5ECF6",
          "polar": {
           "angularaxis": {
            "gridcolor": "white",
            "linecolor": "white",
            "ticks": ""
           },
           "bgcolor": "#E5ECF6",
           "radialaxis": {
            "gridcolor": "white",
            "linecolor": "white",
            "ticks": ""
           }
          },
          "scene": {
           "xaxis": {
            "backgroundcolor": "#E5ECF6",
            "gridcolor": "white",
            "gridwidth": 2,
            "linecolor": "white",
            "showbackground": true,
            "ticks": "",
            "zerolinecolor": "white"
           },
           "yaxis": {
            "backgroundcolor": "#E5ECF6",
            "gridcolor": "white",
            "gridwidth": 2,
            "linecolor": "white",
            "showbackground": true,
            "ticks": "",
            "zerolinecolor": "white"
           },
           "zaxis": {
            "backgroundcolor": "#E5ECF6",
            "gridcolor": "white",
            "gridwidth": 2,
            "linecolor": "white",
            "showbackground": true,
            "ticks": "",
            "zerolinecolor": "white"
           }
          },
          "shapedefaults": {
           "line": {
            "color": "#2a3f5f"
           }
          },
          "ternary": {
           "aaxis": {
            "gridcolor": "white",
            "linecolor": "white",
            "ticks": ""
           },
           "baxis": {
            "gridcolor": "white",
            "linecolor": "white",
            "ticks": ""
           },
           "bgcolor": "#E5ECF6",
           "caxis": {
            "gridcolor": "white",
            "linecolor": "white",
            "ticks": ""
           }
          },
          "title": {
           "x": 0.05
          },
          "xaxis": {
           "automargin": true,
           "gridcolor": "white",
           "linecolor": "white",
           "ticks": "",
           "title": {
            "standoff": 15
           },
           "zerolinecolor": "white",
           "zerolinewidth": 2
          },
          "yaxis": {
           "automargin": true,
           "gridcolor": "white",
           "linecolor": "white",
           "ticks": "",
           "title": {
            "standoff": 15
           },
           "zerolinecolor": "white",
           "zerolinewidth": 2
          }
         }
        },
        "title": {
         "text": "Summary Statistics on Defenders in the Box by Tackles in a Play for the Chiefs"
        },
        "xaxis": {
         "anchor": "y",
         "autorange": true,
         "domain": [
          0,
          1
         ],
         "range": [
          -1.5,
          1.5
         ],
         "title": {
          "text": "tackles"
         },
         "type": "linear"
        },
        "yaxis": {
         "anchor": "x",
         "autorange": true,
         "domain": [
          0,
          1
         ],
         "range": [
          2.611111111111111,
          10.38888888888889
         ],
         "title": {
          "text": "defendersInTheBox"
         },
         "type": "linear"
        }
       }
      },
      "image/png": "[encoded data removed]",
      "text/html": [
       "<div>                            <div id=\"71255b7d-a1b5-4393-aa79-1b35d76d8186\" class=\"plotly-graph-div\" style=\"height:525px; width:100%;\"></div>            <script type=\"text/javascript\">                require([\"plotly\"], function(Plotly) {                    window.PLOTLYENV=window.PLOTLYENV || {};                                    if (document.getElementById(\"71255b7d-a1b5-4393-aa79-1b35d76d8186\")) {                    Plotly.newPlot(                        \"71255b7d-a1b5-4393-aa79-1b35d76d8186\",                        [{\"alignmentgroup\":\"True\",\"hovertemplate\":\"tackles=%{x}\\u003cbr\\u003edefendersInTheBox=%{y}\\u003cextra\\u003e\\u003c\\u002fextra\\u003e\",\"legendgroup\":\"\",\"marker\":{\"color\":\"rgb(95, 70, 144)\"},\"name\":\"\",\"notched\":false,\"offsetgroup\":\"\",\"orientation\":\"v\",\"showlegend\":false,\"x\":[0,1,1,-1,0,1,1,1,1,1,1,1,1,1,1,1,1,1,1,1,0,1,1,1,1,0,1,-1,1,1,1,1,1,1,1,1,0,1,1,0,1,-1,1,1,0,0,1,1,0,1,1,0,1,1,1,1,1,0,1,1,0,1,0,1,0,1,1,1,1,1,1,1,1,1,1,-1,1,1,1,0,1,1,1,1,1,0,1,1,0,1,1,1,0,1,1,1,0,1,1,1,1,1,-1,0,0,1,1,1,1,0,1,1,1,1,1,0,1,1,1,-1,1,1,1,1,1,-1,1,1,0,1,0,0,-1,1,1,1,1,1,1,1,1,0,0,1,1,1,1,1,1,0,1,1,1,1,1,1,1,1,1,1,1,1,0,1,1,1,1,0,1,1,0,1,1,1,1,1,1,1,1,1,1,0,1,1,0,1,1,1,1,1,1,0,0,1,0,0,1,1,1,1,1,1,1,1,1,1,0,1,1,1,1,1,1,0,1,0,1,1,0,0,1,1,0,1,1,1,1,1,1,1,-1,1,1,1,1,-1,1,1,1,1,1,1,0,1,1,1,1,1,1,1,1,1,0,0,1,1,1,1,1,0,1,1,1,1,1,1,1,1,1,1,1,1,0,1,1,1,1,1,1,1,0,1,1,1,1,0,1,0,1,1,1,1,1,1,1,0,1,0,1,1,1,0,0,1,1,1,0,1,1,1,0,1,1,0,1,1,0,1,1,1,1,0,1,-1,1,-1,1,0,1,1,1,1,1,1,1,1,1,1,0,1,1,1,1,0,1,0,1,1,1,1,1,1,1,1,-1,1,0,1,1,1,1,1,1,1,1,1,1,1,1,0,1,1,1,0,1,1,1,-1,-1,1,1,1,1,1,1,1,1,0,0,1,1,1,1,0,0,1,1,1,1,1,1,0,1,1,1,1,1,1,1,1,1,1,1,1,1,1,1,1,1,0,1,1,-1,1,1,1,1,1,1,1,1,1,1,1,1,1,1,1,1,1,1,1,1,1,0,1,0,1,0,1,1,0,1,1,1,1,0,1,0,1,1,1,1,1,0,1,1,1,1,1,0,1,1,1,0,1,1,1,1,1,1,1,1,1,1,1,1,0,1,1,1,1,1,1,1,1,1,1,1,1,1,1,0,1,1,0,1,1,-1,1,1,1,1,1,1,1,1,1,1,1,1,1,1,1,1,1,1,1,0,1,1,1,0,1,1,0,1,1,0,1,1,1,1,1,1,0,-1,1,1,1,0,0,1,1,1,1,1,0,1,0,1,1,1,1,1,1,1,1,1,1,1,1,0,1,1,1,1,1,0,1,1,1,1,1,1,-1,1,1,0,1,1,1,1,1,0,1,1,1,1,1,1,1,1,1,1,1,0,1,1,0,1,1,1,1,1,1,0,1,-1,1,1,1,1,0,1,-1,0,1,1,1,1,1,1,0,1,1,1,0,1,1,0,0,1,1,1,1,0,1,0,1,1,1,1,0,0,1,1,1,0,1,0,0,1,1,1,1,0,1,1,1,1,0,1,1,0,1,0,0,1,1,1,1,1,1,1,1,1,1,1,1,1,1,1,0,1,0,1,1,1,1,1,1,0,1,1,1,1,1,1,1,0,1,0,1,0,0,0,1,0,1,1,1,1,1,1,0,1,1,1,1,0,0,1,1,0,1,1,1,1,1,1,1,1,1,1,1,1,1,1,1,1,0,0,1,1,1,1],\"x0\":\" \",\"xaxis\":\"x\",\"y\":[7.0,6.0,7.0,5.0,6.0,6.0,6.0,6.0,8.0,6.0,6.0,6.0,6.0,6.0,7.0,4.0,6.0,5.0,6.0,8.0,5.0,6.0,7.0,6.0,7.0,7.0,6.0,7.0,8.0,5.0,5.0,7.0,7.0,6.0,6.0,6.0,7.0,6.0,7.0,7.0,7.0,7.0,7.0,6.0,5.0,7.0,7.0,6.0,6.0,9.0,6.0,6.0,7.0,5.0,8.0,7.0,6.0,8.0,6.0,7.0,7.0,6.0,5.0,8.0,6.0,7.0,6.0,8.0,5.0,6.0,6.0,7.0,6.0,6.0,3.0,7.0,6.0,6.0,7.0,4.0,7.0,5.0,7.0,6.0,6.0,6.0,6.0,6.0,6.0,7.0,6.0,6.0,7.0,6.0,6.0,6.0,4.0,6.0,7.0,8.0,5.0,8.0,6.0,7.0,6.0,8.0,6.0,6.0,7.0,7.0,6.0,6.0,7.0,5.0,6.0,8.0,6.0,6.0,6.0,7.0,6.0,6.0,7.0,7.0,6.0,6.0,5.0,6.0,6.0,7.0,6.0,8.0,6.0,7.0,7.0,7.0,6.0,7.0,8.0,6.0,6.0,7.0,7.0,6.0,6.0,5.0,5.0,6.0,6.0,6.0,7.0,4.0,6.0,5.0,6.0,6.0,6.0,6.0,6.0,6.0,7.0,6.0,6.0,7.0,5.0,6.0,6.0,5.0,6.0,4.0,9.0,6.0,7.0,4.0,6.0,7.0,6.0,7.0,6.0,5.0,7.0,6.0,6.0,6.0,6.0,6.0,7.0,8.0,6.0,6.0,6.0,6.0,7.0,6.0,6.0,7.0,7.0,7.0,6.0,6.0,5.0,5.0,6.0,6.0,7.0,6.0,6.0,6.0,7.0,6.0,6.0,6.0,6.0,8.0,6.0,7.0,4.0,6.0,6.0,6.0,6.0,6.0,8.0,7.0,6.0,6.0,6.0,6.0,5.0,7.0,6.0,4.0,5.0,6.0,7.0,9.0,7.0,6.0,4.0,6.0,6.0,6.0,6.0,5.0,6.0,7.0,6.0,8.0,5.0,7.0,6.0,6.0,6.0,4.0,5.0,7.0,7.0,5.0,6.0,7.0,4.0,8.0,6.0,8.0,6.0,7.0,6.0,7.0,5.0,6.0,6.0,6.0,5.0,7.0,6.0,6.0,5.0,6.0,5.0,6.0,6.0,5.0,6.0,7.0,5.0,6.0,5.0,6.0,7.0,6.0,6.0,6.0,6.0,6.0,8.0,6.0,6.0,6.0,7.0,6.0,6.0,7.0,5.0,8.0,7.0,8.0,7.0,6.0,5.0,6.0,7.0,7.0,6.0,6.0,6.0,6.0,7.0,6.0,6.0,7.0,6.0,7.0,7.0,6.0,7.0,8.0,4.0,7.0,6.0,6.0,6.0,5.0,6.0,6.0,4.0,5.0,6.0,7.0,7.0,5.0,6.0,7.0,6.0,6.0,6.0,7.0,5.0,6.0,6.0,8.0,6.0,6.0,6.0,6.0,10.0,6.0,5.0,6.0,9.0,6.0,6.0,4.0,7.0,7.0,5.0,8.0,5.0,6.0,7.0,7.0,6.0,4.0,6.0,5.0,5.0,6.0,8.0,6.0,6.0,5.0,6.0,6.0,8.0,6.0,6.0,6.0,6.0,6.0,6.0,5.0,5.0,7.0,6.0,4.0,6.0,7.0,6.0,7.0,4.0,6.0,7.0,6.0,6.0,6.0,8.0,5.0,8.0,6.0,6.0,7.0,7.0,6.0,6.0,8.0,7.0,6.0,6.0,6.0,7.0,5.0,5.0,6.0,6.0,6.0,6.0,6.0,5.0,6.0,6.0,6.0,7.0,8.0,6.0,7.0,6.0,5.0,6.0,6.0,5.0,5.0,7.0,8.0,7.0,4.0,6.0,6.0,8.0,5.0,7.0,8.0,5.0,8.0,7.0,7.0,7.0,6.0,6.0,6.0,7.0,7.0,7.0,7.0,5.0,4.0,7.0,7.0,6.0,7.0,6.0,8.0,6.0,5.0,6.0,6.0,6.0,6.0,6.0,6.0,7.0,6.0,6.0,5.0,7.0,6.0,8.0,6.0,5.0,7.0,7.0,5.0,6.0,8.0,10.0,6.0,4.0,6.0,7.0,6.0,6.0,8.0,7.0,8.0,7.0,6.0,6.0,6.0,6.0,6.0,9.0,4.0,8.0,6.0,6.0,7.0,6.0,6.0,6.0,7.0,6.0,7.0,7.0,6.0,7.0,7.0,8.0,5.0,5.0,7.0,6.0,5.0,8.0,6.0,6.0,6.0,7.0,6.0,6.0,6.0,5.0,6.0,5.0,6.0,5.0,6.0,6.0,10.0,10.0,5.0,6.0,7.0,7.0,6.0,7.0,6.0,8.0,8.0,6.0,6.0,6.0,7.0,7.0,7.0,7.0,4.0,7.0,7.0,6.0,5.0,6.0,7.0,6.0,6.0,7.0,6.0,6.0,7.0,6.0,7.0,6.0,6.0,8.0,6.0,6.0,7.0,6.0,9.0,8.0,6.0,6.0,7.0,6.0,6.0,5.0,8.0,6.0,8.0,6.0,6.0,6.0,6.0,7.0,5.0,8.0,7.0,6.0,5.0,6.0,6.0,6.0,8.0,4.0,6.0,6.0,7.0,6.0,5.0,6.0,6.0,8.0,6.0,7.0,6.0,7.0,8.0,7.0,7.0,7.0,6.0,8.0,6.0,5.0,5.0,7.0,6.0,7.0,7.0,5.0,8.0,7.0,6.0,6.0,4.0,6.0,6.0,7.0,5.0,6.0,6.0,7.0,6.0,6.0,6.0,6.0,7.0,7.0,7.0,6.0,6.0,6.0,9.0,3.0,6.0,6.0,8.0,7.0,6.0,6.0,3.0,5.0,5.0,9.0,6.0,6.0,7.0,5.0,8.0,6.0,6.0,4.0,5.0,5.0,6.0,8.0,6.0,8.0,5.0,6.0,7.0,5.0,6.0,5.0,7.0,5.0,6.0,7.0,7.0,6.0,6.0,8.0,6.0,7.0,6.0,6.0,7.0,6.0,5.0,8.0,7.0,5.0,7.0,6.0,6.0,7.0,6.0,6.0,7.0,6.0,7.0,6.0,6.0,6.0,7.0,6.0,6.0,7.0,6.0,6.0,6.0,5.0,7.0,6.0,6.0,5.0,7.0,8.0,5.0,6.0,6.0,6.0,8.0,5.0,6.0,7.0,6.0,5.0,6.0,5.0,6.0,7.0,6.0,6.0,6.0,8.0,6.0,6.0,5.0,7.0],\"y0\":\" \",\"yaxis\":\"y\",\"type\":\"box\"}],                        {\"template\":{\"data\":{\"histogram2dcontour\":[{\"type\":\"histogram2dcontour\",\"colorbar\":{\"outlinewidth\":0,\"ticks\":\"\"},\"colorscale\":[[0.0,\"#0d0887\"],[0.1111111111111111,\"#46039f\"],[0.2222222222222222,\"#7201a8\"],[0.3333333333333333,\"#9c179e\"],[0.4444444444444444,\"#bd3786\"],[0.5555555555555556,\"#d8576b\"],[0.6666666666666666,\"#ed7953\"],[0.7777777777777778,\"#fb9f3a\"],[0.8888888888888888,\"#fdca26\"],[1.0,\"#f0f921\"]]}],\"choropleth\":[{\"type\":\"choropleth\",\"colorbar\":{\"outlinewidth\":0,\"ticks\":\"\"}}],\"histogram2d\":[{\"type\":\"histogram2d\",\"colorbar\":{\"outlinewidth\":0,\"ticks\":\"\"},\"colorscale\":[[0.0,\"#0d0887\"],[0.1111111111111111,\"#46039f\"],[0.2222222222222222,\"#7201a8\"],[0.3333333333333333,\"#9c179e\"],[0.4444444444444444,\"#bd3786\"],[0.5555555555555556,\"#d8576b\"],[0.6666666666666666,\"#ed7953\"],[0.7777777777777778,\"#fb9f3a\"],[0.8888888888888888,\"#fdca26\"],[1.0,\"#f0f921\"]]}],\"heatmap\":[{\"type\":\"heatmap\",\"colorbar\":{\"outlinewidth\":0,\"ticks\":\"\"},\"colorscale\":[[0.0,\"#0d0887\"],[0.1111111111111111,\"#46039f\"],[0.2222222222222222,\"#7201a8\"],[0.3333333333333333,\"#9c179e\"],[0.4444444444444444,\"#bd3786\"],[0.5555555555555556,\"#d8576b\"],[0.6666666666666666,\"#ed7953\"],[0.7777777777777778,\"#fb9f3a\"],[0.8888888888888888,\"#fdca26\"],[1.0,\"#f0f921\"]]}],\"heatmapgl\":[{\"type\":\"heatmapgl\",\"colorbar\":{\"outlinewidth\":0,\"ticks\":\"\"},\"colorscale\":[[0.0,\"#0d0887\"],[0.1111111111111111,\"#46039f\"],[0.2222222222222222,\"#7201a8\"],[0.3333333333333333,\"#9c179e\"],[0.4444444444444444,\"#bd3786\"],[0.5555555555555556,\"#d8576b\"],[0.6666666666666666,\"#ed7953\"],[0.7777777777777778,\"#fb9f3a\"],[0.8888888888888888,\"#fdca26\"],[1.0,\"#f0f921\"]]}],\"contourcarpet\":[{\"type\":\"contourcarpet\",\"colorbar\":{\"outlinewidth\":0,\"ticks\":\"\"}}],\"contour\":[{\"type\":\"contour\",\"colorbar\":{\"outlinewidth\":0,\"ticks\":\"\"},\"colorscale\":[[0.0,\"#0d0887\"],[0.1111111111111111,\"#46039f\"],[0.2222222222222222,\"#7201a8\"],[0.3333333333333333,\"#9c179e\"],[0.4444444444444444,\"#bd3786\"],[0.5555555555555556,\"#d8576b\"],[0.6666666666666666,\"#ed7953\"],[0.7777777777777778,\"#fb9f3a\"],[0.8888888888888888,\"#fdca26\"],[1.0,\"#f0f921\"]]}],\"surface\":[{\"type\":\"surface\",\"colorbar\":{\"outlinewidth\":0,\"ticks\":\"\"},\"colorscale\":[[0.0,\"#0d0887\"],[0.1111111111111111,\"#46039f\"],[0.2222222222222222,\"#7201a8\"],[0.3333333333333333,\"#9c179e\"],[0.4444444444444444,\"#bd3786\"],[0.5555555555555556,\"#d8576b\"],[0.6666666666666666,\"#ed7953\"],[0.7777777777777778,\"#fb9f3a\"],[0.8888888888888888,\"#fdca26\"],[1.0,\"#f0f921\"]]}],\"mesh3d\":[{\"type\":\"mesh3d\",\"colorbar\":{\"outlinewidth\":0,\"ticks\":\"\"}}],\"scatter\":[{\"fillpattern\":{\"fillmode\":\"overlay\",\"size\":10,\"solidity\":0.2},\"type\":\"scatter\"}],\"parcoords\":[{\"type\":\"parcoords\",\"line\":{\"colorbar\":{\"outlinewidth\":0,\"ticks\":\"\"}}}],\"scatterpolargl\":[{\"type\":\"scatterpolargl\",\"marker\":{\"colorbar\":{\"outlinewidth\":0,\"ticks\":\"\"}}}],\"bar\":[{\"error_x\":{\"color\":\"#2a3f5f\"},\"error_y\":{\"color\":\"#2a3f5f\"},\"marker\":{\"line\":{\"color\":\"#E5ECF6\",\"width\":0.5},\"pattern\":{\"fillmode\":\"overlay\",\"size\":10,\"solidity\":0.2}},\"type\":\"bar\"}],\"scattergeo\":[{\"type\":\"scattergeo\",\"marker\":{\"colorbar\":{\"outlinewidth\":0,\"ticks\":\"\"}}}],\"scatterpolar\":[{\"type\":\"scatterpolar\",\"marker\":{\"colorbar\":{\"outlinewidth\":0,\"ticks\":\"\"}}}],\"histogram\":[{\"marker\":{\"pattern\":{\"fillmode\":\"overlay\",\"size\":10,\"solidity\":0.2}},\"type\":\"histogram\"}],\"scattergl\":[{\"type\":\"scattergl\",\"marker\":{\"colorbar\":{\"outlinewidth\":0,\"ticks\":\"\"}}}],\"scatter3d\":[{\"type\":\"scatter3d\",\"line\":{\"colorbar\":{\"outlinewidth\":0,\"ticks\":\"\"}},\"marker\":{\"colorbar\":{\"outlinewidth\":0,\"ticks\":\"\"}}}],\"scattermapbox\":[{\"type\":\"scattermapbox\",\"marker\":{\"colorbar\":{\"outlinewidth\":0,\"ticks\":\"\"}}}],\"scatterternary\":[{\"type\":\"scatterternary\",\"marker\":{\"colorbar\":{\"outlinewidth\":0,\"ticks\":\"\"}}}],\"scattercarpet\":[{\"type\":\"scattercarpet\",\"marker\":{\"colorbar\":{\"outlinewidth\":0,\"ticks\":\"\"}}}],\"carpet\":[{\"aaxis\":{\"endlinecolor\":\"#2a3f5f\",\"gridcolor\":\"white\",\"linecolor\":\"white\",\"minorgridcolor\":\"white\",\"startlinecolor\":\"#2a3f5f\"},\"baxis\":{\"endlinecolor\":\"#2a3f5f\",\"gridcolor\":\"white\",\"linecolor\":\"white\",\"minorgridcolor\":\"white\",\"startlinecolor\":\"#2a3f5f\"},\"type\":\"carpet\"}],\"table\":[{\"cells\":{\"fill\":{\"color\":\"#EBF0F8\"},\"line\":{\"color\":\"white\"}},\"header\":{\"fill\":{\"color\":\"#C8D4E3\"},\"line\":{\"color\":\"white\"}},\"type\":\"table\"}],\"barpolar\":[{\"marker\":{\"line\":{\"color\":\"#E5ECF6\",\"width\":0.5},\"pattern\":{\"fillmode\":\"overlay\",\"size\":10,\"solidity\":0.2}},\"type\":\"barpolar\"}],\"pie\":[{\"automargin\":true,\"type\":\"pie\"}]},\"layout\":{\"autotypenumbers\":\"strict\",\"colorway\":[\"#636efa\",\"#EF553B\",\"#00cc96\",\"#ab63fa\",\"#FFA15A\",\"#19d3f3\",\"#FF6692\",\"#B6E880\",\"#FF97FF\",\"#FECB52\"],\"font\":{\"color\":\"#2a3f5f\"},\"hovermode\":\"closest\",\"hoverlabel\":{\"align\":\"left\"},\"paper_bgcolor\":\"white\",\"plot_bgcolor\":\"#E5ECF6\",\"polar\":{\"bgcolor\":\"#E5ECF6\",\"angularaxis\":{\"gridcolor\":\"white\",\"linecolor\":\"white\",\"ticks\":\"\"},\"radialaxis\":{\"gridcolor\":\"white\",\"linecolor\":\"white\",\"ticks\":\"\"}},\"ternary\":{\"bgcolor\":\"#E5ECF6\",\"aaxis\":{\"gridcolor\":\"white\",\"linecolor\":\"white\",\"ticks\":\"\"},\"baxis\":{\"gridcolor\":\"white\",\"linecolor\":\"white\",\"ticks\":\"\"},\"caxis\":{\"gridcolor\":\"white\",\"linecolor\":\"white\",\"ticks\":\"\"}},\"coloraxis\":{\"colorbar\":{\"outlinewidth\":0,\"ticks\":\"\"}},\"colorscale\":{\"sequential\":[[0.0,\"#0d0887\"],[0.1111111111111111,\"#46039f\"],[0.2222222222222222,\"#7201a8\"],[0.3333333333333333,\"#9c179e\"],[0.4444444444444444,\"#bd3786\"],[0.5555555555555556,\"#d8576b\"],[0.6666666666666666,\"#ed7953\"],[0.7777777777777778,\"#fb9f3a\"],[0.8888888888888888,\"#fdca26\"],[1.0,\"#f0f921\"]],\"sequentialminus\":[[0.0,\"#0d0887\"],[0.1111111111111111,\"#46039f\"],[0.2222222222222222,\"#7201a8\"],[0.3333333333333333,\"#9c179e\"],[0.4444444444444444,\"#bd3786\"],[0.5555555555555556,\"#d8576b\"],[0.6666666666666666,\"#ed7953\"],[0.7777777777777778,\"#fb9f3a\"],[0.8888888888888888,\"#fdca26\"],[1.0,\"#f0f921\"]],\"diverging\":[[0,\"#8e0152\"],[0.1,\"#c51b7d\"],[0.2,\"#de77ae\"],[0.3,\"#f1b6da\"],[0.4,\"#fde0ef\"],[0.5,\"#f7f7f7\"],[0.6,\"#e6f5d0\"],[0.7,\"#b8e186\"],[0.8,\"#7fbc41\"],[0.9,\"#4d9221\"],[1,\"#276419\"]]},\"xaxis\":{\"gridcolor\":\"white\",\"linecolor\":\"white\",\"ticks\":\"\",\"title\":{\"standoff\":15},\"zerolinecolor\":\"white\",\"automargin\":true,\"zerolinewidth\":2},\"yaxis\":{\"gridcolor\":\"white\",\"linecolor\":\"white\",\"ticks\":\"\",\"title\":{\"standoff\":15},\"zerolinecolor\":\"white\",\"automargin\":true,\"zerolinewidth\":2},\"scene\":{\"xaxis\":{\"backgroundcolor\":\"#E5ECF6\",\"gridcolor\":\"white\",\"linecolor\":\"white\",\"showbackground\":true,\"ticks\":\"\",\"zerolinecolor\":\"white\",\"gridwidth\":2},\"yaxis\":{\"backgroundcolor\":\"#E5ECF6\",\"gridcolor\":\"white\",\"linecolor\":\"white\",\"showbackground\":true,\"ticks\":\"\",\"zerolinecolor\":\"white\",\"gridwidth\":2},\"zaxis\":{\"backgroundcolor\":\"#E5ECF6\",\"gridcolor\":\"white\",\"linecolor\":\"white\",\"showbackground\":true,\"ticks\":\"\",\"zerolinecolor\":\"white\",\"gridwidth\":2}},\"shapedefaults\":{\"line\":{\"color\":\"#2a3f5f\"}},\"annotationdefaults\":{\"arrowcolor\":\"#2a3f5f\",\"arrowhead\":0,\"arrowwidth\":1},\"geo\":{\"bgcolor\":\"white\",\"landcolor\":\"#E5ECF6\",\"subunitcolor\":\"white\",\"showland\":true,\"showlakes\":true,\"lakecolor\":\"white\"},\"title\":{\"x\":0.05},\"mapbox\":{\"style\":\"light\"}}},\"xaxis\":{\"anchor\":\"y\",\"domain\":[0.0,1.0],\"title\":{\"text\":\"tackles\"}},\"yaxis\":{\"anchor\":\"x\",\"domain\":[0.0,1.0],\"title\":{\"text\":\"defendersInTheBox\"}},\"legend\":{\"tracegroupgap\":0},\"title\":{\"text\":\"Summary Statistics on Defenders in the Box by Tackles in a Play for the Chiefs\"},\"boxmode\":\"group\"},                        {\"responsive\": true}                    ).then(function(){\n",
       "                            \n",
       "var gd = document.getElementById('71255b7d-a1b5-4393-aa79-1b35d76d8186');\n",
       "var x = new MutationObserver(function (mutations, observer) {{\n",
       "        var display = window.getComputedStyle(gd).display;\n",
       "        if (!display || display === 'none') {{\n",
       "            console.log([gd, 'removed!']);\n",
       "            Plotly.purge(gd);\n",
       "            observer.disconnect();\n",
       "        }}\n",
       "}});\n",
       "\n",
       "// Listen for the removal of the full notebook cells\n",
       "var notebookContainer = gd.closest('#notebook-container');\n",
       "if (notebookContainer) {{\n",
       "    x.observe(notebookContainer, {childList: true});\n",
       "}}\n",
       "\n",
       "// Listen for the clearing of the current output cell\n",
       "var outputEl = gd.closest('.output');\n",
       "if (outputEl) {{\n",
       "    x.observe(outputEl, {childList: true});\n",
       "}}\n",
       "\n",
       "                        })                };                });            </script>        </div>"
      ]
     },
     "metadata": {},
     "output_type": "display_data"
    }
   ],
   "source": [
    "# Filter for plays involving the 49ers as either the possession or defensive team\n",
    "sf_play_tackles = play_tackles[(play_tackles['possessionTeam'] == 'KC') | (play_tackles['defensiveTeam'] == 'KC')]\n",
    "\n",
    "# Create the box plot for the filtered data\n",
    "fig = px.box(sf_play_tackles, x=\"tackles\", y=\"defendersInTheBox\",\n",
    "             title='Summary Statistics on Defenders in the Box by Tackles in a Play for the Chiefs',\n",
    "             color_discrete_sequence=px.colors.qualitative.Prism)\n",
    "\n",
    "# Display the figure\n",
    "fig.show()"
   ]
  },
  {
   "cell_type": "markdown",
   "id": "88b2882a-c0fe-40d5-a359-3cde7fbd3481",
   "metadata": {},
   "source": [
    "For plays with and without successful tackles, we see that there is no significant difference in the distribution of defensive players near the line of scrimmage for the Chiefs. Both distributions feature a median of `6` players per play with and without successful tackles.\n",
    "\n",
    "On top of the number of defenders in the box, what other factors are impactful for tackle success? Find out now!"
   ]
  },
  {
   "cell_type": "markdown",
   "id": "6ce7d903-e269-47a0-9b9a-f842ec518014",
   "metadata": {},
   "source": [
    "### Tackle Factors\n",
    "\n",
    "What if we looked at the proportion of all tackles for which a specific defender was given credit? This value, known as the [tackle factor](https://www.advancedfootballanalytics.com/2010/03/tackle-factor.html), can help coaches and teams identify good defensive players with who contribute heavily to their team's tackling performance. \n",
    "\n",
    "We will first calculate the average total tackles by position, and then calculate the total tackle factor by player. We'll preprocess the data we will use to help with tackle factors."
   ]
  },
  {
   "cell_type": "code",
   "execution_count": 29,
   "id": "66777295-035e-461c-81df-8ed510508c69",
   "metadata": {
    "scrolled": true
   },
   "outputs": [],
   "source": [
    "#Building the player_tackle table\n",
    "agg_dict_1 = {\n",
    "    \"tackles\": pd.NamedAgg(column='tackle', aggfunc='sum'),\n",
    "    \"assists\": pd.NamedAgg(column='assist', aggfunc='sum'),\n",
    "    \"forced_fumbles\": pd.NamedAgg(column='forcedFumble', aggfunc='sum'),\n",
    "    \"missed_tackles\": pd.NamedAgg(column='pff_missedTackle', aggfunc='sum'),\n",
    "}\n",
    "\n",
    "player_tackle_df = tackles.groupby(\"nflId\").agg(**agg_dict_1).reset_index()\n",
    "\n",
    "# calculate player tackle efficiency\n",
    "player_tackle_df['total_tackles'] = player_tackle_df['tackles'] + player_tackle_df['assists']\n",
    "player_tackle_df['tackle_efficiency'] = player_tackle_df['total_tackles'] / (player_tackle_df['total_tackles'] + player_tackle_df['missed_tackles'])\n",
    "\n",
    "\n",
    "player_tackles = pd.merge(\n",
    "    players,\n",
    "    player_tackle_df,\n",
    "    how=\"inner\",\n",
    "    on=['nflId']\n",
    ")"
   ]
  },
  {
   "cell_type": "code",
   "execution_count": 30,
   "id": "414fa3e7-ff50-49fd-96bd-aebbd48b75b3",
   "metadata": {
    "scrolled": true
   },
   "outputs": [
    {
     "data": {
      "text/html": [
       "<style type=\"text/css\">\n",
       "#T_82a69_row0_col0, #T_82a69_row0_col1, #T_82a69_row0_col2, #T_82a69_row0_col3, #T_82a69_row0_col4, #T_82a69_row0_col5, #T_82a69_row0_col6, #T_82a69_row0_col7, #T_82a69_row0_col8, #T_82a69_row0_col9, #T_82a69_row0_col10, #T_82a69_row0_col11, #T_82a69_row0_col12, #T_82a69_row0_col13, #T_82a69_row1_col0, #T_82a69_row1_col1, #T_82a69_row1_col2, #T_82a69_row1_col3, #T_82a69_row1_col4, #T_82a69_row1_col5, #T_82a69_row1_col6, #T_82a69_row1_col7, #T_82a69_row1_col8, #T_82a69_row1_col9, #T_82a69_row1_col10, #T_82a69_row1_col11, #T_82a69_row1_col12, #T_82a69_row1_col13, #T_82a69_row2_col0, #T_82a69_row2_col1, #T_82a69_row2_col2, #T_82a69_row2_col3, #T_82a69_row2_col4, #T_82a69_row2_col5, #T_82a69_row2_col6, #T_82a69_row2_col7, #T_82a69_row2_col8, #T_82a69_row2_col9, #T_82a69_row2_col10, #T_82a69_row2_col11, #T_82a69_row2_col12, #T_82a69_row2_col13, #T_82a69_row3_col0, #T_82a69_row3_col1, #T_82a69_row3_col2, #T_82a69_row3_col3, #T_82a69_row3_col4, #T_82a69_row3_col5, #T_82a69_row3_col6, #T_82a69_row3_col7, #T_82a69_row3_col8, #T_82a69_row3_col9, #T_82a69_row3_col10, #T_82a69_row3_col11, #T_82a69_row3_col12, #T_82a69_row3_col13, #T_82a69_row4_col0, #T_82a69_row4_col1, #T_82a69_row4_col2, #T_82a69_row4_col3, #T_82a69_row4_col4, #T_82a69_row4_col5, #T_82a69_row4_col6, #T_82a69_row4_col7, #T_82a69_row4_col8, #T_82a69_row4_col9, #T_82a69_row4_col10, #T_82a69_row4_col11, #T_82a69_row4_col12, #T_82a69_row4_col13 {\n",
       "  border: 1.3px solid blue;\n",
       "  color: grey;\n",
       "}\n",
       "</style>\n",
       "<table id=\"T_82a69\">\n",
       "  <caption>Sample of the Player data with tackle factor stats</caption>\n",
       "  <thead>\n",
       "    <tr>\n",
       "      <th class=\"blank level0\" >&nbsp;</th>\n",
       "      <th id=\"T_82a69_level0_col0\" class=\"col_heading level0 col0\" >nflId</th>\n",
       "      <th id=\"T_82a69_level0_col1\" class=\"col_heading level0 col1\" >height</th>\n",
       "      <th id=\"T_82a69_level0_col2\" class=\"col_heading level0 col2\" >weight</th>\n",
       "      <th id=\"T_82a69_level0_col3\" class=\"col_heading level0 col3\" >birthDate</th>\n",
       "      <th id=\"T_82a69_level0_col4\" class=\"col_heading level0 col4\" >collegeName</th>\n",
       "      <th id=\"T_82a69_level0_col5\" class=\"col_heading level0 col5\" >position</th>\n",
       "      <th id=\"T_82a69_level0_col6\" class=\"col_heading level0 col6\" >displayName</th>\n",
       "      <th id=\"T_82a69_level0_col7\" class=\"col_heading level0 col7\" >tackles</th>\n",
       "      <th id=\"T_82a69_level0_col8\" class=\"col_heading level0 col8\" >assists</th>\n",
       "      <th id=\"T_82a69_level0_col9\" class=\"col_heading level0 col9\" >forced_fumbles</th>\n",
       "      <th id=\"T_82a69_level0_col10\" class=\"col_heading level0 col10\" >missed_tackles</th>\n",
       "      <th id=\"T_82a69_level0_col11\" class=\"col_heading level0 col11\" >total_tackles</th>\n",
       "      <th id=\"T_82a69_level0_col12\" class=\"col_heading level0 col12\" >tackle_efficiency</th>\n",
       "      <th id=\"T_82a69_level0_col13\" class=\"col_heading level0 col13\" >tackle_factor</th>\n",
       "    </tr>\n",
       "  </thead>\n",
       "  <tbody>\n",
       "    <tr>\n",
       "      <th id=\"T_82a69_level0_row0\" class=\"row_heading level0 row0\" >0</th>\n",
       "      <td id=\"T_82a69_row0_col0\" class=\"data row0 col0\" >33131</td>\n",
       "      <td id=\"T_82a69_row0_col1\" class=\"data row0 col1\" >6-8</td>\n",
       "      <td id=\"T_82a69_row0_col2\" class=\"data row0 col2\" >300</td>\n",
       "      <td id=\"T_82a69_row0_col3\" class=\"data row0 col3\" >1986-09-01</td>\n",
       "      <td id=\"T_82a69_row0_col4\" class=\"data row0 col4\" >Miami</td>\n",
       "      <td id=\"T_82a69_row0_col5\" class=\"data row0 col5\" >DE</td>\n",
       "      <td id=\"T_82a69_row0_col6\" class=\"data row0 col6\" >Calais Campbell</td>\n",
       "      <td id=\"T_82a69_row0_col7\" class=\"data row0 col7\" >8</td>\n",
       "      <td id=\"T_82a69_row0_col8\" class=\"data row0 col8\" >10</td>\n",
       "      <td id=\"T_82a69_row0_col9\" class=\"data row0 col9\" >0</td>\n",
       "      <td id=\"T_82a69_row0_col10\" class=\"data row0 col10\" >4</td>\n",
       "      <td id=\"T_82a69_row0_col11\" class=\"data row0 col11\" >18</td>\n",
       "      <td id=\"T_82a69_row0_col12\" class=\"data row0 col12\" >0.818182</td>\n",
       "      <td id=\"T_82a69_row0_col13\" class=\"data row0 col13\" >1.575523</td>\n",
       "    </tr>\n",
       "    <tr>\n",
       "      <th id=\"T_82a69_level0_row1\" class=\"row_heading level0 row1\" >1</th>\n",
       "      <td id=\"T_82a69_row1_col0\" class=\"data row1 col0\" >35449</td>\n",
       "      <td id=\"T_82a69_row1_col1\" class=\"data row1 col1\" >6-3</td>\n",
       "      <td id=\"T_82a69_row1_col2\" class=\"data row1 col2\" >304</td>\n",
       "      <td id=\"T_82a69_row1_col3\" class=\"data row1 col3\" >1987-05-12</td>\n",
       "      <td id=\"T_82a69_row1_col4\" class=\"data row1 col4\" >California</td>\n",
       "      <td id=\"T_82a69_row1_col5\" class=\"data row1 col5\" >NT</td>\n",
       "      <td id=\"T_82a69_row1_col6\" class=\"data row1 col6\" >Tyson Alualu</td>\n",
       "      <td id=\"T_82a69_row1_col7\" class=\"data row1 col7\" >4</td>\n",
       "      <td id=\"T_82a69_row1_col8\" class=\"data row1 col8\" >4</td>\n",
       "      <td id=\"T_82a69_row1_col9\" class=\"data row1 col9\" >0</td>\n",
       "      <td id=\"T_82a69_row1_col10\" class=\"data row1 col10\" >1</td>\n",
       "      <td id=\"T_82a69_row1_col11\" class=\"data row1 col11\" >8</td>\n",
       "      <td id=\"T_82a69_row1_col12\" class=\"data row1 col12\" >0.888889</td>\n",
       "      <td id=\"T_82a69_row1_col13\" class=\"data row1 col13\" >0.564477</td>\n",
       "    </tr>\n",
       "    <tr>\n",
       "      <th id=\"T_82a69_level0_row2\" class=\"row_heading level0 row2\" >2</th>\n",
       "      <td id=\"T_82a69_row2_col0\" class=\"data row2 col0\" >35452</td>\n",
       "      <td id=\"T_82a69_row2_col1\" class=\"data row2 col1\" >6-2</td>\n",
       "      <td id=\"T_82a69_row2_col2\" class=\"data row2 col2\" >265</td>\n",
       "      <td id=\"T_82a69_row2_col3\" class=\"data row2 col3\" >1988-04-03</td>\n",
       "      <td id=\"T_82a69_row2_col4\" class=\"data row2 col4\" >Michigan</td>\n",
       "      <td id=\"T_82a69_row2_col5\" class=\"data row2 col5\" >DE</td>\n",
       "      <td id=\"T_82a69_row2_col6\" class=\"data row2 col6\" >Brandon Graham</td>\n",
       "      <td id=\"T_82a69_row2_col7\" class=\"data row2 col7\" >6</td>\n",
       "      <td id=\"T_82a69_row2_col8\" class=\"data row2 col8\" >6</td>\n",
       "      <td id=\"T_82a69_row2_col9\" class=\"data row2 col9\" >0</td>\n",
       "      <td id=\"T_82a69_row2_col10\" class=\"data row2 col10\" >1</td>\n",
       "      <td id=\"T_82a69_row2_col11\" class=\"data row2 col11\" >12</td>\n",
       "      <td id=\"T_82a69_row2_col12\" class=\"data row2 col12\" >0.923077</td>\n",
       "      <td id=\"T_82a69_row2_col13\" class=\"data row2 col13\" >1.050349</td>\n",
       "    </tr>\n",
       "    <tr>\n",
       "      <th id=\"T_82a69_level0_row3\" class=\"row_heading level0 row3\" >3</th>\n",
       "      <td id=\"T_82a69_row3_col0\" class=\"data row3 col0\" >35454</td>\n",
       "      <td id=\"T_82a69_row3_col1\" class=\"data row3 col1\" >6-5</td>\n",
       "      <td id=\"T_82a69_row3_col2\" class=\"data row3 col2\" >275</td>\n",
       "      <td id=\"T_82a69_row3_col3\" class=\"data row3 col3\" >1989-01-01</td>\n",
       "      <td id=\"T_82a69_row3_col4\" class=\"data row3 col4\" >South Florida</td>\n",
       "      <td id=\"T_82a69_row3_col5\" class=\"data row3 col5\" >DE</td>\n",
       "      <td id=\"T_82a69_row3_col6\" class=\"data row3 col6\" >Jason Pierre-Paul</td>\n",
       "      <td id=\"T_82a69_row3_col7\" class=\"data row3 col7\" >3</td>\n",
       "      <td id=\"T_82a69_row3_col8\" class=\"data row3 col8\" >3</td>\n",
       "      <td id=\"T_82a69_row3_col9\" class=\"data row3 col9\" >0</td>\n",
       "      <td id=\"T_82a69_row3_col10\" class=\"data row3 col10\" >1</td>\n",
       "      <td id=\"T_82a69_row3_col11\" class=\"data row3 col11\" >6</td>\n",
       "      <td id=\"T_82a69_row3_col12\" class=\"data row3 col12\" >0.857143</td>\n",
       "      <td id=\"T_82a69_row3_col13\" class=\"data row3 col13\" >0.525174</td>\n",
       "    </tr>\n",
       "    <tr>\n",
       "      <th id=\"T_82a69_level0_row4\" class=\"row_heading level0 row4\" >4</th>\n",
       "      <td id=\"T_82a69_row4_col0\" class=\"data row4 col0\" >35459</td>\n",
       "      <td id=\"T_82a69_row4_col1\" class=\"data row4 col1\" >5-10</td>\n",
       "      <td id=\"T_82a69_row4_col2\" class=\"data row4 col2\" >185</td>\n",
       "      <td id=\"T_82a69_row4_col3\" class=\"data row4 col3\" >1988-04-10</td>\n",
       "      <td id=\"T_82a69_row4_col4\" class=\"data row4 col4\" >Alabama</td>\n",
       "      <td id=\"T_82a69_row4_col5\" class=\"data row4 col5\" >SS</td>\n",
       "      <td id=\"T_82a69_row4_col6\" class=\"data row4 col6\" >Kareem Jackson</td>\n",
       "      <td id=\"T_82a69_row4_col7\" class=\"data row4 col7\" >28</td>\n",
       "      <td id=\"T_82a69_row4_col8\" class=\"data row4 col8\" >23</td>\n",
       "      <td id=\"T_82a69_row4_col9\" class=\"data row4 col9\" >0</td>\n",
       "      <td id=\"T_82a69_row4_col10\" class=\"data row4 col10\" >9</td>\n",
       "      <td id=\"T_82a69_row4_col11\" class=\"data row4 col11\" >51</td>\n",
       "      <td id=\"T_82a69_row4_col12\" class=\"data row4 col12\" >0.850000</td>\n",
       "      <td id=\"T_82a69_row4_col13\" class=\"data row4 col13\" >1.809773</td>\n",
       "    </tr>\n",
       "  </tbody>\n",
       "</table>\n"
      ],
      "text/plain": [
       "<pandas.io.formats.style.Styler at 0x2c7e49f60>"
      ]
     },
     "execution_count": 30,
     "metadata": {},
     "output_type": "execute_result"
    }
   ],
   "source": [
    "#Average tackles by position\n",
    "agg_dict_2 = {\n",
    "    \"avg_tackles_by_pos\": pd.NamedAgg(column='total_tackles', aggfunc='mean'),\n",
    "}\n",
    "\n",
    "position_tackles_df = player_tackles.groupby(\"position\").agg(**agg_dict_3).reset_index() \n",
    "\n",
    "def set_average_tackles_by_pos(position):\n",
    "    avg_tackles = position_tackles_df.loc[\n",
    "        position_tackles_df['position'] == position, 'avg_tackles_by_pos'].iloc[0]\n",
    "    return avg_tackles\n",
    "\n",
    "player_tackles['avg_tackles_by_pos'] = player_tackles['position'].apply(set_average_tackles_by_pos)\n",
    "\n",
    "player_tackles['tackle_factor'] = player_tackles['total_tackles']/player_tackles['avg_tackles_by_pos']\n",
    "\n",
    "player_tackles = player_tackles.drop(columns=['avg_tackles_by_pos'])\n",
    "\n",
    "player_tackles.head(5).style.set_caption(\"Sample of the Player data with tackle factor stats\"). \\\n",
    "set_properties(**{'border': '1.3px solid blue',\n",
    "                          'color': 'grey'})"
   ]
  },
  {
   "cell_type": "markdown",
   "id": "b27052b6-db3f-43c1-b69c-0e1b81460e9e",
   "metadata": {
    "scrolled": true
   },
   "source": [
    "With the above table adjusted to include tackle factor, we can look into the players across the league who lead the factor stat."
   ]
  },
  {
   "cell_type": "code",
   "execution_count": 31,
   "id": "02c7409f-19a5-4454-9cfa-5b5e56413c19",
   "metadata": {
    "scrolled": true
   },
   "outputs": [
    {
     "data": {
      "text/html": [
       "<style type=\"text/css\">\n",
       "#T_416e3_row0_col0 {\n",
       "  background-color: #ffc1c1;\n",
       "  color: #000000;\n",
       "}\n",
       "#T_416e3_row0_col3 {\n",
       "  background-color: #4545ff;\n",
       "  color: #f1f1f1;\n",
       "}\n",
       "#T_416e3_row0_col4, #T_416e3_row1_col0, #T_416e3_row2_col0, #T_416e3_row3_col0, #T_416e3_row16_col3 {\n",
       "  background-color: #800000;\n",
       "  color: #f1f1f1;\n",
       "}\n",
       "#T_416e3_row1_col3 {\n",
       "  background-color: #ffa1a1;\n",
       "  color: #000000;\n",
       "}\n",
       "#T_416e3_row1_col4, #T_416e3_row2_col4 {\n",
       "  background-color: #ff0909;\n",
       "  color: #f1f1f1;\n",
       "}\n",
       "#T_416e3_row2_col3 {\n",
       "  background-color: #fff1f1;\n",
       "  color: #000000;\n",
       "}\n",
       "#T_416e3_row3_col3, #T_416e3_row18_col4, #T_416e3_row19_col0, #T_416e3_row19_col4 {\n",
       "  background-color: #00004c;\n",
       "  color: #f1f1f1;\n",
       "}\n",
       "#T_416e3_row3_col4 {\n",
       "  background-color: #ededff;\n",
       "  color: #000000;\n",
       "}\n",
       "#T_416e3_row4_col0 {\n",
       "  background-color: #6969ff;\n",
       "  color: #f1f1f1;\n",
       "}\n",
       "#T_416e3_row4_col3 {\n",
       "  background-color: #9d9dff;\n",
       "  color: #f1f1f1;\n",
       "}\n",
       "#T_416e3_row4_col4 {\n",
       "  background-color: #d1d1ff;\n",
       "  color: #000000;\n",
       "}\n",
       "#T_416e3_row5_col0 {\n",
       "  background-color: #a20000;\n",
       "  color: #f1f1f1;\n",
       "}\n",
       "#T_416e3_row5_col3 {\n",
       "  background-color: #b60000;\n",
       "  color: #f1f1f1;\n",
       "}\n",
       "#T_416e3_row5_col4 {\n",
       "  background-color: #a1a1ff;\n",
       "  color: #f1f1f1;\n",
       "}\n",
       "#T_416e3_row6_col0 {\n",
       "  background-color: #e9e9ff;\n",
       "  color: #000000;\n",
       "}\n",
       "#T_416e3_row6_col3 {\n",
       "  background-color: #f40000;\n",
       "  color: #f1f1f1;\n",
       "}\n",
       "#T_416e3_row6_col4 {\n",
       "  background-color: #8d8dff;\n",
       "  color: #f1f1f1;\n",
       "}\n",
       "#T_416e3_row7_col0 {\n",
       "  background-color: #ffcdcd;\n",
       "  color: #000000;\n",
       "}\n",
       "#T_416e3_row7_col3 {\n",
       "  background-color: #c00000;\n",
       "  color: #f1f1f1;\n",
       "}\n",
       "#T_416e3_row7_col4, #T_416e3_row8_col4, #T_416e3_row17_col0 {\n",
       "  background-color: #8585ff;\n",
       "  color: #f1f1f1;\n",
       "}\n",
       "#T_416e3_row8_col0 {\n",
       "  background-color: #fffdfd;\n",
       "  color: #000000;\n",
       "}\n",
       "#T_416e3_row8_col3 {\n",
       "  background-color: #0000d0;\n",
       "  color: #f1f1f1;\n",
       "}\n",
       "#T_416e3_row9_col0, #T_416e3_row13_col0 {\n",
       "  background-color: #ff5d5d;\n",
       "  color: #f1f1f1;\n",
       "}\n",
       "#T_416e3_row9_col3 {\n",
       "  background-color: #000060;\n",
       "  color: #f1f1f1;\n",
       "}\n",
       "#T_416e3_row9_col4 {\n",
       "  background-color: #5555ff;\n",
       "  color: #f1f1f1;\n",
       "}\n",
       "#T_416e3_row10_col0, #T_416e3_row16_col0 {\n",
       "  background-color: #ff6161;\n",
       "  color: #f1f1f1;\n",
       "}\n",
       "#T_416e3_row10_col3 {\n",
       "  background-color: #c1c1ff;\n",
       "  color: #000000;\n",
       "}\n",
       "#T_416e3_row10_col4 {\n",
       "  background-color: #4d4dff;\n",
       "  color: #f1f1f1;\n",
       "}\n",
       "#T_416e3_row11_col0 {\n",
       "  background-color: #0505ff;\n",
       "  color: #f1f1f1;\n",
       "}\n",
       "#T_416e3_row11_col3, #T_416e3_row15_col3 {\n",
       "  background-color: #fff9f9;\n",
       "  color: #000000;\n",
       "}\n",
       "#T_416e3_row11_col4, #T_416e3_row18_col0 {\n",
       "  background-color: #0101ff;\n",
       "  color: #f1f1f1;\n",
       "}\n",
       "#T_416e3_row12_col0 {\n",
       "  background-color: #ff6565;\n",
       "  color: #f1f1f1;\n",
       "}\n",
       "#T_416e3_row12_col3 {\n",
       "  background-color: #be0000;\n",
       "  color: #f1f1f1;\n",
       "}\n",
       "#T_416e3_row12_col4 {\n",
       "  background-color: #0000e6;\n",
       "  color: #f1f1f1;\n",
       "}\n",
       "#T_416e3_row13_col3 {\n",
       "  background-color: #00008d;\n",
       "  color: #f1f1f1;\n",
       "}\n",
       "#T_416e3_row13_col4 {\n",
       "  background-color: #000090;\n",
       "  color: #f1f1f1;\n",
       "}\n",
       "#T_416e3_row14_col0 {\n",
       "  background-color: #ffc9c9;\n",
       "  color: #000000;\n",
       "}\n",
       "#T_416e3_row14_col3 {\n",
       "  background-color: #1d1dff;\n",
       "  color: #f1f1f1;\n",
       "}\n",
       "#T_416e3_row14_col4, #T_416e3_row15_col4 {\n",
       "  background-color: #00007f;\n",
       "  color: #f1f1f1;\n",
       "}\n",
       "#T_416e3_row15_col0 {\n",
       "  background-color: #9e0000;\n",
       "  color: #f1f1f1;\n",
       "}\n",
       "#T_416e3_row16_col4 {\n",
       "  background-color: #000066;\n",
       "  color: #f1f1f1;\n",
       "}\n",
       "#T_416e3_row17_col3 {\n",
       "  background-color: #ff7171;\n",
       "  color: #f1f1f1;\n",
       "}\n",
       "#T_416e3_row17_col4 {\n",
       "  background-color: #000055;\n",
       "  color: #f1f1f1;\n",
       "}\n",
       "#T_416e3_row18_col3 {\n",
       "  background-color: #0000ef;\n",
       "  color: #f1f1f1;\n",
       "}\n",
       "#T_416e3_row19_col3 {\n",
       "  background-color: #000079;\n",
       "  color: #f1f1f1;\n",
       "}\n",
       "</style>\n",
       "<table id=\"T_416e3\">\n",
       "  <thead>\n",
       "    <tr>\n",
       "      <th class=\"blank level0\" >&nbsp;</th>\n",
       "      <th id=\"T_416e3_level0_col0\" class=\"col_heading level0 col0\" >nflId</th>\n",
       "      <th id=\"T_416e3_level0_col1\" class=\"col_heading level0 col1\" >displayName</th>\n",
       "      <th id=\"T_416e3_level0_col2\" class=\"col_heading level0 col2\" >position</th>\n",
       "      <th id=\"T_416e3_level0_col3\" class=\"col_heading level0 col3\" >tackle_efficiency</th>\n",
       "      <th id=\"T_416e3_level0_col4\" class=\"col_heading level0 col4\" >tackle_factor</th>\n",
       "    </tr>\n",
       "  </thead>\n",
       "  <tbody>\n",
       "    <tr>\n",
       "      <th id=\"T_416e3_level0_row0\" class=\"row_heading level0 row0\" >337</th>\n",
       "      <td id=\"T_416e3_row0_col0\" class=\"data row0 col0\" >46304</td>\n",
       "      <td id=\"T_416e3_row0_col1\" class=\"data row0 col1\" >Zaire Franklin</td>\n",
       "      <td id=\"T_416e3_row0_col2\" class=\"data row0 col2\" >OLB</td>\n",
       "      <td id=\"T_416e3_row0_col3\" class=\"data row0 col3\" >0.873684</td>\n",
       "      <td id=\"T_416e3_row0_col4\" class=\"data row0 col4\" >5.080859</td>\n",
       "    </tr>\n",
       "    <tr>\n",
       "      <th id=\"T_416e3_level0_row1\" class=\"row_heading level0 row1\" >617</th>\n",
       "      <td id=\"T_416e3_row1_col0\" class=\"data row1 col0\" >53509</td>\n",
       "      <td id=\"T_416e3_row1_col1\" class=\"data row1 col1\" >Divine Deablo</td>\n",
       "      <td id=\"T_416e3_row1_col2\" class=\"data row1 col2\" >OLB</td>\n",
       "      <td id=\"T_416e3_row1_col3\" class=\"data row1 col3\" >0.912500</td>\n",
       "      <td id=\"T_416e3_row1_col4\" class=\"data row1 col4\" >4.468707</td>\n",
       "    </tr>\n",
       "    <tr>\n",
       "      <th id=\"T_416e3_level0_row2\" class=\"row_heading level0 row2\" >606</th>\n",
       "      <td id=\"T_416e3_row2_col0\" class=\"data row2 col0\" >53489</td>\n",
       "      <td id=\"T_416e3_row2_col1\" class=\"data row2 col1\" >Pete Werner</td>\n",
       "      <td id=\"T_416e3_row2_col2\" class=\"data row2 col2\" >OLB</td>\n",
       "      <td id=\"T_416e3_row2_col3\" class=\"data row2 col3\" >0.901235</td>\n",
       "      <td id=\"T_416e3_row2_col4\" class=\"data row2 col4\" >4.468707</td>\n",
       "    </tr>\n",
       "    <tr>\n",
       "      <th id=\"T_416e3_level0_row3\" class=\"row_heading level0 row3\" >584</th>\n",
       "      <td id=\"T_416e3_row3_col0\" class=\"data row3 col0\" >53445</td>\n",
       "      <td id=\"T_416e3_row3_col1\" class=\"data row3 col1\" >Zaven Collins</td>\n",
       "      <td id=\"T_416e3_row3_col2\" class=\"data row3 col2\" >OLB</td>\n",
       "      <td id=\"T_416e3_row3_col3\" class=\"data row3 col3\" >0.828947</td>\n",
       "      <td id=\"T_416e3_row3_col4\" class=\"data row3 col4\" >3.856556</td>\n",
       "    </tr>\n",
       "    <tr>\n",
       "      <th id=\"T_416e3_level0_row4\" class=\"row_heading level0 row4\" >129</th>\n",
       "      <td id=\"T_416e3_row4_col0\" class=\"data row4 col0\" >42929</td>\n",
       "      <td id=\"T_416e3_row4_col1\" class=\"data row4 col1\" >Alex Singleton</td>\n",
       "      <td id=\"T_416e3_row4_col2\" class=\"data row4 col2\" >OLB</td>\n",
       "      <td id=\"T_416e3_row4_col3\" class=\"data row4 col3\" >0.885714</td>\n",
       "      <td id=\"T_416e3_row4_col4\" class=\"data row4 col4\" >3.795340</td>\n",
       "    </tr>\n",
       "    <tr>\n",
       "      <th id=\"T_416e3_level0_row5\" class=\"row_heading level0 row5\" >485</th>\n",
       "      <td id=\"T_416e3_row5_col0\" class=\"data row5 col0\" >52415</td>\n",
       "      <td id=\"T_416e3_row5_col1\" class=\"data row5 col1\" >Derrick Brown</td>\n",
       "      <td id=\"T_416e3_row5_col2\" class=\"data row5 col2\" >DE</td>\n",
       "      <td id=\"T_416e3_row5_col3\" class=\"data row5 col3\" >0.954545</td>\n",
       "      <td id=\"T_416e3_row5_col4\" class=\"data row5 col4\" >3.676220</td>\n",
       "    </tr>\n",
       "    <tr>\n",
       "      <th id=\"T_416e3_level0_row6\" class=\"row_heading level0 row6\" >244</th>\n",
       "      <td id=\"T_416e3_row6_col0\" class=\"data row6 col0\" >44957</td>\n",
       "      <td id=\"T_416e3_row6_col1\" class=\"data row6 col1\" >Grover Stewart</td>\n",
       "      <td id=\"T_416e3_row6_col2\" class=\"data row6 col2\" >DT</td>\n",
       "      <td id=\"T_416e3_row6_col3\" class=\"data row6 col3\" >0.937500</td>\n",
       "      <td id=\"T_416e3_row6_col4\" class=\"data row6 col4\" >3.630000</td>\n",
       "    </tr>\n",
       "    <tr>\n",
       "      <th id=\"T_416e3_level0_row7\" class=\"row_heading level0 row7\" >278</th>\n",
       "      <td id=\"T_416e3_row7_col0\" class=\"data row7 col0\" >46088</td>\n",
       "      <td id=\"T_416e3_row7_col1\" class=\"data row7 col1\" >Leighton Vander Esch</td>\n",
       "      <td id=\"T_416e3_row7_col2\" class=\"data row7 col2\" >OLB</td>\n",
       "      <td id=\"T_416e3_row7_col3\" class=\"data row7 col3\" >0.951613</td>\n",
       "      <td id=\"T_416e3_row7_col4\" class=\"data row7 col4\" >3.611695</td>\n",
       "    </tr>\n",
       "    <tr>\n",
       "      <th id=\"T_416e3_level0_row8\" class=\"row_heading level0 row8\" >263</th>\n",
       "      <td id=\"T_416e3_row8_col0\" class=\"data row8 col0\" >45345</td>\n",
       "      <td id=\"T_416e3_row8_col1\" class=\"data row8 col1\" >Nicholas Morrow</td>\n",
       "      <td id=\"T_416e3_row8_col2\" class=\"data row8 col2\" >OLB</td>\n",
       "      <td id=\"T_416e3_row8_col3\" class=\"data row8 col3\" >0.855072</td>\n",
       "      <td id=\"T_416e3_row8_col4\" class=\"data row8 col4\" >3.611695</td>\n",
       "    </tr>\n",
       "    <tr>\n",
       "      <th id=\"T_416e3_level0_row9\" class=\"row_heading level0 row9\" >420</th>\n",
       "      <td id=\"T_416e3_row9_col0\" class=\"data row9 col0\" >47889</td>\n",
       "      <td id=\"T_416e3_row9_col1\" class=\"data row9 col1\" >Maxx Crosby</td>\n",
       "      <td id=\"T_416e3_row9_col2\" class=\"data row9 col2\" >DE</td>\n",
       "      <td id=\"T_416e3_row9_col3\" class=\"data row9 col3\" >0.833333</td>\n",
       "      <td id=\"T_416e3_row9_col4\" class=\"data row9 col4\" >3.501162</td>\n",
       "    </tr>\n",
       "    <tr>\n",
       "      <th id=\"T_416e3_level0_row10\" class=\"row_heading level0 row10\" >407</th>\n",
       "      <td id=\"T_416e3_row10_col0\" class=\"data row10 col0\" >47855</td>\n",
       "      <td id=\"T_416e3_row10_col1\" class=\"data row10 col1\" >Germaine Pratt</td>\n",
       "      <td id=\"T_416e3_row10_col2\" class=\"data row10 col2\" >OLB</td>\n",
       "      <td id=\"T_416e3_row10_col3\" class=\"data row10 col3\" >0.890625</td>\n",
       "      <td id=\"T_416e3_row10_col4\" class=\"data row10 col4\" >3.489265</td>\n",
       "    </tr>\n",
       "    <tr>\n",
       "      <th id=\"T_416e3_level0_row11\" class=\"row_heading level0 row11\" >70</th>\n",
       "      <td id=\"T_416e3_row11_col0\" class=\"data row11 col0\" >41300</td>\n",
       "      <td id=\"T_416e3_row11_col1\" class=\"data row11 col1\" >Christian Kirksey</td>\n",
       "      <td id=\"T_416e3_row11_col2\" class=\"data row11 col2\" >OLB</td>\n",
       "      <td id=\"T_416e3_row11_col3\" class=\"data row11 col3\" >0.900000</td>\n",
       "      <td id=\"T_416e3_row11_col4\" class=\"data row11 col4\" >3.305619</td>\n",
       "    </tr>\n",
       "    <tr>\n",
       "      <th id=\"T_416e3_level0_row12\" class=\"row_heading level0 row12\" >385</th>\n",
       "      <td id=\"T_416e3_row12_col0\" class=\"data row12 col0\" >47796</td>\n",
       "      <td id=\"T_416e3_row12_col1\" class=\"data row12 col1\" >Christian Wilkins</td>\n",
       "      <td id=\"T_416e3_row12_col2\" class=\"data row12 col2\" >DT</td>\n",
       "      <td id=\"T_416e3_row12_col3\" class=\"data row12 col3\" >0.952381</td>\n",
       "      <td id=\"T_416e3_row12_col4\" class=\"data row12 col4\" >3.226667</td>\n",
       "    </tr>\n",
       "    <tr>\n",
       "      <th id=\"T_416e3_level0_row13\" class=\"row_heading level0 row13\" >417</th>\n",
       "      <td id=\"T_416e3_row13_col0\" class=\"data row13 col0\" >47881</td>\n",
       "      <td id=\"T_416e3_row13_col1\" class=\"data row13 col1\" >Quincy Williams</td>\n",
       "      <td id=\"T_416e3_row13_col2\" class=\"data row13 col2\" >OLB</td>\n",
       "      <td id=\"T_416e3_row13_col3\" class=\"data row13 col3\" >0.842105</td>\n",
       "      <td id=\"T_416e3_row13_col4\" class=\"data row13 col4\" >2.938328</td>\n",
       "    </tr>\n",
       "    <tr>\n",
       "      <th id=\"T_416e3_level0_row14\" class=\"row_heading level0 row14\" >300</th>\n",
       "      <td id=\"T_416e3_row14_col0\" class=\"data row14 col0\" >46146</td>\n",
       "      <td id=\"T_416e3_row14_col1\" class=\"data row14 col1\" >Sam Hubbard</td>\n",
       "      <td id=\"T_416e3_row14_col2\" class=\"data row14 col2\" >DE</td>\n",
       "      <td id=\"T_416e3_row14_col3\" class=\"data row14 col3\" >0.868421</td>\n",
       "      <td id=\"T_416e3_row14_col4\" class=\"data row14 col4\" >2.888459</td>\n",
       "    </tr>\n",
       "    <tr>\n",
       "      <th id=\"T_416e3_level0_row15\" class=\"row_heading level0 row15\" >538</th>\n",
       "      <td id=\"T_416e3_row15_col0\" class=\"data row15 col0\" >52546</td>\n",
       "      <td id=\"T_416e3_row15_col1\" class=\"data row15 col1\" >L'Jarius Sneed</td>\n",
       "      <td id=\"T_416e3_row15_col2\" class=\"data row15 col2\" >CB</td>\n",
       "      <td id=\"T_416e3_row15_col3\" class=\"data row15 col3\" >0.900000</td>\n",
       "      <td id=\"T_416e3_row15_col4\" class=\"data row15 col4\" >2.880873</td>\n",
       "    </tr>\n",
       "    <tr>\n",
       "      <th id=\"T_416e3_level0_row16\" class=\"row_heading level0 row16\" >405</th>\n",
       "      <td id=\"T_416e3_row16_col0\" class=\"data row16 col0\" >47848</td>\n",
       "      <td id=\"T_416e3_row16_col1\" class=\"data row16 col1\" >Zach Allen</td>\n",
       "      <td id=\"T_416e3_row16_col2\" class=\"data row16 col2\" >DE</td>\n",
       "      <td id=\"T_416e3_row16_col3\" class=\"data row16 col3\" >0.969697</td>\n",
       "      <td id=\"T_416e3_row16_col4\" class=\"data row16 col4\" >2.800930</td>\n",
       "    </tr>\n",
       "    <tr>\n",
       "      <th id=\"T_416e3_level0_row17\" class=\"row_heading level0 row17\" >148</th>\n",
       "      <td id=\"T_416e3_row17_col0\" class=\"data row17 col0\" >43335</td>\n",
       "      <td id=\"T_416e3_row17_col1\" class=\"data row17 col1\" >A'Shawn Robinson</td>\n",
       "      <td id=\"T_416e3_row17_col2\" class=\"data row17 col2\" >DT</td>\n",
       "      <td id=\"T_416e3_row17_col3\" class=\"data row17 col3\" >0.918919</td>\n",
       "      <td id=\"T_416e3_row17_col4\" class=\"data row17 col4\" >2.742667</td>\n",
       "    </tr>\n",
       "    <tr>\n",
       "      <th id=\"T_416e3_level0_row18\" class=\"row_heading level0 row18\" >66</th>\n",
       "      <td id=\"T_416e3_row18_col0\" class=\"data row18 col0\" >41263</td>\n",
       "      <td id=\"T_416e3_row18_col1\" class=\"data row18 col1\" >Demarcus Lawrence</td>\n",
       "      <td id=\"T_416e3_row18_col2\" class=\"data row18 col2\" >DE</td>\n",
       "      <td id=\"T_416e3_row18_col3\" class=\"data row18 col3\" >0.861111</td>\n",
       "      <td id=\"T_416e3_row18_col4\" class=\"data row18 col4\" >2.713400</td>\n",
       "    </tr>\n",
       "    <tr>\n",
       "      <th id=\"T_416e3_level0_row19\" class=\"row_heading level0 row19\" >14</th>\n",
       "      <td id=\"T_416e3_row19_col0\" class=\"data row19 col0\" >37097</td>\n",
       "      <td id=\"T_416e3_row19_col1\" class=\"data row19 col1\" >Cameron Jordan</td>\n",
       "      <td id=\"T_416e3_row19_col2\" class=\"data row19 col2\" >DE</td>\n",
       "      <td id=\"T_416e3_row19_col3\" class=\"data row19 col3\" >0.837838</td>\n",
       "      <td id=\"T_416e3_row19_col4\" class=\"data row19 col4\" >2.713400</td>\n",
       "    </tr>\n",
       "  </tbody>\n",
       "</table>\n"
      ],
      "text/plain": [
       "<pandas.io.formats.style.Styler at 0x2d87291e0>"
      ]
     },
     "execution_count": 31,
     "metadata": {},
     "output_type": "execute_result"
    }
   ],
   "source": [
    "player_tackles.sort_values(['tackle_factor'], \n",
    "                   ascending=False)[\n",
    "                        [\n",
    "                            'nflId',\n",
    "                            'displayName',\n",
    "                            'position',\n",
    "                            'tackle_efficiency',\n",
    "                            'tackle_factor',\n",
    "                        ]\n",
    "][:20].style.background_gradient(cmap='seismic')"
   ]
  },
  {
   "cell_type": "markdown",
   "id": "eee9de43-19dd-4818-a9a9-b96277578de3",
   "metadata": {
    "papermill": {
     "duration": 0.007645,
     "end_time": "2023-10-23T00:24:39.715843",
     "exception": false,
     "start_time": "2023-10-23T00:24:39.708198",
     "status": "completed"
    },
    "tags": []
   },
   "source": [
    "When looking into the tackle factor, `OLB` players occupy 50% of the top 20 list. This is sensible because linebackers are expected by teams to stop running backs, fullbacks, and other players who conduct running plays. This doesn't necessarily mean that a player is efficient with their tackling attempts though, as Tackle Factor doesn't correlate linearly with Tackle Efficiency.\n",
    "\n",
    "Let's look into a scatter chart that illustrates the tackling factor and efficiency by position."
   ]
  },
  {
   "cell_type": "code",
   "execution_count": 33,
   "id": "c0fce160-4323-4cb8-a54c-59af47941244",
   "metadata": {
    "papermill": {
     "duration": 0.007645,
     "end_time": "2023-10-23T00:24:39.715843",
     "exception": false,
     "start_time": "2023-10-23T00:24:39.708198",
     "status": "completed"
    },
    "tags": []
   },
   "outputs": [
    {
     "data": {
      "application/vnd.plotly.v1+json": {
       "config": {
        "plotlyServerURL": "https://plot.ly"
       },
       "data": [
        {
         "customdata": [
          [
           33131,
           "Calais Campbell"
          ],
          [
           35452,
           "Brandon Graham"
          ],
          [
           35454,
           "Jason Pierre-Paul"
          ],
          [
           35470,
           "Jerry Hughes"
          ],
          [
           37084,
           "J.J. Watt"
          ],
          [
           37097,
           "Cameron Jordan"
          ],
          [
           37841,
           "Mario Addison"
          ],
          [
           38544,
           "Michael Brockers"
          ],
          [
           38551,
           "Chandler Jones"
          ],
          [
           38589,
           "Vinny Curry"
          ],
          [
           40074,
           "William Gholston"
          ],
          [
           41227,
           "Jadeveon Clowney"
          ],
          [
           41263,
           "Demarcus Lawrence"
          ],
          [
           41363,
           "Brent Urban"
          ],
          [
           41464,
           "Shelby Harris"
          ],
          [
           41786,
           "Kerry Hyder"
          ],
          [
           42031,
           "Denico Autry"
          ],
          [
           42331,
           "Efe Obada"
          ],
          [
           42395,
           "Jordan Phillips"
          ],
          [
           42403,
           "Randy Gregory"
          ],
          [
           42406,
           "Frank Clark"
          ],
          [
           42436,
           "Henry Anderson"
          ],
          [
           43298,
           "Leonard Floyd"
          ],
          [
           43308,
           "Shaq Lawson"
          ],
          [
           43321,
           "Emmanuel Ogbah"
          ],
          [
           43352,
           "Adam Gotsis"
          ],
          [
           43358,
           "Yannick Ngakoue"
          ],
          [
           43361,
           "Jonathan Bullard"
          ],
          [
           43426,
           "Dean Lowry"
          ],
          [
           43436,
           "Quinton Jefferson"
          ],
          [
           43791,
           "Morgan Fox"
          ],
          [
           44813,
           "Myles Garrett"
          ],
          [
           44838,
           "Takkarist McKinley"
          ],
          [
           44863,
           "DeMarcus Walker"
          ],
          [
           44871,
           "Tanoh Kpassagnon"
          ],
          [
           44880,
           "Dawuane Smoot"
          ],
          [
           44886,
           "Chris Wormley"
          ],
          [
           44915,
           "Trey Hendrickson"
          ],
          [
           44929,
           "Carl Lawson"
          ],
          [
           44938,
           "Samson Ebukam"
          ],
          [
           44944,
           "Deatrich Wise"
          ],
          [
           44955,
           "Carlos Watkins"
          ],
          [
           45009,
           "Al-Quadin Muhammad"
          ],
          [
           45033,
           "Ifeadi Odenigbo"
          ],
          [
           45038,
           "Isaac Rochell"
          ],
          [
           45063,
           "Pat O'Connor"
          ],
          [
           46083,
           "Marcus Davenport"
          ],
          [
           46121,
           "Kemoko Turay"
          ],
          [
           46133,
           "Tyquan Lewis"
          ],
          [
           46146,
           "Sam Hubbard"
          ],
          [
           46148,
           "Rasheem Green"
          ],
          [
           46185,
           "Dorance Armstrong"
          ],
          [
           46199,
           "Josh Sweat"
          ],
          [
           46204,
           "John Franklin-Myers"
          ],
          [
           46219,
           "Genard Avery"
          ],
          [
           46229,
           "Ogbonnia Okoronkwo"
          ],
          [
           46255,
           "Jake Martin"
          ],
          [
           46487,
           "Poona Ford"
          ],
          [
           46771,
           "Abdullah Anderson"
          ],
          [
           46796,
           "Demone Harris"
          ],
          [
           47785,
           "Nick Bosa"
          ],
          [
           47787,
           "Clelin Ferrell"
          ],
          [
           47809,
           "Montez Sweat"
          ],
          [
           47832,
           "Ben Banogu"
          ],
          [
           47848,
           "Zach Allen"
          ],
          [
           47854,
           "Dre'Mont Jones"
          ],
          [
           47889,
           "Maxx Crosby"
          ],
          [
           47944,
           "Charles Omenihu"
          ],
          [
           48032,
           "Michael Dogbe"
          ],
          [
           48145,
           "Wyatt Ray"
          ],
          [
           48308,
           "Jonathan Kongbo"
          ],
          [
           48462,
           "Kevin Strong"
          ],
          [
           48473,
           "Jonathan Ledbetter"
          ],
          [
           48537,
           "Carl Granderson"
          ],
          [
           48566,
           "Daniel Wise"
          ],
          [
           52415,
           "Derrick Brown"
          ],
          [
           52462,
           "A.J. Epenesa"
          ],
          [
           52498,
           "Jonathan Greenard"
          ],
          [
           52585,
           "Michael Danna"
          ],
          [
           52637,
           "James Smith-Williams"
          ],
          [
           52641,
           "Casey Toohill"
          ],
          [
           52848,
           "Myles Adams"
          ],
          [
           53053,
           "Bryce Huff"
          ],
          [
           53450,
           "Kwity Paye"
          ],
          [
           53457,
           "Payton Turner"
          ],
          [
           53459,
           "Gregory Rousseau"
          ],
          [
           53483,
           "Dayo Odeyingbo"
          ],
          [
           53490,
           "Carlos Basham"
          ],
          [
           53498,
           "Joseph Ossai"
          ],
          [
           53508,
           "Malcolm Koonce"
          ],
          [
           53513,
           "Chauncey Golston"
          ],
          [
           53540,
           "Cam Sample"
          ],
          [
           53577,
           "Ta'Quon Graham"
          ],
          [
           53585,
           "Isaiahh Loudermilk"
          ],
          [
           53669,
           "William Bradley-King"
          ],
          [
           53675,
           "Shaka Toney"
          ],
          [
           53887,
           "Malik Herring"
          ],
          [
           54467,
           "Aidan Hutchinson"
          ],
          [
           54491,
           "Jermaine Johnson"
          ],
          [
           54495,
           "George Karlaftis"
          ],
          [
           54498,
           "Logan Hall"
          ],
          [
           54521,
           "Sam Williams"
          ],
          [
           54526,
           "Drake Jackson"
          ],
          [
           54543,
           "Alex Wright"
          ],
          [
           54549,
           "DeMarvin Leal"
          ],
          [
           54581,
           "Eyioma Uwazurike"
          ],
          [
           54582,
           "Micheal Clemons"
          ],
          [
           54639,
           "Dominique Robinson"
          ],
          [
           54671,
           "Matt Henningsen"
          ],
          [
           54688,
           "Isaiah Thomas"
          ],
          [
           54827,
           "Joshua Onujiogu"
          ],
          [
           55016,
           "Kingsley Jonathan"
          ],
          [
           55190,
           "Sam Okuayinonu"
          ]
         ],
         "hovertemplate": "position=DE<br>tackle_factor=%{x}<br>tackle_efficiency=%{y}<br>nflId=%{customdata[0]}<br>displayName=%{customdata[1]}<extra></extra>",
         "legendgroup": "DE",
         "marker": {
          "color": "rgb(95, 70, 144)",
          "symbol": "circle"
         },
         "mode": "markers",
         "name": "DE",
         "orientation": "v",
         "showlegend": true,
         "type": "scatter",
         "x": [
          1.5755228505034855,
          1.0503485670023238,
          0.5251742835011619,
          0.9628195197521301,
          0.9628195197521301,
          2.713400464756003,
          0.26258714175058095,
          0.35011618900077457,
          1.4004647560030983,
          0.6127033307513555,
          2.0131680867544537,
          0.8752904725019365,
          2.713400464756003,
          0.7877614252517428,
          1.6630518977536792,
          0.43764523625096824,
          0.8752904725019365,
          1.0503485670023238,
          0.7002323780015491,
          0.7002323780015491,
          1.0503485670023238,
          1.0503485670023238,
          2.713400464756003,
          0.7877614252517428,
          0.8752904725019365,
          0.7002323780015491,
          0.9628195197521301,
          0.9628195197521301,
          2.363284275755228,
          1.0503485670023238,
          0.7002323780015491,
          0.9628195197521301,
          0.08752904725019364,
          0.7877614252517428,
          1.1378776142525173,
          0.43764523625096824,
          1.5755228505034855,
          1.4004647560030983,
          0.8752904725019365,
          1.8381099922540665,
          2.363284275755228,
          0.5251742835011619,
          1.5755228505034855,
          0.43764523625096824,
          1.1378776142525173,
          0.08752904725019364,
          1.487993803253292,
          0.08752904725019364,
          1.0503485670023238,
          2.88845855925639,
          1.487993803253292,
          0.9628195197521301,
          1.8381099922540665,
          1.3129357087529046,
          0.08752904725019364,
          0.9628195197521301,
          0.5251742835011619,
          1.4004647560030983,
          0.8752904725019365,
          0.35011618900077457,
          1.0503485670023238,
          0.7002323780015491,
          2.1006971340046476,
          0.17505809450038728,
          2.8009295120061966,
          2.188226181254841,
          3.501161890007746,
          0.7002323780015491,
          1.0503485670023238,
          0.08752904725019364,
          0.08752904725019364,
          0.7877614252517428,
          0.43764523625096824,
          1.3129357087529046,
          0.17505809450038728,
          3.676219984508133,
          0.17505809450038728,
          0.5251742835011619,
          0.6127033307513555,
          1.4004647560030983,
          0.9628195197521301,
          0.35011618900077457,
          0.08752904725019364,
          1.6630518977536792,
          0.7002323780015491,
          1.225406661502711,
          0.7002323780015491,
          0.6127033307513555,
          0.5251742835011619,
          0.35011618900077457,
          0.43764523625096824,
          0.6127033307513555,
          2.450813323005422,
          0.43764523625096824,
          0.08752904725019364,
          0.35011618900077457,
          0.43764523625096824,
          1.1378776142525173,
          0.8752904725019365,
          1.4004647560030983,
          0.5251742835011619,
          0.5251742835011619,
          0.7002323780015491,
          1.225406661502711,
          0.8752904725019365,
          0.26258714175058095,
          1.225406661502711,
          0.8752904725019365,
          0.8752904725019365,
          0.5251742835011619,
          0.17505809450038728,
          0.17505809450038728,
          0.08752904725019364
         ],
         "xaxis": "x",
         "y": [
          0.8181818181818182,
          0.9230769230769231,
          0.8571428571428571,
          0.6111111111111112,
          0.9166666666666666,
          0.8378378378378378,
          0.75,
          1,
          0.7619047619047619,
          0.7777777777777778,
          0.9583333333333334,
          0.9090909090909091,
          0.8611111111111112,
          0.8181818181818182,
          0.8260869565217391,
          1,
          0.7692307692307693,
          0.75,
          0.6666666666666666,
          0.8888888888888888,
          0.7058823529411765,
          1,
          0.9393939393939394,
          0.8181818181818182,
          1,
          0.8,
          0.7333333333333333,
          1,
          0.9642857142857143,
          0.9230769230769231,
          1,
          0.7857142857142857,
          1,
          0.9,
          0.9285714285714286,
          0.625,
          0.9473684210526315,
          0.9411764705882353,
          0.7142857142857143,
          0.875,
          0.9310344827586207,
          0.8571428571428571,
          0.8181818181818182,
          1,
          0.9285714285714286,
          0.5,
          0.9444444444444444,
          1,
          0.8571428571428571,
          0.868421052631579,
          0.8947368421052632,
          0.8461538461538461,
          0.8076923076923077,
          0.9375,
          0.5,
          0.8461538461538461,
          0.75,
          0.9411764705882353,
          0.7692307692307693,
          0.8,
          0.9230769230769231,
          1,
          0.96,
          0.6666666666666666,
          0.9696969696969697,
          0.8620689655172413,
          0.8333333333333334,
          0.8888888888888888,
          0.8571428571428571,
          1,
          1,
          1,
          0.7142857142857143,
          1,
          1,
          0.9545454545454546,
          0.2857142857142857,
          0.6666666666666666,
          0.875,
          0.8888888888888888,
          0.8461538461538461,
          1,
          1,
          0.9047619047619048,
          1,
          0.875,
          0.8,
          0.875,
          1,
          0.8,
          0.8333333333333334,
          0.875,
          0.875,
          0.8333333333333334,
          1,
          1,
          0.8333333333333334,
          0.8125,
          1,
          0.7619047619047619,
          1,
          1,
          0.8888888888888888,
          0.875,
          0.8333333333333334,
          1,
          1,
          0.9090909090909091,
          1,
          0.8571428571428571,
          1,
          1,
          1
         ],
         "yaxis": "y"
        },
        {
         "customdata": [
          [
           35449,
           "Tyson Alualu"
          ],
          [
           35562,
           "Al Woods"
          ],
          [
           39997,
           "Johnathan Hankins"
          ],
          [
           40030,
           "John Jenkins"
          ],
          [
           40347,
           "Mike Purcell"
          ],
          [
           41595,
           "Mike Pennel"
          ],
          [
           42433,
           "Carl Davis"
          ],
          [
           42559,
           "Christian Covington"
          ],
          [
           42560,
           "Rakeem Nunez-Roches"
          ],
          [
           43316,
           "Kenny Clark"
          ],
          [
           43332,
           "Austin Johnson"
          ],
          [
           43455,
           "D.J. Reader"
          ],
          [
           43694,
           "Michael Pierce"
          ],
          [
           44905,
           "Montravius Adams"
          ],
          [
           44991,
           "Davon Godchaux"
          ],
          [
           45226,
           "Josh Tupou"
          ],
          [
           46081,
           "Vita Vea"
          ],
          [
           46264,
           "Sebastian Joseph"
          ],
          [
           47786,
           "Quinnen Williams"
          ],
          [
           47917,
           "Greg Gaines"
          ],
          [
           47973,
           "Armon Watts"
          ],
          [
           48198,
           "Bryan Mone"
          ],
          [
           52464,
           "Raekwon Davis"
          ],
          [
           52538,
           "James Lynch"
          ],
          [
           52539,
           "Rashard Lawrence"
          ],
          [
           53501,
           "Alim McNeill"
          ],
          [
           53679,
           "Khyiris Tonga"
          ],
          [
           54733,
           "Donovan Jeter"
          ],
          [
           54948,
           "Marquan McCall"
          ]
         ],
         "hovertemplate": "position=NT<br>tackle_factor=%{x}<br>tackle_efficiency=%{y}<br>nflId=%{customdata[0]}<br>displayName=%{customdata[1]}<extra></extra>",
         "legendgroup": "NT",
         "marker": {
          "color": "rgb(29, 105, 150)",
          "symbol": "circle"
         },
         "mode": "markers",
         "name": "NT",
         "orientation": "v",
         "showlegend": true,
         "type": "scatter",
         "x": [
          0.5644768856447688,
          1.5523114355231142,
          0.8467153284671532,
          0.5644768856447688,
          1.5523114355231142,
          0.7761557177615571,
          0.35279805352798055,
          0.49391727493917276,
          1.1995133819951338,
          2.187347931873479,
          1.4111922141119222,
          0.635036496350365,
          0.49391727493917276,
          0.49391727493917276,
          2.116788321167883,
          0.7761557177615571,
          1.4111922141119222,
          1.975669099756691,
          1.6934306569343065,
          0.9878345498783455,
          1.5523114355231142,
          1.1289537712895377,
          1.340632603406326,
          0.5644768856447688,
          0.7761557177615571,
          0.7761557177615571,
          0.0705596107055961,
          0.0705596107055961,
          0.635036496350365
         ],
         "xaxis": "x",
         "y": [
          0.8888888888888888,
          0.9565217391304348,
          0.9230769230769231,
          1,
          0.9166666666666666,
          0.9166666666666666,
          0.7142857142857143,
          0.875,
          0.9444444444444444,
          0.96875,
          0.8333333333333334,
          1,
          1,
          1,
          0.9375,
          0.8461538461538461,
          0.9523809523809523,
          0.875,
          0.9230769230769231,
          0.875,
          0.9166666666666666,
          0.8888888888888888,
          0.95,
          0.8888888888888888,
          0.8461538461538461,
          0.7333333333333333,
          0.5,
          1,
          1
         ],
         "yaxis": "y"
        },
        {
         "customdata": [
          [
           35459,
           "Kareem Jackson"
          ],
          [
           38559,
           "Harrison Smith"
          ],
          [
           38852,
           "Michael Thomas"
          ],
          [
           40039,
           "Duron Harmon"
          ],
          [
           40166,
           "Jordan Poyer"
          ],
          [
           40737,
           "Tony Jefferson"
          ],
          [
           41270,
           "Lamarcus Joyner"
          ],
          [
           42116,
           "Adrian Phillips"
          ],
          [
           42376,
           "Landon Collins"
          ],
          [
           42390,
           "Eric Rowe"
          ],
          [
           42901,
           "Dean Marlowe"
          ],
          [
           43350,
           "Vonn Bell"
          ],
          [
           43407,
           "Juston Burris"
          ],
          [
           43413,
           "Deon Bush"
          ],
          [
           43534,
           "Clayton Fejedelem"
          ],
          [
           43757,
           "Andrew Adams"
          ],
          [
           44818,
           "Jamal Adams"
          ],
          [
           44837,
           "Jabrill Peppers"
          ],
          [
           44848,
           "Budda Baker"
          ],
          [
           44862,
           "Justin Evans"
          ],
          [
           44925,
           "Eddie Jackson"
          ],
          [
           44926,
           "Rayshawn Jenkins"
          ],
          [
           44999,
           "Chuck Clark"
          ],
          [
           45021,
           "Rudy Ford"
          ],
          [
           46097,
           "Terrell Edmunds"
          ],
          [
           46122,
           "M.J. Stewart"
          ],
          [
           46137,
           "Justin Reid"
          ],
          [
           46162,
           "Ronnie Harrison"
          ],
          [
           46164,
           "Tarvarius Moore"
          ],
          [
           46186,
           "Jordan Whitehead"
          ],
          [
           46378,
           "J.T. Gray"
          ],
          [
           46680,
           "Sean Chandler"
          ],
          [
           46711,
           "Ryan Neal"
          ],
          [
           47804,
           "Darnell Savage"
          ],
          [
           47810,
           "Johnathan Abram"
          ],
          [
           47864,
           "Will Harris"
          ],
          [
           47888,
           "Chauncey Gardner-Johnson"
          ],
          [
           47891,
           "Julian Love"
          ],
          [
           47974,
           "Marcus Epps"
          ],
          [
           47996,
           "Donovan Wilson"
          ],
          [
           48026,
           "Nick Scott"
          ],
          [
           48581,
           "Roderic Teamer"
          ],
          [
           52452,
           "Grant Delpit"
          ],
          [
           52478,
           "Brandon Jones"
          ],
          [
           52535,
           "K'Von Wallace"
          ],
          [
           52594,
           "Alohi Gilman"
          ],
          [
           52607,
           "Jordan Fuller"
          ],
          [
           52613,
           "Josh Metellus"
          ],
          [
           52624,
           "Kamren Curl"
          ],
          [
           52627,
           "Geno Stone"
          ],
          [
           53469,
           "Richie Grant"
          ],
          [
           53494,
           "Andre Cisco"
          ],
          [
           53592,
           "Darrick Forrest"
          ],
          [
           53609,
           "Talanoa Hufanga"
          ],
          [
           53641,
           "Damar Hamlin"
          ],
          [
           53656,
           "Israel Mukuamu"
          ],
          [
           54513,
           "Jaquan Brisker"
          ],
          [
           54527,
           "Bryan Cook"
          ],
          [
           54561,
           "Nick Cross"
          ],
          [
           54562,
           "Kerby Joseph"
          ],
          [
           54937,
           "Verone McKinley"
          ]
         ],
         "hovertemplate": "position=SS<br>tackle_factor=%{x}<br>tackle_efficiency=%{y}<br>nflId=%{customdata[0]}<br>displayName=%{customdata[1]}<extra></extra>",
         "legendgroup": "SS",
         "marker": {
          "color": "rgb(56, 166, 165)",
          "symbol": "circle"
         },
         "mode": "markers",
         "name": "SS",
         "orientation": "v",
         "showlegend": true,
         "type": "scatter",
         "x": [
          1.8097731239092496,
          1.525887143688191,
          0.07097149505526469,
          1.2774869109947644,
          0.7452006980802792,
          0.14194299011052938,
          1.2065154159394997,
          1.4194299011052938,
          0.035485747527632346,
          0.9581151832460734,
          0.28388598022105876,
          1.3129726585223969,
          0.6032577079697499,
          0.14194299011052938,
          0.14194299011052938,
          0.9581151832460734,
          0.10645724258289703,
          0.9581151832460734,
          2.484002326934264,
          0.7806864456079116,
          2.27108784176847,
          1.8452588714368818,
          1.9162303664921467,
          0.49680046538685285,
          1.1000581733566026,
          0.3193717277486911,
          1.242001163467132,
          0.28388598022105876,
          0.14194299011052938,
          1.6323443862710878,
          0.035485747527632346,
          0.24840023269342643,
          1.0645724258289704,
          1.0645724258289704,
          1.7033158813263525,
          0.8161721931355439,
          1.4549156486329262,
          1.9162303664921467,
          1.5968586387434556,
          1.9162303664921467,
          1.2065154159394997,
          0.3193717277486911,
          1.6678301337987202,
          1.6678301337987202,
          0.21291448516579406,
          0.49680046538685285,
          0.3903432228039558,
          0.46131471785922046,
          1.5968586387434556,
          0.8161721931355439,
          2.164630599185573,
          1.6323443862710878,
          1.2774869109947644,
          1.4194299011052938,
          1.7742873763816172,
          0.3903432228039558,
          1.8097731239092496,
          0.4258289703315881,
          0.28388598022105876,
          0.8871436881908086,
          0.07097149505526469
         ],
         "xaxis": "x",
         "y": [
          0.85,
          0.9555555555555556,
          1,
          0.8571428571428571,
          0.875,
          1,
          0.85,
          0.9302325581395349,
          1,
          0.8709677419354839,
          0.8,
          0.8809523809523809,
          0.8095238095238095,
          1,
          1,
          0.9,
          1,
          0.9642857142857143,
          0.8641975308641975,
          0.88,
          0.8648648648648649,
          0.7647058823529411,
          0.9,
          1,
          0.8611111111111112,
          0.9,
          0.7954545454545454,
          0.7272727272727273,
          1,
          0.8214285714285714,
          1,
          1,
          0.9090909090909091,
          0.7692307692307693,
          0.8421052631578947,
          0.92,
          0.803921568627451,
          0.9473684210526315,
          0.8490566037735849,
          0.8059701492537313,
          0.7906976744186046,
          0.9,
          0.9038461538461539,
          0.8867924528301887,
          1,
          0.875,
          0.9166666666666666,
          0.9285714285714286,
          0.9782608695652174,
          0.9583333333333334,
          0.8840579710144928,
          0.8846153846153846,
          0.9473684210526315,
          0.7843137254901961,
          0.8928571428571429,
          1,
          0.8225806451612904,
          0.8571428571428571,
          0.8,
          0.8928571428571429,
          1
         ],
         "yaxis": "y"
        },
        {
         "customdata": [
          [
           35466,
           "Devin McCourty"
          ],
          [
           38707,
           "Justin Bethel"
          ],
          [
           38843,
           "Rodney McLeod"
          ],
          [
           38868,
           "Tashaun Gipson"
          ],
          [
           39908,
           "Erik Harris"
          ],
          [
           39941,
           "Chris Banjo"
          ],
          [
           40017,
           "Tyrann Mathieu"
          ],
          [
           40031,
           "Logan Ryan"
          ],
          [
           40107,
           "Micah Hyde"
          ],
          [
           41256,
           "Jimmie Ward"
          ],
          [
           42485,
           "Adrian Amos"
          ],
          [
           42488,
           "Bobby McCain"
          ],
          [
           42543,
           "Quandre Diggs"
          ],
          [
           43306,
           "Keanu Neal"
          ],
          [
           43353,
           "Kevin Byard"
          ],
          [
           43387,
           "Justin Simmons"
          ],
          [
           43395,
           "Eric Murray"
          ],
          [
           43508,
           "Will Parks"
          ],
          [
           43533,
           "Jayron Kearse"
          ],
          [
           43616,
           "Matthias Farley"
          ],
          [
           44827,
           "Malik Hooker"
          ],
          [
           44851,
           "Marcus Maye"
          ],
          [
           44854,
           "Marcus Williams"
          ],
          [
           44873,
           "Josh Jones"
          ],
          [
           44903,
           "John Johnson"
          ],
          [
           45004,
           "Xavier Woods"
          ],
          [
           46080,
           "Minkah Fitzpatrick"
          ],
          [
           46086,
           "Derwin James"
          ],
          [
           46123,
           "Jessie Bates"
          ],
          [
           46151,
           "Tracy Walker"
          ],
          [
           46259,
           "DeShon Elliott"
          ],
          [
           46649,
           "Jeremy Reaves"
          ],
          [
           46669,
           "Jonathan Owens"
          ],
          [
           46846,
           "Joshua Kalu"
          ],
          [
           47843,
           "Nasir Adderley"
          ],
          [
           47844,
           "Taylor Rapp"
          ],
          [
           47846,
           "Juan Thornhill"
          ],
          [
           47882,
           "Mike Edwards"
          ],
          [
           47899,
           "Amani Hooker"
          ],
          [
           47915,
           "Ugochukwu Amadi"
          ],
          [
           47964,
           "Jaquan Johnson"
          ],
          [
           48447,
           "P.J. Locke"
          ],
          [
           48454,
           "C.J. Moore"
          ],
          [
           48508,
           "Andrew Wingard"
          ],
          [
           49410,
           "Jalen Thompson"
          ],
          [
           52444,
           "Xavier McKinney"
          ],
          [
           52445,
           "Kyle Dugger"
          ],
          [
           52453,
           "Antoine Winfield"
          ],
          [
           52472,
           "Jeremy Chinn"
          ],
          [
           52493,
           "Julian Blackmon"
          ],
          [
           52512,
           "Terrell Burgess"
          ],
          [
           52542,
           "Jaylinn Hawkins"
          ],
          [
           52852,
           "Myles Hartsfield"
          ],
          [
           52913,
           "Bobby Price"
          ],
          [
           52980,
           "Juju Hughes"
          ],
          [
           53465,
           "Jevon Holland"
          ],
          [
           53472,
           "Trevon Moehrig"
          ],
          [
           53533,
           "Brandon Stephens"
          ],
          [
           53554,
           "Camryn Bynum"
          ],
          [
           53581,
           "Caden Sterns"
          ],
          [
           53674,
           "Tre Norwood"
          ],
          [
           54479,
           "Kyle Hamilton"
          ],
          [
           54496,
           "Dax Hill"
          ],
          [
           54502,
           "Jalen Pitre"
          ],
          [
           54578,
           "Percy Butler"
          ],
          [
           54579,
           "Dane Belton"
          ],
          [
           54704,
           "Rodney Thomas"
          ],
          [
           54833,
           "Tony Adams"
          ],
          [
           55149,
           "Markquese Bell"
          ]
         ],
         "hovertemplate": "position=FS<br>tackle_factor=%{x}<br>tackle_efficiency=%{y}<br>nflId=%{customdata[0]}<br>displayName=%{customdata[1]}<extra></extra>",
         "legendgroup": "FS",
         "marker": {
          "color": "rgb(15, 133, 84)",
          "symbol": "circle"
         },
         "mode": "markers",
         "name": "FS",
         "orientation": "v",
         "showlegend": true,
         "type": "scatter",
         "x": [
          1.7532467532467533,
          0.35064935064935066,
          1.4805194805194803,
          1.051948051948052,
          0.2727272727272727,
          0.03896103896103896,
          1.5584415584415583,
          0.35064935064935066,
          0.2727272727272727,
          0.2727272727272727,
          1.5974025974025974,
          1.6363636363636362,
          1.5194805194805194,
          1.4025974025974026,
          2.1818181818181817,
          0.8961038961038961,
          0.2727272727272727,
          0.11688311688311688,
          1.2467532467532467,
          0.03896103896103896,
          1.4415584415584415,
          1.2467532467532467,
          1.2467532467532467,
          0.935064935064935,
          1.4805194805194803,
          1.87012987012987,
          1.6753246753246753,
          2.6103896103896105,
          1.4805194805194803,
          0.6623376623376623,
          1.987012987012987,
          0.07792207792207792,
          2.4935064935064934,
          0.7402597402597402,
          1.12987012987013,
          1.4805194805194803,
          1.2077922077922076,
          2.0259740259740258,
          0.8571428571428571,
          0.1948051948051948,
          0.935064935064935,
          0.1948051948051948,
          0.03896103896103896,
          0.03896103896103896,
          2.1818181818181817,
          1.4805194805194803,
          0.8961038961038961,
          1.4415584415584415,
          0.7402597402597402,
          0.2727272727272727,
          0.4675324675324675,
          1.831168831168831,
          1.909090909090909,
          0.11688311688311688,
          0.5844155844155844,
          1.909090909090909,
          0.7402597402597402,
          0.5844155844155844,
          1.3246753246753247,
          0.8181818181818181,
          0.7012987012987013,
          0.8181818181818181,
          0.07792207792207792,
          2.103896103896104,
          0.03896103896103896,
          0.6233766233766234,
          0.8961038961038961,
          0.03896103896103896,
          0.03896103896103896
         ],
         "xaxis": "x",
         "y": [
          0.9375,
          0.9,
          0.95,
          1,
          1,
          1,
          0.8333333333333334,
          1,
          0.875,
          0.875,
          0.8913043478260869,
          0.8571428571428571,
          0.8478260869565217,
          0.8181818181818182,
          0.9491525423728814,
          0.7931034482758621,
          0.875,
          1,
          0.9411764705882353,
          1,
          0.9487179487179487,
          0.8888888888888888,
          0.9696969696969697,
          0.7741935483870968,
          0.8085106382978723,
          0.9411764705882353,
          0.9555555555555556,
          0.9305555555555556,
          0.9047619047619048,
          0.9444444444444444,
          0.9272727272727272,
          1,
          0.9014084507042254,
          0.8636363636363636,
          0.9354838709677419,
          0.926829268292683,
          0.8378378378378378,
          0.8387096774193549,
          0.9166666666666666,
          0.7142857142857143,
          0.8571428571428571,
          1,
          1,
          1,
          0.9655172413793104,
          0.926829268292683,
          0.92,
          0.9736842105263158,
          0.7916666666666666,
          1,
          0.9230769230769231,
          0.8867924528301887,
          0.8909090909090909,
          1,
          0.8333333333333334,
          0.9074074074074074,
          0.9047619047619048,
          0.8823529411764706,
          0.9444444444444444,
          0.8076923076923077,
          0.75,
          0.875,
          1,
          0.7397260273972602,
          1,
          0.8888888888888888,
          0.92,
          1,
          1
         ],
         "yaxis": "y"
        },
        {
         "customdata": [
          [
           35493,
           "Carlos Dunlap"
          ],
          [
           37075,
           "Von Miller"
          ],
          [
           37087,
           "Robert Quinn"
          ],
          [
           37145,
           "Justin Houston"
          ],
          [
           38545,
           "Bruce Irvin"
          ],
          [
           38548,
           "Melvin Ingram"
          ],
          [
           39998,
           "Jon Bostic"
          ],
          [
           40095,
           "Steven Means"
          ],
          [
           40096,
           "A.J. Klein"
          ],
          [
           40463,
           "Brandon Copeland"
          ],
          [
           41231,
           "Khalil Mack"
          ],
          [
           41235,
           "Anthony Barr"
          ],
          [
           41269,
           "Kyle Van Noy"
          ],
          [
           41279,
           "Jeremiah Attaochu"
          ],
          [
           41300,
           "Christian Kirksey"
          ],
          [
           41361,
           "Kevin Pierre-Louis"
          ],
          [
           41403,
           "Devon Kennard"
          ],
          [
           41915,
           "Shaquil Barrett"
          ],
          [
           42346,
           "Dante Fowler"
          ],
          [
           42365,
           "Bud Dupree"
          ],
          [
           42381,
           "Preston Smith"
          ],
          [
           42401,
           "Markus Golden"
          ],
          [
           42431,
           "Danielle Hunter"
          ],
          [
           42444,
           "Trey Flowers"
          ],
          [
           42465,
           "Za'Darius Smith"
          ],
          [
           42467,
           "Kwon Alexander"
          ],
          [
           42929,
           "Alex Singleton"
          ],
          [
           43292,
           "Joey Bosa"
          ],
          [
           43333,
           "Jihad Ward"
          ],
          [
           43354,
           "Carl Nassib"
          ],
          [
           43435,
           "Matt Judon"
          ],
          [
           43797,
           "Cory Littleton"
          ],
          [
           44825,
           "Haason Reddick"
          ],
          [
           44834,
           "Charles Harris"
          ],
          [
           44842,
           "T.J. Watt"
          ],
          [
           44861,
           "Ryan Anderson"
          ],
          [
           44937,
           "Jalen Reeves-Maybin"
          ],
          [
           44968,
           "Jayon Brown"
          ],
          [
           44976,
           "Matt Milano"
          ],
          [
           45045,
           "Elijah Lee"
          ],
          [
           45215,
           "Eric Wilson"
          ],
          [
           45345,
           "Nicholas Morrow"
          ],
          [
           46074,
           "Bradley Chubb"
          ],
          [
           46088,
           "Leighton Vander Esch"
          ],
          [
           46117,
           "Uchenna Nwosu"
          ],
          [
           46135,
           "Lorenzo Carter"
          ],
          [
           46156,
           "Arden Key"
          ],
          [
           46157,
           "Oren Burks"
          ],
          [
           46205,
           "Marquis Haynes"
          ],
          [
           46253,
           "Marcell Harris"
          ],
          [
           46290,
           "Matthew Adams"
          ],
          [
           46304,
           "Zaire Franklin"
          ],
          [
           46457,
           "Olasunkanmi Adeniyi"
          ],
          [
           46657,
           "Dennis Gardeck"
          ],
          [
           47790,
           "Josh Allen"
          ],
          [
           47795,
           "Rashan Gary"
          ],
          [
           47799,
           "Brian Burns"
          ],
          [
           47855,
           "Germaine Pratt"
          ],
          [
           47863,
           "Sione Takitaki"
          ],
          [
           47878,
           "Oshane Ximines"
          ],
          [
           47881,
           "Quincy Williams"
          ],
          [
           47890,
           "Anthony Nelson"
          ],
          [
           47900,
           "Austin Bryant"
          ],
          [
           47934,
           "Andrew Van Ginkel"
          ],
          [
           47938,
           "Mack Wilson"
          ],
          [
           47939,
           "Justin Hollins"
          ],
          [
           47947,
           "E.J. Speed"
          ],
          [
           48008,
           "Darryl Johnson"
          ],
          [
           48013,
           "Quinton Bell"
          ],
          [
           48027,
           "Kaden Elliss"
          ],
          [
           48089,
           "Malik Reed"
          ],
          [
           48117,
           "Demetrius Flannigan-Fowles"
          ],
          [
           48555,
           "Luke Gifford"
          ],
          [
           52428,
           "K'Lavon Chaisson"
          ],
          [
           52446,
           "Yetur Gross-Matos"
          ],
          [
           52456,
           "Darrell Taylor"
          ],
          [
           52468,
           "Josh Uche"
          ],
          [
           52471,
           "Willie Gay"
          ],
          [
           52475,
           "Julian Okwara"
          ],
          [
           52482,
           "Zack Baun"
          ],
          [
           52492,
           "Terrell Lewis"
          ],
          [
           52495,
           "Anfernee Jennings"
          ],
          [
           52506,
           "Malik Harrison"
          ],
          [
           52510,
           "Alex Highsmith"
          ],
          [
           52515,
           "Akeem Davis-Gaither"
          ],
          [
           52525,
           "D.J. Wonnum"
          ],
          [
           52563,
           "Trevis Gipson"
          ],
          [
           52650,
           "Jonathan Garvin"
          ],
          [
           52662,
           "Derrek Tuszka"
          ],
          [
           52797,
           "Joe Bachie"
          ],
          [
           52932,
           "Ladarius Hamilton"
          ],
          [
           52971,
           "Jamir Jones"
          ],
          [
           53441,
           "Micah Parsons"
          ],
          [
           53445,
           "Zaven Collins"
          ],
          [
           53447,
           "Jaelan Phillips"
          ],
          [
           53448,
           "Jamin Davis"
          ],
          [
           53460,
           "Odafe Oweh"
          ],
          [
           53461,
           "Joe Tryon"
          ],
          [
           53479,
           "Azeez Ojulari"
          ],
          [
           53481,
           "Jeremiah Owusu-Koramoah"
          ],
          [
           53489,
           "Pete Werner"
          ],
          [
           53509,
           "Divine Deablo"
          ],
          [
           53519,
           "Patrick Jones"
          ],
          [
           53545,
           "Elerson Smith"
          ],
          [
           53547,
           "Chris Rumph"
          ],
          [
           53564,
           "Rashad Weaver"
          ],
          [
           53582,
           "Tony Fields"
          ],
          [
           53599,
           "Garret Wallow"
          ],
          [
           53611,
           "Adetokunbo Ogundeji"
          ],
          [
           53639,
           "Victor Dimukeje"
          ],
          [
           53645,
           "Quincy Roche"
          ],
          [
           53668,
           "Jonathon Cooper"
          ],
          [
           53716,
           "Milo Eifler"
          ],
          [
           54466,
           "Travon Walker"
          ],
          [
           54470,
           "Kayvon Thibodeaux"
          ],
          [
           54503,
           "Arnold Ebiketie"
          ],
          [
           54505,
           "Boye Mafe"
          ],
          [
           54529,
           "Nik Bonitto"
          ],
          [
           54547,
           "DeAngelo Malone"
          ],
          [
           54552,
           "Cameron Thomas"
          ],
          [
           54554,
           "Terrel Bernard"
          ],
          [
           54565,
           "Myjai Sanders"
          ],
          [
           54568,
           "Leo Chenal"
          ],
          [
           54644,
           "Kingsley Enagbare"
          ],
          [
           54646,
           "Kyron Johnson"
          ],
          [
           54654,
           "Amare Barno"
          ],
          [
           54696,
           "Baylon Spector"
          ],
          [
           54721,
           "Jesse Luketa"
          ],
          [
           54750,
           "Keir Thomas"
          ],
          [
           54758,
           "De'Shaan Dixon"
          ],
          [
           54949,
           "Arron Mosby"
          ],
          [
           55032,
           "Tomon Fox"
          ],
          [
           55043,
           "Jake Hansen"
          ],
          [
           55105,
           "Luke Masterson"
          ]
         ],
         "hovertemplate": "position=OLB<br>tackle_factor=%{x}<br>tackle_efficiency=%{y}<br>nflId=%{customdata[0]}<br>displayName=%{customdata[1]}<extra></extra>",
         "legendgroup": "OLB",
         "marker": {
          "color": "rgb(115, 175, 72)",
          "symbol": "circle"
         },
         "mode": "markers",
         "name": "OLB",
         "orientation": "v",
         "showlegend": true,
         "type": "scatter",
         "x": [
          0.7957971676564641,
          0.5509365006852444,
          0.24486066697121972,
          0.24486066697121972,
          0.30607583371402464,
          0.7957971676564641,
          0.5509365006852444,
          0.12243033348560986,
          0.24486066697121972,
          0.24486066697121972,
          1.2243033348560985,
          1.8976701690269528,
          1.2243033348560985,
          0.12243033348560986,
          3.3056190041114664,
          0.12243033348560986,
          0.4285061671996345,
          1.6528095020557332,
          0.6121516674280493,
          0.30607583371402464,
          1.5303791685701233,
          1.5915943353129283,
          1.775239835541343,
          0.24486066697121972,
          0.918227501142074,
          2.5098218364550022,
          3.7953403380539057,
          0.24486066697121972,
          1.3467336683417086,
          0.7345820009136592,
          1.3467336683417086,
          1.5915943353129283,
          0.857012334399269,
          0.7345820009136592,
          0.30607583371402464,
          0.06121516674280493,
          0.1836455002284148,
          1.3467336683417086,
          2.2649611694837826,
          0,
          0.12243033348560986,
          3.611694837825491,
          1.3467336683417086,
          3.611694837825491,
          2.020100502512563,
          1.4691640018273184,
          0.4285061671996345,
          0.857012334399269,
          0.7957971676564641,
          0.5509365006852444,
          0.3672910004568296,
          5.08085883965281,
          0.06121516674280493,
          0.7345820009136592,
          1.2243033348560985,
          1.4691640018273184,
          1.8976701690269528,
          3.489264504339881,
          2.0813156692553676,
          0.6733668341708543,
          2.938328003654637,
          0.6733668341708543,
          0.30607583371402464,
          0.857012334399269,
          1.2243033348560985,
          1.2855185015989035,
          1.775239835541343,
          0.1836455002284148,
          0.12243033348560986,
          0.918227501142074,
          1.0406578346276838,
          0.24486066697121972,
          0.06121516674280493,
          0.12243033348560986,
          1.714024668798538,
          0.5509365006852444,
          0.4285061671996345,
          1.714024668798538,
          0.7345820009136592,
          0.12243033348560986,
          0.6733668341708543,
          0.7957971676564641,
          1.4079488350845135,
          1.4079488350845135,
          1.8976701690269528,
          0.7957971676564641,
          0.7957971676564641,
          0.24486066697121972,
          0.3672910004568296,
          0.1836455002284148,
          0,
          0.24486066697121972,
          1.714024668798538,
          3.856555504796711,
          1.5915943353129283,
          2.632252169940612,
          1.4691640018273184,
          1.1018730013704887,
          0.12243033348560986,
          2.448606669712197,
          4.46870717222476,
          4.46870717222476,
          0.24486066697121972,
          0.06121516674280493,
          0.30607583371402464,
          0.4285061671996345,
          0.06121516674280493,
          0.48972133394243944,
          0.9794426678848789,
          0.7345820009136592,
          0.06121516674280493,
          0.6121516674280493,
          0.06121516674280493,
          1.836455002284148,
          0.7345820009136592,
          1.1018730013704887,
          1.2855185015989035,
          0.30607583371402464,
          0.3672910004568296,
          0.5509365006852444,
          0.857012334399269,
          0.12243033348560986,
          0.6121516674280493,
          0.5509365006852444,
          0.06121516674280493,
          0.12243033348560986,
          0.1836455002284148,
          0.06121516674280493,
          0,
          0.06121516674280493,
          0.06121516674280493,
          0.857012334399269,
          0.12243033348560986,
          0.12243033348560986
         ],
         "xaxis": "x",
         "y": [
          0.9285714285714286,
          0.75,
          0.8,
          0.8,
          0.8333333333333334,
          0.8125,
          0.9,
          1,
          0.6666666666666666,
          1,
          0.8695652173913043,
          0.9117647058823529,
          0.9090909090909091,
          1,
          0.9,
          0.5,
          0.875,
          0.9310344827586207,
          0.8333333333333334,
          1,
          0.7575757575757576,
          0.9285714285714286,
          0.8285714285714286,
          0.6666666666666666,
          0.8823529411764706,
          0.9111111111111111,
          0.8857142857142857,
          1,
          0.88,
          0.8571428571428571,
          0.9565217391304348,
          0.8666666666666667,
          0.6086956521739131,
          1,
          1,
          1,
          0.75,
          0.9166666666666666,
          0.8604651162790697,
          0,
          1,
          0.855072463768116,
          0.7857142857142857,
          0.9516129032258065,
          0.8461538461538461,
          0.8888888888888888,
          0.875,
          1,
          0.9285714285714286,
          0.75,
          0.8571428571428571,
          0.8736842105263158,
          0.5,
          0.8571428571428571,
          0.8333333333333334,
          0.8571428571428571,
          0.8157894736842105,
          0.890625,
          0.9714285714285714,
          1,
          0.8421052631578947,
          0.8461538461538461,
          0.7142857142857143,
          0.8235294117647058,
          0.8,
          0.9130434782608695,
          1,
          1,
          1,
          0.8333333333333334,
          0.8947368421052632,
          0.8,
          1,
          0.6666666666666666,
          0.9655172413793104,
          0.75,
          1,
          0.8235294117647058,
          1,
          0.6666666666666666,
          0.9166666666666666,
          0.9285714285714286,
          0.8518518518518519,
          0.92,
          1,
          0.8666666666666667,
          0.9285714285714286,
          1,
          0.8571428571428571,
          1,
          0,
          1,
          0.9333333333333333,
          0.8289473684210527,
          0.7222222222222222,
          0.86,
          0.8275862068965517,
          0.8181818181818182,
          0.6666666666666666,
          0.8333333333333334,
          0.9012345679012346,
          0.9125,
          1,
          0.5,
          0.7142857142857143,
          0.5833333333333334,
          1,
          0.8,
          0.6956521739130435,
          0.9230769230769231,
          1,
          0.9090909090909091,
          1,
          0.8108108108108109,
          0.8571428571428571,
          0.9,
          0.9545454545454546,
          0.8333333333333334,
          1,
          1,
          0.9333333333333333,
          0.6666666666666666,
          0.7142857142857143,
          1,
          1,
          1,
          0.75,
          0.5,
          0,
          1,
          1,
          0.875,
          0.6666666666666666,
          1
         ],
         "yaxis": "y"
        },
        {
         "customdata": [
          [
           35522,
           "Corey Peters"
          ],
          [
           37104,
           "Cameron Heyward"
          ],
          [
           37308,
           "Lawrence Guy"
          ],
          [
           38542,
           "Fletcher Cox"
          ],
          [
           38619,
           "Akiem Hicks"
          ],
          [
           40048,
           "Akeem Spence"
          ],
          [
           40171,
           "Nicholas Williams"
          ],
          [
           41239,
           "Aaron Donald"
          ],
          [
           41336,
           "Justin Ellis"
          ],
          [
           41341,
           "DaQuan Jones"
          ],
          [
           42349,
           "Leonard Williams"
          ],
          [
           42360,
           "Arik Armstead"
          ],
          [
           42378,
           "Mario Edwards"
          ],
          [
           42443,
           "Angelo Blackson"
          ],
          [
           42480,
           "Grady Jarrett"
          ],
          [
           42553,
           "Christian Ringo"
          ],
          [
           42826,
           "DeShawn Williams"
          ],
          [
           43296,
           "DeForest Buckner"
          ],
          [
           43301,
           "Sheldon Rankins"
          ],
          [
           43326,
           "Chris Jones"
          ],
          [
           43335,
           "A'Shawn Robinson"
          ],
          [
           43338,
           "Jarran Reed"
          ],
          [
           43356,
           "Maliek Collins"
          ],
          [
           43378,
           "Javon Hargrave"
          ],
          [
           43405,
           "Hassan Ridgeway"
          ],
          [
           43409,
           "David Onyemata"
          ],
          [
           43411,
           "Andrew Billings"
          ],
          [
           43441,
           "Matt Ioannidis"
          ],
          [
           43780,
           "Brandin Bryant"
          ],
          [
           43787,
           "Roy Robertson-Harris"
          ],
          [
           43938,
           "Antwaun Woods"
          ],
          [
           44815,
           "Solomon Thomas"
          ],
          [
           44829,
           "Jonathan Allen"
          ],
          [
           44867,
           "Dalvin Tomlinson"
          ],
          [
           44877,
           "Larry Ogunjobi"
          ],
          [
           44922,
           "Jaleel Johnson"
          ],
          [
           44957,
           "Grover Stewart"
          ],
          [
           45011,
           "D.J. Jones"
          ],
          [
           46082,
           "Daron Payne"
          ],
          [
           46098,
           "Taven Bryan"
          ],
          [
           46138,
           "B.J. Hill"
          ],
          [
           46141,
           "Nathan Shepherd"
          ],
          [
           46144,
           "Derrick Nnadi"
          ],
          [
           46153,
           "Justin Jones"
          ],
          [
           46159,
           "Deadrin Senat"
          ],
          [
           46165,
           "Harrison Phillips"
          ],
          [
           46197,
           "Kentavius Street"
          ],
          [
           46214,
           "Bilal Nichols"
          ],
          [
           46232,
           "Tim Settle"
          ],
          [
           46249,
           "Folorunso Fatukasi"
          ],
          [
           46307,
           "Zach Sieler"
          ],
          [
           46387,
           "Kendal Vickers"
          ],
          [
           46504,
           "Daniel Ekuale"
          ],
          [
           46543,
           "Henry Mondeaux"
          ],
          [
           46618,
           "Taylor Stallworth"
          ],
          [
           46841,
           "Matt Dickerson"
          ],
          [
           47792,
           "Ed Oliver"
          ],
          [
           47796,
           "Christian Wilkins"
          ],
          [
           47800,
           "Dexter Lawrence"
          ],
          [
           47802,
           "Jeffery Simmons"
          ],
          [
           47811,
           "Jerry Tillery"
          ],
          [
           47841,
           "Trysten Hill"
          ],
          [
           47867,
           "Khalen Saunders"
          ],
          [
           47918,
           "John Cominsky"
          ],
          [
           47942,
           "Byron Cowart"
          ],
          [
           47975,
           "Isaiah Buggs"
          ],
          [
           48123,
           "Kevin Givens"
          ],
          [
           48301,
           "Jalen Dalton"
          ],
          [
           48520,
           "Anthony Rush"
          ],
          [
           48544,
           "Shy Tuttle"
          ],
          [
           48770,
           "Marquise Copeland"
          ],
          [
           52422,
           "Javon Kinlaw"
          ],
          [
           52448,
           "Ross Blacklock"
          ],
          [
           52479,
           "Justin Madubuike"
          ],
          [
           52481,
           "Davon Hamilton"
          ],
          [
           52490,
           "Neville Gallimore"
          ],
          [
           52496,
           "Jordan Elliott"
          ],
          [
           52522,
           "Leki Fotu"
          ],
          [
           52578,
           "Broderick Washington"
          ],
          [
           52592,
           "Bravvion Roy"
          ],
          [
           52665,
           "Malcolm Roach"
          ],
          [
           52743,
           "Benito Jones"
          ],
          [
           52792,
           "Tershawn Wharton"
          ],
          [
           52846,
           "Jonah Williams"
          ],
          [
           53050,
           "Domenique Davis"
          ],
          [
           53073,
           "Teair Tart"
          ],
          [
           53467,
           "Christian Barmore"
          ],
          [
           53502,
           "Milton Williams"
          ],
          [
           53504,
           "Osa Odighizuwa"
          ],
          [
           53535,
           "Jay Tufele"
          ],
          [
           53561,
           "Tommy Togiai"
          ],
          [
           53587,
           "Daviyon Nixon"
          ],
          [
           53602,
           "Tedarrell Slaton"
          ],
          [
           53618,
           "Marlon Tuipulotu"
          ],
          [
           53621,
           "Quinton Bohanna"
          ],
          [
           53624,
           "Roy Lopez"
          ],
          [
           53661,
           "Phil Hoskins"
          ],
          [
           53712,
           "Michael Dwumfour"
          ],
          [
           53894,
           "Marvin Wilson"
          ],
          [
           53900,
           "Naquan Jones"
          ],
          [
           54478,
           "Jordan Davis"
          ],
          [
           54493,
           "Devonte Wyatt"
          ],
          [
           54511,
           "Josh Paschal"
          ],
          [
           54541,
           "Travis Jones"
          ],
          [
           54560,
           "Zach Carter"
          ],
          [
           54573,
           "Perrion Winfrey"
          ],
          [
           54591,
           "Neil Farrell"
          ],
          [
           54612,
           "D.J. Davidson"
          ],
          [
           54615,
           "Thomas Booker"
          ],
          [
           54624,
           "Eric Johnson"
          ],
          [
           54625,
           "Otito Ogbonnia"
          ],
          [
           54640,
           "Matthew Butler"
          ],
          [
           54643,
           "John Ridgeway"
          ],
          [
           54665,
           "Sam Roberts"
          ],
          [
           54939,
           "Ben Stille"
          ],
          [
           55030,
           "Demetrius Taylor"
          ],
          [
           55045,
           "Kurt Hinish"
          ],
          [
           55173,
           "Timmy Horne"
          ],
          [
           55200,
           "Ryder Anderson"
          ],
          [
           55239,
           "Prince Emili"
          ],
          [
           55241,
           "C.J. Brewer"
          ]
         ],
         "hovertemplate": "position=DT<br>tackle_factor=%{x}<br>tackle_efficiency=%{y}<br>nflId=%{customdata[0]}<br>displayName=%{customdata[1]}<extra></extra>",
         "legendgroup": "DT",
         "marker": {
          "color": "rgb(237, 173, 8)",
          "symbol": "circle"
         },
         "mode": "markers",
         "name": "DT",
         "orientation": "v",
         "showlegend": true,
         "type": "scatter",
         "x": [
          0.484,
          2.42,
          1.5326666666666666,
          1.2906666666666666,
          0.4033333333333333,
          0.484,
          1.2906666666666666,
          2.3393333333333333,
          0.968,
          1.2906666666666666,
          1.452,
          0.32266666666666666,
          0.32266666666666666,
          1.21,
          2.0166666666666666,
          0.08066666666666666,
          0.968,
          2.662,
          1.694,
          0.8066666666666666,
          2.7426666666666666,
          2.178,
          0.968,
          1.6133333333333333,
          1.3713333333333333,
          0.968,
          1.452,
          1.452,
          0.242,
          2.0973333333333333,
          0.16133333333333333,
          0.968,
          2.0973333333333333,
          1.2906666666666666,
          1.452,
          0.242,
          3.63,
          1.694,
          2.42,
          0.8873333333333333,
          2.662,
          0.8873333333333333,
          1.1293333333333333,
          1.6133333333333333,
          0.968,
          1.6133333333333333,
          0.8873333333333333,
          1.2906666666666666,
          0.484,
          1.21,
          2.3393333333333333,
          0.726,
          0.4033333333333333,
          0.4033333333333333,
          0.16133333333333333,
          0.484,
          0.726,
          3.2266666666666666,
          1.936,
          1.7746666666666666,
          0.5646666666666667,
          0.5646666666666667,
          2.0973333333333333,
          0.32266666666666666,
          0.4033333333333333,
          1.2906666666666666,
          0.8066666666666666,
          0.32266666666666666,
          0.5646666666666667,
          1.694,
          0.8873333333333333,
          0.08066666666666666,
          0.08066666666666666,
          1.5326666666666666,
          2.5006666666666666,
          0.8066666666666666,
          1.0486666666666666,
          1.452,
          1.694,
          0.484,
          0.6453333333333333,
          0.32266666666666666,
          0.5646666666666667,
          0.08066666666666666,
          0.242,
          1.1293333333333333,
          0.968,
          0.726,
          1.3713333333333333,
          1.1293333333333333,
          0.484,
          0.32266666666666666,
          1.0486666666666666,
          0.8066666666666666,
          0.726,
          0.8873333333333333,
          0.16133333333333333,
          0.16133333333333333,
          0.32266666666666666,
          0.6453333333333333,
          1.21,
          0.484,
          0.5646666666666667,
          0.726,
          1.452,
          0.4033333333333333,
          0.484,
          0.32266666666666666,
          0.6453333333333333,
          0,
          0.968,
          0.242,
          0.5646666666666667,
          0.16133333333333333,
          0.16133333333333333,
          0,
          0.5646666666666667,
          0.726,
          0.08066666666666666,
          0.242,
          0.16133333333333333
         ],
         "xaxis": "x",
         "y": [
          1,
          0.967741935483871,
          1,
          0.9411764705882353,
          1,
          0.75,
          0.9411764705882353,
          0.9666666666666667,
          0.8571428571428571,
          0.8888888888888888,
          1,
          1,
          1,
          0.8333333333333334,
          0.9259259259259259,
          0.5,
          0.9230769230769231,
          0.9705882352941176,
          0.84,
          0.9090909090909091,
          0.918918918918919,
          0.9310344827586207,
          1,
          0.8695652173913043,
          1,
          0.75,
          0.8181818181818182,
          0.8181818181818182,
          1,
          0.8666666666666667,
          1,
          1,
          0.896551724137931,
          0.8,
          0.8571428571428571,
          0.75,
          0.9375,
          0.875,
          0.8823529411764706,
          0.8461538461538461,
          0.9705882352941176,
          0.7857142857142857,
          0.8235294117647058,
          0.9090909090909091,
          0.8,
          0.9523809523809523,
          0.9166666666666666,
          0.8421052631578947,
          0.75,
          0.7894736842105263,
          0.8529411764705882,
          0.8181818181818182,
          0.8333333333333334,
          1,
          1,
          0.8571428571428571,
          0.9,
          0.9523809523809523,
          0.8275862068965517,
          0.8148148148148148,
          0.7,
          1,
          0.9629629629629629,
          0.8,
          1,
          0.8421052631578947,
          1,
          1,
          1,
          0.9545454545454546,
          1,
          0.5,
          0.2,
          0.8636363636363636,
          0.9117647058823529,
          0.9090909090909091,
          0.8125,
          0.9,
          0.875,
          1,
          0.6666666666666666,
          0.8,
          0.875,
          1,
          1,
          0.8235294117647058,
          1,
          1,
          0.8947368421052632,
          0.9333333333333333,
          0.8571428571428571,
          1,
          0.7647058823529411,
          0.9090909090909091,
          0.9,
          1,
          1,
          0.6666666666666666,
          0.8,
          1,
          1,
          1,
          1,
          1,
          0.8181818181818182,
          0.8333333333333334,
          0.8571428571428571,
          0.8,
          0.8,
          0,
          0.75,
          1,
          0.875,
          1,
          1,
          0,
          1,
          0.9,
          1,
          1,
          1
         ],
         "yaxis": "y"
        },
        {
         "customdata": [
          [
           37078,
           "Patrick Peterson"
          ],
          [
           37724,
           "Chris Harris"
          ],
          [
           38540,
           "Stephon Gilmore"
          ],
          [
           38592,
           "Casey Hayward"
          ],
          [
           39984,
           "Darius Slay"
          ],
          [
           41240,
           "Kyle Fuller"
          ],
          [
           41257,
           "Bradley Roby"
          ],
          [
           41358,
           "Dontae Johnson"
          ],
          [
           41483,
           "Terrance Mitchell"
          ],
          [
           42030,
           "K'Waun Williams"
          ],
          [
           42361,
           "Marcus Peters"
          ],
          [
           42393,
           "Ronald Darby"
          ],
          [
           42421,
           "P.J. Williams"
          ],
          [
           42441,
           "Steven Nelson"
          ],
          [
           42816,
           "Troy Hill"
          ],
          [
           42827,
           "Justin Coleman"
          ],
          [
           42935,
           "Bryce Callahan"
          ],
          [
           43294,
           "Jalen Ramsey"
          ],
          [
           43299,
           "Eli Apple"
          ],
          [
           43313,
           "William Jackson"
          ],
          [
           43327,
           "Xavien Howard"
          ],
          [
           43351,
           "James Bradberry"
          ],
          [
           43373,
           "Kendall Fuller"
          ],
          [
           43478,
           "Anthony Brown"
          ],
          [
           43522,
           "Jalen Mills"
          ],
          [
           43641,
           "Mike Hilton"
          ],
          [
           43700,
           "Jonathan Jones"
          ],
          [
           43986,
           "Antonio Hamilton"
          ],
          [
           44823,
           "Marshon Lattimore"
          ],
          [
           44828,
           "Marlon Humphrey"
          ],
          [
           44830,
           "Adoree' Jackson"
          ],
          [
           44855,
           "Sidney Jones"
          ],
          [
           44872,
           "Chidobe Awuzie"
          ],
          [
           44878,
           "Ahkello Witherspoon"
          ],
          [
           44893,
           "Fabian Moreau"
          ],
          [
           44902,
           "Shaquill Griffin"
          ],
          [
           44904,
           "Jourdan Lewis"
          ],
          [
           44906,
           "Cameron Sutton"
          ],
          [
           44911,
           "Rasul Douglas"
          ],
          [
           44964,
           "Desmond King"
          ],
          [
           45287,
           "Kenny Moore"
          ],
          [
           45395,
           "Arthur Maulet"
          ],
          [
           45571,
           "Michael Davis"
          ],
          [
           46073,
           "Denzel Ward"
          ],
          [
           46087,
           "Jaire Alexander"
          ],
          [
           46099,
           "Mike Hughes"
          ],
          [
           46114,
           "Josh Jackson"
          ],
          [
           46124,
           "Donte Jackson"
          ],
          [
           46127,
           "Isaiah Oliver"
          ],
          [
           46132,
           "Carlton Davis"
          ],
          [
           46187,
           "Anthony Averett"
          ],
          [
           46190,
           "Taron Johnson"
          ],
          [
           46194,
           "Avonte Maddox"
          ],
          [
           46211,
           "D.J. Reed"
          ],
          [
           46215,
           "Tre Flowers"
          ],
          [
           46223,
           "Siran Neal"
          ],
          [
           46278,
           "Cornell Armstrong"
          ],
          [
           46312,
           "Keion Crossen"
          ],
          [
           46329,
           "Danny Johnson"
          ],
          [
           46354,
           "Emmanuel Moseley"
          ],
          [
           46407,
           "Chris Lammons"
          ],
          [
           46456,
           "Darious Williams"
          ],
          [
           46501,
           "Elijah Campbell"
          ],
          [
           46630,
           "Jalen Davis"
          ],
          [
           46652,
           "Chandon Sullivan"
          ],
          [
           46672,
           "Tavierre Thomas"
          ],
          [
           46686,
           "Grant Haley"
          ],
          [
           46698,
           "Levi Wallace"
          ],
          [
           46699,
           "Dee Delaney"
          ],
          [
           46700,
           "Tre Herndon"
          ],
          [
           46729,
           "Brandon Facyson"
          ],
          [
           46757,
           "Charvarius Ward"
          ],
          [
           46775,
           "J.C. Jackson"
          ],
          [
           46823,
           "Mike Ford"
          ],
          [
           47816,
           "Byron Murphy"
          ],
          [
           47817,
           "Rock Ya-Sin"
          ],
          [
           47822,
           "Sean Murphy-Bunting"
          ],
          [
           47823,
           "Trayvon Mullen"
          ],
          [
           47829,
           "Greedy Williams"
          ],
          [
           47837,
           "Lonnie Johnson"
          ],
          [
           47862,
           "David Long"
          ],
          [
           47866,
           "Justin Layne"
          ],
          [
           47877,
           "Jamel Dean"
          ],
          [
           47929,
           "Amani Oruwariye"
          ],
          [
           47941,
           "Michael Jackson"
          ],
          [
           47984,
           "Rashad Fenton"
          ],
          [
           48241,
           "Keisean Nixon"
          ],
          [
           48476,
           "Nik Needham"
          ],
          [
           48487,
           "Cameron Lewis"
          ],
          [
           48495,
           "Tae Hayes"
          ],
          [
           48500,
           "Saivion Smith"
          ],
          [
           52272,
           "Dee Alford"
          ],
          [
           52411,
           "Jeff Okudah"
          ],
          [
           52417,
           "C.J. Henderson"
          ],
          [
           52424,
           "A.J. Terrell"
          ],
          [
           52438,
           "Noah Igbinoghene"
          ],
          [
           52458,
           "Jaylon Johnson"
          ],
          [
           52459,
           "Trevon Diggs"
          ],
          [
           52469,
           "Kristian Fulton"
          ],
          [
           52497,
           "Cameron Dantzler"
          ],
          [
           52518,
           "Darnay Holmes"
          ],
          [
           52545,
           "Josiah Scott"
          ],
          [
           52546,
           "L'Jarius Sneed"
          ],
          [
           52547,
           "Amik Robertson"
          ],
          [
           52571,
           "Kindle Vildor"
          ],
          [
           52619,
           "Isaiah Rodgers"
          ],
          [
           52647,
           "Dane Jackson"
          ],
          [
           52651,
           "Chris Jackson"
          ],
          [
           52697,
           "James Pierre"
          ],
          [
           52764,
           "Essang Bassey"
          ],
          [
           52904,
           "Elijah Riley"
          ],
          [
           52945,
           "Jace Whittaker"
          ],
          [
           52991,
           "Myles Bryant"
          ],
          [
           53437,
           "Jaycee Horn"
          ],
          [
           53438,
           "Patrick Surtain"
          ],
          [
           53451,
           "Caleb Farley"
          ],
          [
           53455,
           "Greg Newsome"
          ],
          [
           53458,
           "Eric Stokes"
          ],
          [
           53462,
           "Tyson Campbell"
          ],
          [
           53473,
           "Kelvin Joseph"
          ],
          [
           53476,
           "Asante Samuel"
          ],
          [
           53500,
           "Aaron Robinson"
          ],
          [
           53503,
           "Benjamin St-Juste"
          ],
          [
           53505,
           "Paulson Adebo"
          ],
          [
           53530,
           "Ifeatu Melifonwu"
          ],
          [
           53531,
           "Ambry Thomas"
          ],
          [
           53537,
           "Darren Hall"
          ],
          [
           53552,
           "Zech McPhearson"
          ],
          [
           53559,
           "Robert Rochell"
          ],
          [
           53565,
           "Marco Wilson"
          ],
          [
           53583,
           "Michael Carter"
          ],
          [
           53589,
           "Shaun Wade"
          ],
          [
           53595,
           "Keith Taylor"
          ],
          [
           53596,
           "Nate Hobbs"
          ],
          [
           53601,
           "Deommodore Lenoir"
          ],
          [
           53629,
           "Brandin Echols"
          ],
          [
           53642,
           "Rachad Wildgoose"
          ],
          [
           53854,
           "Nick McCloud"
          ],
          [
           53883,
           "Dicaprio Bootle"
          ],
          [
           53953,
           "Jerry Jacobs"
          ],
          [
           53957,
           "A.J. Parker"
          ],
          [
           54468,
           "Derek Stingley"
          ],
          [
           54469,
           "Ahmad Gardner"
          ],
          [
           54486,
           "Trent McDuffie"
          ],
          [
           54488,
           "Kaiir Elam"
          ],
          [
           54500,
           "Roger McCreary"
          ],
          [
           54504,
           "Kyler Gordon"
          ],
          [
           54514,
           "Alontae Taylor"
          ],
          [
           54525,
           "Cam Taylor-Britt"
          ],
          [
           54533,
           "Martin Emerson"
          ],
          [
           54546,
           "Cordale Flott"
          ],
          [
           54550,
           "Marcus Jones"
          ],
          [
           54574,
           "Coby Bryant"
          ],
          [
           54580,
           "Damarri Mathis"
          ],
          [
           54583,
           "Akayleb Evans"
          ],
          [
           54584,
           "Jalyn Armour-Davis"
          ],
          [
           54586,
           "Jack Jones"
          ],
          [
           54600,
           "Joshua Williams"
          ],
          [
           54606,
           "Damarion Williams"
          ],
          [
           54607,
           "Cobie Durant"
          ],
          [
           54618,
           "Tariq Woolen"
          ],
          [
           54622,
           "Zyon McCollum"
          ],
          [
           54632,
           "Daron Bland"
          ],
          [
           54637,
           "Samuel Womack"
          ],
          [
           54650,
           "Christian Benford"
          ],
          [
           54677,
           "Derion Kendrick"
          ],
          [
           54687,
           "Montaric Brown"
          ],
          [
           54702,
           "Chase Lucas"
          ],
          [
           54705,
           "Christian Holmes"
          ],
          [
           54708,
           "Jaylen Watson"
          ],
          [
           54709,
           "Christian Matthew"
          ],
          [
           54778,
           "Jaylon Jones"
          ],
          [
           54936,
           "Kader Kohou"
          ],
          [
           55104,
           "Sam Webb"
          ],
          [
           55181,
           "Tre Avery"
          ],
          [
           55240,
           "Ja'Marcus Ingram"
          ]
         ],
         "hovertemplate": "position=CB<br>tackle_factor=%{x}<br>tackle_efficiency=%{y}<br>nflId=%{customdata[0]}<br>displayName=%{customdata[1]}<extra></extra>",
         "legendgroup": "CB",
         "marker": {
          "color": "rgb(225, 124, 5)",
          "symbol": "circle"
         },
         "mode": "markers",
         "name": "CB",
         "orientation": "v",
         "showlegend": true,
         "type": "scatter",
         "x": [
          1.5471354956047285,
          0.9069414974234615,
          1.6538344953016064,
          0.8535919975750227,
          1.280387996362534,
          0.16004849954531675,
          1.0136404971203394,
          0.05334949984843892,
          1.227038496514095,
          1.5471354956047285,
          1.227038496514095,
          0.7468929978781448,
          0.586844498332828,
          1.7071839951500454,
          0.9069414974234615,
          0.2667474992421946,
          1.173688996665656,
          1.7605334949984843,
          1.1203394968172173,
          0.8002424977265837,
          1.280387996362534,
          1.227038496514095,
          1.7071839951500454,
          1.813882994846923,
          1.333737496210973,
          1.867232494695362,
          1.1203394968172173,
          0.586844498332828,
          0.8535919975750227,
          1.6004849954531675,
          2.1873294937859957,
          0.21339799939375567,
          1.920581994543801,
          1.1203394968172173,
          1.5471354956047285,
          1.6004849954531675,
          1.333737496210973,
          1.0669899969687784,
          2.027280994240679,
          1.813882994846923,
          2.1873294937859957,
          1.4404364959078508,
          1.333737496210973,
          1.0669899969687784,
          1.227038496514095,
          1.1203394968172173,
          0.3734464989390724,
          1.6004849954531675,
          0.9069414974234615,
          1.920581994543801,
          0.6935434980297059,
          2.507426492876629,
          1.333737496210973,
          2.1339799939375568,
          0.6935434980297059,
          0.21339799939375567,
          1.1203394968172173,
          0.42679599878751134,
          0.21339799939375567,
          1.0136404971203394,
          0.16004849954531675,
          1.333737496210973,
          0.16004849954531675,
          0.05334949984843892,
          1.4404364959078508,
          0.05334949984843892,
          0.586844498332828,
          0.8002424977265837,
          0.42679599878751134,
          0.8002424977265837,
          0.5334949984843892,
          1.813882994846923,
          0.7468929978781448,
          0.48014549863595024,
          1.867232494695362,
          1.6538344953016064,
          0.48014549863595024,
          0.10669899969687784,
          0.2667474992421946,
          0.16004849954531675,
          0.6935434980297059,
          0.10669899969687784,
          1.867232494695362,
          1.6538344953016064,
          1.97393149439224,
          1.227038496514095,
          0.48014549863595024,
          1.1203394968172173,
          0.10669899969687784,
          0.16004849954531675,
          0.05334949984843892,
          0.6935434980297059,
          2.45407699302819,
          1.7071839951500454,
          1.4937859957562896,
          0.48014549863595024,
          0.7468929978781448,
          1.3870869960594119,
          1.7605334949984843,
          2.294028493482873,
          0.8535919975750227,
          0.3200969990906335,
          2.8808729918157017,
          0.6935434980297059,
          1.5471354956047285,
          0.9602909972719005,
          1.4937859957562896,
          0.05334949984843892,
          0.6935434980297059,
          0.05334949984843892,
          0.05334949984843892,
          0.42679599878751134,
          1.7071839951500454,
          1.3870869960594119,
          1.3870869960594119,
          0.5334949984843892,
          1.1203394968172173,
          1.280387996362534,
          2.1873294937859957,
          0.05334949984843892,
          1.4937859957562896,
          0.2667474992421946,
          1.6004849954531675,
          1.6004849954531675,
          0.05334949984843892,
          0.16004849954531675,
          0.8535919975750227,
          0.10669899969687784,
          0.05334949984843892,
          1.920581994543801,
          1.5471354956047285,
          0.05334949984843892,
          0.7468929978781448,
          1.97393149439224,
          1.333737496210973,
          0.16004849954531675,
          0.6935434980297059,
          0.2667474992421946,
          0.05334949984843892,
          0.2667474992421946,
          0.640193998181267,
          1.97393149439224,
          2.347377993331312,
          0.16004849954531675,
          1.867232494695362,
          2.667474992421946,
          2.400727493179751,
          0.640193998181267,
          0.5334949984843892,
          1.813882994846923,
          0.2667474992421946,
          0.21339799939375567,
          1.97393149439224,
          1.4404364959078508,
          0.48014549863595024,
          0.2667474992421946,
          1.280387996362534,
          0.6935434980297059,
          1.0669899969687784,
          0.05334949984843892,
          1.5471354956047285,
          0.5334949984843892,
          0.3734464989390724,
          0.2667474992421946,
          0.5334949984843892,
          1.333737496210973,
          0.10669899969687784,
          0.05334949984843892,
          0.05334949984843892,
          1.4937859957562896,
          0.10669899969687784,
          0.9069414974234615,
          1.920581994543801,
          0.10669899969687784,
          0.16004849954531675,
          0.16004849954531675
         ],
         "xaxis": "x",
         "y": [
          0.9354838709677419,
          1,
          0.8857142857142857,
          0.7619047619047619,
          0.8571428571428571,
          0.75,
          0.7307692307692307,
          1,
          0.9583333333333334,
          0.8787878787878788,
          0.7931034482758621,
          0.8235294117647058,
          1,
          0.7804878048780488,
          0.9444444444444444,
          0.7142857142857143,
          0.8461538461538461,
          0.9166666666666666,
          0.7777777777777778,
          0.8823529411764706,
          0.8275862068965517,
          0.7931034482758621,
          0.9411764705882353,
          0.7906976744186046,
          0.8928571428571429,
          0.8536585365853658,
          0.875,
          0.7857142857142857,
          1,
          0.8823529411764706,
          0.8541666666666666,
          1,
          0.8780487804878049,
          0.9130434782608695,
          0.90625,
          0.8571428571428571,
          0.8928571428571429,
          0.8333333333333334,
          0.8444444444444444,
          0.8717948717948718,
          0.8913043478260869,
          0.7941176470588235,
          0.9259259259259259,
          0.8333333333333334,
          0.8518518518518519,
          0.9545454545454546,
          1,
          0.8108108108108109,
          0.7727272727272727,
          0.9,
          0.8666666666666667,
          0.8867924528301887,
          0.78125,
          0.8888888888888888,
          1,
          0.6666666666666666,
          0.9545454545454546,
          0.7272727272727273,
          1,
          0.7916666666666666,
          1,
          0.7352941176470589,
          1,
          1,
          0.9,
          0.5,
          0.7857142857142857,
          0.8823529411764706,
          0.7272727272727273,
          0.8823529411764706,
          0.9090909090909091,
          1,
          0.8235294117647058,
          0.9,
          0.9210526315789473,
          0.8611111111111112,
          0.9,
          0.6666666666666666,
          1,
          1,
          0.7647058823529411,
          1,
          1,
          0.8157894736842105,
          0.8809523809523809,
          0.8846153846153846,
          1,
          0.9545454545454546,
          1,
          1,
          1,
          0.8666666666666667,
          0.9787234042553191,
          0.9142857142857143,
          0.7777777777777778,
          0.9,
          0.8235294117647058,
          0.9285714285714286,
          0.7857142857142857,
          0.9347826086956522,
          0.8888888888888888,
          0.75,
          0.9,
          0.65,
          0.90625,
          1,
          0.8,
          1,
          0.9285714285714286,
          0.5,
          1,
          0.6666666666666666,
          0.9696969696969697,
          0.8387096774193549,
          0.8387096774193549,
          0.7692307692307693,
          0.875,
          0.8275862068965517,
          0.8723404255319149,
          1,
          0.875,
          1,
          0.8571428571428571,
          0.8108108108108109,
          1,
          1,
          0.9411764705882353,
          1,
          1,
          0.8372093023255814,
          0.8787878787878788,
          1,
          0.9333333333333333,
          0.9024390243902439,
          0.8333333333333334,
          1,
          0.7647058823529411,
          1,
          1,
          1,
          1,
          0.925,
          0.9166666666666666,
          0.75,
          0.8536585365853658,
          0.8928571428571429,
          0.8333333333333334,
          0.6666666666666666,
          0.9090909090909091,
          0.8292682926829268,
          0.625,
          0.8,
          0.8222222222222222,
          0.7941176470588235,
          0.9,
          0.7142857142857143,
          0.7741935483870968,
          0.8125,
          0.8695652173913043,
          0.5,
          0.90625,
          0.7142857142857143,
          0.7,
          1,
          0.8333333333333334,
          0.8928571428571429,
          0.6666666666666666,
          1,
          1,
          0.8,
          1,
          0.8947368421052632,
          0.8780487804878049,
          1,
          1,
          1
         ],
         "yaxis": "y"
        },
        {
         "customdata": [
          [
           37778,
           "Josh Bynes"
          ],
          [
           37792,
           "Nick Bellore"
          ],
          [
           38577,
           "Bobby Wagner"
          ],
          [
           38588,
           "Lavonte David"
          ],
          [
           41243,
           "C.J. Mosley"
          ],
          [
           41599,
           "Joe Thomas"
          ],
          [
           41947,
           "Christian Jones"
          ],
          [
           42368,
           "Shaq Thompson"
          ],
          [
           42388,
           "Eric Kendricks"
          ],
          [
           42391,
           "Denzel Perryman"
          ],
          [
           42427,
           "Jordan Hicks"
          ],
          [
           42771,
           "Neville Hewitt"
          ],
          [
           43325,
           "Myles Jack"
          ],
          [
           43341,
           "Deion Jones"
          ],
          [
           43376,
           "Nick Vigil"
          ],
          [
           43388,
           "Joe Schobert"
          ],
          [
           43404,
           "De'Vondre Campbell"
          ],
          [
           43420,
           "Blake Martinez"
          ],
          [
           43497,
           "Kamu Grugier-Hill"
          ],
          [
           43503,
           "Elandon Roberts"
          ],
          [
           44174,
           "Sam Eguavoen"
          ],
          [
           44866,
           "Raekwon McMillan"
          ],
          [
           44869,
           "Zach Cunningham"
          ],
          [
           44887,
           "Duke Riley"
          ],
          [
           44888,
           "Alex Anzalone"
          ],
          [
           45008,
           "Tanner Vallejo"
          ],
          [
           45352,
           "Austin Calitro"
          ],
          [
           45643,
           "Dylan Cole"
          ],
          [
           46077,
           "Roquan Smith"
          ],
          [
           46085,
           "Tremaine Edmunds"
          ],
          [
           46091,
           "Rashaan Evans"
          ],
          [
           46139,
           "Fred Warner"
          ],
          [
           46142,
           "Jerome Baker"
          ],
          [
           46175,
           "Josey Jewell"
          ],
          [
           46188,
           "Kyzir White"
          ],
          [
           46212,
           "Ja'Whaun Bentley"
          ],
          [
           46269,
           "Foyesade Oluokun"
          ],
          [
           46521,
           "Ben Niemann"
          ],
          [
           46527,
           "Frankie Luvu"
          ],
          [
           46674,
           "Ezekiel Turner"
          ],
          [
           46902,
           "Robert Spillane"
          ],
          [
           46958,
           "Chris Board"
          ],
          [
           47788,
           "Devin White"
          ],
          [
           47793,
           "Devin Bush"
          ],
          [
           47826,
           "Jahlani Tavai"
          ],
          [
           47872,
           "Bobby Okereke"
          ],
          [
           47913,
           "Drue Tranquill"
          ],
          [
           47931,
           "Dre Greenlaw"
          ],
          [
           47940,
           "Blake Cashman"
          ],
          [
           47956,
           "Cole Holcomb"
          ],
          [
           47971,
           "David Long"
          ],
          [
           48259,
           "Darius Harris"
          ],
          [
           48268,
           "Azeez Al-Shaair"
          ],
          [
           48516,
           "T.J. Edwards"
          ],
          [
           48780,
           "Troy Reeder"
          ],
          [
           52431,
           "Kenneth Murray"
          ],
          [
           52435,
           "Jordyn Brooks"
          ],
          [
           52436,
           "Patrick Queen"
          ],
          [
           52473,
           "Logan Wilson"
          ],
          [
           52527,
           "Mykal Walker"
          ],
          [
           52540,
           "Troy Dye"
          ],
          [
           52623,
           "Markus Bailey"
          ],
          [
           52663,
           "Tae Crowder"
          ],
          [
           52706,
           "Jonas Griffith"
          ],
          [
           52863,
           "Krys Barnes"
          ],
          [
           53059,
           "Kristian Welch"
          ],
          [
           53487,
           "Nick Bolton"
          ],
          [
           53532,
           "Ernest Jones"
          ],
          [
           53534,
           "Baron Browning"
          ],
          [
           53542,
           "Derrick Barnes"
          ],
          [
           53575,
           "Jamien Sherwood"
          ],
          [
           53649,
           "Isaiah McDuffie"
          ],
          [
           53663,
           "Patrick Johnson"
          ],
          [
           54487,
           "Quay Walker"
          ],
          [
           54492,
           "Devin Lloyd"
          ],
          [
           54523,
           "Troy Andersen"
          ],
          [
           54531,
           "Brian Asamoah"
          ],
          [
           54535,
           "Chad Muma"
          ],
          [
           54540,
           "Christian Harris"
          ],
          [
           54567,
           "Channing Tindall"
          ],
          [
           54585,
           "Brandon Smith"
          ],
          [
           54611,
           "Micah McFadden"
          ],
          [
           54641,
           "Damone Clark"
          ],
          [
           54653,
           "Malcolm Rodriguez"
          ],
          [
           54781,
           "Jack Sanborn"
          ],
          [
           55175,
           "Nate Landman"
          ]
         ],
         "hovertemplate": "position=ILB<br>tackle_factor=%{x}<br>tackle_efficiency=%{y}<br>nflId=%{customdata[0]}<br>displayName=%{customdata[1]}<extra></extra>",
         "legendgroup": "ILB",
         "marker": {
          "color": "rgb(204, 80, 62)",
          "symbol": "circle"
         },
         "mode": "markers",
         "name": "ILB",
         "orientation": "v",
         "showlegend": true,
         "type": "scatter",
         "x": [
          0.8135135135135135,
          0.029054054054054056,
          1.8304054054054055,
          1.7432432432432434,
          2.527702702702703,
          0.40675675675675677,
          0.05810810810810811,
          1.9175675675675676,
          1.8885135135135136,
          1.1040540540540542,
          2.1500000000000004,
          0.11621621621621622,
          1.946621621621622,
          0.2614864864864865,
          0.40675675675675677,
          0.29054054054054057,
          1.8304054054054055,
          0.5810810810810811,
          1.1040540540540542,
          1.4817567567567569,
          0.08716216216216217,
          0.43581081081081086,
          0.6391891891891892,
          0.8135135135135135,
          1.7722972972972975,
          0.37770270270270273,
          0.23243243243243245,
          0.6972972972972974,
          2.3824324324324326,
          1.8013513513513515,
          2.4405405405405407,
          1.568918918918919,
          1.4236486486486488,
          1.0168918918918919,
          1.539864864864865,
          1.4236486486486488,
          2.4695945945945947,
          0.6391891891891892,
          1.2783783783783784,
          0.08716216216216217,
          0.6682432432432432,
          0.17432432432432435,
          1.8304054054054055,
          1.2493243243243244,
          0.8425675675675677,
          2.062837837837838,
          1.8304054054054055,
          1.3945945945945948,
          0.08716216216216217,
          2.0337837837837838,
          1.7722972972972975,
          0.8716216216216217,
          0.29054054054054057,
          2.1500000000000004,
          0.029054054054054056,
          1.0750000000000002,
          2.4405405405405407,
          1.539864864864865,
          1.4817567567567569,
          1.975675675675676,
          0.029054054054054056,
          0.29054054054054057,
          1.045945945945946,
          1.1912162162162163,
          0.23243243243243245,
          0.029054054054054056,
          2.0047297297297297,
          1.568918918918919,
          0.29054054054054057,
          0.6682432432432432,
          0.05810810810810811,
          0.23243243243243245,
          0.05810810810810811,
          1.6560810810810813,
          1.9175675675675676,
          0.7844594594594595,
          0.029054054054054056,
          0.029054054054054056,
          0.37770270270270273,
          0.05810810810810811,
          0,
          0.37770270270270273,
          0.11621621621621622,
          1.2493243243243244,
          0.2614864864864865,
          0.029054054054054056
         ],
         "xaxis": "x",
         "y": [
          0.9032258064516129,
          1,
          0.984375,
          0.9836065573770492,
          0.9157894736842105,
          0.7777777777777778,
          0.6666666666666666,
          0.88,
          0.8666666666666667,
          0.8444444444444444,
          0.9367088607594937,
          1,
          0.9178082191780822,
          0.8181818181818182,
          0.875,
          0.9090909090909091,
          0.875,
          0.9090909090909091,
          0.8636363636363636,
          0.85,
          1,
          0.9375,
          0.88,
          0.9333333333333333,
          0.9384615384615385,
          0.9285714285714286,
          1,
          0.8,
          0.9213483146067416,
          0.9253731343283582,
          0.9333333333333333,
          0.9473684210526315,
          0.875,
          0.875,
          0.8833333333333333,
          0.9607843137254902,
          0.8854166666666666,
          0.9565217391304348,
          0.7857142857142857,
          1,
          0.92,
          0.75,
          0.9130434782608695,
          0.9772727272727273,
          1,
          0.9466666666666667,
          0.8289473684210527,
          0.9230769230769231,
          1,
          0.9459459459459459,
          0.8714285714285714,
          0.9375,
          0.8333333333333334,
          0.9024390243902439,
          1,
          0.8809523809523809,
          0.8936170212765957,
          0.8548387096774194,
          0.9622641509433962,
          0.9066666666666666,
          1,
          0.9090909090909091,
          0.7659574468085106,
          0.8913043478260869,
          1,
          1,
          0.971830985915493,
          0.9310344827586207,
          1,
          0.8518518518518519,
          1,
          0.8888888888888888,
          0.6666666666666666,
          0.9193548387096774,
          0.8461538461538461,
          0.8181818181818182,
          1,
          0.5,
          0.6842105263157895,
          0.5,
          0,
          0.8666666666666667,
          1,
          0.8775510204081632,
          1,
          1
         ],
         "yaxis": "y"
        },
        {
         "customdata": [
          [
           38607,
           "Demario Davis"
          ],
          [
           42470,
           "Damien Wilson"
          ],
          [
           42512,
           "David Mayo"
          ],
          [
           43323,
           "Jaylon Smith"
          ],
          [
           44974,
           "Anthony Walker"
          ],
          [
           46105,
           "Shaquille Leonard"
          ],
          [
           47871,
           "Cody Barton"
          ],
          [
           48482,
           "Tyrel Dodson"
          ],
          [
           48588,
           "Jordan Kunaszyk"
          ],
          [
           52505,
           "Jacob Phillips"
          ]
         ],
         "hovertemplate": "position=MLB<br>tackle_factor=%{x}<br>tackle_efficiency=%{y}<br>nflId=%{customdata[0]}<br>displayName=%{customdata[1]}<extra></extra>",
         "legendgroup": "MLB",
         "marker": {
          "color": "rgb(148, 52, 110)",
          "symbol": "circle"
         },
         "mode": "markers",
         "name": "MLB",
         "orientation": "v",
         "showlegend": true,
         "type": "scatter",
         "x": [
          1.8454935622317596,
          1.1158798283261802,
          0.08583690987124463,
          1.0729613733905579,
          0.6008583690987124,
          0.4721030042918455,
          2.4034334763948495,
          0.4721030042918455,
          0.08583690987124463,
          1.8454935622317596
         ],
         "xaxis": "x",
         "y": [
          0.8775510204081632,
          0.8666666666666667,
          1,
          0.9615384615384616,
          0.875,
          1,
          0.9491525423728814,
          0.9166666666666666,
          1,
          0.8775510204081632
         ],
         "yaxis": "y"
        },
        {
         "customdata": [
          [
           52416,
           "Isaiah Simmons"
          ]
         ],
         "hovertemplate": "position=DB<br>tackle_factor=%{x}<br>tackle_efficiency=%{y}<br>nflId=%{customdata[0]}<br>displayName=%{customdata[1]}<extra></extra>",
         "legendgroup": "DB",
         "marker": {
          "color": "rgb(111, 64, 112)",
          "symbol": "circle"
         },
         "mode": "markers",
         "name": "DB",
         "orientation": "v",
         "showlegend": true,
         "type": "scatter",
         "x": [
          1
         ],
         "xaxis": "x",
         "y": [
          0.8695652173913043
         ],
         "yaxis": "y"
        }
       ],
       "layout": {
        "autosize": true,
        "legend": {
         "title": {
          "text": "position"
         },
         "tracegroupgap": 0
        },
        "template": {
         "data": {
          "bar": [
           {
            "error_x": {
             "color": "#2a3f5f"
            },
            "error_y": {
             "color": "#2a3f5f"
            },
            "marker": {
             "line": {
              "color": "#E5ECF6",
              "width": 0.5
             },
             "pattern": {
              "fillmode": "overlay",
              "size": 10,
              "solidity": 0.2
             }
            },
            "type": "bar"
           }
          ],
          "barpolar": [
           {
            "marker": {
             "line": {
              "color": "#E5ECF6",
              "width": 0.5
             },
             "pattern": {
              "fillmode": "overlay",
              "size": 10,
              "solidity": 0.2
             }
            },
            "type": "barpolar"
           }
          ],
          "carpet": [
           {
            "aaxis": {
             "endlinecolor": "#2a3f5f",
             "gridcolor": "white",
             "linecolor": "white",
             "minorgridcolor": "white",
             "startlinecolor": "#2a3f5f"
            },
            "baxis": {
             "endlinecolor": "#2a3f5f",
             "gridcolor": "white",
             "linecolor": "white",
             "minorgridcolor": "white",
             "startlinecolor": "#2a3f5f"
            },
            "type": "carpet"
           }
          ],
          "choropleth": [
           {
            "colorbar": {
             "outlinewidth": 0,
             "ticks": ""
            },
            "type": "choropleth"
           }
          ],
          "contour": [
           {
            "colorbar": {
             "outlinewidth": 0,
             "ticks": ""
            },
            "colorscale": [
             [
              0,
              "#0d0887"
             ],
             [
              0.1111111111111111,
              "#46039f"
             ],
             [
              0.2222222222222222,
              "#7201a8"
             ],
             [
              0.3333333333333333,
              "#9c179e"
             ],
             [
              0.4444444444444444,
              "#bd3786"
             ],
             [
              0.5555555555555556,
              "#d8576b"
             ],
             [
              0.6666666666666666,
              "#ed7953"
             ],
             [
              0.7777777777777778,
              "#fb9f3a"
             ],
             [
              0.8888888888888888,
              "#fdca26"
             ],
             [
              1,
              "#f0f921"
             ]
            ],
            "type": "contour"
           }
          ],
          "contourcarpet": [
           {
            "colorbar": {
             "outlinewidth": 0,
             "ticks": ""
            },
            "type": "contourcarpet"
           }
          ],
          "heatmap": [
           {
            "colorbar": {
             "outlinewidth": 0,
             "ticks": ""
            },
            "colorscale": [
             [
              0,
              "#0d0887"
             ],
             [
              0.1111111111111111,
              "#46039f"
             ],
             [
              0.2222222222222222,
              "#7201a8"
             ],
             [
              0.3333333333333333,
              "#9c179e"
             ],
             [
              0.4444444444444444,
              "#bd3786"
             ],
             [
              0.5555555555555556,
              "#d8576b"
             ],
             [
              0.6666666666666666,
              "#ed7953"
             ],
             [
              0.7777777777777778,
              "#fb9f3a"
             ],
             [
              0.8888888888888888,
              "#fdca26"
             ],
             [
              1,
              "#f0f921"
             ]
            ],
            "type": "heatmap"
           }
          ],
          "heatmapgl": [
           {
            "colorbar": {
             "outlinewidth": 0,
             "ticks": ""
            },
            "colorscale": [
             [
              0,
              "#0d0887"
             ],
             [
              0.1111111111111111,
              "#46039f"
             ],
             [
              0.2222222222222222,
              "#7201a8"
             ],
             [
              0.3333333333333333,
              "#9c179e"
             ],
             [
              0.4444444444444444,
              "#bd3786"
             ],
             [
              0.5555555555555556,
              "#d8576b"
             ],
             [
              0.6666666666666666,
              "#ed7953"
             ],
             [
              0.7777777777777778,
              "#fb9f3a"
             ],
             [
              0.8888888888888888,
              "#fdca26"
             ],
             [
              1,
              "#f0f921"
             ]
            ],
            "type": "heatmapgl"
           }
          ],
          "histogram": [
           {
            "marker": {
             "pattern": {
              "fillmode": "overlay",
              "size": 10,
              "solidity": 0.2
             }
            },
            "type": "histogram"
           }
          ],
          "histogram2d": [
           {
            "colorbar": {
             "outlinewidth": 0,
             "ticks": ""
            },
            "colorscale": [
             [
              0,
              "#0d0887"
             ],
             [
              0.1111111111111111,
              "#46039f"
             ],
             [
              0.2222222222222222,
              "#7201a8"
             ],
             [
              0.3333333333333333,
              "#9c179e"
             ],
             [
              0.4444444444444444,
              "#bd3786"
             ],
             [
              0.5555555555555556,
              "#d8576b"
             ],
             [
              0.6666666666666666,
              "#ed7953"
             ],
             [
              0.7777777777777778,
              "#fb9f3a"
             ],
             [
              0.8888888888888888,
              "#fdca26"
             ],
             [
              1,
              "#f0f921"
             ]
            ],
            "type": "histogram2d"
           }
          ],
          "histogram2dcontour": [
           {
            "colorbar": {
             "outlinewidth": 0,
             "ticks": ""
            },
            "colorscale": [
             [
              0,
              "#0d0887"
             ],
             [
              0.1111111111111111,
              "#46039f"
             ],
             [
              0.2222222222222222,
              "#7201a8"
             ],
             [
              0.3333333333333333,
              "#9c179e"
             ],
             [
              0.4444444444444444,
              "#bd3786"
             ],
             [
              0.5555555555555556,
              "#d8576b"
             ],
             [
              0.6666666666666666,
              "#ed7953"
             ],
             [
              0.7777777777777778,
              "#fb9f3a"
             ],
             [
              0.8888888888888888,
              "#fdca26"
             ],
             [
              1,
              "#f0f921"
             ]
            ],
            "type": "histogram2dcontour"
           }
          ],
          "mesh3d": [
           {
            "colorbar": {
             "outlinewidth": 0,
             "ticks": ""
            },
            "type": "mesh3d"
           }
          ],
          "parcoords": [
           {
            "line": {
             "colorbar": {
              "outlinewidth": 0,
              "ticks": ""
             }
            },
            "type": "parcoords"
           }
          ],
          "pie": [
           {
            "automargin": true,
            "type": "pie"
           }
          ],
          "scatter": [
           {
            "fillpattern": {
             "fillmode": "overlay",
             "size": 10,
             "solidity": 0.2
            },
            "type": "scatter"
           }
          ],
          "scatter3d": [
           {
            "line": {
             "colorbar": {
              "outlinewidth": 0,
              "ticks": ""
             }
            },
            "marker": {
             "colorbar": {
              "outlinewidth": 0,
              "ticks": ""
             }
            },
            "type": "scatter3d"
           }
          ],
          "scattercarpet": [
           {
            "marker": {
             "colorbar": {
              "outlinewidth": 0,
              "ticks": ""
             }
            },
            "type": "scattercarpet"
           }
          ],
          "scattergeo": [
           {
            "marker": {
             "colorbar": {
              "outlinewidth": 0,
              "ticks": ""
             }
            },
            "type": "scattergeo"
           }
          ],
          "scattergl": [
           {
            "marker": {
             "colorbar": {
              "outlinewidth": 0,
              "ticks": ""
             }
            },
            "type": "scattergl"
           }
          ],
          "scattermapbox": [
           {
            "marker": {
             "colorbar": {
              "outlinewidth": 0,
              "ticks": ""
             }
            },
            "type": "scattermapbox"
           }
          ],
          "scatterpolar": [
           {
            "marker": {
             "colorbar": {
              "outlinewidth": 0,
              "ticks": ""
             }
            },
            "type": "scatterpolar"
           }
          ],
          "scatterpolargl": [
           {
            "marker": {
             "colorbar": {
              "outlinewidth": 0,
              "ticks": ""
             }
            },
            "type": "scatterpolargl"
           }
          ],
          "scatterternary": [
           {
            "marker": {
             "colorbar": {
              "outlinewidth": 0,
              "ticks": ""
             }
            },
            "type": "scatterternary"
           }
          ],
          "surface": [
           {
            "colorbar": {
             "outlinewidth": 0,
             "ticks": ""
            },
            "colorscale": [
             [
              0,
              "#0d0887"
             ],
             [
              0.1111111111111111,
              "#46039f"
             ],
             [
              0.2222222222222222,
              "#7201a8"
             ],
             [
              0.3333333333333333,
              "#9c179e"
             ],
             [
              0.4444444444444444,
              "#bd3786"
             ],
             [
              0.5555555555555556,
              "#d8576b"
             ],
             [
              0.6666666666666666,
              "#ed7953"
             ],
             [
              0.7777777777777778,
              "#fb9f3a"
             ],
             [
              0.8888888888888888,
              "#fdca26"
             ],
             [
              1,
              "#f0f921"
             ]
            ],
            "type": "surface"
           }
          ],
          "table": [
           {
            "cells": {
             "fill": {
              "color": "#EBF0F8"
             },
             "line": {
              "color": "white"
             }
            },
            "header": {
             "fill": {
              "color": "#C8D4E3"
             },
             "line": {
              "color": "white"
             }
            },
            "type": "table"
           }
          ]
         },
         "layout": {
          "annotationdefaults": {
           "arrowcolor": "#2a3f5f",
           "arrowhead": 0,
           "arrowwidth": 1
          },
          "autotypenumbers": "strict",
          "coloraxis": {
           "colorbar": {
            "outlinewidth": 0,
            "ticks": ""
           }
          },
          "colorscale": {
           "diverging": [
            [
             0,
             "#8e0152"
            ],
            [
             0.1,
             "#c51b7d"
            ],
            [
             0.2,
             "#de77ae"
            ],
            [
             0.3,
             "#f1b6da"
            ],
            [
             0.4,
             "#fde0ef"
            ],
            [
             0.5,
             "#f7f7f7"
            ],
            [
             0.6,
             "#e6f5d0"
            ],
            [
             0.7,
             "#b8e186"
            ],
            [
             0.8,
             "#7fbc41"
            ],
            [
             0.9,
             "#4d9221"
            ],
            [
             1,
             "#276419"
            ]
           ],
           "sequential": [
            [
             0,
             "#0d0887"
            ],
            [
             0.1111111111111111,
             "#46039f"
            ],
            [
             0.2222222222222222,
             "#7201a8"
            ],
            [
             0.3333333333333333,
             "#9c179e"
            ],
            [
             0.4444444444444444,
             "#bd3786"
            ],
            [
             0.5555555555555556,
             "#d8576b"
            ],
            [
             0.6666666666666666,
             "#ed7953"
            ],
            [
             0.7777777777777778,
             "#fb9f3a"
            ],
            [
             0.8888888888888888,
             "#fdca26"
            ],
            [
             1,
             "#f0f921"
            ]
           ],
           "sequentialminus": [
            [
             0,
             "#0d0887"
            ],
            [
             0.1111111111111111,
             "#46039f"
            ],
            [
             0.2222222222222222,
             "#7201a8"
            ],
            [
             0.3333333333333333,
             "#9c179e"
            ],
            [
             0.4444444444444444,
             "#bd3786"
            ],
            [
             0.5555555555555556,
             "#d8576b"
            ],
            [
             0.6666666666666666,
             "#ed7953"
            ],
            [
             0.7777777777777778,
             "#fb9f3a"
            ],
            [
             0.8888888888888888,
             "#fdca26"
            ],
            [
             1,
             "#f0f921"
            ]
           ]
          },
          "colorway": [
           "#636efa",
           "#EF553B",
           "#00cc96",
           "#ab63fa",
           "#FFA15A",
           "#19d3f3",
           "#FF6692",
           "#B6E880",
           "#FF97FF",
           "#FECB52"
          ],
          "font": {
           "color": "#2a3f5f"
          },
          "geo": {
           "bgcolor": "white",
           "lakecolor": "white",
           "landcolor": "#E5ECF6",
           "showlakes": true,
           "showland": true,
           "subunitcolor": "white"
          },
          "hoverlabel": {
           "align": "left"
          },
          "hovermode": "closest",
          "mapbox": {
           "style": "light"
          },
          "paper_bgcolor": "white",
          "plot_bgcolor": "#E5ECF6",
          "polar": {
           "angularaxis": {
            "gridcolor": "white",
            "linecolor": "white",
            "ticks": ""
           },
           "bgcolor": "#E5ECF6",
           "radialaxis": {
            "gridcolor": "white",
            "linecolor": "white",
            "ticks": ""
           }
          },
          "scene": {
           "xaxis": {
            "backgroundcolor": "#E5ECF6",
            "gridcolor": "white",
            "gridwidth": 2,
            "linecolor": "white",
            "showbackground": true,
            "ticks": "",
            "zerolinecolor": "white"
           },
           "yaxis": {
            "backgroundcolor": "#E5ECF6",
            "gridcolor": "white",
            "gridwidth": 2,
            "linecolor": "white",
            "showbackground": true,
            "ticks": "",
            "zerolinecolor": "white"
           },
           "zaxis": {
            "backgroundcolor": "#E5ECF6",
            "gridcolor": "white",
            "gridwidth": 2,
            "linecolor": "white",
            "showbackground": true,
            "ticks": "",
            "zerolinecolor": "white"
           }
          },
          "shapedefaults": {
           "line": {
            "color": "#2a3f5f"
           }
          },
          "ternary": {
           "aaxis": {
            "gridcolor": "white",
            "linecolor": "white",
            "ticks": ""
           },
           "baxis": {
            "gridcolor": "white",
            "linecolor": "white",
            "ticks": ""
           },
           "bgcolor": "#E5ECF6",
           "caxis": {
            "gridcolor": "white",
            "linecolor": "white",
            "ticks": ""
           }
          },
          "title": {
           "x": 0.05
          },
          "xaxis": {
           "automargin": true,
           "gridcolor": "white",
           "linecolor": "white",
           "ticks": "",
           "title": {
            "standoff": 15
           },
           "zerolinecolor": "white",
           "zerolinewidth": 2
          },
          "yaxis": {
           "automargin": true,
           "gridcolor": "white",
           "linecolor": "white",
           "ticks": "",
           "title": {
            "standoff": 15
           },
           "zerolinecolor": "white",
           "zerolinewidth": 2
          }
         }
        },
        "title": {
         "text": "Tackling Efficiency and Tackle Factor by Position"
        },
        "xaxis": {
         "anchor": "y",
         "autorange": true,
         "domain": [
          0,
          1
         ],
         "range": [
          -0.3076265592818895,
          5.388485398934699
         ],
         "title": {
          "text": "tackle_factor"
         },
         "type": "linear"
        },
        "yaxis": {
         "anchor": "x",
         "autorange": true,
         "domain": [
          0,
          1
         ],
         "range": [
          -0.0825242718446602,
          1.0825242718446602
         ],
         "title": {
          "text": "tackle_efficiency"
         },
         "type": "linear"
        }
       }
      },
      "image/png": "[encoded data removed]",
      "text/html": [
       "<div>                            <div id=\"0e05dba3-dd4b-4e4d-842f-b73978afbf9c\" class=\"plotly-graph-div\" style=\"height:525px; width:100%;\"></div>            <script type=\"text/javascript\">                require([\"plotly\"], function(Plotly) {                    window.PLOTLYENV=window.PLOTLYENV || {};                                    if (document.getElementById(\"0e05dba3-dd4b-4e4d-842f-b73978afbf9c\")) {                    Plotly.newPlot(                        \"0e05dba3-dd4b-4e4d-842f-b73978afbf9c\",                        [{\"customdata\":[[33131,\"Calais Campbell\"],[35452,\"Brandon Graham\"],[35454,\"Jason Pierre-Paul\"],[35470,\"Jerry Hughes\"],[37084,\"J.J. Watt\"],[37097,\"Cameron Jordan\"],[37841,\"Mario Addison\"],[38544,\"Michael Brockers\"],[38551,\"Chandler Jones\"],[38589,\"Vinny Curry\"],[40074,\"William Gholston\"],[41227,\"Jadeveon Clowney\"],[41263,\"Demarcus Lawrence\"],[41363,\"Brent Urban\"],[41464,\"Shelby Harris\"],[41786,\"Kerry Hyder\"],[42031,\"Denico Autry\"],[42331,\"Efe Obada\"],[42395,\"Jordan Phillips\"],[42403,\"Randy Gregory\"],[42406,\"Frank Clark\"],[42436,\"Henry Anderson\"],[43298,\"Leonard Floyd\"],[43308,\"Shaq Lawson\"],[43321,\"Emmanuel Ogbah\"],[43352,\"Adam Gotsis\"],[43358,\"Yannick Ngakoue\"],[43361,\"Jonathan Bullard\"],[43426,\"Dean Lowry\"],[43436,\"Quinton Jefferson\"],[43791,\"Morgan Fox\"],[44813,\"Myles Garrett\"],[44838,\"Takkarist McKinley\"],[44863,\"DeMarcus Walker\"],[44871,\"Tanoh Kpassagnon\"],[44880,\"Dawuane Smoot\"],[44886,\"Chris Wormley\"],[44915,\"Trey Hendrickson\"],[44929,\"Carl Lawson\"],[44938,\"Samson Ebukam\"],[44944,\"Deatrich Wise\"],[44955,\"Carlos Watkins\"],[45009,\"Al-Quadin Muhammad\"],[45033,\"Ifeadi Odenigbo\"],[45038,\"Isaac Rochell\"],[45063,\"Pat O'Connor\"],[46083,\"Marcus Davenport\"],[46121,\"Kemoko Turay\"],[46133,\"Tyquan Lewis\"],[46146,\"Sam Hubbard\"],[46148,\"Rasheem Green\"],[46185,\"Dorance Armstrong\"],[46199,\"Josh Sweat\"],[46204,\"John Franklin-Myers\"],[46219,\"Genard Avery\"],[46229,\"Ogbonnia Okoronkwo\"],[46255,\"Jake Martin\"],[46487,\"Poona Ford\"],[46771,\"Abdullah Anderson\"],[46796,\"Demone Harris\"],[47785,\"Nick Bosa\"],[47787,\"Clelin Ferrell\"],[47809,\"Montez Sweat\"],[47832,\"Ben Banogu\"],[47848,\"Zach Allen\"],[47854,\"Dre'Mont Jones\"],[47889,\"Maxx Crosby\"],[47944,\"Charles Omenihu\"],[48032,\"Michael Dogbe\"],[48145,\"Wyatt Ray\"],[48308,\"Jonathan Kongbo\"],[48462,\"Kevin Strong\"],[48473,\"Jonathan Ledbetter\"],[48537,\"Carl Granderson\"],[48566,\"Daniel Wise\"],[52415,\"Derrick Brown\"],[52462,\"A.J. Epenesa\"],[52498,\"Jonathan Greenard\"],[52585,\"Michael Danna\"],[52637,\"James Smith-Williams\"],[52641,\"Casey Toohill\"],[52848,\"Myles Adams\"],[53053,\"Bryce Huff\"],[53450,\"Kwity Paye\"],[53457,\"Payton Turner\"],[53459,\"Gregory Rousseau\"],[53483,\"Dayo Odeyingbo\"],[53490,\"Carlos Basham\"],[53498,\"Joseph Ossai\"],[53508,\"Malcolm Koonce\"],[53513,\"Chauncey Golston\"],[53540,\"Cam Sample\"],[53577,\"Ta'Quon Graham\"],[53585,\"Isaiahh Loudermilk\"],[53669,\"William Bradley-King\"],[53675,\"Shaka Toney\"],[53887,\"Malik Herring\"],[54467,\"Aidan Hutchinson\"],[54491,\"Jermaine Johnson\"],[54495,\"George Karlaftis\"],[54498,\"Logan Hall\"],[54521,\"Sam Williams\"],[54526,\"Drake Jackson\"],[54543,\"Alex Wright\"],[54549,\"DeMarvin Leal\"],[54581,\"Eyioma Uwazurike\"],[54582,\"Micheal Clemons\"],[54639,\"Dominique Robinson\"],[54671,\"Matt Henningsen\"],[54688,\"Isaiah Thomas\"],[54827,\"Joshua Onujiogu\"],[55016,\"Kingsley Jonathan\"],[55190,\"Sam Okuayinonu\"]],\"hovertemplate\":\"position=DE\\u003cbr\\u003etackle_factor=%{x}\\u003cbr\\u003etackle_efficiency=%{y}\\u003cbr\\u003enflId=%{customdata[0]}\\u003cbr\\u003edisplayName=%{customdata[1]}\\u003cextra\\u003e\\u003c\\u002fextra\\u003e\",\"legendgroup\":\"DE\",\"marker\":{\"color\":\"rgb(95, 70, 144)\",\"symbol\":\"circle\"},\"mode\":\"markers\",\"name\":\"DE\",\"orientation\":\"v\",\"showlegend\":true,\"x\":[1.5755228505034855,1.0503485670023238,0.5251742835011619,0.9628195197521301,0.9628195197521301,2.713400464756003,0.26258714175058095,0.35011618900077457,1.4004647560030983,0.6127033307513555,2.0131680867544537,0.8752904725019365,2.713400464756003,0.7877614252517428,1.6630518977536792,0.43764523625096824,0.8752904725019365,1.0503485670023238,0.7002323780015491,0.7002323780015491,1.0503485670023238,1.0503485670023238,2.713400464756003,0.7877614252517428,0.8752904725019365,0.7002323780015491,0.9628195197521301,0.9628195197521301,2.363284275755228,1.0503485670023238,0.7002323780015491,0.9628195197521301,0.08752904725019364,0.7877614252517428,1.1378776142525173,0.43764523625096824,1.5755228505034855,1.4004647560030983,0.8752904725019365,1.8381099922540665,2.363284275755228,0.5251742835011619,1.5755228505034855,0.43764523625096824,1.1378776142525173,0.08752904725019364,1.487993803253292,0.08752904725019364,1.0503485670023238,2.88845855925639,1.487993803253292,0.9628195197521301,1.8381099922540665,1.3129357087529046,0.08752904725019364,0.9628195197521301,0.5251742835011619,1.4004647560030983,0.8752904725019365,0.35011618900077457,1.0503485670023238,0.7002323780015491,2.1006971340046476,0.17505809450038728,2.8009295120061966,2.188226181254841,3.501161890007746,0.7002323780015491,1.0503485670023238,0.08752904725019364,0.08752904725019364,0.7877614252517428,0.43764523625096824,1.3129357087529046,0.17505809450038728,3.676219984508133,0.17505809450038728,0.5251742835011619,0.6127033307513555,1.4004647560030983,0.9628195197521301,0.35011618900077457,0.08752904725019364,1.6630518977536792,0.7002323780015491,1.225406661502711,0.7002323780015491,0.6127033307513555,0.5251742835011619,0.35011618900077457,0.43764523625096824,0.6127033307513555,2.450813323005422,0.43764523625096824,0.08752904725019364,0.35011618900077457,0.43764523625096824,1.1378776142525173,0.8752904725019365,1.4004647560030983,0.5251742835011619,0.5251742835011619,0.7002323780015491,1.225406661502711,0.8752904725019365,0.26258714175058095,1.225406661502711,0.8752904725019365,0.8752904725019365,0.5251742835011619,0.17505809450038728,0.17505809450038728,0.08752904725019364],\"xaxis\":\"x\",\"y\":[0.8181818181818182,0.9230769230769231,0.8571428571428571,0.6111111111111112,0.9166666666666666,0.8378378378378378,0.75,1.0,0.7619047619047619,0.7777777777777778,0.9583333333333334,0.9090909090909091,0.8611111111111112,0.8181818181818182,0.8260869565217391,1.0,0.7692307692307693,0.75,0.6666666666666666,0.8888888888888888,0.7058823529411765,1.0,0.9393939393939394,0.8181818181818182,1.0,0.8,0.7333333333333333,1.0,0.9642857142857143,0.9230769230769231,1.0,0.7857142857142857,1.0,0.9,0.9285714285714286,0.625,0.9473684210526315,0.9411764705882353,0.7142857142857143,0.875,0.9310344827586207,0.8571428571428571,0.8181818181818182,1.0,0.9285714285714286,0.5,0.9444444444444444,1.0,0.8571428571428571,0.868421052631579,0.8947368421052632,0.8461538461538461,0.8076923076923077,0.9375,0.5,0.8461538461538461,0.75,0.9411764705882353,0.7692307692307693,0.8,0.9230769230769231,1.0,0.96,0.6666666666666666,0.9696969696969697,0.8620689655172413,0.8333333333333334,0.8888888888888888,0.8571428571428571,1.0,1.0,1.0,0.7142857142857143,1.0,1.0,0.9545454545454546,0.2857142857142857,0.6666666666666666,0.875,0.8888888888888888,0.8461538461538461,1.0,1.0,0.9047619047619048,1.0,0.875,0.8,0.875,1.0,0.8,0.8333333333333334,0.875,0.875,0.8333333333333334,1.0,1.0,0.8333333333333334,0.8125,1.0,0.7619047619047619,1.0,1.0,0.8888888888888888,0.875,0.8333333333333334,1.0,1.0,0.9090909090909091,1.0,0.8571428571428571,1.0,1.0,1.0],\"yaxis\":\"y\",\"type\":\"scatter\"},{\"customdata\":[[35449,\"Tyson Alualu\"],[35562,\"Al Woods\"],[39997,\"Johnathan Hankins\"],[40030,\"John Jenkins\"],[40347,\"Mike Purcell\"],[41595,\"Mike Pennel\"],[42433,\"Carl Davis\"],[42559,\"Christian Covington\"],[42560,\"Rakeem Nunez-Roches\"],[43316,\"Kenny Clark\"],[43332,\"Austin Johnson\"],[43455,\"D.J. Reader\"],[43694,\"Michael Pierce\"],[44905,\"Montravius Adams\"],[44991,\"Davon Godchaux\"],[45226,\"Josh Tupou\"],[46081,\"Vita Vea\"],[46264,\"Sebastian Joseph\"],[47786,\"Quinnen Williams\"],[47917,\"Greg Gaines\"],[47973,\"Armon Watts\"],[48198,\"Bryan Mone\"],[52464,\"Raekwon Davis\"],[52538,\"James Lynch\"],[52539,\"Rashard Lawrence\"],[53501,\"Alim McNeill\"],[53679,\"Khyiris Tonga\"],[54733,\"Donovan Jeter\"],[54948,\"Marquan McCall\"]],\"hovertemplate\":\"position=NT\\u003cbr\\u003etackle_factor=%{x}\\u003cbr\\u003etackle_efficiency=%{y}\\u003cbr\\u003enflId=%{customdata[0]}\\u003cbr\\u003edisplayName=%{customdata[1]}\\u003cextra\\u003e\\u003c\\u002fextra\\u003e\",\"legendgroup\":\"NT\",\"marker\":{\"color\":\"rgb(29, 105, 150)\",\"symbol\":\"circle\"},\"mode\":\"markers\",\"name\":\"NT\",\"orientation\":\"v\",\"showlegend\":true,\"x\":[0.5644768856447688,1.5523114355231142,0.8467153284671532,0.5644768856447688,1.5523114355231142,0.7761557177615571,0.35279805352798055,0.49391727493917276,1.1995133819951338,2.187347931873479,1.4111922141119222,0.635036496350365,0.49391727493917276,0.49391727493917276,2.116788321167883,0.7761557177615571,1.4111922141119222,1.975669099756691,1.6934306569343065,0.9878345498783455,1.5523114355231142,1.1289537712895377,1.340632603406326,0.5644768856447688,0.7761557177615571,0.7761557177615571,0.0705596107055961,0.0705596107055961,0.635036496350365],\"xaxis\":\"x\",\"y\":[0.8888888888888888,0.9565217391304348,0.9230769230769231,1.0,0.9166666666666666,0.9166666666666666,0.7142857142857143,0.875,0.9444444444444444,0.96875,0.8333333333333334,1.0,1.0,1.0,0.9375,0.8461538461538461,0.9523809523809523,0.875,0.9230769230769231,0.875,0.9166666666666666,0.8888888888888888,0.95,0.8888888888888888,0.8461538461538461,0.7333333333333333,0.5,1.0,1.0],\"yaxis\":\"y\",\"type\":\"scatter\"},{\"customdata\":[[35459,\"Kareem Jackson\"],[38559,\"Harrison Smith\"],[38852,\"Michael Thomas\"],[40039,\"Duron Harmon\"],[40166,\"Jordan Poyer\"],[40737,\"Tony Jefferson\"],[41270,\"Lamarcus Joyner\"],[42116,\"Adrian Phillips\"],[42376,\"Landon Collins\"],[42390,\"Eric Rowe\"],[42901,\"Dean Marlowe\"],[43350,\"Vonn Bell\"],[43407,\"Juston Burris\"],[43413,\"Deon Bush\"],[43534,\"Clayton Fejedelem\"],[43757,\"Andrew Adams\"],[44818,\"Jamal Adams\"],[44837,\"Jabrill Peppers\"],[44848,\"Budda Baker\"],[44862,\"Justin Evans\"],[44925,\"Eddie Jackson\"],[44926,\"Rayshawn Jenkins\"],[44999,\"Chuck Clark\"],[45021,\"Rudy Ford\"],[46097,\"Terrell Edmunds\"],[46122,\"M.J. Stewart\"],[46137,\"Justin Reid\"],[46162,\"Ronnie Harrison\"],[46164,\"Tarvarius Moore\"],[46186,\"Jordan Whitehead\"],[46378,\"J.T. Gray\"],[46680,\"Sean Chandler\"],[46711,\"Ryan Neal\"],[47804,\"Darnell Savage\"],[47810,\"Johnathan Abram\"],[47864,\"Will Harris\"],[47888,\"Chauncey Gardner-Johnson\"],[47891,\"Julian Love\"],[47974,\"Marcus Epps\"],[47996,\"Donovan Wilson\"],[48026,\"Nick Scott\"],[48581,\"Roderic Teamer\"],[52452,\"Grant Delpit\"],[52478,\"Brandon Jones\"],[52535,\"K'Von Wallace\"],[52594,\"Alohi Gilman\"],[52607,\"Jordan Fuller\"],[52613,\"Josh Metellus\"],[52624,\"Kamren Curl\"],[52627,\"Geno Stone\"],[53469,\"Richie Grant\"],[53494,\"Andre Cisco\"],[53592,\"Darrick Forrest\"],[53609,\"Talanoa Hufanga\"],[53641,\"Damar Hamlin\"],[53656,\"Israel Mukuamu\"],[54513,\"Jaquan Brisker\"],[54527,\"Bryan Cook\"],[54561,\"Nick Cross\"],[54562,\"Kerby Joseph\"],[54937,\"Verone McKinley\"]],\"hovertemplate\":\"position=SS\\u003cbr\\u003etackle_factor=%{x}\\u003cbr\\u003etackle_efficiency=%{y}\\u003cbr\\u003enflId=%{customdata[0]}\\u003cbr\\u003edisplayName=%{customdata[1]}\\u003cextra\\u003e\\u003c\\u002fextra\\u003e\",\"legendgroup\":\"SS\",\"marker\":{\"color\":\"rgb(56, 166, 165)\",\"symbol\":\"circle\"},\"mode\":\"markers\",\"name\":\"SS\",\"orientation\":\"v\",\"showlegend\":true,\"x\":[1.8097731239092496,1.525887143688191,0.07097149505526469,1.2774869109947644,0.7452006980802792,0.14194299011052938,1.2065154159394997,1.4194299011052938,0.035485747527632346,0.9581151832460734,0.28388598022105876,1.3129726585223969,0.6032577079697499,0.14194299011052938,0.14194299011052938,0.9581151832460734,0.10645724258289703,0.9581151832460734,2.484002326934264,0.7806864456079116,2.27108784176847,1.8452588714368818,1.9162303664921467,0.49680046538685285,1.1000581733566026,0.3193717277486911,1.242001163467132,0.28388598022105876,0.14194299011052938,1.6323443862710878,0.035485747527632346,0.24840023269342643,1.0645724258289704,1.0645724258289704,1.7033158813263525,0.8161721931355439,1.4549156486329262,1.9162303664921467,1.5968586387434556,1.9162303664921467,1.2065154159394997,0.3193717277486911,1.6678301337987202,1.6678301337987202,0.21291448516579406,0.49680046538685285,0.3903432228039558,0.46131471785922046,1.5968586387434556,0.8161721931355439,2.164630599185573,1.6323443862710878,1.2774869109947644,1.4194299011052938,1.7742873763816172,0.3903432228039558,1.8097731239092496,0.4258289703315881,0.28388598022105876,0.8871436881908086,0.07097149505526469],\"xaxis\":\"x\",\"y\":[0.85,0.9555555555555556,1.0,0.8571428571428571,0.875,1.0,0.85,0.9302325581395349,1.0,0.8709677419354839,0.8,0.8809523809523809,0.8095238095238095,1.0,1.0,0.9,1.0,0.9642857142857143,0.8641975308641975,0.88,0.8648648648648649,0.7647058823529411,0.9,1.0,0.8611111111111112,0.9,0.7954545454545454,0.7272727272727273,1.0,0.8214285714285714,1.0,1.0,0.9090909090909091,0.7692307692307693,0.8421052631578947,0.92,0.803921568627451,0.9473684210526315,0.8490566037735849,0.8059701492537313,0.7906976744186046,0.9,0.9038461538461539,0.8867924528301887,1.0,0.875,0.9166666666666666,0.9285714285714286,0.9782608695652174,0.9583333333333334,0.8840579710144928,0.8846153846153846,0.9473684210526315,0.7843137254901961,0.8928571428571429,1.0,0.8225806451612904,0.8571428571428571,0.8,0.8928571428571429,1.0],\"yaxis\":\"y\",\"type\":\"scatter\"},{\"customdata\":[[35466,\"Devin McCourty\"],[38707,\"Justin Bethel\"],[38843,\"Rodney McLeod\"],[38868,\"Tashaun Gipson\"],[39908,\"Erik Harris\"],[39941,\"Chris Banjo\"],[40017,\"Tyrann Mathieu\"],[40031,\"Logan Ryan\"],[40107,\"Micah Hyde\"],[41256,\"Jimmie Ward\"],[42485,\"Adrian Amos\"],[42488,\"Bobby McCain\"],[42543,\"Quandre Diggs\"],[43306,\"Keanu Neal\"],[43353,\"Kevin Byard\"],[43387,\"Justin Simmons\"],[43395,\"Eric Murray\"],[43508,\"Will Parks\"],[43533,\"Jayron Kearse\"],[43616,\"Matthias Farley\"],[44827,\"Malik Hooker\"],[44851,\"Marcus Maye\"],[44854,\"Marcus Williams\"],[44873,\"Josh Jones\"],[44903,\"John Johnson\"],[45004,\"Xavier Woods\"],[46080,\"Minkah Fitzpatrick\"],[46086,\"Derwin James\"],[46123,\"Jessie Bates\"],[46151,\"Tracy Walker\"],[46259,\"DeShon Elliott\"],[46649,\"Jeremy Reaves\"],[46669,\"Jonathan Owens\"],[46846,\"Joshua Kalu\"],[47843,\"Nasir Adderley\"],[47844,\"Taylor Rapp\"],[47846,\"Juan Thornhill\"],[47882,\"Mike Edwards\"],[47899,\"Amani Hooker\"],[47915,\"Ugochukwu Amadi\"],[47964,\"Jaquan Johnson\"],[48447,\"P.J. Locke\"],[48454,\"C.J. Moore\"],[48508,\"Andrew Wingard\"],[49410,\"Jalen Thompson\"],[52444,\"Xavier McKinney\"],[52445,\"Kyle Dugger\"],[52453,\"Antoine Winfield\"],[52472,\"Jeremy Chinn\"],[52493,\"Julian Blackmon\"],[52512,\"Terrell Burgess\"],[52542,\"Jaylinn Hawkins\"],[52852,\"Myles Hartsfield\"],[52913,\"Bobby Price\"],[52980,\"Juju Hughes\"],[53465,\"Jevon Holland\"],[53472,\"Trevon Moehrig\"],[53533,\"Brandon Stephens\"],[53554,\"Camryn Bynum\"],[53581,\"Caden Sterns\"],[53674,\"Tre Norwood\"],[54479,\"Kyle Hamilton\"],[54496,\"Dax Hill\"],[54502,\"Jalen Pitre\"],[54578,\"Percy Butler\"],[54579,\"Dane Belton\"],[54704,\"Rodney Thomas\"],[54833,\"Tony Adams\"],[55149,\"Markquese Bell\"]],\"hovertemplate\":\"position=FS\\u003cbr\\u003etackle_factor=%{x}\\u003cbr\\u003etackle_efficiency=%{y}\\u003cbr\\u003enflId=%{customdata[0]}\\u003cbr\\u003edisplayName=%{customdata[1]}\\u003cextra\\u003e\\u003c\\u002fextra\\u003e\",\"legendgroup\":\"FS\",\"marker\":{\"color\":\"rgb(15, 133, 84)\",\"symbol\":\"circle\"},\"mode\":\"markers\",\"name\":\"FS\",\"orientation\":\"v\",\"showlegend\":true,\"x\":[1.7532467532467533,0.35064935064935066,1.4805194805194803,1.051948051948052,0.2727272727272727,0.03896103896103896,1.5584415584415583,0.35064935064935066,0.2727272727272727,0.2727272727272727,1.5974025974025974,1.6363636363636362,1.5194805194805194,1.4025974025974026,2.1818181818181817,0.8961038961038961,0.2727272727272727,0.11688311688311688,1.2467532467532467,0.03896103896103896,1.4415584415584415,1.2467532467532467,1.2467532467532467,0.935064935064935,1.4805194805194803,1.87012987012987,1.6753246753246753,2.6103896103896105,1.4805194805194803,0.6623376623376623,1.987012987012987,0.07792207792207792,2.4935064935064934,0.7402597402597402,1.12987012987013,1.4805194805194803,1.2077922077922076,2.0259740259740258,0.8571428571428571,0.1948051948051948,0.935064935064935,0.1948051948051948,0.03896103896103896,0.03896103896103896,2.1818181818181817,1.4805194805194803,0.8961038961038961,1.4415584415584415,0.7402597402597402,0.2727272727272727,0.4675324675324675,1.831168831168831,1.909090909090909,0.11688311688311688,0.5844155844155844,1.909090909090909,0.7402597402597402,0.5844155844155844,1.3246753246753247,0.8181818181818181,0.7012987012987013,0.8181818181818181,0.07792207792207792,2.103896103896104,0.03896103896103896,0.6233766233766234,0.8961038961038961,0.03896103896103896,0.03896103896103896],\"xaxis\":\"x\",\"y\":[0.9375,0.9,0.95,1.0,1.0,1.0,0.8333333333333334,1.0,0.875,0.875,0.8913043478260869,0.8571428571428571,0.8478260869565217,0.8181818181818182,0.9491525423728814,0.7931034482758621,0.875,1.0,0.9411764705882353,1.0,0.9487179487179487,0.8888888888888888,0.9696969696969697,0.7741935483870968,0.8085106382978723,0.9411764705882353,0.9555555555555556,0.9305555555555556,0.9047619047619048,0.9444444444444444,0.9272727272727272,1.0,0.9014084507042254,0.8636363636363636,0.9354838709677419,0.926829268292683,0.8378378378378378,0.8387096774193549,0.9166666666666666,0.7142857142857143,0.8571428571428571,1.0,1.0,1.0,0.9655172413793104,0.926829268292683,0.92,0.9736842105263158,0.7916666666666666,1.0,0.9230769230769231,0.8867924528301887,0.8909090909090909,1.0,0.8333333333333334,0.9074074074074074,0.9047619047619048,0.8823529411764706,0.9444444444444444,0.8076923076923077,0.75,0.875,1.0,0.7397260273972602,1.0,0.8888888888888888,0.92,1.0,1.0],\"yaxis\":\"y\",\"type\":\"scatter\"},{\"customdata\":[[35493,\"Carlos Dunlap\"],[37075,\"Von Miller\"],[37087,\"Robert Quinn\"],[37145,\"Justin Houston\"],[38545,\"Bruce Irvin\"],[38548,\"Melvin Ingram\"],[39998,\"Jon Bostic\"],[40095,\"Steven Means\"],[40096,\"A.J. Klein\"],[40463,\"Brandon Copeland\"],[41231,\"Khalil Mack\"],[41235,\"Anthony Barr\"],[41269,\"Kyle Van Noy\"],[41279,\"Jeremiah Attaochu\"],[41300,\"Christian Kirksey\"],[41361,\"Kevin Pierre-Louis\"],[41403,\"Devon Kennard\"],[41915,\"Shaquil Barrett\"],[42346,\"Dante Fowler\"],[42365,\"Bud Dupree\"],[42381,\"Preston Smith\"],[42401,\"Markus Golden\"],[42431,\"Danielle Hunter\"],[42444,\"Trey Flowers\"],[42465,\"Za'Darius Smith\"],[42467,\"Kwon Alexander\"],[42929,\"Alex Singleton\"],[43292,\"Joey Bosa\"],[43333,\"Jihad Ward\"],[43354,\"Carl Nassib\"],[43435,\"Matt Judon\"],[43797,\"Cory Littleton\"],[44825,\"Haason Reddick\"],[44834,\"Charles Harris\"],[44842,\"T.J. Watt\"],[44861,\"Ryan Anderson\"],[44937,\"Jalen Reeves-Maybin\"],[44968,\"Jayon Brown\"],[44976,\"Matt Milano\"],[45045,\"Elijah Lee\"],[45215,\"Eric Wilson\"],[45345,\"Nicholas Morrow\"],[46074,\"Bradley Chubb\"],[46088,\"Leighton Vander Esch\"],[46117,\"Uchenna Nwosu\"],[46135,\"Lorenzo Carter\"],[46156,\"Arden Key\"],[46157,\"Oren Burks\"],[46205,\"Marquis Haynes\"],[46253,\"Marcell Harris\"],[46290,\"Matthew Adams\"],[46304,\"Zaire Franklin\"],[46457,\"Olasunkanmi Adeniyi\"],[46657,\"Dennis Gardeck\"],[47790,\"Josh Allen\"],[47795,\"Rashan Gary\"],[47799,\"Brian Burns\"],[47855,\"Germaine Pratt\"],[47863,\"Sione Takitaki\"],[47878,\"Oshane Ximines\"],[47881,\"Quincy Williams\"],[47890,\"Anthony Nelson\"],[47900,\"Austin Bryant\"],[47934,\"Andrew Van Ginkel\"],[47938,\"Mack Wilson\"],[47939,\"Justin Hollins\"],[47947,\"E.J. Speed\"],[48008,\"Darryl Johnson\"],[48013,\"Quinton Bell\"],[48027,\"Kaden Elliss\"],[48089,\"Malik Reed\"],[48117,\"Demetrius Flannigan-Fowles\"],[48555,\"Luke Gifford\"],[52428,\"K'Lavon Chaisson\"],[52446,\"Yetur Gross-Matos\"],[52456,\"Darrell Taylor\"],[52468,\"Josh Uche\"],[52471,\"Willie Gay\"],[52475,\"Julian Okwara\"],[52482,\"Zack Baun\"],[52492,\"Terrell Lewis\"],[52495,\"Anfernee Jennings\"],[52506,\"Malik Harrison\"],[52510,\"Alex Highsmith\"],[52515,\"Akeem Davis-Gaither\"],[52525,\"D.J. Wonnum\"],[52563,\"Trevis Gipson\"],[52650,\"Jonathan Garvin\"],[52662,\"Derrek Tuszka\"],[52797,\"Joe Bachie\"],[52932,\"Ladarius Hamilton\"],[52971,\"Jamir Jones\"],[53441,\"Micah Parsons\"],[53445,\"Zaven Collins\"],[53447,\"Jaelan Phillips\"],[53448,\"Jamin Davis\"],[53460,\"Odafe Oweh\"],[53461,\"Joe Tryon\"],[53479,\"Azeez Ojulari\"],[53481,\"Jeremiah Owusu-Koramoah\"],[53489,\"Pete Werner\"],[53509,\"Divine Deablo\"],[53519,\"Patrick Jones\"],[53545,\"Elerson Smith\"],[53547,\"Chris Rumph\"],[53564,\"Rashad Weaver\"],[53582,\"Tony Fields\"],[53599,\"Garret Wallow\"],[53611,\"Adetokunbo Ogundeji\"],[53639,\"Victor Dimukeje\"],[53645,\"Quincy Roche\"],[53668,\"Jonathon Cooper\"],[53716,\"Milo Eifler\"],[54466,\"Travon Walker\"],[54470,\"Kayvon Thibodeaux\"],[54503,\"Arnold Ebiketie\"],[54505,\"Boye Mafe\"],[54529,\"Nik Bonitto\"],[54547,\"DeAngelo Malone\"],[54552,\"Cameron Thomas\"],[54554,\"Terrel Bernard\"],[54565,\"Myjai Sanders\"],[54568,\"Leo Chenal\"],[54644,\"Kingsley Enagbare\"],[54646,\"Kyron Johnson\"],[54654,\"Amare Barno\"],[54696,\"Baylon Spector\"],[54721,\"Jesse Luketa\"],[54750,\"Keir Thomas\"],[54758,\"De'Shaan Dixon\"],[54949,\"Arron Mosby\"],[55032,\"Tomon Fox\"],[55043,\"Jake Hansen\"],[55105,\"Luke Masterson\"]],\"hovertemplate\":\"position=OLB\\u003cbr\\u003etackle_factor=%{x}\\u003cbr\\u003etackle_efficiency=%{y}\\u003cbr\\u003enflId=%{customdata[0]}\\u003cbr\\u003edisplayName=%{customdata[1]}\\u003cextra\\u003e\\u003c\\u002fextra\\u003e\",\"legendgroup\":\"OLB\",\"marker\":{\"color\":\"rgb(115, 175, 72)\",\"symbol\":\"circle\"},\"mode\":\"markers\",\"name\":\"OLB\",\"orientation\":\"v\",\"showlegend\":true,\"x\":[0.7957971676564641,0.5509365006852444,0.24486066697121972,0.24486066697121972,0.30607583371402464,0.7957971676564641,0.5509365006852444,0.12243033348560986,0.24486066697121972,0.24486066697121972,1.2243033348560985,1.8976701690269528,1.2243033348560985,0.12243033348560986,3.3056190041114664,0.12243033348560986,0.4285061671996345,1.6528095020557332,0.6121516674280493,0.30607583371402464,1.5303791685701233,1.5915943353129283,1.775239835541343,0.24486066697121972,0.918227501142074,2.5098218364550022,3.7953403380539057,0.24486066697121972,1.3467336683417086,0.7345820009136592,1.3467336683417086,1.5915943353129283,0.857012334399269,0.7345820009136592,0.30607583371402464,0.06121516674280493,0.1836455002284148,1.3467336683417086,2.2649611694837826,0.0,0.12243033348560986,3.611694837825491,1.3467336683417086,3.611694837825491,2.020100502512563,1.4691640018273184,0.4285061671996345,0.857012334399269,0.7957971676564641,0.5509365006852444,0.3672910004568296,5.08085883965281,0.06121516674280493,0.7345820009136592,1.2243033348560985,1.4691640018273184,1.8976701690269528,3.489264504339881,2.0813156692553676,0.6733668341708543,2.938328003654637,0.6733668341708543,0.30607583371402464,0.857012334399269,1.2243033348560985,1.2855185015989035,1.775239835541343,0.1836455002284148,0.12243033348560986,0.918227501142074,1.0406578346276838,0.24486066697121972,0.06121516674280493,0.12243033348560986,1.714024668798538,0.5509365006852444,0.4285061671996345,1.714024668798538,0.7345820009136592,0.12243033348560986,0.6733668341708543,0.7957971676564641,1.4079488350845135,1.4079488350845135,1.8976701690269528,0.7957971676564641,0.7957971676564641,0.24486066697121972,0.3672910004568296,0.1836455002284148,0.0,0.24486066697121972,1.714024668798538,3.856555504796711,1.5915943353129283,2.632252169940612,1.4691640018273184,1.1018730013704887,0.12243033348560986,2.448606669712197,4.46870717222476,4.46870717222476,0.24486066697121972,0.06121516674280493,0.30607583371402464,0.4285061671996345,0.06121516674280493,0.48972133394243944,0.9794426678848789,0.7345820009136592,0.06121516674280493,0.6121516674280493,0.06121516674280493,1.836455002284148,0.7345820009136592,1.1018730013704887,1.2855185015989035,0.30607583371402464,0.3672910004568296,0.5509365006852444,0.857012334399269,0.12243033348560986,0.6121516674280493,0.5509365006852444,0.06121516674280493,0.12243033348560986,0.1836455002284148,0.06121516674280493,0.0,0.06121516674280493,0.06121516674280493,0.857012334399269,0.12243033348560986,0.12243033348560986],\"xaxis\":\"x\",\"y\":[0.9285714285714286,0.75,0.8,0.8,0.8333333333333334,0.8125,0.9,1.0,0.6666666666666666,1.0,0.8695652173913043,0.9117647058823529,0.9090909090909091,1.0,0.9,0.5,0.875,0.9310344827586207,0.8333333333333334,1.0,0.7575757575757576,0.9285714285714286,0.8285714285714286,0.6666666666666666,0.8823529411764706,0.9111111111111111,0.8857142857142857,1.0,0.88,0.8571428571428571,0.9565217391304348,0.8666666666666667,0.6086956521739131,1.0,1.0,1.0,0.75,0.9166666666666666,0.8604651162790697,0.0,1.0,0.855072463768116,0.7857142857142857,0.9516129032258065,0.8461538461538461,0.8888888888888888,0.875,1.0,0.9285714285714286,0.75,0.8571428571428571,0.8736842105263158,0.5,0.8571428571428571,0.8333333333333334,0.8571428571428571,0.8157894736842105,0.890625,0.9714285714285714,1.0,0.8421052631578947,0.8461538461538461,0.7142857142857143,0.8235294117647058,0.8,0.9130434782608695,1.0,1.0,1.0,0.8333333333333334,0.8947368421052632,0.8,1.0,0.6666666666666666,0.9655172413793104,0.75,1.0,0.8235294117647058,1.0,0.6666666666666666,0.9166666666666666,0.9285714285714286,0.8518518518518519,0.92,1.0,0.8666666666666667,0.9285714285714286,1.0,0.8571428571428571,1.0,0.0,1.0,0.9333333333333333,0.8289473684210527,0.7222222222222222,0.86,0.8275862068965517,0.8181818181818182,0.6666666666666666,0.8333333333333334,0.9012345679012346,0.9125,1.0,0.5,0.7142857142857143,0.5833333333333334,1.0,0.8,0.6956521739130435,0.9230769230769231,1.0,0.9090909090909091,1.0,0.8108108108108109,0.8571428571428571,0.9,0.9545454545454546,0.8333333333333334,1.0,1.0,0.9333333333333333,0.6666666666666666,0.7142857142857143,1.0,1.0,1.0,0.75,0.5,0.0,1.0,1.0,0.875,0.6666666666666666,1.0],\"yaxis\":\"y\",\"type\":\"scatter\"},{\"customdata\":[[35522,\"Corey Peters\"],[37104,\"Cameron Heyward\"],[37308,\"Lawrence Guy\"],[38542,\"Fletcher Cox\"],[38619,\"Akiem Hicks\"],[40048,\"Akeem Spence\"],[40171,\"Nicholas Williams\"],[41239,\"Aaron Donald\"],[41336,\"Justin Ellis\"],[41341,\"DaQuan Jones\"],[42349,\"Leonard Williams\"],[42360,\"Arik Armstead\"],[42378,\"Mario Edwards\"],[42443,\"Angelo Blackson\"],[42480,\"Grady Jarrett\"],[42553,\"Christian Ringo\"],[42826,\"DeShawn Williams\"],[43296,\"DeForest Buckner\"],[43301,\"Sheldon Rankins\"],[43326,\"Chris Jones\"],[43335,\"A'Shawn Robinson\"],[43338,\"Jarran Reed\"],[43356,\"Maliek Collins\"],[43378,\"Javon Hargrave\"],[43405,\"Hassan Ridgeway\"],[43409,\"David Onyemata\"],[43411,\"Andrew Billings\"],[43441,\"Matt Ioannidis\"],[43780,\"Brandin Bryant\"],[43787,\"Roy Robertson-Harris\"],[43938,\"Antwaun Woods\"],[44815,\"Solomon Thomas\"],[44829,\"Jonathan Allen\"],[44867,\"Dalvin Tomlinson\"],[44877,\"Larry Ogunjobi\"],[44922,\"Jaleel Johnson\"],[44957,\"Grover Stewart\"],[45011,\"D.J. Jones\"],[46082,\"Daron Payne\"],[46098,\"Taven Bryan\"],[46138,\"B.J. Hill\"],[46141,\"Nathan Shepherd\"],[46144,\"Derrick Nnadi\"],[46153,\"Justin Jones\"],[46159,\"Deadrin Senat\"],[46165,\"Harrison Phillips\"],[46197,\"Kentavius Street\"],[46214,\"Bilal Nichols\"],[46232,\"Tim Settle\"],[46249,\"Folorunso Fatukasi\"],[46307,\"Zach Sieler\"],[46387,\"Kendal Vickers\"],[46504,\"Daniel Ekuale\"],[46543,\"Henry Mondeaux\"],[46618,\"Taylor Stallworth\"],[46841,\"Matt Dickerson\"],[47792,\"Ed Oliver\"],[47796,\"Christian Wilkins\"],[47800,\"Dexter Lawrence\"],[47802,\"Jeffery Simmons\"],[47811,\"Jerry Tillery\"],[47841,\"Trysten Hill\"],[47867,\"Khalen Saunders\"],[47918,\"John Cominsky\"],[47942,\"Byron Cowart\"],[47975,\"Isaiah Buggs\"],[48123,\"Kevin Givens\"],[48301,\"Jalen Dalton\"],[48520,\"Anthony Rush\"],[48544,\"Shy Tuttle\"],[48770,\"Marquise Copeland\"],[52422,\"Javon Kinlaw\"],[52448,\"Ross Blacklock\"],[52479,\"Justin Madubuike\"],[52481,\"Davon Hamilton\"],[52490,\"Neville Gallimore\"],[52496,\"Jordan Elliott\"],[52522,\"Leki Fotu\"],[52578,\"Broderick Washington\"],[52592,\"Bravvion Roy\"],[52665,\"Malcolm Roach\"],[52743,\"Benito Jones\"],[52792,\"Tershawn Wharton\"],[52846,\"Jonah Williams\"],[53050,\"Domenique Davis\"],[53073,\"Teair Tart\"],[53467,\"Christian Barmore\"],[53502,\"Milton Williams\"],[53504,\"Osa Odighizuwa\"],[53535,\"Jay Tufele\"],[53561,\"Tommy Togiai\"],[53587,\"Daviyon Nixon\"],[53602,\"Tedarrell Slaton\"],[53618,\"Marlon Tuipulotu\"],[53621,\"Quinton Bohanna\"],[53624,\"Roy Lopez\"],[53661,\"Phil Hoskins\"],[53712,\"Michael Dwumfour\"],[53894,\"Marvin Wilson\"],[53900,\"Naquan Jones\"],[54478,\"Jordan Davis\"],[54493,\"Devonte Wyatt\"],[54511,\"Josh Paschal\"],[54541,\"Travis Jones\"],[54560,\"Zach Carter\"],[54573,\"Perrion Winfrey\"],[54591,\"Neil Farrell\"],[54612,\"D.J. Davidson\"],[54615,\"Thomas Booker\"],[54624,\"Eric Johnson\"],[54625,\"Otito Ogbonnia\"],[54640,\"Matthew Butler\"],[54643,\"John Ridgeway\"],[54665,\"Sam Roberts\"],[54939,\"Ben Stille\"],[55030,\"Demetrius Taylor\"],[55045,\"Kurt Hinish\"],[55173,\"Timmy Horne\"],[55200,\"Ryder Anderson\"],[55239,\"Prince Emili\"],[55241,\"C.J. Brewer\"]],\"hovertemplate\":\"position=DT\\u003cbr\\u003etackle_factor=%{x}\\u003cbr\\u003etackle_efficiency=%{y}\\u003cbr\\u003enflId=%{customdata[0]}\\u003cbr\\u003edisplayName=%{customdata[1]}\\u003cextra\\u003e\\u003c\\u002fextra\\u003e\",\"legendgroup\":\"DT\",\"marker\":{\"color\":\"rgb(237, 173, 8)\",\"symbol\":\"circle\"},\"mode\":\"markers\",\"name\":\"DT\",\"orientation\":\"v\",\"showlegend\":true,\"x\":[0.484,2.42,1.5326666666666666,1.2906666666666666,0.4033333333333333,0.484,1.2906666666666666,2.3393333333333333,0.968,1.2906666666666666,1.452,0.32266666666666666,0.32266666666666666,1.21,2.0166666666666666,0.08066666666666666,0.968,2.662,1.694,0.8066666666666666,2.7426666666666666,2.178,0.968,1.6133333333333333,1.3713333333333333,0.968,1.452,1.452,0.242,2.0973333333333333,0.16133333333333333,0.968,2.0973333333333333,1.2906666666666666,1.452,0.242,3.63,1.694,2.42,0.8873333333333333,2.662,0.8873333333333333,1.1293333333333333,1.6133333333333333,0.968,1.6133333333333333,0.8873333333333333,1.2906666666666666,0.484,1.21,2.3393333333333333,0.726,0.4033333333333333,0.4033333333333333,0.16133333333333333,0.484,0.726,3.2266666666666666,1.936,1.7746666666666666,0.5646666666666667,0.5646666666666667,2.0973333333333333,0.32266666666666666,0.4033333333333333,1.2906666666666666,0.8066666666666666,0.32266666666666666,0.5646666666666667,1.694,0.8873333333333333,0.08066666666666666,0.08066666666666666,1.5326666666666666,2.5006666666666666,0.8066666666666666,1.0486666666666666,1.452,1.694,0.484,0.6453333333333333,0.32266666666666666,0.5646666666666667,0.08066666666666666,0.242,1.1293333333333333,0.968,0.726,1.3713333333333333,1.1293333333333333,0.484,0.32266666666666666,1.0486666666666666,0.8066666666666666,0.726,0.8873333333333333,0.16133333333333333,0.16133333333333333,0.32266666666666666,0.6453333333333333,1.21,0.484,0.5646666666666667,0.726,1.452,0.4033333333333333,0.484,0.32266666666666666,0.6453333333333333,0.0,0.968,0.242,0.5646666666666667,0.16133333333333333,0.16133333333333333,0.0,0.5646666666666667,0.726,0.08066666666666666,0.242,0.16133333333333333],\"xaxis\":\"x\",\"y\":[1.0,0.967741935483871,1.0,0.9411764705882353,1.0,0.75,0.9411764705882353,0.9666666666666667,0.8571428571428571,0.8888888888888888,1.0,1.0,1.0,0.8333333333333334,0.9259259259259259,0.5,0.9230769230769231,0.9705882352941176,0.84,0.9090909090909091,0.918918918918919,0.9310344827586207,1.0,0.8695652173913043,1.0,0.75,0.8181818181818182,0.8181818181818182,1.0,0.8666666666666667,1.0,1.0,0.896551724137931,0.8,0.8571428571428571,0.75,0.9375,0.875,0.8823529411764706,0.8461538461538461,0.9705882352941176,0.7857142857142857,0.8235294117647058,0.9090909090909091,0.8,0.9523809523809523,0.9166666666666666,0.8421052631578947,0.75,0.7894736842105263,0.8529411764705882,0.8181818181818182,0.8333333333333334,1.0,1.0,0.8571428571428571,0.9,0.9523809523809523,0.8275862068965517,0.8148148148148148,0.7,1.0,0.9629629629629629,0.8,1.0,0.8421052631578947,1.0,1.0,1.0,0.9545454545454546,1.0,0.5,0.2,0.8636363636363636,0.9117647058823529,0.9090909090909091,0.8125,0.9,0.875,1.0,0.6666666666666666,0.8,0.875,1.0,1.0,0.8235294117647058,1.0,1.0,0.8947368421052632,0.9333333333333333,0.8571428571428571,1.0,0.7647058823529411,0.9090909090909091,0.9,1.0,1.0,0.6666666666666666,0.8,1.0,1.0,1.0,1.0,1.0,0.8181818181818182,0.8333333333333334,0.8571428571428571,0.8,0.8,0.0,0.75,1.0,0.875,1.0,1.0,0.0,1.0,0.9,1.0,1.0,1.0],\"yaxis\":\"y\",\"type\":\"scatter\"},{\"customdata\":[[37078,\"Patrick Peterson\"],[37724,\"Chris Harris\"],[38540,\"Stephon Gilmore\"],[38592,\"Casey Hayward\"],[39984,\"Darius Slay\"],[41240,\"Kyle Fuller\"],[41257,\"Bradley Roby\"],[41358,\"Dontae Johnson\"],[41483,\"Terrance Mitchell\"],[42030,\"K'Waun Williams\"],[42361,\"Marcus Peters\"],[42393,\"Ronald Darby\"],[42421,\"P.J. Williams\"],[42441,\"Steven Nelson\"],[42816,\"Troy Hill\"],[42827,\"Justin Coleman\"],[42935,\"Bryce Callahan\"],[43294,\"Jalen Ramsey\"],[43299,\"Eli Apple\"],[43313,\"William Jackson\"],[43327,\"Xavien Howard\"],[43351,\"James Bradberry\"],[43373,\"Kendall Fuller\"],[43478,\"Anthony Brown\"],[43522,\"Jalen Mills\"],[43641,\"Mike Hilton\"],[43700,\"Jonathan Jones\"],[43986,\"Antonio Hamilton\"],[44823,\"Marshon Lattimore\"],[44828,\"Marlon Humphrey\"],[44830,\"Adoree' Jackson\"],[44855,\"Sidney Jones\"],[44872,\"Chidobe Awuzie\"],[44878,\"Ahkello Witherspoon\"],[44893,\"Fabian Moreau\"],[44902,\"Shaquill Griffin\"],[44904,\"Jourdan Lewis\"],[44906,\"Cameron Sutton\"],[44911,\"Rasul Douglas\"],[44964,\"Desmond King\"],[45287,\"Kenny Moore\"],[45395,\"Arthur Maulet\"],[45571,\"Michael Davis\"],[46073,\"Denzel Ward\"],[46087,\"Jaire Alexander\"],[46099,\"Mike Hughes\"],[46114,\"Josh Jackson\"],[46124,\"Donte Jackson\"],[46127,\"Isaiah Oliver\"],[46132,\"Carlton Davis\"],[46187,\"Anthony Averett\"],[46190,\"Taron Johnson\"],[46194,\"Avonte Maddox\"],[46211,\"D.J. Reed\"],[46215,\"Tre Flowers\"],[46223,\"Siran Neal\"],[46278,\"Cornell Armstrong\"],[46312,\"Keion Crossen\"],[46329,\"Danny Johnson\"],[46354,\"Emmanuel Moseley\"],[46407,\"Chris Lammons\"],[46456,\"Darious Williams\"],[46501,\"Elijah Campbell\"],[46630,\"Jalen Davis\"],[46652,\"Chandon Sullivan\"],[46672,\"Tavierre Thomas\"],[46686,\"Grant Haley\"],[46698,\"Levi Wallace\"],[46699,\"Dee Delaney\"],[46700,\"Tre Herndon\"],[46729,\"Brandon Facyson\"],[46757,\"Charvarius Ward\"],[46775,\"J.C. Jackson\"],[46823,\"Mike Ford\"],[47816,\"Byron Murphy\"],[47817,\"Rock Ya-Sin\"],[47822,\"Sean Murphy-Bunting\"],[47823,\"Trayvon Mullen\"],[47829,\"Greedy Williams\"],[47837,\"Lonnie Johnson\"],[47862,\"David Long\"],[47866,\"Justin Layne\"],[47877,\"Jamel Dean\"],[47929,\"Amani Oruwariye\"],[47941,\"Michael Jackson\"],[47984,\"Rashad Fenton\"],[48241,\"Keisean Nixon\"],[48476,\"Nik Needham\"],[48487,\"Cameron Lewis\"],[48495,\"Tae Hayes\"],[48500,\"Saivion Smith\"],[52272,\"Dee Alford\"],[52411,\"Jeff Okudah\"],[52417,\"C.J. Henderson\"],[52424,\"A.J. Terrell\"],[52438,\"Noah Igbinoghene\"],[52458,\"Jaylon Johnson\"],[52459,\"Trevon Diggs\"],[52469,\"Kristian Fulton\"],[52497,\"Cameron Dantzler\"],[52518,\"Darnay Holmes\"],[52545,\"Josiah Scott\"],[52546,\"L'Jarius Sneed\"],[52547,\"Amik Robertson\"],[52571,\"Kindle Vildor\"],[52619,\"Isaiah Rodgers\"],[52647,\"Dane Jackson\"],[52651,\"Chris Jackson\"],[52697,\"James Pierre\"],[52764,\"Essang Bassey\"],[52904,\"Elijah Riley\"],[52945,\"Jace Whittaker\"],[52991,\"Myles Bryant\"],[53437,\"Jaycee Horn\"],[53438,\"Patrick Surtain\"],[53451,\"Caleb Farley\"],[53455,\"Greg Newsome\"],[53458,\"Eric Stokes\"],[53462,\"Tyson Campbell\"],[53473,\"Kelvin Joseph\"],[53476,\"Asante Samuel\"],[53500,\"Aaron Robinson\"],[53503,\"Benjamin St-Juste\"],[53505,\"Paulson Adebo\"],[53530,\"Ifeatu Melifonwu\"],[53531,\"Ambry Thomas\"],[53537,\"Darren Hall\"],[53552,\"Zech McPhearson\"],[53559,\"Robert Rochell\"],[53565,\"Marco Wilson\"],[53583,\"Michael Carter\"],[53589,\"Shaun Wade\"],[53595,\"Keith Taylor\"],[53596,\"Nate Hobbs\"],[53601,\"Deommodore Lenoir\"],[53629,\"Brandin Echols\"],[53642,\"Rachad Wildgoose\"],[53854,\"Nick McCloud\"],[53883,\"Dicaprio Bootle\"],[53953,\"Jerry Jacobs\"],[53957,\"A.J. Parker\"],[54468,\"Derek Stingley\"],[54469,\"Ahmad Gardner\"],[54486,\"Trent McDuffie\"],[54488,\"Kaiir Elam\"],[54500,\"Roger McCreary\"],[54504,\"Kyler Gordon\"],[54514,\"Alontae Taylor\"],[54525,\"Cam Taylor-Britt\"],[54533,\"Martin Emerson\"],[54546,\"Cordale Flott\"],[54550,\"Marcus Jones\"],[54574,\"Coby Bryant\"],[54580,\"Damarri Mathis\"],[54583,\"Akayleb Evans\"],[54584,\"Jalyn Armour-Davis\"],[54586,\"Jack Jones\"],[54600,\"Joshua Williams\"],[54606,\"Damarion Williams\"],[54607,\"Cobie Durant\"],[54618,\"Tariq Woolen\"],[54622,\"Zyon McCollum\"],[54632,\"Daron Bland\"],[54637,\"Samuel Womack\"],[54650,\"Christian Benford\"],[54677,\"Derion Kendrick\"],[54687,\"Montaric Brown\"],[54702,\"Chase Lucas\"],[54705,\"Christian Holmes\"],[54708,\"Jaylen Watson\"],[54709,\"Christian Matthew\"],[54778,\"Jaylon Jones\"],[54936,\"Kader Kohou\"],[55104,\"Sam Webb\"],[55181,\"Tre Avery\"],[55240,\"Ja'Marcus Ingram\"]],\"hovertemplate\":\"position=CB\\u003cbr\\u003etackle_factor=%{x}\\u003cbr\\u003etackle_efficiency=%{y}\\u003cbr\\u003enflId=%{customdata[0]}\\u003cbr\\u003edisplayName=%{customdata[1]}\\u003cextra\\u003e\\u003c\\u002fextra\\u003e\",\"legendgroup\":\"CB\",\"marker\":{\"color\":\"rgb(225, 124, 5)\",\"symbol\":\"circle\"},\"mode\":\"markers\",\"name\":\"CB\",\"orientation\":\"v\",\"showlegend\":true,\"x\":[1.5471354956047285,0.9069414974234615,1.6538344953016064,0.8535919975750227,1.280387996362534,0.16004849954531675,1.0136404971203394,0.05334949984843892,1.227038496514095,1.5471354956047285,1.227038496514095,0.7468929978781448,0.586844498332828,1.7071839951500454,0.9069414974234615,0.2667474992421946,1.173688996665656,1.7605334949984843,1.1203394968172173,0.8002424977265837,1.280387996362534,1.227038496514095,1.7071839951500454,1.813882994846923,1.333737496210973,1.867232494695362,1.1203394968172173,0.586844498332828,0.8535919975750227,1.6004849954531675,2.1873294937859957,0.21339799939375567,1.920581994543801,1.1203394968172173,1.5471354956047285,1.6004849954531675,1.333737496210973,1.0669899969687784,2.027280994240679,1.813882994846923,2.1873294937859957,1.4404364959078508,1.333737496210973,1.0669899969687784,1.227038496514095,1.1203394968172173,0.3734464989390724,1.6004849954531675,0.9069414974234615,1.920581994543801,0.6935434980297059,2.507426492876629,1.333737496210973,2.1339799939375568,0.6935434980297059,0.21339799939375567,1.1203394968172173,0.42679599878751134,0.21339799939375567,1.0136404971203394,0.16004849954531675,1.333737496210973,0.16004849954531675,0.05334949984843892,1.4404364959078508,0.05334949984843892,0.586844498332828,0.8002424977265837,0.42679599878751134,0.8002424977265837,0.5334949984843892,1.813882994846923,0.7468929978781448,0.48014549863595024,1.867232494695362,1.6538344953016064,0.48014549863595024,0.10669899969687784,0.2667474992421946,0.16004849954531675,0.6935434980297059,0.10669899969687784,1.867232494695362,1.6538344953016064,1.97393149439224,1.227038496514095,0.48014549863595024,1.1203394968172173,0.10669899969687784,0.16004849954531675,0.05334949984843892,0.6935434980297059,2.45407699302819,1.7071839951500454,1.4937859957562896,0.48014549863595024,0.7468929978781448,1.3870869960594119,1.7605334949984843,2.294028493482873,0.8535919975750227,0.3200969990906335,2.8808729918157017,0.6935434980297059,1.5471354956047285,0.9602909972719005,1.4937859957562896,0.05334949984843892,0.6935434980297059,0.05334949984843892,0.05334949984843892,0.42679599878751134,1.7071839951500454,1.3870869960594119,1.3870869960594119,0.5334949984843892,1.1203394968172173,1.280387996362534,2.1873294937859957,0.05334949984843892,1.4937859957562896,0.2667474992421946,1.6004849954531675,1.6004849954531675,0.05334949984843892,0.16004849954531675,0.8535919975750227,0.10669899969687784,0.05334949984843892,1.920581994543801,1.5471354956047285,0.05334949984843892,0.7468929978781448,1.97393149439224,1.333737496210973,0.16004849954531675,0.6935434980297059,0.2667474992421946,0.05334949984843892,0.2667474992421946,0.640193998181267,1.97393149439224,2.347377993331312,0.16004849954531675,1.867232494695362,2.667474992421946,2.400727493179751,0.640193998181267,0.5334949984843892,1.813882994846923,0.2667474992421946,0.21339799939375567,1.97393149439224,1.4404364959078508,0.48014549863595024,0.2667474992421946,1.280387996362534,0.6935434980297059,1.0669899969687784,0.05334949984843892,1.5471354956047285,0.5334949984843892,0.3734464989390724,0.2667474992421946,0.5334949984843892,1.333737496210973,0.10669899969687784,0.05334949984843892,0.05334949984843892,1.4937859957562896,0.10669899969687784,0.9069414974234615,1.920581994543801,0.10669899969687784,0.16004849954531675,0.16004849954531675],\"xaxis\":\"x\",\"y\":[0.9354838709677419,1.0,0.8857142857142857,0.7619047619047619,0.8571428571428571,0.75,0.7307692307692307,1.0,0.9583333333333334,0.8787878787878788,0.7931034482758621,0.8235294117647058,1.0,0.7804878048780488,0.9444444444444444,0.7142857142857143,0.8461538461538461,0.9166666666666666,0.7777777777777778,0.8823529411764706,0.8275862068965517,0.7931034482758621,0.9411764705882353,0.7906976744186046,0.8928571428571429,0.8536585365853658,0.875,0.7857142857142857,1.0,0.8823529411764706,0.8541666666666666,1.0,0.8780487804878049,0.9130434782608695,0.90625,0.8571428571428571,0.8928571428571429,0.8333333333333334,0.8444444444444444,0.8717948717948718,0.8913043478260869,0.7941176470588235,0.9259259259259259,0.8333333333333334,0.8518518518518519,0.9545454545454546,1.0,0.8108108108108109,0.7727272727272727,0.9,0.8666666666666667,0.8867924528301887,0.78125,0.8888888888888888,1.0,0.6666666666666666,0.9545454545454546,0.7272727272727273,1.0,0.7916666666666666,1.0,0.7352941176470589,1.0,1.0,0.9,0.5,0.7857142857142857,0.8823529411764706,0.7272727272727273,0.8823529411764706,0.9090909090909091,1.0,0.8235294117647058,0.9,0.9210526315789473,0.8611111111111112,0.9,0.6666666666666666,1.0,1.0,0.7647058823529411,1.0,1.0,0.8157894736842105,0.8809523809523809,0.8846153846153846,1.0,0.9545454545454546,1.0,1.0,1.0,0.8666666666666667,0.9787234042553191,0.9142857142857143,0.7777777777777778,0.9,0.8235294117647058,0.9285714285714286,0.7857142857142857,0.9347826086956522,0.8888888888888888,0.75,0.9,0.65,0.90625,1.0,0.8,1.0,0.9285714285714286,0.5,1.0,0.6666666666666666,0.9696969696969697,0.8387096774193549,0.8387096774193549,0.7692307692307693,0.875,0.8275862068965517,0.8723404255319149,1.0,0.875,1.0,0.8571428571428571,0.8108108108108109,1.0,1.0,0.9411764705882353,1.0,1.0,0.8372093023255814,0.8787878787878788,1.0,0.9333333333333333,0.9024390243902439,0.8333333333333334,1.0,0.7647058823529411,1.0,1.0,1.0,1.0,0.925,0.9166666666666666,0.75,0.8536585365853658,0.8928571428571429,0.8333333333333334,0.6666666666666666,0.9090909090909091,0.8292682926829268,0.625,0.8,0.8222222222222222,0.7941176470588235,0.9,0.7142857142857143,0.7741935483870968,0.8125,0.8695652173913043,0.5,0.90625,0.7142857142857143,0.7,1.0,0.8333333333333334,0.8928571428571429,0.6666666666666666,1.0,1.0,0.8,1.0,0.8947368421052632,0.8780487804878049,1.0,1.0,1.0],\"yaxis\":\"y\",\"type\":\"scatter\"},{\"customdata\":[[37778,\"Josh Bynes\"],[37792,\"Nick Bellore\"],[38577,\"Bobby Wagner\"],[38588,\"Lavonte David\"],[41243,\"C.J. Mosley\"],[41599,\"Joe Thomas\"],[41947,\"Christian Jones\"],[42368,\"Shaq Thompson\"],[42388,\"Eric Kendricks\"],[42391,\"Denzel Perryman\"],[42427,\"Jordan Hicks\"],[42771,\"Neville Hewitt\"],[43325,\"Myles Jack\"],[43341,\"Deion Jones\"],[43376,\"Nick Vigil\"],[43388,\"Joe Schobert\"],[43404,\"De'Vondre Campbell\"],[43420,\"Blake Martinez\"],[43497,\"Kamu Grugier-Hill\"],[43503,\"Elandon Roberts\"],[44174,\"Sam Eguavoen\"],[44866,\"Raekwon McMillan\"],[44869,\"Zach Cunningham\"],[44887,\"Duke Riley\"],[44888,\"Alex Anzalone\"],[45008,\"Tanner Vallejo\"],[45352,\"Austin Calitro\"],[45643,\"Dylan Cole\"],[46077,\"Roquan Smith\"],[46085,\"Tremaine Edmunds\"],[46091,\"Rashaan Evans\"],[46139,\"Fred Warner\"],[46142,\"Jerome Baker\"],[46175,\"Josey Jewell\"],[46188,\"Kyzir White\"],[46212,\"Ja'Whaun Bentley\"],[46269,\"Foyesade Oluokun\"],[46521,\"Ben Niemann\"],[46527,\"Frankie Luvu\"],[46674,\"Ezekiel Turner\"],[46902,\"Robert Spillane\"],[46958,\"Chris Board\"],[47788,\"Devin White\"],[47793,\"Devin Bush\"],[47826,\"Jahlani Tavai\"],[47872,\"Bobby Okereke\"],[47913,\"Drue Tranquill\"],[47931,\"Dre Greenlaw\"],[47940,\"Blake Cashman\"],[47956,\"Cole Holcomb\"],[47971,\"David Long\"],[48259,\"Darius Harris\"],[48268,\"Azeez Al-Shaair\"],[48516,\"T.J. Edwards\"],[48780,\"Troy Reeder\"],[52431,\"Kenneth Murray\"],[52435,\"Jordyn Brooks\"],[52436,\"Patrick Queen\"],[52473,\"Logan Wilson\"],[52527,\"Mykal Walker\"],[52540,\"Troy Dye\"],[52623,\"Markus Bailey\"],[52663,\"Tae Crowder\"],[52706,\"Jonas Griffith\"],[52863,\"Krys Barnes\"],[53059,\"Kristian Welch\"],[53487,\"Nick Bolton\"],[53532,\"Ernest Jones\"],[53534,\"Baron Browning\"],[53542,\"Derrick Barnes\"],[53575,\"Jamien Sherwood\"],[53649,\"Isaiah McDuffie\"],[53663,\"Patrick Johnson\"],[54487,\"Quay Walker\"],[54492,\"Devin Lloyd\"],[54523,\"Troy Andersen\"],[54531,\"Brian Asamoah\"],[54535,\"Chad Muma\"],[54540,\"Christian Harris\"],[54567,\"Channing Tindall\"],[54585,\"Brandon Smith\"],[54611,\"Micah McFadden\"],[54641,\"Damone Clark\"],[54653,\"Malcolm Rodriguez\"],[54781,\"Jack Sanborn\"],[55175,\"Nate Landman\"]],\"hovertemplate\":\"position=ILB\\u003cbr\\u003etackle_factor=%{x}\\u003cbr\\u003etackle_efficiency=%{y}\\u003cbr\\u003enflId=%{customdata[0]}\\u003cbr\\u003edisplayName=%{customdata[1]}\\u003cextra\\u003e\\u003c\\u002fextra\\u003e\",\"legendgroup\":\"ILB\",\"marker\":{\"color\":\"rgb(204, 80, 62)\",\"symbol\":\"circle\"},\"mode\":\"markers\",\"name\":\"ILB\",\"orientation\":\"v\",\"showlegend\":true,\"x\":[0.8135135135135135,0.029054054054054056,1.8304054054054055,1.7432432432432434,2.527702702702703,0.40675675675675677,0.05810810810810811,1.9175675675675676,1.8885135135135136,1.1040540540540542,2.1500000000000004,0.11621621621621622,1.946621621621622,0.2614864864864865,0.40675675675675677,0.29054054054054057,1.8304054054054055,0.5810810810810811,1.1040540540540542,1.4817567567567569,0.08716216216216217,0.43581081081081086,0.6391891891891892,0.8135135135135135,1.7722972972972975,0.37770270270270273,0.23243243243243245,0.6972972972972974,2.3824324324324326,1.8013513513513515,2.4405405405405407,1.568918918918919,1.4236486486486488,1.0168918918918919,1.539864864864865,1.4236486486486488,2.4695945945945947,0.6391891891891892,1.2783783783783784,0.08716216216216217,0.6682432432432432,0.17432432432432435,1.8304054054054055,1.2493243243243244,0.8425675675675677,2.062837837837838,1.8304054054054055,1.3945945945945948,0.08716216216216217,2.0337837837837838,1.7722972972972975,0.8716216216216217,0.29054054054054057,2.1500000000000004,0.029054054054054056,1.0750000000000002,2.4405405405405407,1.539864864864865,1.4817567567567569,1.975675675675676,0.029054054054054056,0.29054054054054057,1.045945945945946,1.1912162162162163,0.23243243243243245,0.029054054054054056,2.0047297297297297,1.568918918918919,0.29054054054054057,0.6682432432432432,0.05810810810810811,0.23243243243243245,0.05810810810810811,1.6560810810810813,1.9175675675675676,0.7844594594594595,0.029054054054054056,0.029054054054054056,0.37770270270270273,0.05810810810810811,0.0,0.37770270270270273,0.11621621621621622,1.2493243243243244,0.2614864864864865,0.029054054054054056],\"xaxis\":\"x\",\"y\":[0.9032258064516129,1.0,0.984375,0.9836065573770492,0.9157894736842105,0.7777777777777778,0.6666666666666666,0.88,0.8666666666666667,0.8444444444444444,0.9367088607594937,1.0,0.9178082191780822,0.8181818181818182,0.875,0.9090909090909091,0.875,0.9090909090909091,0.8636363636363636,0.85,1.0,0.9375,0.88,0.9333333333333333,0.9384615384615385,0.9285714285714286,1.0,0.8,0.9213483146067416,0.9253731343283582,0.9333333333333333,0.9473684210526315,0.875,0.875,0.8833333333333333,0.9607843137254902,0.8854166666666666,0.9565217391304348,0.7857142857142857,1.0,0.92,0.75,0.9130434782608695,0.9772727272727273,1.0,0.9466666666666667,0.8289473684210527,0.9230769230769231,1.0,0.9459459459459459,0.8714285714285714,0.9375,0.8333333333333334,0.9024390243902439,1.0,0.8809523809523809,0.8936170212765957,0.8548387096774194,0.9622641509433962,0.9066666666666666,1.0,0.9090909090909091,0.7659574468085106,0.8913043478260869,1.0,1.0,0.971830985915493,0.9310344827586207,1.0,0.8518518518518519,1.0,0.8888888888888888,0.6666666666666666,0.9193548387096774,0.8461538461538461,0.8181818181818182,1.0,0.5,0.6842105263157895,0.5,0.0,0.8666666666666667,1.0,0.8775510204081632,1.0,1.0],\"yaxis\":\"y\",\"type\":\"scatter\"},{\"customdata\":[[38607,\"Demario Davis\"],[42470,\"Damien Wilson\"],[42512,\"David Mayo\"],[43323,\"Jaylon Smith\"],[44974,\"Anthony Walker\"],[46105,\"Shaquille Leonard\"],[47871,\"Cody Barton\"],[48482,\"Tyrel Dodson\"],[48588,\"Jordan Kunaszyk\"],[52505,\"Jacob Phillips\"]],\"hovertemplate\":\"position=MLB\\u003cbr\\u003etackle_factor=%{x}\\u003cbr\\u003etackle_efficiency=%{y}\\u003cbr\\u003enflId=%{customdata[0]}\\u003cbr\\u003edisplayName=%{customdata[1]}\\u003cextra\\u003e\\u003c\\u002fextra\\u003e\",\"legendgroup\":\"MLB\",\"marker\":{\"color\":\"rgb(148, 52, 110)\",\"symbol\":\"circle\"},\"mode\":\"markers\",\"name\":\"MLB\",\"orientation\":\"v\",\"showlegend\":true,\"x\":[1.8454935622317596,1.1158798283261802,0.08583690987124463,1.0729613733905579,0.6008583690987124,0.4721030042918455,2.4034334763948495,0.4721030042918455,0.08583690987124463,1.8454935622317596],\"xaxis\":\"x\",\"y\":[0.8775510204081632,0.8666666666666667,1.0,0.9615384615384616,0.875,1.0,0.9491525423728814,0.9166666666666666,1.0,0.8775510204081632],\"yaxis\":\"y\",\"type\":\"scatter\"},{\"customdata\":[[52416,\"Isaiah Simmons\"]],\"hovertemplate\":\"position=DB\\u003cbr\\u003etackle_factor=%{x}\\u003cbr\\u003etackle_efficiency=%{y}\\u003cbr\\u003enflId=%{customdata[0]}\\u003cbr\\u003edisplayName=%{customdata[1]}\\u003cextra\\u003e\\u003c\\u002fextra\\u003e\",\"legendgroup\":\"DB\",\"marker\":{\"color\":\"rgb(111, 64, 112)\",\"symbol\":\"circle\"},\"mode\":\"markers\",\"name\":\"DB\",\"orientation\":\"v\",\"showlegend\":true,\"x\":[1.0],\"xaxis\":\"x\",\"y\":[0.8695652173913043],\"yaxis\":\"y\",\"type\":\"scatter\"}],                        {\"template\":{\"data\":{\"histogram2dcontour\":[{\"type\":\"histogram2dcontour\",\"colorbar\":{\"outlinewidth\":0,\"ticks\":\"\"},\"colorscale\":[[0.0,\"#0d0887\"],[0.1111111111111111,\"#46039f\"],[0.2222222222222222,\"#7201a8\"],[0.3333333333333333,\"#9c179e\"],[0.4444444444444444,\"#bd3786\"],[0.5555555555555556,\"#d8576b\"],[0.6666666666666666,\"#ed7953\"],[0.7777777777777778,\"#fb9f3a\"],[0.8888888888888888,\"#fdca26\"],[1.0,\"#f0f921\"]]}],\"choropleth\":[{\"type\":\"choropleth\",\"colorbar\":{\"outlinewidth\":0,\"ticks\":\"\"}}],\"histogram2d\":[{\"type\":\"histogram2d\",\"colorbar\":{\"outlinewidth\":0,\"ticks\":\"\"},\"colorscale\":[[0.0,\"#0d0887\"],[0.1111111111111111,\"#46039f\"],[0.2222222222222222,\"#7201a8\"],[0.3333333333333333,\"#9c179e\"],[0.4444444444444444,\"#bd3786\"],[0.5555555555555556,\"#d8576b\"],[0.6666666666666666,\"#ed7953\"],[0.7777777777777778,\"#fb9f3a\"],[0.8888888888888888,\"#fdca26\"],[1.0,\"#f0f921\"]]}],\"heatmap\":[{\"type\":\"heatmap\",\"colorbar\":{\"outlinewidth\":0,\"ticks\":\"\"},\"colorscale\":[[0.0,\"#0d0887\"],[0.1111111111111111,\"#46039f\"],[0.2222222222222222,\"#7201a8\"],[0.3333333333333333,\"#9c179e\"],[0.4444444444444444,\"#bd3786\"],[0.5555555555555556,\"#d8576b\"],[0.6666666666666666,\"#ed7953\"],[0.7777777777777778,\"#fb9f3a\"],[0.8888888888888888,\"#fdca26\"],[1.0,\"#f0f921\"]]}],\"heatmapgl\":[{\"type\":\"heatmapgl\",\"colorbar\":{\"outlinewidth\":0,\"ticks\":\"\"},\"colorscale\":[[0.0,\"#0d0887\"],[0.1111111111111111,\"#46039f\"],[0.2222222222222222,\"#7201a8\"],[0.3333333333333333,\"#9c179e\"],[0.4444444444444444,\"#bd3786\"],[0.5555555555555556,\"#d8576b\"],[0.6666666666666666,\"#ed7953\"],[0.7777777777777778,\"#fb9f3a\"],[0.8888888888888888,\"#fdca26\"],[1.0,\"#f0f921\"]]}],\"contourcarpet\":[{\"type\":\"contourcarpet\",\"colorbar\":{\"outlinewidth\":0,\"ticks\":\"\"}}],\"contour\":[{\"type\":\"contour\",\"colorbar\":{\"outlinewidth\":0,\"ticks\":\"\"},\"colorscale\":[[0.0,\"#0d0887\"],[0.1111111111111111,\"#46039f\"],[0.2222222222222222,\"#7201a8\"],[0.3333333333333333,\"#9c179e\"],[0.4444444444444444,\"#bd3786\"],[0.5555555555555556,\"#d8576b\"],[0.6666666666666666,\"#ed7953\"],[0.7777777777777778,\"#fb9f3a\"],[0.8888888888888888,\"#fdca26\"],[1.0,\"#f0f921\"]]}],\"surface\":[{\"type\":\"surface\",\"colorbar\":{\"outlinewidth\":0,\"ticks\":\"\"},\"colorscale\":[[0.0,\"#0d0887\"],[0.1111111111111111,\"#46039f\"],[0.2222222222222222,\"#7201a8\"],[0.3333333333333333,\"#9c179e\"],[0.4444444444444444,\"#bd3786\"],[0.5555555555555556,\"#d8576b\"],[0.6666666666666666,\"#ed7953\"],[0.7777777777777778,\"#fb9f3a\"],[0.8888888888888888,\"#fdca26\"],[1.0,\"#f0f921\"]]}],\"mesh3d\":[{\"type\":\"mesh3d\",\"colorbar\":{\"outlinewidth\":0,\"ticks\":\"\"}}],\"scatter\":[{\"fillpattern\":{\"fillmode\":\"overlay\",\"size\":10,\"solidity\":0.2},\"type\":\"scatter\"}],\"parcoords\":[{\"type\":\"parcoords\",\"line\":{\"colorbar\":{\"outlinewidth\":0,\"ticks\":\"\"}}}],\"scatterpolargl\":[{\"type\":\"scatterpolargl\",\"marker\":{\"colorbar\":{\"outlinewidth\":0,\"ticks\":\"\"}}}],\"bar\":[{\"error_x\":{\"color\":\"#2a3f5f\"},\"error_y\":{\"color\":\"#2a3f5f\"},\"marker\":{\"line\":{\"color\":\"#E5ECF6\",\"width\":0.5},\"pattern\":{\"fillmode\":\"overlay\",\"size\":10,\"solidity\":0.2}},\"type\":\"bar\"}],\"scattergeo\":[{\"type\":\"scattergeo\",\"marker\":{\"colorbar\":{\"outlinewidth\":0,\"ticks\":\"\"}}}],\"scatterpolar\":[{\"type\":\"scatterpolar\",\"marker\":{\"colorbar\":{\"outlinewidth\":0,\"ticks\":\"\"}}}],\"histogram\":[{\"marker\":{\"pattern\":{\"fillmode\":\"overlay\",\"size\":10,\"solidity\":0.2}},\"type\":\"histogram\"}],\"scattergl\":[{\"type\":\"scattergl\",\"marker\":{\"colorbar\":{\"outlinewidth\":0,\"ticks\":\"\"}}}],\"scatter3d\":[{\"type\":\"scatter3d\",\"line\":{\"colorbar\":{\"outlinewidth\":0,\"ticks\":\"\"}},\"marker\":{\"colorbar\":{\"outlinewidth\":0,\"ticks\":\"\"}}}],\"scattermapbox\":[{\"type\":\"scattermapbox\",\"marker\":{\"colorbar\":{\"outlinewidth\":0,\"ticks\":\"\"}}}],\"scatterternary\":[{\"type\":\"scatterternary\",\"marker\":{\"colorbar\":{\"outlinewidth\":0,\"ticks\":\"\"}}}],\"scattercarpet\":[{\"type\":\"scattercarpet\",\"marker\":{\"colorbar\":{\"outlinewidth\":0,\"ticks\":\"\"}}}],\"carpet\":[{\"aaxis\":{\"endlinecolor\":\"#2a3f5f\",\"gridcolor\":\"white\",\"linecolor\":\"white\",\"minorgridcolor\":\"white\",\"startlinecolor\":\"#2a3f5f\"},\"baxis\":{\"endlinecolor\":\"#2a3f5f\",\"gridcolor\":\"white\",\"linecolor\":\"white\",\"minorgridcolor\":\"white\",\"startlinecolor\":\"#2a3f5f\"},\"type\":\"carpet\"}],\"table\":[{\"cells\":{\"fill\":{\"color\":\"#EBF0F8\"},\"line\":{\"color\":\"white\"}},\"header\":{\"fill\":{\"color\":\"#C8D4E3\"},\"line\":{\"color\":\"white\"}},\"type\":\"table\"}],\"barpolar\":[{\"marker\":{\"line\":{\"color\":\"#E5ECF6\",\"width\":0.5},\"pattern\":{\"fillmode\":\"overlay\",\"size\":10,\"solidity\":0.2}},\"type\":\"barpolar\"}],\"pie\":[{\"automargin\":true,\"type\":\"pie\"}]},\"layout\":{\"autotypenumbers\":\"strict\",\"colorway\":[\"#636efa\",\"#EF553B\",\"#00cc96\",\"#ab63fa\",\"#FFA15A\",\"#19d3f3\",\"#FF6692\",\"#B6E880\",\"#FF97FF\",\"#FECB52\"],\"font\":{\"color\":\"#2a3f5f\"},\"hovermode\":\"closest\",\"hoverlabel\":{\"align\":\"left\"},\"paper_bgcolor\":\"white\",\"plot_bgcolor\":\"#E5ECF6\",\"polar\":{\"bgcolor\":\"#E5ECF6\",\"angularaxis\":{\"gridcolor\":\"white\",\"linecolor\":\"white\",\"ticks\":\"\"},\"radialaxis\":{\"gridcolor\":\"white\",\"linecolor\":\"white\",\"ticks\":\"\"}},\"ternary\":{\"bgcolor\":\"#E5ECF6\",\"aaxis\":{\"gridcolor\":\"white\",\"linecolor\":\"white\",\"ticks\":\"\"},\"baxis\":{\"gridcolor\":\"white\",\"linecolor\":\"white\",\"ticks\":\"\"},\"caxis\":{\"gridcolor\":\"white\",\"linecolor\":\"white\",\"ticks\":\"\"}},\"coloraxis\":{\"colorbar\":{\"outlinewidth\":0,\"ticks\":\"\"}},\"colorscale\":{\"sequential\":[[0.0,\"#0d0887\"],[0.1111111111111111,\"#46039f\"],[0.2222222222222222,\"#7201a8\"],[0.3333333333333333,\"#9c179e\"],[0.4444444444444444,\"#bd3786\"],[0.5555555555555556,\"#d8576b\"],[0.6666666666666666,\"#ed7953\"],[0.7777777777777778,\"#fb9f3a\"],[0.8888888888888888,\"#fdca26\"],[1.0,\"#f0f921\"]],\"sequentialminus\":[[0.0,\"#0d0887\"],[0.1111111111111111,\"#46039f\"],[0.2222222222222222,\"#7201a8\"],[0.3333333333333333,\"#9c179e\"],[0.4444444444444444,\"#bd3786\"],[0.5555555555555556,\"#d8576b\"],[0.6666666666666666,\"#ed7953\"],[0.7777777777777778,\"#fb9f3a\"],[0.8888888888888888,\"#fdca26\"],[1.0,\"#f0f921\"]],\"diverging\":[[0,\"#8e0152\"],[0.1,\"#c51b7d\"],[0.2,\"#de77ae\"],[0.3,\"#f1b6da\"],[0.4,\"#fde0ef\"],[0.5,\"#f7f7f7\"],[0.6,\"#e6f5d0\"],[0.7,\"#b8e186\"],[0.8,\"#7fbc41\"],[0.9,\"#4d9221\"],[1,\"#276419\"]]},\"xaxis\":{\"gridcolor\":\"white\",\"linecolor\":\"white\",\"ticks\":\"\",\"title\":{\"standoff\":15},\"zerolinecolor\":\"white\",\"automargin\":true,\"zerolinewidth\":2},\"yaxis\":{\"gridcolor\":\"white\",\"linecolor\":\"white\",\"ticks\":\"\",\"title\":{\"standoff\":15},\"zerolinecolor\":\"white\",\"automargin\":true,\"zerolinewidth\":2},\"scene\":{\"xaxis\":{\"backgroundcolor\":\"#E5ECF6\",\"gridcolor\":\"white\",\"linecolor\":\"white\",\"showbackground\":true,\"ticks\":\"\",\"zerolinecolor\":\"white\",\"gridwidth\":2},\"yaxis\":{\"backgroundcolor\":\"#E5ECF6\",\"gridcolor\":\"white\",\"linecolor\":\"white\",\"showbackground\":true,\"ticks\":\"\",\"zerolinecolor\":\"white\",\"gridwidth\":2},\"zaxis\":{\"backgroundcolor\":\"#E5ECF6\",\"gridcolor\":\"white\",\"linecolor\":\"white\",\"showbackground\":true,\"ticks\":\"\",\"zerolinecolor\":\"white\",\"gridwidth\":2}},\"shapedefaults\":{\"line\":{\"color\":\"#2a3f5f\"}},\"annotationdefaults\":{\"arrowcolor\":\"#2a3f5f\",\"arrowhead\":0,\"arrowwidth\":1},\"geo\":{\"bgcolor\":\"white\",\"landcolor\":\"#E5ECF6\",\"subunitcolor\":\"white\",\"showland\":true,\"showlakes\":true,\"lakecolor\":\"white\"},\"title\":{\"x\":0.05},\"mapbox\":{\"style\":\"light\"}}},\"xaxis\":{\"anchor\":\"y\",\"domain\":[0.0,1.0],\"title\":{\"text\":\"tackle_factor\"}},\"yaxis\":{\"anchor\":\"x\",\"domain\":[0.0,1.0],\"title\":{\"text\":\"tackle_efficiency\"}},\"legend\":{\"title\":{\"text\":\"position\"},\"tracegroupgap\":0},\"title\":{\"text\":\"Tackling Efficiency and Tackle Factor by Position\"}},                        {\"responsive\": true}                    ).then(function(){\n",
       "                            \n",
       "var gd = document.getElementById('0e05dba3-dd4b-4e4d-842f-b73978afbf9c');\n",
       "var x = new MutationObserver(function (mutations, observer) {{\n",
       "        var display = window.getComputedStyle(gd).display;\n",
       "        if (!display || display === 'none') {{\n",
       "            console.log([gd, 'removed!']);\n",
       "            Plotly.purge(gd);\n",
       "            observer.disconnect();\n",
       "        }}\n",
       "}});\n",
       "\n",
       "// Listen for the removal of the full notebook cells\n",
       "var notebookContainer = gd.closest('#notebook-container');\n",
       "if (notebookContainer) {{\n",
       "    x.observe(notebookContainer, {childList: true});\n",
       "}}\n",
       "\n",
       "// Listen for the clearing of the current output cell\n",
       "var outputEl = gd.closest('.output');\n",
       "if (outputEl) {{\n",
       "    x.observe(outputEl, {childList: true});\n",
       "}}\n",
       "\n",
       "                        })                };                });            </script>        </div>"
      ]
     },
     "metadata": {},
     "output_type": "display_data"
    }
   ],
   "source": [
    "fig = px.scatter(player_tackles,\n",
    "                 x=\"tackle_factor\", y=\"tackle_efficiency\", color='position',\n",
    "                 hover_data=['nflId',\n",
    "                            'displayName',],\n",
    "                   title='Tackling Efficiency and Tackle Factor by Position',\n",
    "                   color_discrete_sequence=px.colors.qualitative.Prism)\n",
    "fig.show()"
   ]
  },
  {
   "cell_type": "markdown",
   "id": "1f4c5364-4942-4e89-94af-e58fbfcea0ab",
   "metadata": {
    "papermill": {
     "duration": 0.007645,
     "end_time": "2023-10-23T00:24:39.715843",
     "exception": false,
     "start_time": "2023-10-23T00:24:39.708198",
     "status": "completed"
    },
    "tags": []
   },
   "source": [
    "While the `tackle factor` may not fully correlate to efficiency, it 'is' very helpful in identifying how a defensive player performs in comparison to others who occupy the same defensive position. `OLB` players who contribute to their teams tend to generate the highest values in the `tackle factor`, with players in DE and DT taking the second and third places."
   ]
  },
  {
   "cell_type": "markdown",
   "id": "ee78770e-a10c-47a4-89a7-9e158e2a2d2f",
   "metadata": {
    "papermill": {
     "duration": 0.007645,
     "end_time": "2023-10-23T00:24:39.715843",
     "exception": false,
     "start_time": "2023-10-23T00:24:39.708198",
     "status": "completed"
    },
    "tags": []
   },
   "source": [
    "### Super Bowl 58 Predictions\n",
    "\n",
    "Having spent the last two projects discussing the defensive proficiencies of those who remain ahead of the Big Game, it is time for me to make a prediction. To do this, I will first pull the average Away score for the 49ers (as they have been designated as the Road team) and then the average Home score for the Chiefs (as they have been designated as the Home team). The obvious caveat is that Super Bowls are often neutral site games, and Sunday's game in Las Vegas will not be an exception. \n",
    "\n",
    "That said, let's get the average scores.\n"
   ]
  },
  {
   "cell_type": "code",
   "execution_count": 35,
   "id": "9c41845c",
   "metadata": {
    "papermill": {
     "duration": 0.05993,
     "end_time": "2023-10-23T00:24:39.783792",
     "exception": false,
     "start_time": "2023-10-23T00:24:39.723862",
     "status": "completed"
    },
    "tags": []
   },
   "outputs": [],
   "source": [
    "agg_dict_road = {\n",
    "    \"min_away_score\": pd.NamedAgg(column='visitorFinalScore', aggfunc='min'),\n",
    "    \"max_away_score\": pd.NamedAgg(column='visitorFinalScore', aggfunc='max'),\n",
    "    \"avg_away_score\": pd.NamedAgg(column='visitorFinalScore', aggfunc=np.mean)\n",
    "}\n",
    "\n",
    "agg_data = games.groupby(\"visitorTeamAbbr\").agg(**agg_dict_road).reset_index()"
   ]
  },
  {
   "cell_type": "code",
   "execution_count": 36,
   "id": "67c706f6-aafa-4d18-ab07-595787ae5422",
   "metadata": {
    "papermill": {
     "duration": 0.008102,
     "end_time": "2023-10-23T00:24:39.800291",
     "exception": false,
     "start_time": "2023-10-23T00:24:39.792189",
     "status": "completed"
    },
    "tags": []
   },
   "outputs": [
    {
     "data": {
      "application/vnd.plotly.v1+json": {
       "config": {
        "plotlyServerURL": "https://plot.ly"
       },
       "data": [
        {
         "hovertext": "Minimal score in away games",
         "marker": {
          "color": "rgb(95, 70, 144)"
         },
         "name": "min_away_score",
         "opacity": 0.75,
         "type": "bar",
         "x": [
          "SF"
         ],
         "y": [
          10
         ]
        },
        {
         "hovertext": "Average score in away games",
         "marker": {
          "color": "rgb(29, 105, 150)"
         },
         "name": "avg_away_score",
         "opacity": 0.75,
         "type": "bar",
         "x": [
          "SF"
         ],
         "y": [
          20.4
         ]
        },
        {
         "hovertext": "Maximal score in away games",
         "marker": {
          "color": "rgb(56, 166, 165)"
         },
         "name": "max_away_score",
         "opacity": 0.75,
         "type": "bar",
         "x": [
          "SF"
         ],
         "y": [
          37
         ]
        }
       ],
       "layout": {
        "autosize": false,
        "coloraxis": {
         "colorbar": {
          "tickfont": {
           "size": 10
          }
         }
        },
        "height": 400,
        "margin": {
         "b": 0,
         "l": 5,
         "r": 5,
         "t": 30
        },
        "showlegend": true,
        "template": {
         "data": {
          "bar": [
           {
            "error_x": {
             "color": "#2a3f5f"
            },
            "error_y": {
             "color": "#2a3f5f"
            },
            "marker": {
             "line": {
              "color": "white",
              "width": 0.5
             },
             "pattern": {
              "fillmode": "overlay",
              "size": 10,
              "solidity": 0.2
             }
            },
            "type": "bar"
           }
          ],
          "barpolar": [
           {
            "marker": {
             "line": {
              "color": "white",
              "width": 0.5
             },
             "pattern": {
              "fillmode": "overlay",
              "size": 10,
              "solidity": 0.2
             }
            },
            "type": "barpolar"
           }
          ],
          "carpet": [
           {
            "aaxis": {
             "endlinecolor": "#2a3f5f",
             "gridcolor": "#C8D4E3",
             "linecolor": "#C8D4E3",
             "minorgridcolor": "#C8D4E3",
             "startlinecolor": "#2a3f5f"
            },
            "baxis": {
             "endlinecolor": "#2a3f5f",
             "gridcolor": "#C8D4E3",
             "linecolor": "#C8D4E3",
             "minorgridcolor": "#C8D4E3",
             "startlinecolor": "#2a3f5f"
            },
            "type": "carpet"
           }
          ],
          "choropleth": [
           {
            "colorbar": {
             "outlinewidth": 0,
             "ticks": ""
            },
            "type": "choropleth"
           }
          ],
          "contour": [
           {
            "colorbar": {
             "outlinewidth": 0,
             "ticks": ""
            },
            "colorscale": [
             [
              0,
              "#0d0887"
             ],
             [
              0.1111111111111111,
              "#46039f"
             ],
             [
              0.2222222222222222,
              "#7201a8"
             ],
             [
              0.3333333333333333,
              "#9c179e"
             ],
             [
              0.4444444444444444,
              "#bd3786"
             ],
             [
              0.5555555555555556,
              "#d8576b"
             ],
             [
              0.6666666666666666,
              "#ed7953"
             ],
             [
              0.7777777777777778,
              "#fb9f3a"
             ],
             [
              0.8888888888888888,
              "#fdca26"
             ],
             [
              1,
              "#f0f921"
             ]
            ],
            "type": "contour"
           }
          ],
          "contourcarpet": [
           {
            "colorbar": {
             "outlinewidth": 0,
             "ticks": ""
            },
            "type": "contourcarpet"
           }
          ],
          "heatmap": [
           {
            "colorbar": {
             "outlinewidth": 0,
             "ticks": ""
            },
            "colorscale": [
             [
              0,
              "#0d0887"
             ],
             [
              0.1111111111111111,
              "#46039f"
             ],
             [
              0.2222222222222222,
              "#7201a8"
             ],
             [
              0.3333333333333333,
              "#9c179e"
             ],
             [
              0.4444444444444444,
              "#bd3786"
             ],
             [
              0.5555555555555556,
              "#d8576b"
             ],
             [
              0.6666666666666666,
              "#ed7953"
             ],
             [
              0.7777777777777778,
              "#fb9f3a"
             ],
             [
              0.8888888888888888,
              "#fdca26"
             ],
             [
              1,
              "#f0f921"
             ]
            ],
            "type": "heatmap"
           }
          ],
          "heatmapgl": [
           {
            "colorbar": {
             "outlinewidth": 0,
             "ticks": ""
            },
            "colorscale": [
             [
              0,
              "#0d0887"
             ],
             [
              0.1111111111111111,
              "#46039f"
             ],
             [
              0.2222222222222222,
              "#7201a8"
             ],
             [
              0.3333333333333333,
              "#9c179e"
             ],
             [
              0.4444444444444444,
              "#bd3786"
             ],
             [
              0.5555555555555556,
              "#d8576b"
             ],
             [
              0.6666666666666666,
              "#ed7953"
             ],
             [
              0.7777777777777778,
              "#fb9f3a"
             ],
             [
              0.8888888888888888,
              "#fdca26"
             ],
             [
              1,
              "#f0f921"
             ]
            ],
            "type": "heatmapgl"
           }
          ],
          "histogram": [
           {
            "marker": {
             "pattern": {
              "fillmode": "overlay",
              "size": 10,
              "solidity": 0.2
             }
            },
            "type": "histogram"
           }
          ],
          "histogram2d": [
           {
            "colorbar": {
             "outlinewidth": 0,
             "ticks": ""
            },
            "colorscale": [
             [
              0,
              "#0d0887"
             ],
             [
              0.1111111111111111,
              "#46039f"
             ],
             [
              0.2222222222222222,
              "#7201a8"
             ],
             [
              0.3333333333333333,
              "#9c179e"
             ],
             [
              0.4444444444444444,
              "#bd3786"
             ],
             [
              0.5555555555555556,
              "#d8576b"
             ],
             [
              0.6666666666666666,
              "#ed7953"
             ],
             [
              0.7777777777777778,
              "#fb9f3a"
             ],
             [
              0.8888888888888888,
              "#fdca26"
             ],
             [
              1,
              "#f0f921"
             ]
            ],
            "type": "histogram2d"
           }
          ],
          "histogram2dcontour": [
           {
            "colorbar": {
             "outlinewidth": 0,
             "ticks": ""
            },
            "colorscale": [
             [
              0,
              "#0d0887"
             ],
             [
              0.1111111111111111,
              "#46039f"
             ],
             [
              0.2222222222222222,
              "#7201a8"
             ],
             [
              0.3333333333333333,
              "#9c179e"
             ],
             [
              0.4444444444444444,
              "#bd3786"
             ],
             [
              0.5555555555555556,
              "#d8576b"
             ],
             [
              0.6666666666666666,
              "#ed7953"
             ],
             [
              0.7777777777777778,
              "#fb9f3a"
             ],
             [
              0.8888888888888888,
              "#fdca26"
             ],
             [
              1,
              "#f0f921"
             ]
            ],
            "type": "histogram2dcontour"
           }
          ],
          "mesh3d": [
           {
            "colorbar": {
             "outlinewidth": 0,
             "ticks": ""
            },
            "type": "mesh3d"
           }
          ],
          "parcoords": [
           {
            "line": {
             "colorbar": {
              "outlinewidth": 0,
              "ticks": ""
             }
            },
            "type": "parcoords"
           }
          ],
          "pie": [
           {
            "automargin": true,
            "type": "pie"
           }
          ],
          "scatter": [
           {
            "fillpattern": {
             "fillmode": "overlay",
             "size": 10,
             "solidity": 0.2
            },
            "type": "scatter"
           }
          ],
          "scatter3d": [
           {
            "line": {
             "colorbar": {
              "outlinewidth": 0,
              "ticks": ""
             }
            },
            "marker": {
             "colorbar": {
              "outlinewidth": 0,
              "ticks": ""
             }
            },
            "type": "scatter3d"
           }
          ],
          "scattercarpet": [
           {
            "marker": {
             "colorbar": {
              "outlinewidth": 0,
              "ticks": ""
             }
            },
            "type": "scattercarpet"
           }
          ],
          "scattergeo": [
           {
            "marker": {
             "colorbar": {
              "outlinewidth": 0,
              "ticks": ""
             }
            },
            "type": "scattergeo"
           }
          ],
          "scattergl": [
           {
            "marker": {
             "colorbar": {
              "outlinewidth": 0,
              "ticks": ""
             }
            },
            "type": "scattergl"
           }
          ],
          "scattermapbox": [
           {
            "marker": {
             "colorbar": {
              "outlinewidth": 0,
              "ticks": ""
             }
            },
            "type": "scattermapbox"
           }
          ],
          "scatterpolar": [
           {
            "marker": {
             "colorbar": {
              "outlinewidth": 0,
              "ticks": ""
             }
            },
            "type": "scatterpolar"
           }
          ],
          "scatterpolargl": [
           {
            "marker": {
             "colorbar": {
              "outlinewidth": 0,
              "ticks": ""
             }
            },
            "type": "scatterpolargl"
           }
          ],
          "scatterternary": [
           {
            "marker": {
             "colorbar": {
              "outlinewidth": 0,
              "ticks": ""
             }
            },
            "type": "scatterternary"
           }
          ],
          "surface": [
           {
            "colorbar": {
             "outlinewidth": 0,
             "ticks": ""
            },
            "colorscale": [
             [
              0,
              "#0d0887"
             ],
             [
              0.1111111111111111,
              "#46039f"
             ],
             [
              0.2222222222222222,
              "#7201a8"
             ],
             [
              0.3333333333333333,
              "#9c179e"
             ],
             [
              0.4444444444444444,
              "#bd3786"
             ],
             [
              0.5555555555555556,
              "#d8576b"
             ],
             [
              0.6666666666666666,
              "#ed7953"
             ],
             [
              0.7777777777777778,
              "#fb9f3a"
             ],
             [
              0.8888888888888888,
              "#fdca26"
             ],
             [
              1,
              "#f0f921"
             ]
            ],
            "type": "surface"
           }
          ],
          "table": [
           {
            "cells": {
             "fill": {
              "color": "#EBF0F8"
             },
             "line": {
              "color": "white"
             }
            },
            "header": {
             "fill": {
              "color": "#C8D4E3"
             },
             "line": {
              "color": "white"
             }
            },
            "type": "table"
           }
          ]
         },
         "layout": {
          "annotationdefaults": {
           "arrowcolor": "#2a3f5f",
           "arrowhead": 0,
           "arrowwidth": 1
          },
          "autotypenumbers": "strict",
          "coloraxis": {
           "colorbar": {
            "outlinewidth": 0,
            "ticks": ""
           }
          },
          "colorscale": {
           "diverging": [
            [
             0,
             "#8e0152"
            ],
            [
             0.1,
             "#c51b7d"
            ],
            [
             0.2,
             "#de77ae"
            ],
            [
             0.3,
             "#f1b6da"
            ],
            [
             0.4,
             "#fde0ef"
            ],
            [
             0.5,
             "#f7f7f7"
            ],
            [
             0.6,
             "#e6f5d0"
            ],
            [
             0.7,
             "#b8e186"
            ],
            [
             0.8,
             "#7fbc41"
            ],
            [
             0.9,
             "#4d9221"
            ],
            [
             1,
             "#276419"
            ]
           ],
           "sequential": [
            [
             0,
             "#0d0887"
            ],
            [
             0.1111111111111111,
             "#46039f"
            ],
            [
             0.2222222222222222,
             "#7201a8"
            ],
            [
             0.3333333333333333,
             "#9c179e"
            ],
            [
             0.4444444444444444,
             "#bd3786"
            ],
            [
             0.5555555555555556,
             "#d8576b"
            ],
            [
             0.6666666666666666,
             "#ed7953"
            ],
            [
             0.7777777777777778,
             "#fb9f3a"
            ],
            [
             0.8888888888888888,
             "#fdca26"
            ],
            [
             1,
             "#f0f921"
            ]
           ],
           "sequentialminus": [
            [
             0,
             "#0d0887"
            ],
            [
             0.1111111111111111,
             "#46039f"
            ],
            [
             0.2222222222222222,
             "#7201a8"
            ],
            [
             0.3333333333333333,
             "#9c179e"
            ],
            [
             0.4444444444444444,
             "#bd3786"
            ],
            [
             0.5555555555555556,
             "#d8576b"
            ],
            [
             0.6666666666666666,
             "#ed7953"
            ],
            [
             0.7777777777777778,
             "#fb9f3a"
            ],
            [
             0.8888888888888888,
             "#fdca26"
            ],
            [
             1,
             "#f0f921"
            ]
           ]
          },
          "colorway": [
           "#636efa",
           "#EF553B",
           "#00cc96",
           "#ab63fa",
           "#FFA15A",
           "#19d3f3",
           "#FF6692",
           "#B6E880",
           "#FF97FF",
           "#FECB52"
          ],
          "font": {
           "color": "#2a3f5f"
          },
          "geo": {
           "bgcolor": "white",
           "lakecolor": "white",
           "landcolor": "white",
           "showlakes": true,
           "showland": true,
           "subunitcolor": "#C8D4E3"
          },
          "hoverlabel": {
           "align": "left"
          },
          "hovermode": "closest",
          "mapbox": {
           "style": "light"
          },
          "paper_bgcolor": "white",
          "plot_bgcolor": "white",
          "polar": {
           "angularaxis": {
            "gridcolor": "#EBF0F8",
            "linecolor": "#EBF0F8",
            "ticks": ""
           },
           "bgcolor": "white",
           "radialaxis": {
            "gridcolor": "#EBF0F8",
            "linecolor": "#EBF0F8",
            "ticks": ""
           }
          },
          "scene": {
           "xaxis": {
            "backgroundcolor": "white",
            "gridcolor": "#DFE8F3",
            "gridwidth": 2,
            "linecolor": "#EBF0F8",
            "showbackground": true,
            "ticks": "",
            "zerolinecolor": "#EBF0F8"
           },
           "yaxis": {
            "backgroundcolor": "white",
            "gridcolor": "#DFE8F3",
            "gridwidth": 2,
            "linecolor": "#EBF0F8",
            "showbackground": true,
            "ticks": "",
            "zerolinecolor": "#EBF0F8"
           },
           "zaxis": {
            "backgroundcolor": "white",
            "gridcolor": "#DFE8F3",
            "gridwidth": 2,
            "linecolor": "#EBF0F8",
            "showbackground": true,
            "ticks": "",
            "zerolinecolor": "#EBF0F8"
           }
          },
          "shapedefaults": {
           "line": {
            "color": "#2a3f5f"
           }
          },
          "ternary": {
           "aaxis": {
            "gridcolor": "#DFE8F3",
            "linecolor": "#A2B1C6",
            "ticks": ""
           },
           "baxis": {
            "gridcolor": "#DFE8F3",
            "linecolor": "#A2B1C6",
            "ticks": ""
           },
           "bgcolor": "white",
           "caxis": {
            "gridcolor": "#DFE8F3",
            "linecolor": "#A2B1C6",
            "ticks": ""
           }
          },
          "title": {
           "x": 0.05
          },
          "xaxis": {
           "automargin": true,
           "gridcolor": "#EBF0F8",
           "linecolor": "#EBF0F8",
           "ticks": "",
           "title": {
            "standoff": 15
           },
           "zerolinecolor": "#EBF0F8",
           "zerolinewidth": 2
          },
          "yaxis": {
           "automargin": true,
           "gridcolor": "#EBF0F8",
           "linecolor": "#EBF0F8",
           "ticks": "",
           "title": {
            "standoff": 15
           },
           "zerolinecolor": "#EBF0F8",
           "zerolinewidth": 2
          }
         }
        },
        "title": {
         "font": {
          "size": 20
         },
         "text": "Scores in Away Games by the 49ers",
         "yref": "paper"
        },
        "width": 800,
        "xaxis": {
         "autorange": true,
         "range": [
          -0.5,
          0.5
         ],
         "type": "category"
        },
        "yaxis": {
         "autorange": true,
         "range": [
          0,
          38.94736842105263
         ],
         "title": {
          "text": "Scores"
         },
         "type": "linear"
        }
       }
      },
      "image/png": "[encoded data removed]",
      "text/html": [
       "<div>                            <div id=\"d34b57c5-fb4a-41e2-aab8-29fb5ae6ce9b\" class=\"plotly-graph-div\" style=\"height:400px; width:800px;\"></div>            <script type=\"text/javascript\">                require([\"plotly\"], function(Plotly) {                    window.PLOTLYENV=window.PLOTLYENV || {};                                    if (document.getElementById(\"d34b57c5-fb4a-41e2-aab8-29fb5ae6ce9b\")) {                    Plotly.newPlot(                        \"d34b57c5-fb4a-41e2-aab8-29fb5ae6ce9b\",                        [{\"hovertext\":\"Minimal score in away games\",\"marker\":{\"color\":\"rgb(95, 70, 144)\"},\"name\":\"min_away_score\",\"x\":[\"SF\"],\"y\":[10],\"type\":\"bar\",\"opacity\":0.75},{\"hovertext\":\"Average score in away games\",\"marker\":{\"color\":\"rgb(29, 105, 150)\"},\"name\":\"avg_away_score\",\"x\":[\"SF\"],\"y\":[20.4],\"type\":\"bar\",\"opacity\":0.75},{\"hovertext\":\"Maximal score in away games\",\"marker\":{\"color\":\"rgb(56, 166, 165)\"},\"name\":\"max_away_score\",\"x\":[\"SF\"],\"y\":[37],\"type\":\"bar\",\"opacity\":0.75}],                        {\"template\":{\"data\":{\"barpolar\":[{\"marker\":{\"line\":{\"color\":\"white\",\"width\":0.5},\"pattern\":{\"fillmode\":\"overlay\",\"size\":10,\"solidity\":0.2}},\"type\":\"barpolar\"}],\"bar\":[{\"error_x\":{\"color\":\"#2a3f5f\"},\"error_y\":{\"color\":\"#2a3f5f\"},\"marker\":{\"line\":{\"color\":\"white\",\"width\":0.5},\"pattern\":{\"fillmode\":\"overlay\",\"size\":10,\"solidity\":0.2}},\"type\":\"bar\"}],\"carpet\":[{\"aaxis\":{\"endlinecolor\":\"#2a3f5f\",\"gridcolor\":\"#C8D4E3\",\"linecolor\":\"#C8D4E3\",\"minorgridcolor\":\"#C8D4E3\",\"startlinecolor\":\"#2a3f5f\"},\"baxis\":{\"endlinecolor\":\"#2a3f5f\",\"gridcolor\":\"#C8D4E3\",\"linecolor\":\"#C8D4E3\",\"minorgridcolor\":\"#C8D4E3\",\"startlinecolor\":\"#2a3f5f\"},\"type\":\"carpet\"}],\"choropleth\":[{\"colorbar\":{\"outlinewidth\":0,\"ticks\":\"\"},\"type\":\"choropleth\"}],\"contourcarpet\":[{\"colorbar\":{\"outlinewidth\":0,\"ticks\":\"\"},\"type\":\"contourcarpet\"}],\"contour\":[{\"colorbar\":{\"outlinewidth\":0,\"ticks\":\"\"},\"colorscale\":[[0.0,\"#0d0887\"],[0.1111111111111111,\"#46039f\"],[0.2222222222222222,\"#7201a8\"],[0.3333333333333333,\"#9c179e\"],[0.4444444444444444,\"#bd3786\"],[0.5555555555555556,\"#d8576b\"],[0.6666666666666666,\"#ed7953\"],[0.7777777777777778,\"#fb9f3a\"],[0.8888888888888888,\"#fdca26\"],[1.0,\"#f0f921\"]],\"type\":\"contour\"}],\"heatmapgl\":[{\"colorbar\":{\"outlinewidth\":0,\"ticks\":\"\"},\"colorscale\":[[0.0,\"#0d0887\"],[0.1111111111111111,\"#46039f\"],[0.2222222222222222,\"#7201a8\"],[0.3333333333333333,\"#9c179e\"],[0.4444444444444444,\"#bd3786\"],[0.5555555555555556,\"#d8576b\"],[0.6666666666666666,\"#ed7953\"],[0.7777777777777778,\"#fb9f3a\"],[0.8888888888888888,\"#fdca26\"],[1.0,\"#f0f921\"]],\"type\":\"heatmapgl\"}],\"heatmap\":[{\"colorbar\":{\"outlinewidth\":0,\"ticks\":\"\"},\"colorscale\":[[0.0,\"#0d0887\"],[0.1111111111111111,\"#46039f\"],[0.2222222222222222,\"#7201a8\"],[0.3333333333333333,\"#9c179e\"],[0.4444444444444444,\"#bd3786\"],[0.5555555555555556,\"#d8576b\"],[0.6666666666666666,\"#ed7953\"],[0.7777777777777778,\"#fb9f3a\"],[0.8888888888888888,\"#fdca26\"],[1.0,\"#f0f921\"]],\"type\":\"heatmap\"}],\"histogram2dcontour\":[{\"colorbar\":{\"outlinewidth\":0,\"ticks\":\"\"},\"colorscale\":[[0.0,\"#0d0887\"],[0.1111111111111111,\"#46039f\"],[0.2222222222222222,\"#7201a8\"],[0.3333333333333333,\"#9c179e\"],[0.4444444444444444,\"#bd3786\"],[0.5555555555555556,\"#d8576b\"],[0.6666666666666666,\"#ed7953\"],[0.7777777777777778,\"#fb9f3a\"],[0.8888888888888888,\"#fdca26\"],[1.0,\"#f0f921\"]],\"type\":\"histogram2dcontour\"}],\"histogram2d\":[{\"colorbar\":{\"outlinewidth\":0,\"ticks\":\"\"},\"colorscale\":[[0.0,\"#0d0887\"],[0.1111111111111111,\"#46039f\"],[0.2222222222222222,\"#7201a8\"],[0.3333333333333333,\"#9c179e\"],[0.4444444444444444,\"#bd3786\"],[0.5555555555555556,\"#d8576b\"],[0.6666666666666666,\"#ed7953\"],[0.7777777777777778,\"#fb9f3a\"],[0.8888888888888888,\"#fdca26\"],[1.0,\"#f0f921\"]],\"type\":\"histogram2d\"}],\"histogram\":[{\"marker\":{\"pattern\":{\"fillmode\":\"overlay\",\"size\":10,\"solidity\":0.2}},\"type\":\"histogram\"}],\"mesh3d\":[{\"colorbar\":{\"outlinewidth\":0,\"ticks\":\"\"},\"type\":\"mesh3d\"}],\"parcoords\":[{\"line\":{\"colorbar\":{\"outlinewidth\":0,\"ticks\":\"\"}},\"type\":\"parcoords\"}],\"pie\":[{\"automargin\":true,\"type\":\"pie\"}],\"scatter3d\":[{\"line\":{\"colorbar\":{\"outlinewidth\":0,\"ticks\":\"\"}},\"marker\":{\"colorbar\":{\"outlinewidth\":0,\"ticks\":\"\"}},\"type\":\"scatter3d\"}],\"scattercarpet\":[{\"marker\":{\"colorbar\":{\"outlinewidth\":0,\"ticks\":\"\"}},\"type\":\"scattercarpet\"}],\"scattergeo\":[{\"marker\":{\"colorbar\":{\"outlinewidth\":0,\"ticks\":\"\"}},\"type\":\"scattergeo\"}],\"scattergl\":[{\"marker\":{\"colorbar\":{\"outlinewidth\":0,\"ticks\":\"\"}},\"type\":\"scattergl\"}],\"scattermapbox\":[{\"marker\":{\"colorbar\":{\"outlinewidth\":0,\"ticks\":\"\"}},\"type\":\"scattermapbox\"}],\"scatterpolargl\":[{\"marker\":{\"colorbar\":{\"outlinewidth\":0,\"ticks\":\"\"}},\"type\":\"scatterpolargl\"}],\"scatterpolar\":[{\"marker\":{\"colorbar\":{\"outlinewidth\":0,\"ticks\":\"\"}},\"type\":\"scatterpolar\"}],\"scatter\":[{\"fillpattern\":{\"fillmode\":\"overlay\",\"size\":10,\"solidity\":0.2},\"type\":\"scatter\"}],\"scatterternary\":[{\"marker\":{\"colorbar\":{\"outlinewidth\":0,\"ticks\":\"\"}},\"type\":\"scatterternary\"}],\"surface\":[{\"colorbar\":{\"outlinewidth\":0,\"ticks\":\"\"},\"colorscale\":[[0.0,\"#0d0887\"],[0.1111111111111111,\"#46039f\"],[0.2222222222222222,\"#7201a8\"],[0.3333333333333333,\"#9c179e\"],[0.4444444444444444,\"#bd3786\"],[0.5555555555555556,\"#d8576b\"],[0.6666666666666666,\"#ed7953\"],[0.7777777777777778,\"#fb9f3a\"],[0.8888888888888888,\"#fdca26\"],[1.0,\"#f0f921\"]],\"type\":\"surface\"}],\"table\":[{\"cells\":{\"fill\":{\"color\":\"#EBF0F8\"},\"line\":{\"color\":\"white\"}},\"header\":{\"fill\":{\"color\":\"#C8D4E3\"},\"line\":{\"color\":\"white\"}},\"type\":\"table\"}]},\"layout\":{\"annotationdefaults\":{\"arrowcolor\":\"#2a3f5f\",\"arrowhead\":0,\"arrowwidth\":1},\"autotypenumbers\":\"strict\",\"coloraxis\":{\"colorbar\":{\"outlinewidth\":0,\"ticks\":\"\"}},\"colorscale\":{\"diverging\":[[0,\"#8e0152\"],[0.1,\"#c51b7d\"],[0.2,\"#de77ae\"],[0.3,\"#f1b6da\"],[0.4,\"#fde0ef\"],[0.5,\"#f7f7f7\"],[0.6,\"#e6f5d0\"],[0.7,\"#b8e186\"],[0.8,\"#7fbc41\"],[0.9,\"#4d9221\"],[1,\"#276419\"]],\"sequential\":[[0.0,\"#0d0887\"],[0.1111111111111111,\"#46039f\"],[0.2222222222222222,\"#7201a8\"],[0.3333333333333333,\"#9c179e\"],[0.4444444444444444,\"#bd3786\"],[0.5555555555555556,\"#d8576b\"],[0.6666666666666666,\"#ed7953\"],[0.7777777777777778,\"#fb9f3a\"],[0.8888888888888888,\"#fdca26\"],[1.0,\"#f0f921\"]],\"sequentialminus\":[[0.0,\"#0d0887\"],[0.1111111111111111,\"#46039f\"],[0.2222222222222222,\"#7201a8\"],[0.3333333333333333,\"#9c179e\"],[0.4444444444444444,\"#bd3786\"],[0.5555555555555556,\"#d8576b\"],[0.6666666666666666,\"#ed7953\"],[0.7777777777777778,\"#fb9f3a\"],[0.8888888888888888,\"#fdca26\"],[1.0,\"#f0f921\"]]},\"colorway\":[\"#636efa\",\"#EF553B\",\"#00cc96\",\"#ab63fa\",\"#FFA15A\",\"#19d3f3\",\"#FF6692\",\"#B6E880\",\"#FF97FF\",\"#FECB52\"],\"font\":{\"color\":\"#2a3f5f\"},\"geo\":{\"bgcolor\":\"white\",\"lakecolor\":\"white\",\"landcolor\":\"white\",\"showlakes\":true,\"showland\":true,\"subunitcolor\":\"#C8D4E3\"},\"hoverlabel\":{\"align\":\"left\"},\"hovermode\":\"closest\",\"mapbox\":{\"style\":\"light\"},\"paper_bgcolor\":\"white\",\"plot_bgcolor\":\"white\",\"polar\":{\"angularaxis\":{\"gridcolor\":\"#EBF0F8\",\"linecolor\":\"#EBF0F8\",\"ticks\":\"\"},\"bgcolor\":\"white\",\"radialaxis\":{\"gridcolor\":\"#EBF0F8\",\"linecolor\":\"#EBF0F8\",\"ticks\":\"\"}},\"scene\":{\"xaxis\":{\"backgroundcolor\":\"white\",\"gridcolor\":\"#DFE8F3\",\"gridwidth\":2,\"linecolor\":\"#EBF0F8\",\"showbackground\":true,\"ticks\":\"\",\"zerolinecolor\":\"#EBF0F8\"},\"yaxis\":{\"backgroundcolor\":\"white\",\"gridcolor\":\"#DFE8F3\",\"gridwidth\":2,\"linecolor\":\"#EBF0F8\",\"showbackground\":true,\"ticks\":\"\",\"zerolinecolor\":\"#EBF0F8\"},\"zaxis\":{\"backgroundcolor\":\"white\",\"gridcolor\":\"#DFE8F3\",\"gridwidth\":2,\"linecolor\":\"#EBF0F8\",\"showbackground\":true,\"ticks\":\"\",\"zerolinecolor\":\"#EBF0F8\"}},\"shapedefaults\":{\"line\":{\"color\":\"#2a3f5f\"}},\"ternary\":{\"aaxis\":{\"gridcolor\":\"#DFE8F3\",\"linecolor\":\"#A2B1C6\",\"ticks\":\"\"},\"baxis\":{\"gridcolor\":\"#DFE8F3\",\"linecolor\":\"#A2B1C6\",\"ticks\":\"\"},\"bgcolor\":\"white\",\"caxis\":{\"gridcolor\":\"#DFE8F3\",\"linecolor\":\"#A2B1C6\",\"ticks\":\"\"}},\"title\":{\"x\":0.05},\"xaxis\":{\"automargin\":true,\"gridcolor\":\"#EBF0F8\",\"linecolor\":\"#EBF0F8\",\"ticks\":\"\",\"title\":{\"standoff\":15},\"zerolinecolor\":\"#EBF0F8\",\"zerolinewidth\":2},\"yaxis\":{\"automargin\":true,\"gridcolor\":\"#EBF0F8\",\"linecolor\":\"#EBF0F8\",\"ticks\":\"\",\"title\":{\"standoff\":15},\"zerolinecolor\":\"#EBF0F8\",\"zerolinewidth\":2}}},\"margin\":{\"t\":30,\"b\":0,\"l\":5,\"r\":5},\"title\":{\"font\":{\"size\":20},\"text\":\"Scores in Away Games by the 49ers\",\"yref\":\"paper\"},\"showlegend\":true,\"width\":800,\"height\":400,\"autosize\":false,\"yaxis\":{\"title\":{\"text\":\"Scores\"}},\"coloraxis\":{\"colorbar\":{\"tickfont\":{\"size\":10}}}},                        {\"responsive\": true}                    ).then(function(){\n",
       "                            \n",
       "var gd = document.getElementById('d34b57c5-fb4a-41e2-aab8-29fb5ae6ce9b');\n",
       "var x = new MutationObserver(function (mutations, observer) {{\n",
       "        var display = window.getComputedStyle(gd).display;\n",
       "        if (!display || display === 'none') {{\n",
       "            console.log([gd, 'removed!']);\n",
       "            Plotly.purge(gd);\n",
       "            observer.disconnect();\n",
       "        }}\n",
       "}});\n",
       "\n",
       "// Listen for the removal of the full notebook cells\n",
       "var notebookContainer = gd.closest('#notebook-container');\n",
       "if (notebookContainer) {{\n",
       "    x.observe(notebookContainer, {childList: true});\n",
       "}}\n",
       "\n",
       "// Listen for the clearing of the current output cell\n",
       "var outputEl = gd.closest('.output');\n",
       "if (outputEl) {{\n",
       "    x.observe(outputEl, {childList: true});\n",
       "}}\n",
       "\n",
       "                        })                };                });            </script>        </div>"
      ]
     },
     "metadata": {},
     "output_type": "display_data"
    }
   ],
   "source": [
    "# Filter agg_data for the 49ers as the visitor team\n",
    "sf_agg_data = agg_data[agg_data['visitorTeamAbbr'] == 'SF']\n",
    "\n",
    "# Initialize the figure\n",
    "fig = go.Figure()\n",
    "\n",
    "# Add bars for the min, avg, and max away scores for the 49ers\n",
    "fig.add_bar(x=sf_agg_data['visitorTeamAbbr'], y=sf_agg_data['min_away_score'], \n",
    "            hovertext=\"Minimal score in away games\", name=\"min_away_score\", \n",
    "            marker_color=px.colors.qualitative.Prism[0])  # Example color\n",
    "\n",
    "fig.add_bar(x=sf_agg_data['visitorTeamAbbr'], y=sf_agg_data['avg_away_score'], \n",
    "            hovertext=\"Average score in away games\", name=\"avg_away_score\", \n",
    "            marker_color=px.colors.qualitative.Prism[1])  # Example color\n",
    "\n",
    "fig.add_bar(x=sf_agg_data['visitorTeamAbbr'], y=sf_agg_data['max_away_score'], \n",
    "            hovertext=\"Maximal score in away games\", name=\"max_away_score\", \n",
    "            marker_color=px.colors.qualitative.Prism[2])  # Example color\n",
    "\n",
    "# Update visual layout\n",
    "fig.update_layout(\n",
    "    showlegend=True,\n",
    "    width=800,\n",
    "    height=400,\n",
    "    autosize=False,\n",
    "    margin=dict(t=30, b=0, l=5, r=5),\n",
    "    template=\"plotly_white\",\n",
    "    yaxis_title=\"Scores\",\n",
    "    title=dict(text='Scores in Away Games by the 49ers', font=dict(size=20), yref='paper')\n",
    ")\n",
    "\n",
    "# Update font size at the axes and annotations, and reduce opacity of traces\n",
    "fig.update_coloraxes(colorbar_tickfont_size=10)\n",
    "fig.update_annotations(font_size=12)\n",
    "fig.update_traces(opacity=0.75)\n",
    "\n",
    "# Display the figure\n",
    "fig.show()"
   ]
  },
  {
   "cell_type": "markdown",
   "id": "6ffd8098-94f3-4eed-82ca-438670d09232",
   "metadata": {
    "papermill": {
     "duration": 0.008102,
     "end_time": "2023-10-23T00:24:39.800291",
     "exception": false,
     "start_time": "2023-10-23T00:24:39.792189",
     "status": "completed"
    },
    "tags": []
   },
   "source": [
    "On average, the 49ers scored `20` points. While they have had games where they scored as many as 37, they had games where they scored as little as 10 points. As seen in their games leading to Super Bowl 58, the level of success San Francisco will have will heavily depend on the performance of offensive stars such as Brock Purdy, Christian McCaffrey, George Kittle, Brandon Aiyuk, and more. \n",
    "\n",
    "Let's now look into the Chiefs' average home scores."
   ]
  },
  {
   "cell_type": "code",
   "execution_count": 37,
   "id": "800687f8-2fa3-434b-990e-77fdbafffb9f",
   "metadata": {
    "papermill": {
     "duration": 0.008102,
     "end_time": "2023-10-23T00:24:39.800291",
     "exception": false,
     "start_time": "2023-10-23T00:24:39.792189",
     "status": "completed"
    },
    "tags": []
   },
   "outputs": [],
   "source": [
    "agg_dict_home = {\n",
    "    \"min_home_score\": pd.NamedAgg(column='homeFinalScore', aggfunc='min'),\n",
    "    \"max_home_score\": pd.NamedAgg(column='homeFinalScore', aggfunc='max'),\n",
    "    \"avg_home_score\": pd.NamedAgg(column='homeFinalScore', aggfunc=np.mean),\n",
    "\n",
    "}\n",
    "\n",
    "agg_data = games.groupby(\"homeTeamAbbr\").agg(**agg_dict_home).reset_index()"
   ]
  },
  {
   "cell_type": "code",
   "execution_count": 38,
   "id": "01ffe510-6ddb-4e1f-b6e8-095e2758c85c",
   "metadata": {
    "papermill": {
     "duration": 0.008102,
     "end_time": "2023-10-23T00:24:39.800291",
     "exception": false,
     "start_time": "2023-10-23T00:24:39.792189",
     "status": "completed"
    },
    "tags": []
   },
   "outputs": [
    {
     "data": {
      "application/vnd.plotly.v1+json": {
       "config": {
        "plotlyServerURL": "https://plot.ly"
       },
       "data": [
        {
         "hovertext": "Minimal score in home games",
         "marker": {
          "color": "rgb(95, 70, 144)"
         },
         "name": "min_home_score",
         "opacity": 0.75,
         "type": "bar",
         "x": [
          "KC"
         ],
         "y": [
          20
         ]
        },
        {
         "hovertext": "Average score in home games",
         "marker": {
          "color": "rgb(29, 105, 150)"
         },
         "name": "avg_home_score",
         "opacity": 0.75,
         "type": "bar",
         "x": [
          "KC"
         ],
         "y": [
          24.25
         ]
        },
        {
         "hovertext": "Maximal score in home games",
         "marker": {
          "color": "rgb(56, 166, 165)"
         },
         "name": "max_home_score",
         "opacity": 0.75,
         "type": "bar",
         "x": [
          "KC"
         ],
         "y": [
          30
         ]
        }
       ],
       "layout": {
        "autosize": false,
        "coloraxis": {
         "colorbar": {
          "tickfont": {
           "size": 10
          }
         }
        },
        "height": 400,
        "margin": {
         "b": 0,
         "l": 5,
         "r": 5,
         "t": 30
        },
        "showlegend": true,
        "template": {
         "data": {
          "bar": [
           {
            "error_x": {
             "color": "#2a3f5f"
            },
            "error_y": {
             "color": "#2a3f5f"
            },
            "marker": {
             "line": {
              "color": "white",
              "width": 0.5
             },
             "pattern": {
              "fillmode": "overlay",
              "size": 10,
              "solidity": 0.2
             }
            },
            "type": "bar"
           }
          ],
          "barpolar": [
           {
            "marker": {
             "line": {
              "color": "white",
              "width": 0.5
             },
             "pattern": {
              "fillmode": "overlay",
              "size": 10,
              "solidity": 0.2
             }
            },
            "type": "barpolar"
           }
          ],
          "carpet": [
           {
            "aaxis": {
             "endlinecolor": "#2a3f5f",
             "gridcolor": "#C8D4E3",
             "linecolor": "#C8D4E3",
             "minorgridcolor": "#C8D4E3",
             "startlinecolor": "#2a3f5f"
            },
            "baxis": {
             "endlinecolor": "#2a3f5f",
             "gridcolor": "#C8D4E3",
             "linecolor": "#C8D4E3",
             "minorgridcolor": "#C8D4E3",
             "startlinecolor": "#2a3f5f"
            },
            "type": "carpet"
           }
          ],
          "choropleth": [
           {
            "colorbar": {
             "outlinewidth": 0,
             "ticks": ""
            },
            "type": "choropleth"
           }
          ],
          "contour": [
           {
            "colorbar": {
             "outlinewidth": 0,
             "ticks": ""
            },
            "colorscale": [
             [
              0,
              "#0d0887"
             ],
             [
              0.1111111111111111,
              "#46039f"
             ],
             [
              0.2222222222222222,
              "#7201a8"
             ],
             [
              0.3333333333333333,
              "#9c179e"
             ],
             [
              0.4444444444444444,
              "#bd3786"
             ],
             [
              0.5555555555555556,
              "#d8576b"
             ],
             [
              0.6666666666666666,
              "#ed7953"
             ],
             [
              0.7777777777777778,
              "#fb9f3a"
             ],
             [
              0.8888888888888888,
              "#fdca26"
             ],
             [
              1,
              "#f0f921"
             ]
            ],
            "type": "contour"
           }
          ],
          "contourcarpet": [
           {
            "colorbar": {
             "outlinewidth": 0,
             "ticks": ""
            },
            "type": "contourcarpet"
           }
          ],
          "heatmap": [
           {
            "colorbar": {
             "outlinewidth": 0,
             "ticks": ""
            },
            "colorscale": [
             [
              0,
              "#0d0887"
             ],
             [
              0.1111111111111111,
              "#46039f"
             ],
             [
              0.2222222222222222,
              "#7201a8"
             ],
             [
              0.3333333333333333,
              "#9c179e"
             ],
             [
              0.4444444444444444,
              "#bd3786"
             ],
             [
              0.5555555555555556,
              "#d8576b"
             ],
             [
              0.6666666666666666,
              "#ed7953"
             ],
             [
              0.7777777777777778,
              "#fb9f3a"
             ],
             [
              0.8888888888888888,
              "#fdca26"
             ],
             [
              1,
              "#f0f921"
             ]
            ],
            "type": "heatmap"
           }
          ],
          "heatmapgl": [
           {
            "colorbar": {
             "outlinewidth": 0,
             "ticks": ""
            },
            "colorscale": [
             [
              0,
              "#0d0887"
             ],
             [
              0.1111111111111111,
              "#46039f"
             ],
             [
              0.2222222222222222,
              "#7201a8"
             ],
             [
              0.3333333333333333,
              "#9c179e"
             ],
             [
              0.4444444444444444,
              "#bd3786"
             ],
             [
              0.5555555555555556,
              "#d8576b"
             ],
             [
              0.6666666666666666,
              "#ed7953"
             ],
             [
              0.7777777777777778,
              "#fb9f3a"
             ],
             [
              0.8888888888888888,
              "#fdca26"
             ],
             [
              1,
              "#f0f921"
             ]
            ],
            "type": "heatmapgl"
           }
          ],
          "histogram": [
           {
            "marker": {
             "pattern": {
              "fillmode": "overlay",
              "size": 10,
              "solidity": 0.2
             }
            },
            "type": "histogram"
           }
          ],
          "histogram2d": [
           {
            "colorbar": {
             "outlinewidth": 0,
             "ticks": ""
            },
            "colorscale": [
             [
              0,
              "#0d0887"
             ],
             [
              0.1111111111111111,
              "#46039f"
             ],
             [
              0.2222222222222222,
              "#7201a8"
             ],
             [
              0.3333333333333333,
              "#9c179e"
             ],
             [
              0.4444444444444444,
              "#bd3786"
             ],
             [
              0.5555555555555556,
              "#d8576b"
             ],
             [
              0.6666666666666666,
              "#ed7953"
             ],
             [
              0.7777777777777778,
              "#fb9f3a"
             ],
             [
              0.8888888888888888,
              "#fdca26"
             ],
             [
              1,
              "#f0f921"
             ]
            ],
            "type": "histogram2d"
           }
          ],
          "histogram2dcontour": [
           {
            "colorbar": {
             "outlinewidth": 0,
             "ticks": ""
            },
            "colorscale": [
             [
              0,
              "#0d0887"
             ],
             [
              0.1111111111111111,
              "#46039f"
             ],
             [
              0.2222222222222222,
              "#7201a8"
             ],
             [
              0.3333333333333333,
              "#9c179e"
             ],
             [
              0.4444444444444444,
              "#bd3786"
             ],
             [
              0.5555555555555556,
              "#d8576b"
             ],
             [
              0.6666666666666666,
              "#ed7953"
             ],
             [
              0.7777777777777778,
              "#fb9f3a"
             ],
             [
              0.8888888888888888,
              "#fdca26"
             ],
             [
              1,
              "#f0f921"
             ]
            ],
            "type": "histogram2dcontour"
           }
          ],
          "mesh3d": [
           {
            "colorbar": {
             "outlinewidth": 0,
             "ticks": ""
            },
            "type": "mesh3d"
           }
          ],
          "parcoords": [
           {
            "line": {
             "colorbar": {
              "outlinewidth": 0,
              "ticks": ""
             }
            },
            "type": "parcoords"
           }
          ],
          "pie": [
           {
            "automargin": true,
            "type": "pie"
           }
          ],
          "scatter": [
           {
            "fillpattern": {
             "fillmode": "overlay",
             "size": 10,
             "solidity": 0.2
            },
            "type": "scatter"
           }
          ],
          "scatter3d": [
           {
            "line": {
             "colorbar": {
              "outlinewidth": 0,
              "ticks": ""
             }
            },
            "marker": {
             "colorbar": {
              "outlinewidth": 0,
              "ticks": ""
             }
            },
            "type": "scatter3d"
           }
          ],
          "scattercarpet": [
           {
            "marker": {
             "colorbar": {
              "outlinewidth": 0,
              "ticks": ""
             }
            },
            "type": "scattercarpet"
           }
          ],
          "scattergeo": [
           {
            "marker": {
             "colorbar": {
              "outlinewidth": 0,
              "ticks": ""
             }
            },
            "type": "scattergeo"
           }
          ],
          "scattergl": [
           {
            "marker": {
             "colorbar": {
              "outlinewidth": 0,
              "ticks": ""
             }
            },
            "type": "scattergl"
           }
          ],
          "scattermapbox": [
           {
            "marker": {
             "colorbar": {
              "outlinewidth": 0,
              "ticks": ""
             }
            },
            "type": "scattermapbox"
           }
          ],
          "scatterpolar": [
           {
            "marker": {
             "colorbar": {
              "outlinewidth": 0,
              "ticks": ""
             }
            },
            "type": "scatterpolar"
           }
          ],
          "scatterpolargl": [
           {
            "marker": {
             "colorbar": {
              "outlinewidth": 0,
              "ticks": ""
             }
            },
            "type": "scatterpolargl"
           }
          ],
          "scatterternary": [
           {
            "marker": {
             "colorbar": {
              "outlinewidth": 0,
              "ticks": ""
             }
            },
            "type": "scatterternary"
           }
          ],
          "surface": [
           {
            "colorbar": {
             "outlinewidth": 0,
             "ticks": ""
            },
            "colorscale": [
             [
              0,
              "#0d0887"
             ],
             [
              0.1111111111111111,
              "#46039f"
             ],
             [
              0.2222222222222222,
              "#7201a8"
             ],
             [
              0.3333333333333333,
              "#9c179e"
             ],
             [
              0.4444444444444444,
              "#bd3786"
             ],
             [
              0.5555555555555556,
              "#d8576b"
             ],
             [
              0.6666666666666666,
              "#ed7953"
             ],
             [
              0.7777777777777778,
              "#fb9f3a"
             ],
             [
              0.8888888888888888,
              "#fdca26"
             ],
             [
              1,
              "#f0f921"
             ]
            ],
            "type": "surface"
           }
          ],
          "table": [
           {
            "cells": {
             "fill": {
              "color": "#EBF0F8"
             },
             "line": {
              "color": "white"
             }
            },
            "header": {
             "fill": {
              "color": "#C8D4E3"
             },
             "line": {
              "color": "white"
             }
            },
            "type": "table"
           }
          ]
         },
         "layout": {
          "annotationdefaults": {
           "arrowcolor": "#2a3f5f",
           "arrowhead": 0,
           "arrowwidth": 1
          },
          "autotypenumbers": "strict",
          "coloraxis": {
           "colorbar": {
            "outlinewidth": 0,
            "ticks": ""
           }
          },
          "colorscale": {
           "diverging": [
            [
             0,
             "#8e0152"
            ],
            [
             0.1,
             "#c51b7d"
            ],
            [
             0.2,
             "#de77ae"
            ],
            [
             0.3,
             "#f1b6da"
            ],
            [
             0.4,
             "#fde0ef"
            ],
            [
             0.5,
             "#f7f7f7"
            ],
            [
             0.6,
             "#e6f5d0"
            ],
            [
             0.7,
             "#b8e186"
            ],
            [
             0.8,
             "#7fbc41"
            ],
            [
             0.9,
             "#4d9221"
            ],
            [
             1,
             "#276419"
            ]
           ],
           "sequential": [
            [
             0,
             "#0d0887"
            ],
            [
             0.1111111111111111,
             "#46039f"
            ],
            [
             0.2222222222222222,
             "#7201a8"
            ],
            [
             0.3333333333333333,
             "#9c179e"
            ],
            [
             0.4444444444444444,
             "#bd3786"
            ],
            [
             0.5555555555555556,
             "#d8576b"
            ],
            [
             0.6666666666666666,
             "#ed7953"
            ],
            [
             0.7777777777777778,
             "#fb9f3a"
            ],
            [
             0.8888888888888888,
             "#fdca26"
            ],
            [
             1,
             "#f0f921"
            ]
           ],
           "sequentialminus": [
            [
             0,
             "#0d0887"
            ],
            [
             0.1111111111111111,
             "#46039f"
            ],
            [
             0.2222222222222222,
             "#7201a8"
            ],
            [
             0.3333333333333333,
             "#9c179e"
            ],
            [
             0.4444444444444444,
             "#bd3786"
            ],
            [
             0.5555555555555556,
             "#d8576b"
            ],
            [
             0.6666666666666666,
             "#ed7953"
            ],
            [
             0.7777777777777778,
             "#fb9f3a"
            ],
            [
             0.8888888888888888,
             "#fdca26"
            ],
            [
             1,
             "#f0f921"
            ]
           ]
          },
          "colorway": [
           "#636efa",
           "#EF553B",
           "#00cc96",
           "#ab63fa",
           "#FFA15A",
           "#19d3f3",
           "#FF6692",
           "#B6E880",
           "#FF97FF",
           "#FECB52"
          ],
          "font": {
           "color": "#2a3f5f"
          },
          "geo": {
           "bgcolor": "white",
           "lakecolor": "white",
           "landcolor": "white",
           "showlakes": true,
           "showland": true,
           "subunitcolor": "#C8D4E3"
          },
          "hoverlabel": {
           "align": "left"
          },
          "hovermode": "closest",
          "mapbox": {
           "style": "light"
          },
          "paper_bgcolor": "white",
          "plot_bgcolor": "white",
          "polar": {
           "angularaxis": {
            "gridcolor": "#EBF0F8",
            "linecolor": "#EBF0F8",
            "ticks": ""
           },
           "bgcolor": "white",
           "radialaxis": {
            "gridcolor": "#EBF0F8",
            "linecolor": "#EBF0F8",
            "ticks": ""
           }
          },
          "scene": {
           "xaxis": {
            "backgroundcolor": "white",
            "gridcolor": "#DFE8F3",
            "gridwidth": 2,
            "linecolor": "#EBF0F8",
            "showbackground": true,
            "ticks": "",
            "zerolinecolor": "#EBF0F8"
           },
           "yaxis": {
            "backgroundcolor": "white",
            "gridcolor": "#DFE8F3",
            "gridwidth": 2,
            "linecolor": "#EBF0F8",
            "showbackground": true,
            "ticks": "",
            "zerolinecolor": "#EBF0F8"
           },
           "zaxis": {
            "backgroundcolor": "white",
            "gridcolor": "#DFE8F3",
            "gridwidth": 2,
            "linecolor": "#EBF0F8",
            "showbackground": true,
            "ticks": "",
            "zerolinecolor": "#EBF0F8"
           }
          },
          "shapedefaults": {
           "line": {
            "color": "#2a3f5f"
           }
          },
          "ternary": {
           "aaxis": {
            "gridcolor": "#DFE8F3",
            "linecolor": "#A2B1C6",
            "ticks": ""
           },
           "baxis": {
            "gridcolor": "#DFE8F3",
            "linecolor": "#A2B1C6",
            "ticks": ""
           },
           "bgcolor": "white",
           "caxis": {
            "gridcolor": "#DFE8F3",
            "linecolor": "#A2B1C6",
            "ticks": ""
           }
          },
          "title": {
           "x": 0.05
          },
          "xaxis": {
           "automargin": true,
           "gridcolor": "#EBF0F8",
           "linecolor": "#EBF0F8",
           "ticks": "",
           "title": {
            "standoff": 15
           },
           "zerolinecolor": "#EBF0F8",
           "zerolinewidth": 2
          },
          "yaxis": {
           "automargin": true,
           "gridcolor": "#EBF0F8",
           "linecolor": "#EBF0F8",
           "ticks": "",
           "title": {
            "standoff": 15
           },
           "zerolinecolor": "#EBF0F8",
           "zerolinewidth": 2
          }
         }
        },
        "title": {
         "font": {
          "size": 20
         },
         "text": "Scores in Home Games by the Chiefs",
         "yref": "paper"
        },
        "width": 800,
        "xaxis": {
         "autorange": true,
         "range": [
          -0.5,
          0.5
         ],
         "type": "category"
        },
        "yaxis": {
         "autorange": true,
         "range": [
          0,
          31.57894736842105
         ],
         "title": {
          "text": "Scores"
         },
         "type": "linear"
        }
       }
      },
      "image/png": "[encoded data removed]",
      "text/html": [
       "<div>                            <div id=\"1f77f80d-1733-46fd-a72c-316dd973233d\" class=\"plotly-graph-div\" style=\"height:400px; width:800px;\"></div>            <script type=\"text/javascript\">                require([\"plotly\"], function(Plotly) {                    window.PLOTLYENV=window.PLOTLYENV || {};                                    if (document.getElementById(\"1f77f80d-1733-46fd-a72c-316dd973233d\")) {                    Plotly.newPlot(                        \"1f77f80d-1733-46fd-a72c-316dd973233d\",                        [{\"hovertext\":\"Minimal score in home games\",\"marker\":{\"color\":\"rgb(95, 70, 144)\"},\"name\":\"min_home_score\",\"x\":[\"KC\"],\"y\":[20],\"type\":\"bar\",\"opacity\":0.75},{\"hovertext\":\"Average score in home games\",\"marker\":{\"color\":\"rgb(29, 105, 150)\"},\"name\":\"avg_home_score\",\"x\":[\"KC\"],\"y\":[24.25],\"type\":\"bar\",\"opacity\":0.75},{\"hovertext\":\"Maximal score in home games\",\"marker\":{\"color\":\"rgb(56, 166, 165)\"},\"name\":\"max_home_score\",\"x\":[\"KC\"],\"y\":[30],\"type\":\"bar\",\"opacity\":0.75}],                        {\"template\":{\"data\":{\"barpolar\":[{\"marker\":{\"line\":{\"color\":\"white\",\"width\":0.5},\"pattern\":{\"fillmode\":\"overlay\",\"size\":10,\"solidity\":0.2}},\"type\":\"barpolar\"}],\"bar\":[{\"error_x\":{\"color\":\"#2a3f5f\"},\"error_y\":{\"color\":\"#2a3f5f\"},\"marker\":{\"line\":{\"color\":\"white\",\"width\":0.5},\"pattern\":{\"fillmode\":\"overlay\",\"size\":10,\"solidity\":0.2}},\"type\":\"bar\"}],\"carpet\":[{\"aaxis\":{\"endlinecolor\":\"#2a3f5f\",\"gridcolor\":\"#C8D4E3\",\"linecolor\":\"#C8D4E3\",\"minorgridcolor\":\"#C8D4E3\",\"startlinecolor\":\"#2a3f5f\"},\"baxis\":{\"endlinecolor\":\"#2a3f5f\",\"gridcolor\":\"#C8D4E3\",\"linecolor\":\"#C8D4E3\",\"minorgridcolor\":\"#C8D4E3\",\"startlinecolor\":\"#2a3f5f\"},\"type\":\"carpet\"}],\"choropleth\":[{\"colorbar\":{\"outlinewidth\":0,\"ticks\":\"\"},\"type\":\"choropleth\"}],\"contourcarpet\":[{\"colorbar\":{\"outlinewidth\":0,\"ticks\":\"\"},\"type\":\"contourcarpet\"}],\"contour\":[{\"colorbar\":{\"outlinewidth\":0,\"ticks\":\"\"},\"colorscale\":[[0.0,\"#0d0887\"],[0.1111111111111111,\"#46039f\"],[0.2222222222222222,\"#7201a8\"],[0.3333333333333333,\"#9c179e\"],[0.4444444444444444,\"#bd3786\"],[0.5555555555555556,\"#d8576b\"],[0.6666666666666666,\"#ed7953\"],[0.7777777777777778,\"#fb9f3a\"],[0.8888888888888888,\"#fdca26\"],[1.0,\"#f0f921\"]],\"type\":\"contour\"}],\"heatmapgl\":[{\"colorbar\":{\"outlinewidth\":0,\"ticks\":\"\"},\"colorscale\":[[0.0,\"#0d0887\"],[0.1111111111111111,\"#46039f\"],[0.2222222222222222,\"#7201a8\"],[0.3333333333333333,\"#9c179e\"],[0.4444444444444444,\"#bd3786\"],[0.5555555555555556,\"#d8576b\"],[0.6666666666666666,\"#ed7953\"],[0.7777777777777778,\"#fb9f3a\"],[0.8888888888888888,\"#fdca26\"],[1.0,\"#f0f921\"]],\"type\":\"heatmapgl\"}],\"heatmap\":[{\"colorbar\":{\"outlinewidth\":0,\"ticks\":\"\"},\"colorscale\":[[0.0,\"#0d0887\"],[0.1111111111111111,\"#46039f\"],[0.2222222222222222,\"#7201a8\"],[0.3333333333333333,\"#9c179e\"],[0.4444444444444444,\"#bd3786\"],[0.5555555555555556,\"#d8576b\"],[0.6666666666666666,\"#ed7953\"],[0.7777777777777778,\"#fb9f3a\"],[0.8888888888888888,\"#fdca26\"],[1.0,\"#f0f921\"]],\"type\":\"heatmap\"}],\"histogram2dcontour\":[{\"colorbar\":{\"outlinewidth\":0,\"ticks\":\"\"},\"colorscale\":[[0.0,\"#0d0887\"],[0.1111111111111111,\"#46039f\"],[0.2222222222222222,\"#7201a8\"],[0.3333333333333333,\"#9c179e\"],[0.4444444444444444,\"#bd3786\"],[0.5555555555555556,\"#d8576b\"],[0.6666666666666666,\"#ed7953\"],[0.7777777777777778,\"#fb9f3a\"],[0.8888888888888888,\"#fdca26\"],[1.0,\"#f0f921\"]],\"type\":\"histogram2dcontour\"}],\"histogram2d\":[{\"colorbar\":{\"outlinewidth\":0,\"ticks\":\"\"},\"colorscale\":[[0.0,\"#0d0887\"],[0.1111111111111111,\"#46039f\"],[0.2222222222222222,\"#7201a8\"],[0.3333333333333333,\"#9c179e\"],[0.4444444444444444,\"#bd3786\"],[0.5555555555555556,\"#d8576b\"],[0.6666666666666666,\"#ed7953\"],[0.7777777777777778,\"#fb9f3a\"],[0.8888888888888888,\"#fdca26\"],[1.0,\"#f0f921\"]],\"type\":\"histogram2d\"}],\"histogram\":[{\"marker\":{\"pattern\":{\"fillmode\":\"overlay\",\"size\":10,\"solidity\":0.2}},\"type\":\"histogram\"}],\"mesh3d\":[{\"colorbar\":{\"outlinewidth\":0,\"ticks\":\"\"},\"type\":\"mesh3d\"}],\"parcoords\":[{\"line\":{\"colorbar\":{\"outlinewidth\":0,\"ticks\":\"\"}},\"type\":\"parcoords\"}],\"pie\":[{\"automargin\":true,\"type\":\"pie\"}],\"scatter3d\":[{\"line\":{\"colorbar\":{\"outlinewidth\":0,\"ticks\":\"\"}},\"marker\":{\"colorbar\":{\"outlinewidth\":0,\"ticks\":\"\"}},\"type\":\"scatter3d\"}],\"scattercarpet\":[{\"marker\":{\"colorbar\":{\"outlinewidth\":0,\"ticks\":\"\"}},\"type\":\"scattercarpet\"}],\"scattergeo\":[{\"marker\":{\"colorbar\":{\"outlinewidth\":0,\"ticks\":\"\"}},\"type\":\"scattergeo\"}],\"scattergl\":[{\"marker\":{\"colorbar\":{\"outlinewidth\":0,\"ticks\":\"\"}},\"type\":\"scattergl\"}],\"scattermapbox\":[{\"marker\":{\"colorbar\":{\"outlinewidth\":0,\"ticks\":\"\"}},\"type\":\"scattermapbox\"}],\"scatterpolargl\":[{\"marker\":{\"colorbar\":{\"outlinewidth\":0,\"ticks\":\"\"}},\"type\":\"scatterpolargl\"}],\"scatterpolar\":[{\"marker\":{\"colorbar\":{\"outlinewidth\":0,\"ticks\":\"\"}},\"type\":\"scatterpolar\"}],\"scatter\":[{\"fillpattern\":{\"fillmode\":\"overlay\",\"size\":10,\"solidity\":0.2},\"type\":\"scatter\"}],\"scatterternary\":[{\"marker\":{\"colorbar\":{\"outlinewidth\":0,\"ticks\":\"\"}},\"type\":\"scatterternary\"}],\"surface\":[{\"colorbar\":{\"outlinewidth\":0,\"ticks\":\"\"},\"colorscale\":[[0.0,\"#0d0887\"],[0.1111111111111111,\"#46039f\"],[0.2222222222222222,\"#7201a8\"],[0.3333333333333333,\"#9c179e\"],[0.4444444444444444,\"#bd3786\"],[0.5555555555555556,\"#d8576b\"],[0.6666666666666666,\"#ed7953\"],[0.7777777777777778,\"#fb9f3a\"],[0.8888888888888888,\"#fdca26\"],[1.0,\"#f0f921\"]],\"type\":\"surface\"}],\"table\":[{\"cells\":{\"fill\":{\"color\":\"#EBF0F8\"},\"line\":{\"color\":\"white\"}},\"header\":{\"fill\":{\"color\":\"#C8D4E3\"},\"line\":{\"color\":\"white\"}},\"type\":\"table\"}]},\"layout\":{\"annotationdefaults\":{\"arrowcolor\":\"#2a3f5f\",\"arrowhead\":0,\"arrowwidth\":1},\"autotypenumbers\":\"strict\",\"coloraxis\":{\"colorbar\":{\"outlinewidth\":0,\"ticks\":\"\"}},\"colorscale\":{\"diverging\":[[0,\"#8e0152\"],[0.1,\"#c51b7d\"],[0.2,\"#de77ae\"],[0.3,\"#f1b6da\"],[0.4,\"#fde0ef\"],[0.5,\"#f7f7f7\"],[0.6,\"#e6f5d0\"],[0.7,\"#b8e186\"],[0.8,\"#7fbc41\"],[0.9,\"#4d9221\"],[1,\"#276419\"]],\"sequential\":[[0.0,\"#0d0887\"],[0.1111111111111111,\"#46039f\"],[0.2222222222222222,\"#7201a8\"],[0.3333333333333333,\"#9c179e\"],[0.4444444444444444,\"#bd3786\"],[0.5555555555555556,\"#d8576b\"],[0.6666666666666666,\"#ed7953\"],[0.7777777777777778,\"#fb9f3a\"],[0.8888888888888888,\"#fdca26\"],[1.0,\"#f0f921\"]],\"sequentialminus\":[[0.0,\"#0d0887\"],[0.1111111111111111,\"#46039f\"],[0.2222222222222222,\"#7201a8\"],[0.3333333333333333,\"#9c179e\"],[0.4444444444444444,\"#bd3786\"],[0.5555555555555556,\"#d8576b\"],[0.6666666666666666,\"#ed7953\"],[0.7777777777777778,\"#fb9f3a\"],[0.8888888888888888,\"#fdca26\"],[1.0,\"#f0f921\"]]},\"colorway\":[\"#636efa\",\"#EF553B\",\"#00cc96\",\"#ab63fa\",\"#FFA15A\",\"#19d3f3\",\"#FF6692\",\"#B6E880\",\"#FF97FF\",\"#FECB52\"],\"font\":{\"color\":\"#2a3f5f\"},\"geo\":{\"bgcolor\":\"white\",\"lakecolor\":\"white\",\"landcolor\":\"white\",\"showlakes\":true,\"showland\":true,\"subunitcolor\":\"#C8D4E3\"},\"hoverlabel\":{\"align\":\"left\"},\"hovermode\":\"closest\",\"mapbox\":{\"style\":\"light\"},\"paper_bgcolor\":\"white\",\"plot_bgcolor\":\"white\",\"polar\":{\"angularaxis\":{\"gridcolor\":\"#EBF0F8\",\"linecolor\":\"#EBF0F8\",\"ticks\":\"\"},\"bgcolor\":\"white\",\"radialaxis\":{\"gridcolor\":\"#EBF0F8\",\"linecolor\":\"#EBF0F8\",\"ticks\":\"\"}},\"scene\":{\"xaxis\":{\"backgroundcolor\":\"white\",\"gridcolor\":\"#DFE8F3\",\"gridwidth\":2,\"linecolor\":\"#EBF0F8\",\"showbackground\":true,\"ticks\":\"\",\"zerolinecolor\":\"#EBF0F8\"},\"yaxis\":{\"backgroundcolor\":\"white\",\"gridcolor\":\"#DFE8F3\",\"gridwidth\":2,\"linecolor\":\"#EBF0F8\",\"showbackground\":true,\"ticks\":\"\",\"zerolinecolor\":\"#EBF0F8\"},\"zaxis\":{\"backgroundcolor\":\"white\",\"gridcolor\":\"#DFE8F3\",\"gridwidth\":2,\"linecolor\":\"#EBF0F8\",\"showbackground\":true,\"ticks\":\"\",\"zerolinecolor\":\"#EBF0F8\"}},\"shapedefaults\":{\"line\":{\"color\":\"#2a3f5f\"}},\"ternary\":{\"aaxis\":{\"gridcolor\":\"#DFE8F3\",\"linecolor\":\"#A2B1C6\",\"ticks\":\"\"},\"baxis\":{\"gridcolor\":\"#DFE8F3\",\"linecolor\":\"#A2B1C6\",\"ticks\":\"\"},\"bgcolor\":\"white\",\"caxis\":{\"gridcolor\":\"#DFE8F3\",\"linecolor\":\"#A2B1C6\",\"ticks\":\"\"}},\"title\":{\"x\":0.05},\"xaxis\":{\"automargin\":true,\"gridcolor\":\"#EBF0F8\",\"linecolor\":\"#EBF0F8\",\"ticks\":\"\",\"title\":{\"standoff\":15},\"zerolinecolor\":\"#EBF0F8\",\"zerolinewidth\":2},\"yaxis\":{\"automargin\":true,\"gridcolor\":\"#EBF0F8\",\"linecolor\":\"#EBF0F8\",\"ticks\":\"\",\"title\":{\"standoff\":15},\"zerolinecolor\":\"#EBF0F8\",\"zerolinewidth\":2}}},\"margin\":{\"t\":30,\"b\":0,\"l\":5,\"r\":5},\"title\":{\"font\":{\"size\":20},\"text\":\"Scores in Home Games by the Chiefs\",\"yref\":\"paper\"},\"showlegend\":true,\"width\":800,\"height\":400,\"autosize\":false,\"yaxis\":{\"title\":{\"text\":\"Scores\"}},\"coloraxis\":{\"colorbar\":{\"tickfont\":{\"size\":10}}}},                        {\"responsive\": true}                    ).then(function(){\n",
       "                            \n",
       "var gd = document.getElementById('1f77f80d-1733-46fd-a72c-316dd973233d');\n",
       "var x = new MutationObserver(function (mutations, observer) {{\n",
       "        var display = window.getComputedStyle(gd).display;\n",
       "        if (!display || display === 'none') {{\n",
       "            console.log([gd, 'removed!']);\n",
       "            Plotly.purge(gd);\n",
       "            observer.disconnect();\n",
       "        }}\n",
       "}});\n",
       "\n",
       "// Listen for the removal of the full notebook cells\n",
       "var notebookContainer = gd.closest('#notebook-container');\n",
       "if (notebookContainer) {{\n",
       "    x.observe(notebookContainer, {childList: true});\n",
       "}}\n",
       "\n",
       "// Listen for the clearing of the current output cell\n",
       "var outputEl = gd.closest('.output');\n",
       "if (outputEl) {{\n",
       "    x.observe(outputEl, {childList: true});\n",
       "}}\n",
       "\n",
       "                        })                };                });            </script>        </div>"
      ]
     },
     "metadata": {},
     "output_type": "display_data"
    }
   ],
   "source": [
    "# Filter agg_data for the Chiefs as the home team\n",
    "kc_agg_data = agg_data[agg_data['homeTeamAbbr'] == 'KC']\n",
    "\n",
    "# Initialize the figure\n",
    "fig = go.Figure()\n",
    "\n",
    "# Add bars for the min, avg, and max home scores for the Chiefs\n",
    "fig.add_bar(x=kc_agg_data['homeTeamAbbr'], y=kc_agg_data['min_home_score'], \n",
    "            hovertext=\"Minimal score in home games\", name=\"min_home_score\", \n",
    "            marker_color=px.colors.qualitative.Prism[0])  # Example color\n",
    "\n",
    "fig.add_bar(x=kc_agg_data['homeTeamAbbr'], y=kc_agg_data['avg_home_score'], \n",
    "            hovertext=\"Average score in home games\", name=\"avg_home_score\", \n",
    "            marker_color=px.colors.qualitative.Prism[1])  # Example color\n",
    "\n",
    "fig.add_bar(x=kc_agg_data['homeTeamAbbr'], y=kc_agg_data['max_home_score'], \n",
    "            hovertext=\"Maximal score in home games\", name=\"max_home_score\", \n",
    "            marker_color=px.colors.qualitative.Prism[2])  # Example color\n",
    "\n",
    "# Update visual layout\n",
    "fig.update_layout(\n",
    "    showlegend=True,\n",
    "    width=800,\n",
    "    height=400,\n",
    "    autosize=False,\n",
    "    margin=dict(t=30, b=0, l=5, r=5),\n",
    "    template=\"plotly_white\",\n",
    "    yaxis_title=\"Scores\",\n",
    "    title=dict(text='Scores in Home Games by the Chiefs', font=dict(size=20), yref='paper')\n",
    ")\n",
    "\n",
    "# Update font size at the axes and annotations, and reduce opacity of traces\n",
    "fig.update_coloraxes(colorbar_tickfont_size=10)\n",
    "fig.update_annotations(font_size=12)\n",
    "fig.update_traces(opacity=0.75)\n",
    "\n",
    "# Display the figure\n",
    "fig.show()"
   ]
  },
  {
   "cell_type": "markdown",
   "id": "e81aa5d8-dadd-49c9-9fcc-628e809d0f36",
   "metadata": {
    "papermill": {
     "duration": 0.008102,
     "end_time": "2023-10-23T00:24:39.800291",
     "exception": false,
     "start_time": "2023-10-23T00:24:39.792189",
     "status": "completed"
    },
    "tags": []
   },
   "source": [
    "On average, the Chiefs score about 24 points per home game. Their offense has seen fewer points scored, with a max of 30 points. However, their average score is buoyed by having a high minimum value of 20 points. This indicates that Patrick Mahomes, Travis Kelce (and Taylor Swift), and Isiah Pacheco are consistently reliable for generating leads and finding defensive holes.\n",
    "\n",
    "Unfortunately as a 49ers fan, my data-driven prediction is: "
   ]
  },
  {
   "cell_type": "markdown",
   "id": "007b597a",
   "metadata": {
    "papermill": {
     "duration": 0.007922,
     "end_time": "2023-10-23T00:24:39.816590",
     "exception": false,
     "start_time": "2023-10-23T00:24:39.808668",
     "status": "completed"
    },
    "tags": []
   },
   "source": [
    "### San Francisco 49ers: 20 | Kansas City Chiefs: 24\n"
   ]
  },
  {
   "cell_type": "markdown",
   "id": "555c0c5b",
   "metadata": {
    "papermill": {
     "duration": 0.010006,
     "end_time": "2023-10-23T00:24:40.310301",
     "exception": false,
     "start_time": "2023-10-23T00:24:40.300295",
     "status": "completed"
    },
    "tags": []
   },
   "source": [
    "But wait! There are more football analyses ahead! NFL Draft 2024 is around the corner, and we will look into which colleges generate the best defensive prospects, as well as identify teams who will most need these defensive prospects. Stay tuned!"
   ]
  },
  {
   "cell_type": "code",
   "execution_count": null,
   "id": "c252df66",
   "metadata": {
    "papermill": {
     "duration": 0.010131,
     "end_time": "2023-10-23T00:24:40.426143",
     "exception": false,
     "start_time": "2023-10-23T00:24:40.416012",
     "status": "completed"
    },
    "tags": []
   },
   "outputs": [],
   "source": []
  }
 ],
 "metadata": {
  "kernelspec": {
   "display_name": "Python 3 (ipykernel)",
   "language": "python",
   "name": "python3"
  },
  "language_info": {
   "codemirror_mode": {
    "name": "ipython",
    "version": 3
   },
   "file_extension": ".py",
   "mimetype": "text/x-python",
   "name": "python",
   "nbconvert_exporter": "python",
   "pygments_lexer": "ipython3",
   "version": "3.10.10"
  },
  "papermill": {
   "default_parameters": {},
   "duration": 5.197841,
   "end_time": "2023-10-23T00:24:40.855125",
   "environment_variables": {},
   "exception": null,
   "input_path": "__notebook__.ipynb",
   "output_path": "__notebook__.ipynb",
   "parameters": {},
   "start_time": "2023-10-23T00:24:35.657284",
   "version": "2.4.0"
  }
 },
 "nbformat": 4,
 "nbformat_minor": 5
}
